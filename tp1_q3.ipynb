{
 "cells": [
  {
   "cell_type": "markdown",
   "metadata": {},
   "source": [
    "# Classifieurs\n",
    "Après avoir établi nos 10 attributs et notre distance privilégiée, nous pouvons finalement évaluer différents classifieurs. Tel que demandé, nous évaluerons trois algorithmes: plus proche centroid (NC), K plus proches voisins (KNN) et une mixture de gaussienne (GMM). Nous avons déjà évaluer le premier algorithme dans les deux derniers notebooks, mais nous rappelons les résultats ici. Il est important de mentionner que nous ignorons les performances sur la classe 2 car celle-ci contient seulement deux instances en plus de ne pas être facilement distinguable dans les nuages de points. Nous assumons qu'aucun modèle sera en mesure de bien la classifier en raison du faible nombre d'observations."
   ]
  },
  {
   "cell_type": "code",
   "execution_count": 1,
   "metadata": {},
   "outputs": [],
   "source": [
    "import numpy as np\n",
    "import pandas as pd\n",
    "import matplotlib.pyplot as plt\n",
    "from sklearn.preprocessing import LabelEncoder\n",
    "from sklearn.model_selection import train_test_split\n",
    "from models import KNN, NearestCentroid\n",
    "\n",
    "# Meilleure métrique obtenue à la dernière question\n",
    "best_distance_metric = \"mahalanobis\"\n",
    "# Chargement des données\n",
    "df = pd.read_csv(\"./QSAR_10best_dataset.csv\")\n",
    "features = list(set(df.columns) - {\"Class\"})\n",
    "# Conversion des données en format numpy\n",
    "X = df.loc[:, df.columns != \"Class\"].to_numpy()\n",
    "y_true = df.loc[:, \"Class\"].to_numpy()\n",
    "# Conversion des étiquettes en valeurs numériques pour faciliter leur traitement par numpy\n",
    "le = LabelEncoder()\n",
    "le.fit(y_true)\n",
    "# Les données devraient déjà être centrées et réduites\n",
    "assert np.allclose(X.mean(), 0, atol=1e-10), \"Les données ne sont pas centrées\"\n",
    "assert np.allclose(X.std(), 1, atol=1e-2), \"Les données ne sont pas réduites\"\n",
    "# Séparation en jeu de test et jeu d'entraînement\n",
    "X_train, X_test, y_train, y_test = train_test_split(X, y_true, test_size=0.25, random_state=0)"
   ]
  },
  {
   "cell_type": "code",
   "execution_count": 2,
   "metadata": {},
   "outputs": [
    {
     "name": "stdout",
     "output_type": "stream",
     "text": [
      "(51, 151)\n"
     ]
    },
    {
     "data": {
      "text/html": [
       "<div>\n",
       "<style scoped>\n",
       "    .dataframe tbody tr th:only-of-type {\n",
       "        vertical-align: middle;\n",
       "    }\n",
       "\n",
       "    .dataframe tbody tr th {\n",
       "        vertical-align: top;\n",
       "    }\n",
       "\n",
       "    .dataframe thead th {\n",
       "        text-align: right;\n",
       "    }\n",
       "</style>\n",
       "<table border=\"1\" class=\"dataframe\">\n",
       "  <thead>\n",
       "    <tr style=\"text-align: right;\">\n",
       "      <th></th>\n",
       "      <th>Class -1</th>\n",
       "      <th>Class -2</th>\n",
       "      <th>Class 0</th>\n",
       "      <th>Class 1</th>\n",
       "      <th>accuracy</th>\n",
       "      <th>macro avg</th>\n",
       "      <th>weighted avg</th>\n",
       "    </tr>\n",
       "  </thead>\n",
       "  <tbody>\n",
       "    <tr>\n",
       "      <th>precision</th>\n",
       "      <td>0.818182</td>\n",
       "      <td>0.857143</td>\n",
       "      <td>0.538462</td>\n",
       "      <td>0.769231</td>\n",
       "      <td>0.745098</td>\n",
       "      <td>0.745754</td>\n",
       "      <td>0.749055</td>\n",
       "    </tr>\n",
       "    <tr>\n",
       "      <th>recall</th>\n",
       "      <td>0.642857</td>\n",
       "      <td>1.000000</td>\n",
       "      <td>0.583333</td>\n",
       "      <td>0.769231</td>\n",
       "      <td>0.745098</td>\n",
       "      <td>0.748855</td>\n",
       "      <td>0.745098</td>\n",
       "    </tr>\n",
       "    <tr>\n",
       "      <th>f1-score</th>\n",
       "      <td>0.720000</td>\n",
       "      <td>0.923077</td>\n",
       "      <td>0.560000</td>\n",
       "      <td>0.769231</td>\n",
       "      <td>0.745098</td>\n",
       "      <td>0.743077</td>\n",
       "      <td>0.742685</td>\n",
       "    </tr>\n",
       "    <tr>\n",
       "      <th>support</th>\n",
       "      <td>14.000000</td>\n",
       "      <td>12.000000</td>\n",
       "      <td>12.000000</td>\n",
       "      <td>13.000000</td>\n",
       "      <td>0.745098</td>\n",
       "      <td>51.000000</td>\n",
       "      <td>51.000000</td>\n",
       "    </tr>\n",
       "  </tbody>\n",
       "</table>\n",
       "</div>"
      ],
      "text/plain": [
       "            Class -1   Class -2    Class 0    Class 1  accuracy  macro avg  \\\n",
       "precision   0.818182   0.857143   0.538462   0.769231  0.745098   0.745754   \n",
       "recall      0.642857   1.000000   0.583333   0.769231  0.745098   0.748855   \n",
       "f1-score    0.720000   0.923077   0.560000   0.769231  0.745098   0.743077   \n",
       "support    14.000000  12.000000  12.000000  13.000000  0.745098  51.000000   \n",
       "\n",
       "           weighted avg  \n",
       "precision      0.749055  \n",
       "recall         0.745098  \n",
       "f1-score       0.742685  \n",
       "support       51.000000  "
      ]
     },
     "execution_count": 2,
     "metadata": {},
     "output_type": "execute_result"
    }
   ],
   "source": [
    "# Classifieur K Nearest Neighbors\n",
    "n_neighbors = 5\n",
    "_, counts = np.unique(y_true, return_counts=True)\n",
    "weights = counts/counts.sum()\n",
    "\n",
    "knn_clf = KNN(5, le, weights, metric=best_distance_metric)\n",
    "knn_clf.fit(X_train, y_train)\n",
    "y_pred = knn_clf.predict(X_test)\n",
    "knn_df = knn_clf.evaluate(y_test, y_pred)\n",
    "knn_df"
   ]
  },
  {
   "cell_type": "code",
   "execution_count": 3,
   "metadata": {},
   "outputs": [
    {
     "data": {
      "text/html": [
       "<div>\n",
       "<style scoped>\n",
       "    .dataframe tbody tr th:only-of-type {\n",
       "        vertical-align: middle;\n",
       "    }\n",
       "\n",
       "    .dataframe tbody tr th {\n",
       "        vertical-align: top;\n",
       "    }\n",
       "\n",
       "    .dataframe thead th {\n",
       "        text-align: right;\n",
       "    }\n",
       "</style>\n",
       "<table border=\"1\" class=\"dataframe\">\n",
       "  <thead>\n",
       "    <tr style=\"text-align: right;\">\n",
       "      <th></th>\n",
       "      <th>Class -1</th>\n",
       "      <th>Class -2</th>\n",
       "      <th>Class 0</th>\n",
       "      <th>Class 1</th>\n",
       "      <th>accuracy</th>\n",
       "      <th>macro avg</th>\n",
       "      <th>weighted avg</th>\n",
       "    </tr>\n",
       "  </thead>\n",
       "  <tbody>\n",
       "    <tr>\n",
       "      <th>precision</th>\n",
       "      <td>0.875000</td>\n",
       "      <td>1.000000</td>\n",
       "      <td>0.423077</td>\n",
       "      <td>0.833333</td>\n",
       "      <td>0.666667</td>\n",
       "      <td>0.782853</td>\n",
       "      <td>0.787456</td>\n",
       "    </tr>\n",
       "    <tr>\n",
       "      <th>recall</th>\n",
       "      <td>0.500000</td>\n",
       "      <td>0.916667</td>\n",
       "      <td>0.916667</td>\n",
       "      <td>0.384615</td>\n",
       "      <td>0.666667</td>\n",
       "      <td>0.679487</td>\n",
       "      <td>0.666667</td>\n",
       "    </tr>\n",
       "    <tr>\n",
       "      <th>f1-score</th>\n",
       "      <td>0.636364</td>\n",
       "      <td>0.956522</td>\n",
       "      <td>0.578947</td>\n",
       "      <td>0.526316</td>\n",
       "      <td>0.666667</td>\n",
       "      <td>0.674537</td>\n",
       "      <td>0.670134</td>\n",
       "    </tr>\n",
       "    <tr>\n",
       "      <th>support</th>\n",
       "      <td>14.000000</td>\n",
       "      <td>12.000000</td>\n",
       "      <td>12.000000</td>\n",
       "      <td>13.000000</td>\n",
       "      <td>0.666667</td>\n",
       "      <td>51.000000</td>\n",
       "      <td>51.000000</td>\n",
       "    </tr>\n",
       "  </tbody>\n",
       "</table>\n",
       "</div>"
      ],
      "text/plain": [
       "            Class -1   Class -2    Class 0    Class 1  accuracy  macro avg  \\\n",
       "precision   0.875000   1.000000   0.423077   0.833333  0.666667   0.782853   \n",
       "recall      0.500000   0.916667   0.916667   0.384615  0.666667   0.679487   \n",
       "f1-score    0.636364   0.956522   0.578947   0.526316  0.666667   0.674537   \n",
       "support    14.000000  12.000000  12.000000  13.000000  0.666667  51.000000   \n",
       "\n",
       "           weighted avg  \n",
       "precision      0.787456  \n",
       "recall         0.666667  \n",
       "f1-score       0.670134  \n",
       "support       51.000000  "
      ]
     },
     "execution_count": 3,
     "metadata": {},
     "output_type": "execute_result"
    }
   ],
   "source": [
    "# Classifieur NearestCentroid\n",
    "nc_clf = NearestCentroid(le, metric=best_distance_metric)\n",
    "nc_clf.fit(X_train, y_train)\n",
    "y_pred = nc_clf.predict(X_test)\n",
    "nc_df = nc_clf.evaluate(y_test, y_pred)\n",
    "nc_df"
   ]
  },
  {
   "cell_type": "code",
   "execution_count": 4,
   "metadata": {},
   "outputs": [
    {
     "data": {
      "image/png": "[encoded data removed]",
      "text/plain": [
       "<Figure size 1728x864 with 3 Axes>"
      ]
     },
     "metadata": {
      "needs_background": "light"
     },
     "output_type": "display_data"
    }
   ],
   "source": [
    "# Affichage des résultats\n",
    "f, axs = plt.subplots(1, 3, figsize=(24, 12))\n",
    "\n",
    "df_precision = pd.concat([\n",
    "    knn_df.loc[\"precision\"][0:4].rename(\"5-NN\"), \n",
    "    nc_df.loc[\"precision\"][0:4].rename(\"NC\")\n",
    "], axis=1)\n",
    "df_recall = pd.concat([\n",
    "    knn_df.loc[\"recall\"][0:4].rename(\"5-NN\"), \n",
    "    nc_df.loc[\"recall\"][0:4].rename(\"NC\")\n",
    "], axis=1)\n",
    "df_f1 = pd.concat([\n",
    "    knn_df.loc[\"f1-score\"][0:4].rename(\"5-NN\"), \n",
    "    nc_df.loc[\"f1-score\"][0:4].rename(\"NC\")\n",
    "], axis=1)\n",
    "\n",
    "df_precision.plot(kind=\"barh\", ax=axs[0])\n",
    "df_recall.plot(kind=\"barh\", ax=axs[1])\n",
    "df_f1.plot(kind=\"barh\", ax=axs[2])\n",
    "\n",
    "axs[0].set_title(\"Precision\")\n",
    "axs[0].set_xticks(np.arange(0, 1, step=0.1))\n",
    "axs[1].set_title(\"Recall\")\n",
    "axs[2].set_title(\"F1-score\")\n",
    "\n",
    "plt.show()"
   ]
  },
  {
   "cell_type": "markdown",
   "metadata": {},
   "source": [
    "Le graphique nous montre la supériorité de l'approche KNN par rapport à CN. L'algorithme CN performe mieux en terme de Precision pour l'ensemble des classes à l'exception de la classe 0. Cela indique que cet algorithme produit moins de faux positifs que le KNN. Par contraste, le KNN produit moins de faux négatifs avec un meilleur Recall (à l'exception de la classe 0). Lorsqu'on prend la moyenne harmonique des deux métriques de performance, le KNN performe mieux, mais par une légère marge seulement."
   ]
  },
  {
   "cell_type": "markdown",
   "metadata": {},
   "source": [
    "Entraînons maintenant le modèle GMM."
   ]
  },
  {
   "cell_type": "code",
   "execution_count": 5,
   "metadata": {},
   "outputs": [],
   "source": [
    "y_train, y_test = le.transform(y_train), le.transform(y_test)"
   ]
  },
  {
   "cell_type": "code",
   "execution_count": 6,
   "metadata": {},
   "outputs": [
    {
     "data": {
      "image/png": "[encoded data removed]",
      "text/plain": [
       "<Figure size 432x432 with 4 Axes>"
      ]
     },
     "metadata": {},
     "output_type": "display_data"
    }
   ],
   "source": [
    "# Author: Ron Weiss <ronweiss@gmail.com>, Gael Varoquaux\n",
    "# Modified by Thierry Guillemot <thierry.guillemot.work@gmail.com>\n",
    "# Modified by Aida Ouangraoua <aida.ouangraoua@usherbrooke.com>\n",
    "# Modified by Nadia Tahiri <Nadia.Tahiri@USherbrooke.com>\n",
    "# Initial code at https://scikit-learn.org/stable/auto_examples/mixture/plot_gmm_covariances.html\n",
    "import matplotlib as mpl\n",
    "from sklearn.mixture import GaussianMixture\n",
    "from sklearn.model_selection import train_test_split\n",
    "import seaborn as sns\n",
    "\n",
    "colors = sns.color_palette(\"husl\", 4)\n",
    "\n",
    "def make_ellipses(gmm, ax):\n",
    "    for n, color in enumerate(colors):\n",
    "        if gmm.covariance_type == 'full':\n",
    "            covariances = gmm.covariances_[n][:2, :2]\n",
    "        elif gmm.covariance_type == 'tied':\n",
    "            covariances = gmm.covariances_[:2, :2]\n",
    "        elif gmm.covariance_type == 'diag':\n",
    "            covariances = np.diag(gmm.covariances_[n][:2])\n",
    "        elif gmm.covariance_type == 'spherical':\n",
    "            covariances = np.eye(gmm.means_.shape[1]) * gmm.covariances_[n]\n",
    "        v, w = np.linalg.eigh(covariances)\n",
    "        u = w[0] / np.linalg.norm(w[0])\n",
    "        angle = np.arctan2(u[1], u[0])\n",
    "        angle = 180 * angle / np.pi  # convert to degrees\n",
    "        v = 2. * np.sqrt(2.) * np.sqrt(v)\n",
    "        ell = mpl.patches.Ellipse(gmm.means_[n, :2], v[0], v[1],\n",
    "                                  180 + angle, color=color)\n",
    "        ell.set_clip_box(ax.bbox)\n",
    "        ell.set_alpha(0.5)\n",
    "        ax.add_artist(ell)\n",
    "        ax.set_aspect('equal', 'datalim')\n",
    "\n",
    "n_classes = 4\n",
    "\n",
    "# Try GMMs using different types of covariances.\n",
    "estimators = {cov_type: GaussianMixture(n_components=n_classes,\n",
    "              covariance_type=cov_type, max_iter=100, random_state=0)\n",
    "              for cov_type in ['spherical', 'diag', 'tied', 'full']}\n",
    "\n",
    "n_estimators = len(estimators)\n",
    "\n",
    "plt.figure(figsize=(3 * n_estimators // 2, 6))\n",
    "plt.subplots_adjust(bottom=.01, top=0.95, hspace=.15, wspace=.05,\n",
    "                    left=.01, right=.99)\n",
    "\n",
    "for index, (name, estimator) in enumerate(estimators.items()):\n",
    "\n",
    "    # Since we have class labels for the training data, we can\n",
    "    # initialize the GMM parameters in a supervised manner.\n",
    "    e = np.array([X_train[y_train == i].mean(axis=0) for i in range(n_classes)])\n",
    "    estimator.means_init = np.array([X_train[y_train == i].mean(axis=0) for i in range(n_classes)])\n",
    "\n",
    "    # Train the other parameters using the EM algorithm.\n",
    "    estimator.fit(X_train)\n",
    "\n",
    "    h = plt.subplot(2, n_estimators // 2, index + 1)\n",
    "    make_ellipses(estimator, h)\n",
    "\n",
    "    for n, color in enumerate(colors):\n",
    "        data = X[y_true == n]\n",
    "        plt.scatter(data[:, 0], data[:, 1], s = 0.8, color=color, label=n)\n",
    "        \n",
    "    # Plot the test data with crosses\n",
    "    for n, color in enumerate(colors):\n",
    "        data = X_test[y_test == n]\n",
    "        plt.scatter(data[:, 0], data[:, 1], marker='x', color=color)\n",
    "\n",
    "    y_train_pred = estimator.predict(X_train)\n",
    "    train_accuracy = np.mean(y_train_pred==y_train)\n",
    "    plt.text(0.05, 0.9, 'Train accuracy: %.1f' % train_accuracy,\n",
    "             transform=h.transAxes)\n",
    "\n",
    "    y_test_pred = estimator.predict(X_test)\n",
    "    test_accuracy = np.mean(y_test_pred==y_test)\n",
    "    \n",
    "    plt.text(0.05, 0.8, 'Test accuracy: %.1f' % test_accuracy, transform=h.transAxes)\n",
    "\n",
    "    plt.xticks(())\n",
    "    plt.yticks(())\n",
    "    plt.title(name)\n",
    "\n",
    "plt.legend(scatterpoints=1, loc='lower right', prop=dict(size=12))\n",
    "\n",
    "plt.show()"
   ]
  },
  {
   "cell_type": "markdown",
   "metadata": {},
   "source": [
    "Selon résultats obtenus, le paramètre par défaut (\"spherical\") produit les meilleurs résultats."
   ]
  },
  {
   "cell_type": "code",
   "execution_count": 7,
   "metadata": {},
   "outputs": [],
   "source": [
    "from sklearn import metrics\n",
    "\n",
    "gmm_clf = GaussianMixture(n_components=n_classes, covariance_type=\"spherical\", max_iter=100)\n",
    "gmm_clf.means_init = np.array([X_train[y_train == i].mean(axis=0) for i in range(n_classes)])\n",
    "gmm_clf.fit(X_train, y_train)\n",
    "y_pred = gmm_clf.predict(X_test)\n",
    "gmm_df = metrics.classification_report(le.inverse_transform(y_test), le.inverse_transform(y_pred), output_dict=True)\n",
    "gmm_df = pd.DataFrame.from_dict(gmm_df)"
   ]
  },
  {
   "cell_type": "markdown",
   "metadata": {},
   "source": [
    "On compare maintenant les trois approches"
   ]
  },
  {
   "cell_type": "code",
   "execution_count": 8,
   "metadata": {},
   "outputs": [
    {
     "data": {
      "image/png": "[encoded data removed]",
      "text/plain": [
       "<Figure size 1728x864 with 3 Axes>"
      ]
     },
     "metadata": {
      "needs_background": "light"
     },
     "output_type": "display_data"
    }
   ],
   "source": [
    "# Affichage des résultats\n",
    "f, axs = plt.subplots(1, 3, figsize=(24, 12))\n",
    "\n",
    "df_precision = pd.concat([\n",
    "    knn_df.loc[\"precision\"][0:4].rename(\"5-NN\"), \n",
    "    nc_df.loc[\"precision\"][0:4].rename(\"NC\"),\n",
    "    gmm_df.loc[\"precision\"][0:4].rename(\"4-GMM\")\n",
    "], axis=1)\n",
    "df_recall = pd.concat([\n",
    "    knn_df.loc[\"recall\"][0:4].rename(\"5-NN\"), \n",
    "    nc_df.loc[\"recall\"][0:4].rename(\"NC\"),\n",
    "    gmm_df.loc[\"recall\"][0:4].rename(\"4-GMM\")\n",
    "], axis=1)\n",
    "df_f1 = pd.concat([\n",
    "    knn_df.loc[\"f1-score\"][0:4].rename(\"5-NN\"), \n",
    "    nc_df.loc[\"f1-score\"][0:4].rename(\"NC\"),\n",
    "    gmm_df.loc[\"f1-score\"][0:4].rename(\"4-GMM\")\n",
    "], axis=1)\n",
    "\n",
    "df_precision.plot(kind=\"barh\", ax=axs[0])\n",
    "df_recall.plot(kind=\"barh\", ax=axs[1])\n",
    "df_f1.plot(kind=\"barh\", ax=axs[2])\n",
    "\n",
    "axs[0].set_title(\"Precision\")\n",
    "axs[0].set_xticks(np.arange(0, 1, step=0.1))\n",
    "axs[1].set_title(\"Recall\")\n",
    "axs[2].set_title(\"F1-score\")\n",
    "\n",
    "plt.show()"
   ]
  },
  {
   "cell_type": "markdown",
   "metadata": {},
   "source": [
    "Les résultats confirment la supériorié de l'approche KNN. Le F1-score du GMM pour la classe 0 est particulièrement bas. Le KNN est plus consistant dans ses performances avec des résultats plus constants peu importe la classe."
   ]
  },
  {
   "cell_type": "markdown",
   "metadata": {},
   "source": [
    "Finalement, on peut prédire les classes des données de tests."
   ]
  },
  {
   "cell_type": "code",
   "execution_count": 9,
   "metadata": {},
   "outputs": [
    {
     "name": "stdout",
     "output_type": "stream",
     "text": [
      "(2, 151)\n"
     ]
    },
    {
     "data": {
      "text/plain": [
       "array(['Class -1', 'Class 0'], dtype=object)"
      ]
     },
     "execution_count": 9,
     "metadata": {},
     "output_type": "execute_result"
    }
   ],
   "source": [
    "best_clf = knn_clf\n",
    "df_test = pd.read_excel(\"./test_TP1.xlsx\")\n",
    "X_test = df_test.loc[:, features].to_numpy()\n",
    "y_pred = best_clf.predict(X_test)\n",
    "y_pred"
   ]
  }
 ],
 "metadata": {
  "interpreter": {
   "hash": "1ab42a0bcf01904e12172065e37a15efb8bca4579e5a11ce1bc2a41692edb9a4"
  },
  "kernelspec": {
   "display_name": "Python 3.8.12 ('anomaly_detection')",
   "language": "python",
   "name": "python3"
  },
  "language_info": {
   "codemirror_mode": {
    "name": "ipython",
    "version": 3
   },
   "file_extension": ".py",
   "mimetype": "text/x-python",
   "name": "python",
   "nbconvert_exporter": "python",
   "pygments_lexer": "ipython3",
   "version": "3.8.12"
  },
  "orig_nbformat": 4
 },
 "nbformat": 4,
 "nbformat_minor": 2
}
