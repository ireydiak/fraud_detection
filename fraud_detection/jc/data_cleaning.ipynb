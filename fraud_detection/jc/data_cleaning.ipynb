{
 "cells": [
  {
   "cell_type": "code",
   "execution_count": 1,
   "metadata": {},
   "outputs": [],
   "source": [
    "import numpy as np\n",
    "import pandas as pd"
   ]
  },
  {
   "cell_type": "markdown",
   "source": [
    "# Analyse élémentaire\n",
    "Avoir une compréhension des données avant de les traiter.\n",
    "## Chargement des données"
   ],
   "metadata": {
    "collapsed": false,
    "pycharm": {
     "name": "#%% md\n"
    }
   }
  },
  {
   "cell_type": "code",
   "execution_count": 2,
   "metadata": {},
   "outputs": [
    {
     "data": {
      "text/plain": "   TransactionID  isFraud  TransactionDT  TransactionAmt ProductCD  card1  \\\n0        2987000        0          86400            68.5         W  13926   \n1        2987001        0          86401            29.0         W   2755   \n2        2987002        0          86469            59.0         W   4663   \n3        2987003        0          86499            50.0         W  18132   \n4        2987004        0          86506            50.0         H   4497   \n\n   card2  card3       card4  card5  ...                id_31  id_32  \\\n0    NaN  150.0    discover  142.0  ...                  NaN    NaN   \n1  404.0  150.0  mastercard  102.0  ...                  NaN    NaN   \n2  490.0  150.0        visa  166.0  ...                  NaN    NaN   \n3  567.0  150.0  mastercard  117.0  ...                  NaN    NaN   \n4  514.0  150.0  mastercard  102.0  ...  samsung browser 6.2   32.0   \n\n       id_33           id_34  id_35 id_36 id_37  id_38  DeviceType  \\\n0        NaN             NaN    NaN   NaN   NaN    NaN         NaN   \n1        NaN             NaN    NaN   NaN   NaN    NaN         NaN   \n2        NaN             NaN    NaN   NaN   NaN    NaN         NaN   \n3        NaN             NaN    NaN   NaN   NaN    NaN         NaN   \n4  2220x1080  match_status:2      T     F     T      T      mobile   \n\n                      DeviceInfo  \n0                            NaN  \n1                            NaN  \n2                            NaN  \n3                            NaN  \n4  SAMSUNG SM-G892A Build/NRD90M  \n\n[5 rows x 434 columns]",
      "text/html": "<div>\n<style scoped>\n    .dataframe tbody tr th:only-of-type {\n        vertical-align: middle;\n    }\n\n    .dataframe tbody tr th {\n        vertical-align: top;\n    }\n\n    .dataframe thead th {\n        text-align: right;\n    }\n</style>\n<table border=\"1\" class=\"dataframe\">\n  <thead>\n    <tr style=\"text-align: right;\">\n      <th></th>\n      <th>TransactionID</th>\n      <th>isFraud</th>\n      <th>TransactionDT</th>\n      <th>TransactionAmt</th>\n      <th>ProductCD</th>\n      <th>card1</th>\n      <th>card2</th>\n      <th>card3</th>\n      <th>card4</th>\n      <th>card5</th>\n      <th>...</th>\n      <th>id_31</th>\n      <th>id_32</th>\n      <th>id_33</th>\n      <th>id_34</th>\n      <th>id_35</th>\n      <th>id_36</th>\n      <th>id_37</th>\n      <th>id_38</th>\n      <th>DeviceType</th>\n      <th>DeviceInfo</th>\n    </tr>\n  </thead>\n  <tbody>\n    <tr>\n      <th>0</th>\n      <td>2987000</td>\n      <td>0</td>\n      <td>86400</td>\n      <td>68.5</td>\n      <td>W</td>\n      <td>13926</td>\n      <td>NaN</td>\n      <td>150.0</td>\n      <td>discover</td>\n      <td>142.0</td>\n      <td>...</td>\n      <td>NaN</td>\n      <td>NaN</td>\n      <td>NaN</td>\n      <td>NaN</td>\n      <td>NaN</td>\n      <td>NaN</td>\n      <td>NaN</td>\n      <td>NaN</td>\n      <td>NaN</td>\n      <td>NaN</td>\n    </tr>\n    <tr>\n      <th>1</th>\n      <td>2987001</td>\n      <td>0</td>\n      <td>86401</td>\n      <td>29.0</td>\n      <td>W</td>\n      <td>2755</td>\n      <td>404.0</td>\n      <td>150.0</td>\n      <td>mastercard</td>\n      <td>102.0</td>\n      <td>...</td>\n      <td>NaN</td>\n      <td>NaN</td>\n      <td>NaN</td>\n      <td>NaN</td>\n      <td>NaN</td>\n      <td>NaN</td>\n      <td>NaN</td>\n      <td>NaN</td>\n      <td>NaN</td>\n      <td>NaN</td>\n    </tr>\n    <tr>\n      <th>2</th>\n      <td>2987002</td>\n      <td>0</td>\n      <td>86469</td>\n      <td>59.0</td>\n      <td>W</td>\n      <td>4663</td>\n      <td>490.0</td>\n      <td>150.0</td>\n      <td>visa</td>\n      <td>166.0</td>\n      <td>...</td>\n      <td>NaN</td>\n      <td>NaN</td>\n      <td>NaN</td>\n      <td>NaN</td>\n      <td>NaN</td>\n      <td>NaN</td>\n      <td>NaN</td>\n      <td>NaN</td>\n      <td>NaN</td>\n      <td>NaN</td>\n    </tr>\n    <tr>\n      <th>3</th>\n      <td>2987003</td>\n      <td>0</td>\n      <td>86499</td>\n      <td>50.0</td>\n      <td>W</td>\n      <td>18132</td>\n      <td>567.0</td>\n      <td>150.0</td>\n      <td>mastercard</td>\n      <td>117.0</td>\n      <td>...</td>\n      <td>NaN</td>\n      <td>NaN</td>\n      <td>NaN</td>\n      <td>NaN</td>\n      <td>NaN</td>\n      <td>NaN</td>\n      <td>NaN</td>\n      <td>NaN</td>\n      <td>NaN</td>\n      <td>NaN</td>\n    </tr>\n    <tr>\n      <th>4</th>\n      <td>2987004</td>\n      <td>0</td>\n      <td>86506</td>\n      <td>50.0</td>\n      <td>H</td>\n      <td>4497</td>\n      <td>514.0</td>\n      <td>150.0</td>\n      <td>mastercard</td>\n      <td>102.0</td>\n      <td>...</td>\n      <td>samsung browser 6.2</td>\n      <td>32.0</td>\n      <td>2220x1080</td>\n      <td>match_status:2</td>\n      <td>T</td>\n      <td>F</td>\n      <td>T</td>\n      <td>T</td>\n      <td>mobile</td>\n      <td>SAMSUNG SM-G892A Build/NRD90M</td>\n    </tr>\n  </tbody>\n</table>\n<p>5 rows × 434 columns</p>\n</div>"
     },
     "execution_count": 2,
     "metadata": {},
     "output_type": "execute_result"
    }
   ],
   "source": [
    "froot = \"C:/Users/verdi/Documents/Datasets/IEEEFraudDetection/ieee-fraud-detection/\"\n",
    "transaction_fname = \"train_transaction.csv\"\n",
    "id_fname = \"train_identity.csv\"\n",
    "transaction_df = pd.read_csv(froot + transaction_fname)\n",
    "identity_df = pd.read_csv(froot + id_fname)\n",
    "df = transaction_df.merge(identity_df, how=\"left\", on=\"TransactionID\")\n",
    "target = df[\"isFraud\"]\n",
    "df.head(5)"
   ]
  },
  {
   "cell_type": "markdown",
   "metadata": {},
   "source": [
    "## Types des données\n",
    "Les données comprennent majoritairement des attributs numériques, mais contient aussi de nombreux attributs catégoriques."
   ]
  },
  {
   "cell_type": "code",
   "execution_count": 3,
   "metadata": {},
   "outputs": [
    {
     "name": "stdout",
     "output_type": "stream",
     "text": [
      "Number of numerical columns: 403\n",
      "Number of categorical columns: 31\n",
      "Categorical columns: Index(['ProductCD', 'card4', 'card6', 'P_emaildomain', 'R_emaildomain', 'M1',\n",
      "       'M2', 'M3', 'M4', 'M5', 'M6', 'M7', 'M8', 'M9', 'id_12', 'id_15',\n",
      "       'id_16', 'id_23', 'id_27', 'id_28', 'id_29', 'id_30', 'id_31', 'id_33',\n",
      "       'id_34', 'id_35', 'id_36', 'id_37', 'id_38', 'DeviceType',\n",
      "       'DeviceInfo'],\n",
      "      dtype='object')\n"
     ]
    }
   ],
   "source": [
    "num_df = df.select_dtypes(include=np.number)\n",
    "cat_df = df.select_dtypes(exclude=np.number)\n",
    "cat_cols = cat_df.columns\n",
    "num_cols = num_df.columns\n",
    "\n",
    "print(\"Number of numerical columns: %d\" % len(num_cols))\n",
    "print(\"Number of categorical columns: %d\" % len(cat_cols))\n",
    "print(\"Categorical columns: {}\".format(cat_cols))"
   ]
  },
  {
   "cell_type": "markdown",
   "metadata": {},
   "source": [
    "## Valeurs invalides\n",
    "Les données sont majoritairement non définies (NaN)."
   ]
  },
  {
   "cell_type": "code",
   "execution_count": 4,
   "outputs": [
    {
     "name": "stdout",
     "output_type": "stream",
     "text": [
      "Dropped 25 attributes with unique values\n"
     ]
    },
    {
     "data": {
      "text/plain": "['M8',\n 'M6',\n 'id_38',\n 'id_37',\n 'V88',\n 'M2',\n 'id_35',\n 'id_36',\n 'V1',\n 'V14',\n 'id_16',\n 'M3',\n 'V41',\n 'V305',\n 'V65',\n 'M9',\n 'V107',\n 'DeviceType',\n 'id_28',\n 'id_12',\n 'id_29',\n 'id_27',\n 'M5',\n 'M1',\n 'M7']"
     },
     "execution_count": 4,
     "metadata": {},
     "output_type": "execute_result"
    }
   ],
   "source": [
    "# Données avec des valeurs uniques\n",
    "# uniq_cols = df[df.nunique() <= 2].columns\n",
    "# uniq_cols\n",
    "uniq_cols = list(set(df.columns[df.nunique() <= 2]) - {\"isFraud\"})\n",
    "df = df.drop(uniq_cols, axis=1)\n",
    "assert len(set(df.columns[df.nunique() <= 2]) - {\"isFraud\"}) == 0, \"there are still attributs with unique values\"\n",
    "print(\"Dropped {} attributes with unique values\".format(len(uniq_cols)))\n",
    "uniq_cols"
   ],
   "metadata": {
    "collapsed": false,
    "pycharm": {
     "name": "#%%\n"
    }
   }
  },
  {
   "cell_type": "markdown",
   "source": [
    "## Valeurs manquantes ($NaN$)\n",
    "Les données sont majoritairement polluées par des valeurs manquantes."
   ],
   "metadata": {
    "collapsed": false,
    "pycharm": {
     "name": "#%% md\n"
    }
   }
  },
  {
   "cell_type": "code",
   "execution_count": 5,
   "metadata": {},
   "outputs": [
    {
     "name": "stdout",
     "output_type": "stream",
     "text": [
      "There are 389 columns with missing values (0.9511 of all columns)\n"
     ]
    },
    {
     "data": {
      "text/plain": "            0         1\nid_24  585793  0.991962\nid_25  585408  0.991310\nid_08  585385  0.991271\nid_07  585385  0.991271\nid_21  585381  0.991264\nid_26  585377  0.991257\nid_23  585371  0.991247\nid_22  585371  0.991247\ndist2  552913  0.936284\nD7     551623  0.934099\nid_18  545427  0.923607\nD13    528588  0.895093\nD14    528353  0.894695\nD12    525823  0.890410\nid_03  524216  0.887689\nid_04  524216  0.887689\nD6     517353  0.876068\nid_33  517251  0.875895\nid_09  515614  0.873123\nD9     515614  0.873123",
      "text/html": "<div>\n<style scoped>\n    .dataframe tbody tr th:only-of-type {\n        vertical-align: middle;\n    }\n\n    .dataframe tbody tr th {\n        vertical-align: top;\n    }\n\n    .dataframe thead th {\n        text-align: right;\n    }\n</style>\n<table border=\"1\" class=\"dataframe\">\n  <thead>\n    <tr style=\"text-align: right;\">\n      <th></th>\n      <th>0</th>\n      <th>1</th>\n    </tr>\n  </thead>\n  <tbody>\n    <tr>\n      <th>id_24</th>\n      <td>585793</td>\n      <td>0.991962</td>\n    </tr>\n    <tr>\n      <th>id_25</th>\n      <td>585408</td>\n      <td>0.991310</td>\n    </tr>\n    <tr>\n      <th>id_08</th>\n      <td>585385</td>\n      <td>0.991271</td>\n    </tr>\n    <tr>\n      <th>id_07</th>\n      <td>585385</td>\n      <td>0.991271</td>\n    </tr>\n    <tr>\n      <th>id_21</th>\n      <td>585381</td>\n      <td>0.991264</td>\n    </tr>\n    <tr>\n      <th>id_26</th>\n      <td>585377</td>\n      <td>0.991257</td>\n    </tr>\n    <tr>\n      <th>id_23</th>\n      <td>585371</td>\n      <td>0.991247</td>\n    </tr>\n    <tr>\n      <th>id_22</th>\n      <td>585371</td>\n      <td>0.991247</td>\n    </tr>\n    <tr>\n      <th>dist2</th>\n      <td>552913</td>\n      <td>0.936284</td>\n    </tr>\n    <tr>\n      <th>D7</th>\n      <td>551623</td>\n      <td>0.934099</td>\n    </tr>\n    <tr>\n      <th>id_18</th>\n      <td>545427</td>\n      <td>0.923607</td>\n    </tr>\n    <tr>\n      <th>D13</th>\n      <td>528588</td>\n      <td>0.895093</td>\n    </tr>\n    <tr>\n      <th>D14</th>\n      <td>528353</td>\n      <td>0.894695</td>\n    </tr>\n    <tr>\n      <th>D12</th>\n      <td>525823</td>\n      <td>0.890410</td>\n    </tr>\n    <tr>\n      <th>id_03</th>\n      <td>524216</td>\n      <td>0.887689</td>\n    </tr>\n    <tr>\n      <th>id_04</th>\n      <td>524216</td>\n      <td>0.887689</td>\n    </tr>\n    <tr>\n      <th>D6</th>\n      <td>517353</td>\n      <td>0.876068</td>\n    </tr>\n    <tr>\n      <th>id_33</th>\n      <td>517251</td>\n      <td>0.875895</td>\n    </tr>\n    <tr>\n      <th>id_09</th>\n      <td>515614</td>\n      <td>0.873123</td>\n    </tr>\n    <tr>\n      <th>D9</th>\n      <td>515614</td>\n      <td>0.873123</td>\n    </tr>\n  </tbody>\n</table>\n</div>"
     },
     "execution_count": 5,
     "metadata": {},
     "output_type": "execute_result"
    }
   ],
   "source": [
    "nan_cols = df.columns[df.isna().any()]\n",
    "nan_ratio = len(nan_cols) / len(df.columns)\n",
    "print(\"There are %d columns with missing values (%2.4f of all columns)\" % (len(nan_cols), nan_ratio))\n",
    "\n",
    "nan_cols_sum_series = df.isna().sum().sort_values(ascending=False)\n",
    "nan_cols_ratio_series = (df.isna().sum() / len(df)).sort_values(ascending=False)\n",
    "nan_cols_df = pd.DataFrame(\n",
    "    pd.concat((nan_cols_sum_series, nan_cols_ratio_series), axis=1),\n",
    ")\n",
    "nan_cols_df.style.to_latex(\"export/table/nan_col_series.tex\")\n",
    "nan_cols_df.head(20)"
   ]
  },
  {
   "cell_type": "code",
   "execution_count": 6,
   "metadata": {},
   "outputs": [
    {
     "name": "stderr",
     "output_type": "stream",
     "text": [
      "C:\\Users\\verdi\\anaconda3\\envs\\anomaly_detection\\lib\\site-packages\\pandas\\core\\indexes\\base.py:4616: FutureWarning: Using a non-tuple sequence for multidimensional indexing is deprecated; use `arr[tuple(seq)]` instead of `arr[seq]`. In the future this will be interpreted as an array index, `arr[np.array(seq)]`, which will result either in an error or a different result.\n",
      "  result = getitem(key)\n"
     ]
    },
    {
     "name": "stdout",
     "output_type": "stream",
     "text": [
      "Rows deleted: 1441\n",
      "Ratio: 0.0024\n"
     ]
    }
   ],
   "source": [
    "# Colonnes avec 1 ou plusieurs valeurs nulles\n",
    "nan_cols = df.columns[df.isna().sum() > 0]\n",
    "# Colonnes ayant le même nombre de valeurs manquantes\n",
    "dup_cols = df[nan_cols].columns[[df[nan_cols].isna().sum().duplicated()]]\n",
    "# Colonnes obtenues à l'étape précédente dont le nombre de valeurs négatives ne dépasse pas 1% des données\n",
    "cols = df[dup_cols].columns[df[dup_cols].isna().sum() < (.01 * len(df))]\n",
    "# Suppression des valeurs manquantes\n",
    "len_before = len(df)\n",
    "df.dropna(inplace=True, subset=cols)\n",
    "# Validation\n",
    "assert df[cols].isna().sum().sum() == 0., \"Il reste des valeurs manquantes\"\n",
    "assert df.isna().sum().sum() > 0., \"Mauvaise assignation: il devrait rester des valeurs manquantes dans le reste des données\"\n",
    "diff = len_before - len(df)\n",
    "print(\"Rows deleted: {}\\nRatio: {:2.4f}\".format(diff, diff / len_before))"
   ]
  },
  {
   "cell_type": "code",
   "execution_count": 7,
   "metadata": {},
   "outputs": [
    {
     "data": {
      "text/plain": "Index(['dist1', 'dist2', 'R_emaildomain', 'D5', 'D6', 'D7', 'D8', 'D9', 'D12',\n       'D13',\n       ...\n       'id_23', 'id_24', 'id_25', 'id_26', 'id_30', 'id_31', 'id_32', 'id_33',\n       'id_34', 'DeviceInfo'],\n      dtype='object', length=200)"
     },
     "execution_count": 7,
     "metadata": {},
     "output_type": "execute_result"
    }
   ],
   "source": [
    "# Affichage des colonnes dont le ratio de valeurs manquantes dépassent 50% des données\n",
    "cols_above_thresh = df.columns[(df.isna().sum() / len(df)) > 0.5]\n",
    "cols_above_thresh"
   ]
  },
  {
   "cell_type": "code",
   "execution_count": 8,
   "metadata": {},
   "outputs": [],
   "source": [
    "# Fonction grandement inspirée de https://www.kaggle.com/code/davidcairuz/feature-engineering-lightgbm\n",
    "def id_split(dataframe):\n",
    "    dataframe['device_name'] = dataframe['DeviceInfo'].str.split('/', expand=True)[0].str.split(' ', expand=True)[0]\n",
    "    dataframe.loc[dataframe['device_name'].str.contains('SM', na=False), 'device_name'] = 'Samsung'\n",
    "    dataframe.loc[dataframe['device_name'].str.contains('SAMSUNG', na=False), 'device_name'] = 'Samsung'\n",
    "    dataframe.loc[dataframe['device_name'].str.contains('GT-', na=False), 'device_name'] = 'Samsung'\n",
    "    dataframe.loc[dataframe['device_name'].str.contains('Moto G', na=False), 'device_name'] = 'Motorola'\n",
    "    dataframe.loc[dataframe['device_name'].str.contains('Moto', na=False), 'device_name'] = 'Motorola'\n",
    "    dataframe.loc[dataframe['device_name'].str.contains('moto', na=False), 'device_name'] = 'Motorola'\n",
    "    dataframe.loc[dataframe['device_name'].str.contains('LG-', na=False), 'device_name'] = 'LG'\n",
    "    dataframe.loc[dataframe['device_name'].str.contains('rv:', na=False), 'device_name'] = 'RV'\n",
    "    dataframe.loc[dataframe['device_name'].str.contains('HUAWEI', na=False), 'device_name'] = 'Huawei'\n",
    "    dataframe.loc[dataframe['device_name'].str.contains('ALE-', na=False), 'device_name'] = 'Huawei'\n",
    "    dataframe.loc[dataframe['device_name'].str.contains('-L', na=False), 'device_name'] = 'Huawei'\n",
    "    dataframe.loc[dataframe['device_name'].str.contains('Blade', na=False), 'device_name'] = 'ZTE'\n",
    "    dataframe.loc[dataframe['device_name'].str.contains('BLADE', na=False), 'device_name'] = 'ZTE'\n",
    "    dataframe.loc[dataframe['device_name'].str.contains('Linux', na=False), 'device_name'] = 'Linux'\n",
    "    dataframe.loc[dataframe['device_name'].str.contains('XT', na=False), 'device_name'] = 'Sony'\n",
    "    dataframe.loc[dataframe['device_name'].str.contains('HTC', na=False), 'device_name'] = 'HTC'\n",
    "    dataframe.loc[dataframe['device_name'].str.contains('ASUS', na=False), 'device_name'] = 'Asus'\n",
    "\n",
    "    dataframe.loc[dataframe.device_name.isin(dataframe.device_name.value_counts()[dataframe.device_name.value_counts() < 200].index), 'device_name'] = \"Others\"\n",
    "    \n",
    "    return dataframe"
   ]
  },
  {
   "cell_type": "code",
   "execution_count": 9,
   "metadata": {},
   "outputs": [],
   "source": [
    "# Conversion de la colonne \"DeviceInfo\" vers le nouvel attribut \"device_name\"\n",
    "df = id_split(df)\n",
    "df[\"device_name\"] = df[\"device_name\"].fillna(\"NoDevice\")\n",
    "# Retrait des colonnes \"DeviceInfo\" et \"DeviceType\" qui deviennent redondantes\n",
    "df = df.drop([\"DeviceInfo\", \"DeviceType\"], axis=1, errors=\"ignore\")"
   ]
  },
  {
   "cell_type": "code",
   "execution_count": 10,
   "metadata": {},
   "outputs": [],
   "source": [
    "def mean_target_encoding(dataframe, column, na_value):\n",
    "    dataframe[column] = dataframe[column].fillna(na_value)\n",
    "    mean_enc = dataframe.groupby(column)[\"isFraud\"].mean()\n",
    "    dataframe.loc[:, column] = dataframe.loc[:, column].map(mean_enc)\n",
    "    return dataframe"
   ]
  },
  {
   "cell_type": "code",
   "execution_count": 11,
   "metadata": {},
   "outputs": [],
   "source": [
    "cols = [\"device_name\", \"P_emaildomain\", \"R_emaildomain\", \"id_31\"]\n",
    "na_vals = [\"NoDevice\", \"NoEmail\", \"NoEmail\", \"NoBrowser\"]\n",
    "for c, v in zip(cols, na_vals):\n",
    "    df = mean_target_encoding(df, c, v)\n",
    "    assert df[c].isna().sum() == 0, \"La colonne '%s' contient toujours des valeurs manquantes\" % c"
   ]
  },
  {
   "cell_type": "code",
   "execution_count": 12,
   "metadata": {},
   "outputs": [
    {
     "data": {
      "text/plain": "Index(['dist1', 'dist2', 'D5', 'D6', 'D7', 'D8', 'D9', 'D12', 'D13', 'D14',\n       ...\n       'id_21', 'id_22', 'id_23', 'id_24', 'id_25', 'id_26', 'id_30', 'id_32',\n       'id_33', 'id_34'],\n      dtype='object', length=197)"
     },
     "execution_count": 12,
     "metadata": {},
     "output_type": "execute_result"
    }
   ],
   "source": [
    "cols_above_thresh = df.columns[(df.isna().sum() / len(df)) >= 0.5]\n",
    "cols_above_thresh"
   ]
  },
  {
   "cell_type": "code",
   "execution_count": 13,
   "metadata": {},
   "outputs": [],
   "source": [
    "from sklearn.impute import KNNImputer\n",
    "from sklearn.preprocessing import MinMaxScaler\n",
    "\n",
    "# Réordonner les colonnes\n",
    "df = df[list(set(df.columns) - {\"isFraud\"}) + [\"isFraud\"]]\n",
    "\n",
    "# Affichage des colonnes dont le ratio de valeurs manquantes représente moins de 50% des données\n",
    "# (et qui contiennent au moins une valeur manquante)\n",
    "cols_below_thresh = df.columns[(df.isna().sum() / len(df)) < 0.5]\n",
    "cols_below_thresh = df[cols_below_thresh].columns[df[cols_below_thresh].isna().sum() > 0]\n",
    "\n",
    "# Suppression des attributs dont le nombre de valeurs manquantes dépasse 50% des données originales\n",
    "df = df.drop(cols_above_thresh, axis=1)\n",
    "df = df.drop(\"TransactionID\", axis=1)\n",
    "\n",
    "# Attributs catégoriques\n",
    "nan_cols = df.select_dtypes(exclude=np.number).columns\n",
    "df[nan_cols] = df[nan_cols].fillna(df[nan_cols].mode())\n",
    "# Pour une raison quelconque, on doit manuellement modifier la colonne M4.\n",
    "df[\"M4\"] = df[\"M4\"].fillna(\"M0\")\n",
    "df[\"card4\"] = df[\"card4\"].fillna(\"other\")\n",
    "df[\"card6\"] = df[\"card6\"].fillna(\"other\")\n",
    "\n",
    "# Attributs numériques\n",
    "num_cols = list(set(df.select_dtypes(include=np.number).columns) - {\"isFraud\"})\n",
    "\n",
    "# Stratégie 1: On remplace les valeurs manquantes des autres attributs en utilisant l'algorithme KNN\n",
    "imputer = KNNImputer(n_neighbors=30)\n",
    "full_data = imputer.fit_transform(df.values)\n",
    "knn_df = df.copy()\n",
    "knn_df[num_cols] = full_data\n",
    "\n",
    "# Stratégie 2: On remplace les valeurs manquantes par la moyenne de leur attribut respectif\n",
    "df[num_cols] = df[num_cols].fillna(df[num_cols].mean())\n",
    "\n",
    "# Vérifications\n",
    "assert df.isna().sum().sum() == 0, \"there are still columns with missing values (mean df)\"\n",
    "assert knn_df.isna().sum().sum() == 0, \"there are still columns with missing values (knn df)\"\n",
    "\n",
    "# Normalisation des attributs numériques\n",
    "\n",
    "scaler = MinMaxScaler()\n",
    "df[num_cols] = scaler.fit_transform(df[num_cols].values)\n",
    "knn_df[num_cols] = scaler.fit_transform(knn_df[num_cols].values)\n",
    "\n",
    "# Conversion des attributs catégoriques en attributs binaires\n",
    "n_cols_before = len(df.columns)\n",
    "df = pd.get_dummies(df)\n",
    "n_cols_after = len(df.columns)\n",
    "print(\"Number of columns before one-hot encoding: {}\".format(n_cols_before))\n",
    "print(\"Number of columns after one-hot encoding: {}\".format(n_cols_after))\n",
    "print(\"Difference: {}\".format(n_cols_after - n_cols_before))\n",
    "\n",
    "# Sauvegarde des données\n",
    "df.to_csv(\"./data/ieee-fraud-detection-v1.csv\", index=False)\n",
    "knn_df.to_csv(\"./data/ieee-fraud-detection-vknn.csv\", index=False)"
   ]
  },
  {
   "cell_type": "code",
   "execution_count": 15,
   "outputs": [
    {
     "name": "stdout",
     "output_type": "stream",
     "text": [
      "Number of columns before one-hot encoding: 211\n",
      "Number of columns after one-hot encoding: 225\n",
      "Difference: 14\n"
     ]
    }
   ],
   "source": [],
   "metadata": {
    "collapsed": false,
    "pycharm": {
     "name": "#%%\n"
    }
   }
  },
  {
   "cell_type": "code",
   "execution_count": 20,
   "outputs": [],
   "source": [
    "df = df[list(set(df.columns) - {\"isFraud\"}) + [\"isFraud\"]]\n",
    "df.to_csv(\"./data/ieee-fraud-detection-v1.csv\", index=False)"
   ],
   "metadata": {
    "collapsed": false,
    "pycharm": {
     "name": "#%%\n"
    }
   }
  }
 ],
 "metadata": {
  "interpreter": {
   "hash": "1ab42a0bcf01904e12172065e37a15efb8bca4579e5a11ce1bc2a41692edb9a4"
  },
  "kernelspec": {
   "display_name": "Python 3.8.12 ('anomaly_detection')",
   "language": "python",
   "name": "python3"
  },
  "language_info": {
   "codemirror_mode": {
    "name": "ipython",
    "version": 3
   },
   "file_extension": ".py",
   "mimetype": "text/x-python",
   "name": "python",
   "nbconvert_exporter": "python",
   "pygments_lexer": "ipython3",
   "version": "3.8.12"
  },
  "orig_nbformat": 4
 },
 "nbformat": 4,
 "nbformat_minor": 2
}