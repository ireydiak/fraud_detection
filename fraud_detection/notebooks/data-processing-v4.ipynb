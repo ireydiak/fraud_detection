{
 "cells": [
  {
   "cell_type": "code",
   "execution_count": 1,
   "metadata": {
    "collapsed": true
   },
   "outputs": [],
   "source": [
    "# Notebook largely inspired by https://www.kaggle.com/code/arnaslaurinaviius/beat-my-score\n",
    "import numpy as np\n",
    "import pandas as pd\n",
    "import seaborn as sns\n",
    "from sklearn.preprocessing import LabelEncoder\n",
    "from sklearn.utils import resample\n",
    "\n",
    "base_root = \"../data/original\""
   ]
  },
  {
   "cell_type": "code",
   "execution_count": 2,
   "outputs": [],
   "source": [
    "train_transactions = pd.read_csv(base_root + \"/train_transaction.csv\")\n",
    "train_identity = pd.read_csv(base_root + \"/train_identity.csv\")\n",
    "train_df = train_transactions.merge(train_identity, how=\"left\", on=\"TransactionID\")\n",
    "train_df.set_index('TransactionID', inplace=True)\n",
    "train_df = train_df[list(set(train_df.columns) - {\"isFraud\"}) + [\"isFraud\"]]\n",
    "train_df = train_df.fillna(-999)\n",
    "y = train_df[\"isFraud\"].astype(np.uint8)\n",
    "del train_transactions, train_identity"
   ],
   "metadata": {
    "collapsed": false,
    "pycharm": {
     "name": "#%%\n"
    }
   }
  },
  {
   "cell_type": "code",
   "execution_count": 3,
   "outputs": [],
   "source": [
    "for f in train_df.columns:\n",
    "    if train_df[f].dtype == \"object\":\n",
    "        lbl = LabelEncoder()\n",
    "        lbl.fit(list(train_df[f].values))\n",
    "        train_df[f] = lbl.transform(list(train_df[f].values))"
   ],
   "metadata": {
    "collapsed": false,
    "pycharm": {
     "name": "#%%\n"
    }
   }
  },
  {
   "cell_type": "code",
   "execution_count": 4,
   "outputs": [
    {
     "data": {
      "text/plain": "<Figure size 432x288 with 1 Axes>",
      "image/png": "[encoded data removed]"
     },
     "metadata": {
      "needs_background": "light"
     },
     "output_type": "display_data"
    }
   ],
   "source": [
    "data = train_df.to_numpy()\n",
    "\n",
    "X_maj = data[data[:, -1] == 0]\n",
    "X_min = data[data[:, -1] == 1]\n",
    "size_minor = len(X_min)\n",
    "\n",
    "# Downsample majority class\n",
    "X_maj_downsampled = resample(\n",
    "    X_maj,\n",
    "    replace=False,\n",
    "    n_samples=size_minor,\n",
    "    random_state=42\n",
    ")\n",
    "\n",
    "data_down = np.concatenate([X_min, X_maj_downsampled])\n",
    "\n",
    "X_down = data_down[:, :-1]\n",
    "y_down = data_down[:, -1]\n",
    "\n",
    "sns.countplot(x = y_down);"
   ],
   "metadata": {
    "collapsed": false,
    "pycharm": {
     "name": "#%%\n"
    }
   }
  },
  {
   "cell_type": "code",
   "execution_count": 5,
   "outputs": [],
   "source": [
    "np.save(\"../data/fraud-detection-v4.npy\", data_down)"
   ],
   "metadata": {
    "collapsed": false,
    "pycharm": {
     "name": "#%%\n"
    }
   }
  }
 ],
 "metadata": {
  "kernelspec": {
   "display_name": "Python 3",
   "language": "python",
   "name": "python3"
  },
  "language_info": {
   "codemirror_mode": {
    "name": "ipython",
    "version": 2
   },
   "file_extension": ".py",
   "mimetype": "text/x-python",
   "name": "python",
   "nbconvert_exporter": "python",
   "pygments_lexer": "ipython2",
   "version": "2.7.6"
  }
 },
 "nbformat": 4,
 "nbformat_minor": 0
}