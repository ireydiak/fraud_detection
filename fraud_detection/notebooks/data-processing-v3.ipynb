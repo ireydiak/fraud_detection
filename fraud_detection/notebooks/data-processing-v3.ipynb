{
 "cells": [
  {
   "cell_type": "code",
   "execution_count": 1,
   "id": "9afb0530",
   "metadata": {},
   "outputs": [],
   "source": [
    "%matplotlib inline\n",
    "import numpy as np\n",
    "import pandas as pnd\n",
    "import seaborn as sns\n",
    "import matplotlib.pyplot as plt\n",
    "\n",
    "base_root = \"../data/original/\""
   ]
  },
  {
   "cell_type": "code",
   "execution_count": 2,
   "id": "1a540b33",
   "metadata": {},
   "outputs": [],
   "source": [
    "df_train_transaction = pnd.read_csv(base_root + \"train_transaction.csv\")\n",
    "df_train_identity = pnd.read_csv(base_root + \"train_identity.csv\")\n",
    "# Fusion des deux fichiers sur la base de la colonne TransactionID\n",
    "full_train = pnd.merge(df_train_transaction, df_train_identity, on='TransactionID', how='left')\n",
    "full_train.set_index(\"TransactionID\", inplace=True)"
   ]
  },
  {
   "cell_type": "markdown",
   "id": "2b144bf3",
   "metadata": {},
   "source": [
    "# Gestion des données manquantes (NaN)\n",
    "Dans cette version, les colonnes manquantes fortement corrélées sont supprimées."
   ]
  },
  {
   "cell_type": "code",
   "execution_count": 3,
   "outputs": [],
   "source": [
    "nan_cols = full_train.columns[full_train.isna().sum() > 0]\n",
    "# Correlation threshold\n",
    "corr_thres = 0.8\n",
    "\n",
    "# Select upper triangle of correlation matrix\n",
    "corr_matrix = full_train[nan_cols].corr().abs()\n",
    "upper = corr_matrix.where(np.triu(np.ones(corr_matrix.shape), k=1).astype(bool))\n",
    "\n",
    "# Find features with correlation greater than 0.80\n",
    "to_drop = [column for column in upper.columns if any(upper[column] > corr_thres)]\n",
    "\n",
    "# Drop features\n",
    "full_train.drop(to_drop, axis=1, inplace=True)"
   ],
   "metadata": {
    "collapsed": false,
    "pycharm": {
     "name": "#%%\n"
    }
   }
  },
  {
   "cell_type": "markdown",
   "source": [
    "Les valeurs manquantes des attributs numériques et catégoriques restants sont remplacées respectivement par leur médiane et leur mode."
   ],
   "metadata": {
    "collapsed": false,
    "pycharm": {
     "name": "#%% md\n"
    }
   }
  },
  {
   "cell_type": "code",
   "execution_count": 4,
   "outputs": [
    {
     "name": "stdout",
     "output_type": "stream",
     "text": [
      "OK\n"
     ]
    }
   ],
   "source": [
    "from sklearn.impute import SimpleImputer\n",
    "\n",
    "cat_cols = full_train.select_dtypes(exclude=np.number).columns\n",
    "num_cols = list(full_train.select_dtypes(include=np.number).columns)\n",
    "num_cols.remove(\"isFraud\")\n",
    "\n",
    "# Remplacement des valeurs numériques par la médiane\n",
    "imputer = SimpleImputer(strategy=\"median\")\n",
    "full_train[num_cols] = imputer.fit_transform(full_train[num_cols].to_numpy())\n",
    "\n",
    "# Retrait des colonnes catégoriques\n",
    "full_train = full_train.drop(cat_cols, axis=1)\n",
    "\n",
    "assert \"isFraud\" in full_train.columns, \"target column removed by accident\"\n",
    "assert full_train.isna().sum().sum() == 0, \"There are still missing values\"\n",
    "print(\"OK\")"
   ],
   "metadata": {
    "collapsed": false,
    "pycharm": {
     "name": "#%%\n"
    }
   }
  },
  {
   "cell_type": "markdown",
   "source": [
    "## Débalancement des classes"
   ],
   "metadata": {
    "collapsed": false,
    "pycharm": {
     "name": "#%% md\n"
    }
   }
  },
  {
   "cell_type": "code",
   "execution_count": 5,
   "outputs": [
    {
     "data": {
      "text/plain": "Text(0, 0.5, 'count')"
     },
     "execution_count": 5,
     "metadata": {},
     "output_type": "execute_result"
    },
    {
     "data": {
      "text/plain": "<Figure size 432x288 with 1 Axes>",
      "image/png": "[encoded data removed]"
     },
     "metadata": {
      "needs_background": "light"
     },
     "output_type": "display_data"
    }
   ],
   "source": [
    "sns.barplot(y=full_train.isFraud.value_counts(), x=[0, 1])\n",
    "plt.title(\"Class imbalance\")\n",
    "plt.ylabel(\"count\")"
   ],
   "metadata": {
    "collapsed": false,
    "pycharm": {
     "name": "#%%\n"
    }
   }
  },
  {
   "cell_type": "code",
   "execution_count": null,
   "outputs": [],
   "source": [
    "from imblearn.combine import SMOTEENN\n",
    "\n",
    "X, y = full_train.drop(\"isFraud\", axis=1), full_train[\"isFraud\"]\n",
    "smote_enn = SMOTEENN(random_state=0)\n",
    "X_resampled, y_resampled = smote_enn.fit_resample(X, y)\n",
    "\n",
    "df_balanced = pnd.concat((X_resampled, y_resampled), axis=1)\n",
    "sns.barplot(y=df_balanced.isFraud.value_counts(), x=[0, 1])\n",
    "plt.title(\"Class imbalance\")\n",
    "plt.ylabel(\"count\")"
   ],
   "metadata": {
    "collapsed": false,
    "pycharm": {
     "name": "#%%\n",
     "is_executing": true
    }
   }
  },
  {
   "cell_type": "markdown",
   "source": [
    "## Normalisation"
   ],
   "metadata": {
    "collapsed": false,
    "pycharm": {
     "name": "#%% md\n"
    }
   }
  },
  {
   "cell_type": "code",
   "execution_count": null,
   "outputs": [],
   "source": [
    "# Scaling\n",
    "from sklearn.preprocessing import StandardScaler\n",
    "\n",
    "scaler = StandardScaler()\n",
    "df_balanced = scaler.fit_transform(df_balanced)"
   ],
   "metadata": {
    "collapsed": false,
    "pycharm": {
     "name": "#%%\n",
     "is_executing": true
    }
   }
  },
  {
   "cell_type": "code",
   "execution_count": null,
   "outputs": [],
   "source": [
    "# Sauvegarde des données\n",
    "np.savez(base_root + \"../fraud-detection-v3.npz\", df_balanced)"
   ],
   "metadata": {
    "collapsed": false,
    "pycharm": {
     "name": "#%%\n",
     "is_executing": true
    }
   }
  }
 ],
 "metadata": {
  "kernelspec": {
   "display_name": "Python 3 (ipykernel)",
   "language": "python",
   "name": "python3"
  },
  "language_info": {
   "codemirror_mode": {
    "name": "ipython",
    "version": 3
   },
   "file_extension": ".py",
   "mimetype": "text/x-python",
   "name": "python",
   "nbconvert_exporter": "python",
   "pygments_lexer": "ipython3",
   "version": "3.7.4"
  }
 },
 "nbformat": 4,
 "nbformat_minor": 5
}