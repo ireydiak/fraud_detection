{
 "cells": [
  {
   "cell_type": "code",
   "execution_count": 1,
   "outputs": [],
   "source": [
    "import itertools as it\n",
    "from bootstrap import available_datasets, available_models, train\n",
    "\n",
    "tuples = it.product(available_models, available_datasets)\n",
    "\n",
    "dataset_root = \"\"\n",
    "\n",
    "path_to_datasets_map = {\n",
    "    \"IEEEFraudDetection\": dataset_root + \"/ieee_fraud_detection.npz\",\n",
    "}\n",
    "batch_sizes_map = {\n",
    "    \"IEEEFraudDetection\": 1024,\n",
    "}\n",
    "params = {\n",
    "    \"model_name\": None,\n",
    "    \"dataset_name\": None,\n",
    "    \"dataset_path\": None,\n",
    "    \"batch_size\": None,\n",
    "    \"pct\": 1.,\n",
    "    \"corruption_ratio\": 0.,\n",
    "    \"n_runs\": 20,\n",
    "    \"n_epochs\": 200,\n",
    "    \"learning_rate\": 1e-4,\n",
    "    \"results_path\": \"./results\",\n",
    "    \"models_path\": \"./models\",\n",
    "    \"test_mode\": False\n",
    "}\n"
   ],
   "metadata": {
    "collapsed": false,
    "pycharm": {
     "name": "#%%\n"
    }
   }
  },
  {
   "cell_type": "code",
   "execution_count": null,
   "outputs": [],
   "source": [
    "for model_name, dataset_name in tuples:\n",
    "    print(model_name, dataset_name)\n",
    "    params[\"model_name\"] = model_name\n",
    "    params[\"dataset_name\"] = dataset_name\n",
    "    params[\"dataset_path\"] = path_to_datasets_map[dataset_name]\n",
    "    params[\"batch_size\"] = batch_sizes_map[dataset_name]\n",
    "    train(**params)"
   ],
   "metadata": {
    "collapsed": false,
    "pycharm": {
     "name": "#%%\n",
     "is_executing": true
    }
   }
  }
 ],
 "metadata": {
  "kernelspec": {
   "display_name": "Python 3",
   "language": "python",
   "name": "python3"
  },
  "language_info": {
   "codemirror_mode": {
    "name": "ipython",
    "version": 2
   },
   "file_extension": ".py",
   "mimetype": "text/x-python",
   "name": "python",
   "nbconvert_exporter": "python",
   "pygments_lexer": "ipython2",
   "version": "2.7.6"
  }
 },
 "nbformat": 4,
 "nbformat_minor": 0
}