{
 "cells": [
  {
   "cell_type": "markdown",
   "id": "821dc330-a3f7-4ca4-8121-f7118bd32ea2",
   "metadata": {},
   "source": []
  },
  {
   "cell_type": "markdown",
   "id": "1add3a22-020d-4a73-ab63-387d7f8495a1",
   "metadata": {},
   "source": [
    "## Merge datasets"
   ]
  },
  {
   "cell_type": "code",
   "execution_count": null,
   "id": "a229ad0c-71bf-4c19-8fe8-aa24a33fa5e9",
   "metadata": {},
   "outputs": [],
   "source": [
    "train_df = train_transaction.merge(train_identity, how=\"left\", on=\"TransactionID\")\n",
    "\n",
    "test_df = test_transaction.merge(test_identity, how=\"left\", on=\"TransactionID\")"
   ]
  },
  {
   "cell_type": "markdown",
   "id": "202bcd81-c584-4912-a3ac-9849061176f1",
   "metadata": {},
   "source": [
    "## Outliers\n"
   ]
  },
  {
   "cell_type": "markdown",
   "id": "aef5f8b2-ac16-4ead-9597-eb6ad2a8e555",
   "metadata": {},
   "source": [
    "https://www.kaggle.com/code/omerparlak/1-fraud-detection-eda#Outliers"
   ]
  },
  {
   "cell_type": "code",
   "execution_count": null,
   "id": "389d71b5-116c-457f-b917-e021d96aa063",
   "metadata": {},
   "outputs": [],
   "source": [
    "def outlier_thresholds(dataframe, col_name, q1=0.01, q3=0.99):\n",
    "    quartile1 = dataframe[col_name].quantile(q1)\n",
    "    quartile3 = dataframe[col_name].quantile(q3)\n",
    "    interquantile_range = quartile3 - quartile1\n",
    "    up_limit = quartile3 + 1.5 * interquantile_range\n",
    "    low_limit = quartile1 - 1.5 * interquantile_range\n",
    "    return low_limit, up_limit"
   ]
  },
  {
   "cell_type": "code",
   "execution_count": null,
   "id": "2a9def49-ae9f-48da-9ddf-2ebefa3031b4",
   "metadata": {},
   "outputs": [],
   "source": [
    "def check_outlier(dataframe, col_name):\n",
    "    low_limit, up_limit = outlier_thresholds(dataframe, col_name)\n",
    "    if dataframe[(dataframe[col_name] > up_limit) | (dataframe[col_name] < low_limit)].any(axis=None):\n",
    "        return True\n",
    "    else:\n",
    "        return False"
   ]
  },
  {
   "cell_type": "code",
   "execution_count": null,
   "id": "45b45ab6-39ba-484e-bde7-dd500c2eb976",
   "metadata": {},
   "outputs": [],
   "source": [
    "for col in num_cols:\n",
    "    print(col, check_outlier(train_df, col))"
   ]
  },
  {
   "cell_type": "markdown",
   "id": "ace111a8-2237-47d8-8a8d-8b0707bd2315",
   "metadata": {},
   "source": [
    "## Correlation Anaylsis\n"
   ]
  },
  {
   "cell_type": "code",
   "execution_count": null,
   "id": "8a6188aa-460b-4028-8214-ade63639b819",
   "metadata": {},
   "outputs": [],
   "source": [
    "def high_correlated_cols(dataframe, plot=True, corr_th=0.85):\n",
    "    corr = dataframe.corr()\n",
    "    cor_matrix = corr.abs()\n",
    "    upper_triangle_matrix = cor_matrix.where(np.triu(np.ones(cor_matrix.shape), k=1).astype(np.bool))\n",
    "    drop_list = [col for col in upper_triangle_matrix.columns if any(upper_triangle_matrix[col] > corr_th)]\n",
    "    if plot:\n",
    "        \n",
    "        sns.set(rc={'figure.figsize': (25,25)})\n",
    "        sns.heatmap(corr, cmap=\"RdBu_r\", annot=True, fmt='.2f', square=True, linewidths=1,vmin = -1 , vmax = 1)\n",
    "        plt.show()\n",
    "    return drop_list"
   ]
  },
  {
   "cell_type": "code",
   "execution_count": null,
   "id": "30d629ee-f865-4f6c-b2bc-494eb5b9292a",
   "metadata": {},
   "outputs": [],
   "source": [
    "cols = ['V'+str(x) for x in range(1,26)]\n",
    "cols = cols + [\"isFraud\"]\n",
    "high_correlated_cols(train_df[cols], plot=True)\n",
    "drop_list1 = high_correlated_cols(train_df[cols], plot=False)"
   ]
  },
  {
   "cell_type": "code",
   "execution_count": null,
   "id": "3a48c8e7-60a4-4d4e-8cfd-80d9b4aff34f",
   "metadata": {},
   "outputs": [],
   "source": [
    "cols = ['V'+str(x) for x in range(26,51)]\n",
    "cols = cols + [\"isFraud\"]\n",
    "high_correlated_cols(train_df[cols], plot=True)\n",
    "drop_list2 = high_correlated_cols(train_df[cols], plot=False)"
   ]
  },
  {
   "cell_type": "markdown",
   "id": "b8c1b775-c6d0-4234-a839-3a7851840309",
   "metadata": {},
   "source": [
    "## V Variables with Low Effect by Feature Importance"
   ]
  },
  {
   "cell_type": "markdown",
   "id": "31a0bf14-2ca2-40e4-aad1-aaf2e2420d21",
   "metadata": {},
   "source": [
    "代码来源： https://www.kaggle.com/code/omerparlak/2-correlation-analysis-and-feature-importance#V-Variables-with-Low-Effect-by-Feature-Importance "
   ]
  },
  {
   "cell_type": "code",
   "execution_count": null,
   "id": "22774125-0f4f-440d-af7f-ab1a5f0f854f",
   "metadata": {},
   "outputs": [],
   "source": [
    "vfeatures_importance = []\n",
    "for i in train_df.columns:\n",
    "    if 'V' in i:\n",
    "        vfeatures_importance.append(i)"
   ]
  },
  {
   "cell_type": "code",
   "execution_count": null,
   "id": "aa514f86-00e4-4184-907e-6b59cb14afa5",
   "metadata": {},
   "outputs": [],
   "source": [
    "vfeatures_importance.append('isFraud')"
   ]
  },
  {
   "cell_type": "code",
   "execution_count": null,
   "id": "d008af6d-8bf3-4ba8-890b-9a1f189c769e",
   "metadata": {},
   "outputs": [],
   "source": [
    "len(vfeatures_importance)"
   ]
  },
  {
   "cell_type": "code",
   "execution_count": null,
   "id": "db969697-a4fa-4a45-b43d-7abb025a09ec",
   "metadata": {},
   "outputs": [],
   "source": [
    "v_train = train_df[:412785]\n",
    "v_cv = train_df[412785:]"
   ]
  },
  {
   "cell_type": "code",
   "execution_count": null,
   "id": "7b49895d-2b23-4e32-9a8f-7371be0ec4e8",
   "metadata": {},
   "outputs": [],
   "source": [
    "v_train = v_train[vfeatures_importance]\n",
    "v_cv = v_cv[vfeatures_importance]"
   ]
  },
  {
   "cell_type": "code",
   "execution_count": null,
   "id": "14234468-06f5-44a0-9774-0b282d89709e",
   "metadata": {},
   "outputs": [],
   "source": [
    "v_train_x  = v_train.drop(['isFraud'],axis=1)\n",
    "v_train_y = v_train['isFraud']\n",
    "v_cv_x = v_cv.drop(['isFraud'],axis=1)\n",
    "v_cv_y = v_cv['isFraud']"
   ]
  },
  {
   "cell_type": "code",
   "execution_count": null,
   "id": "b3159202-d67a-415e-a556-72030306f39b",
   "metadata": {},
   "outputs": [],
   "source": [
    "v_train_x.fillna(v_train_x.mean(),inplace=True)\n",
    "v_cv_x.fillna(v_cv_x.mean(),inplace=True)"
   ]
  },
  {
   "cell_type": "code",
   "execution_count": null,
   "id": "a0d1266b-4671-4b66-a2ee-6f1f7468bbb2",
   "metadata": {},
   "outputs": [],
   "source": [
    "rf = LGBMClassifier()\n",
    "rf.fit(v_train_x,v_train_y)\n",
    "predict_y_=rf.predict_proba(v_train_x)\n",
    "predict_y = rf.predict_proba(v_cv_x)\n",
    "print('train auc:',roc_auc_score(v_train_y,predict_y_[:,1]))\n",
    "print('cv auc:',roc_auc_score(v_cv_y,predict_y[:,1]))"
   ]
  },
  {
   "cell_type": "code",
   "execution_count": null,
   "id": "e230b4a2-e90b-4e1a-a6c8-3dc696b4f712",
   "metadata": {},
   "outputs": [],
   "source": [
    "g = rf.feature_importances_\n",
    "j=1\n",
    "vremove=[]\n",
    "for i in g:\n",
    "    if i<10:\n",
    "        vremove.append('V'+str(j))\n",
    "    j+=1"
   ]
  },
  {
   "cell_type": "code",
   "execution_count": null,
   "id": "37fd60c8-4c29-437b-8d4f-2251e78a32ea",
   "metadata": {},
   "outputs": [],
   "source": [
    "for i in vremove:\n",
    "    vfeatures_importance.remove(i)\n",
    "    print('removed:',i)"
   ]
  },
  {
   "cell_type": "code",
   "execution_count": null,
   "id": "49a2d346-3a4b-46ce-ab4e-55704e79267e",
   "metadata": {},
   "outputs": [],
   "source": [
    "drop_list_vfeatures = [col for col in vremove if col in  drop_list_vfeatures] "
   ]
  },
  {
   "cell_type": "markdown",
   "id": "e064100b-f6a6-4bc9-8dcc-b528909a8226",
   "metadata": {},
   "source": [
    "*** 以上代码来源： https://www.kaggle.com/code/omerparlak/2-correlation-analysis-and-feature-importance#V-Variables-with-Low-Effect-by-Feature-Importance   ***"
   ]
  },
  {
   "cell_type": "code",
   "execution_count": null,
   "id": "68238a5a-0855-4891-a90f-204ca6fe91da",
   "metadata": {},
   "outputs": [],
   "source": []
  }
 ],
 "metadata": {
  "kernelspec": {
   "display_name": "Python 3",
   "language": "python",
   "name": "python3"
  },
  "language_info": {
   "codemirror_mode": {
    "name": "ipython",
    "version": 3
   },
   "file_extension": ".py",
   "mimetype": "text/x-python",
   "name": "python",
   "nbconvert_exporter": "python",
   "pygments_lexer": "ipython3",
   "version": "3.8.8"
  }
 },
 "nbformat": 4,
 "nbformat_minor": 5
}
