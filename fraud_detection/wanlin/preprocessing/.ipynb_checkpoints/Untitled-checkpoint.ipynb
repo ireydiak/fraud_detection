{
 "cells": [
  {
   "cell_type": "code",
   "execution_count": null,
   "id": "1c12e044-1379-4c18-8595-68880ad0c8d9",
   "metadata": {},
   "outputs": [],
   "source": [
    "[\n",
    " \n",
    " \n",
    "\n",
    "    \n",
    "    \n",
    " 'V117', 'V118', 'V119', 'V120', 'V121', 'V122', 'V123', 'V124', 'V125', 'V126', 'V127', 'V128', 'V129', 'V131', 'V132', 'V133', 'V134', 'V135', 'V136', 'V137', 'V167', \n",
    " 'V168', 'V169', 'V170', 'V171', 'V173', 'V174', 'V176', 'V177', 'V178', 'V179', 'V181', 'V182', 'V183', 'V184', 'V185', 'V186', 'V188', 'V189', 'V190', 'V191', 'V193', 'V194', \n",
    " 'V196', 'V199', 'V200', 'V201', 'V202', 'V203', 'V204', 'V206', 'V207', 'V208', 'V209', 'V211', 'V212', 'V213', 'V214', 'V216', 'V217', 'V218', 'V219', 'V220', 'V221', 'V222', \n",
    " 'V223', 'V224', 'V225', 'V226', 'V227', 'V228', 'V229', 'V230', 'V231', 'V232', 'V233', 'V234', 'V236', 'V237', 'V238', 'V239', 'V240', 'V241', 'V242', 'V243', 'V244', 'V245', \n",
    " 'V246', 'V247', 'V248', 'V249', 'V250', 'V251', 'V252', 'V253', 'V254', 'V255', 'V256', 'V257', 'V258', 'V259', 'V260', 'V261', 'V262', 'V263', 'V264', 'V265', 'V267', 'V268', 'V269', \n",
    " 'V270', 'V271', 'V272', 'V273', 'V274', 'V275', 'V276', 'V277', 'V278', 'V279', 'V280', 'V281', 'V282', 'V283', 'V284', 'V285', 'V287', 'V288', 'V289', 'V290', 'V291', 'V292', 'V293', \n",
    " 'V295', 'V296', 'V297', 'V298', 'V299', 'V300', 'V301', 'V302', 'V303', 'V304', 'V306', 'V307', 'V308', 'V309', 'V311', 'V312', 'V313', 'V314', 'V315', 'V316', 'V317', 'V318', 'V319', 'V320', \n",
    " 'V321', 'V322', \n",
    " 'id_01', 'id_02', 'id_03', 'id_04', 'id_05', 'id_06', 'id_07', 'id_08', 'id_09', 'id_10', 'id_11', 'id_13', 'id_14', 'id_17', 'id_18', 'id_19', 'id_20', 'id_21', 'id_22', 'id_24', 'id_25', 'id_26', 'id_32', \n",
    " 'TransactionDT', 'Trans_hours', 'ProductCD', 'card6', 'P_emaildomain', 'R_emaildomain', \n",
    " 'M1', 'M2', 'M3', 'M4', 'M6', 'M7', 'M8', 'M9', \n",
    " 'id_12', 'id_15', 'id_16', 'id_23', 'id_28', 'id_29', 'id_30', 'id_31', 'id_34', 'id_35', 'id_36', 'id_37', 'id_38', \n",
    " 'DeviceType', 'DeviceInfo']"
   ]
  },
  {
   "cell_type": "code",
   "execution_count": null,
   "id": "5e8d98e8-05fd-470b-847d-edf7521542ee",
   "metadata": {},
   "outputs": [],
   "source": []
  },
  {
   "cell_type": "code",
   "execution_count": null,
   "id": "45994fd1-b258-4ff7-bae6-89b3242cc544",
   "metadata": {},
   "outputs": [],
   "source": [
    "droplist= ['C5', 'C7', 'C8','C10', 'C11', 'C12', 'C13', 'C14','D15','V3','V5','V9','V11','V13', 'V16', 'V17', 'V18', \n",
    " 'V21', 'V22', 'V24', 'V28','V30','V32', 'V33', 'V34', 'V36','V38','V40','V43', 'V8', 'V29','V15', 'V35','V39','V42', 'V69','V48', 'V49', 'V50', 'V51','V57', 'V58', 'V59', 'V60', 'V63', 'V64',\n",
    "   'V67',  'V53', 'V54', 'V56',  'V68',  'V70',  'V45', 'V71', 'V72', 'V73', 'V74', 'V76','V79',  'V90', 'V91','V84', 'V85','V92', 'V93',  'V86', 'V87', 'V89','V52','V78','V47', 'V96', 'V97', 'V99', 'V101', 'V102', 'V103', 'V104', 'V105',\n",
    "           'V109', 'V110','V75', 'V94', 'V106',\n",
    "          ]"
   ]
  },
  {
   "cell_type": "code",
   "execution_count": null,
   "id": "a97a1bef-8d53-458d-a04a-63bc9c0c546f",
   "metadata": {},
   "outputs": [],
   "source": []
  },
  {
   "cell_type": "code",
   "execution_count": null,
   "id": "e6fa06e0-d0ca-4698-afcf-c003d7a25ca9",
   "metadata": {},
   "outputs": [],
   "source": []
  },
  {
   "cell_type": "code",
   "execution_count": null,
   "id": "10fafa28-092d-4526-a2f6-1215e265e7ba",
   "metadata": {},
   "outputs": [],
   "source": []
  },
  {
   "cell_type": "code",
   "execution_count": null,
   "id": "6581cb9d-d22c-4869-853e-727b9682e186",
   "metadata": {},
   "outputs": [],
   "source": []
  }
 ],
 "metadata": {
  "kernelspec": {
   "display_name": "Python 3",
   "language": "python",
   "name": "python3"
  },
  "language_info": {
   "codemirror_mode": {
    "name": "ipython",
    "version": 3
   },
   "file_extension": ".py",
   "mimetype": "text/x-python",
   "name": "python",
   "nbconvert_exporter": "python",
   "pygments_lexer": "ipython3",
   "version": "3.8.8"
  }
 },
 "nbformat": 4,
 "nbformat_minor": 5
}
