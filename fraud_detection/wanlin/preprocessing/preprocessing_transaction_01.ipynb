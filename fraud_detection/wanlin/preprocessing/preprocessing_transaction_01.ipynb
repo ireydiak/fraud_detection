{
 "cells": [
  {
   "cell_type": "code",
   "execution_count": 32,
   "id": "52a89afa",
   "metadata": {},
   "outputs": [],
   "source": [
    "%matplotlib notebook\n",
    "import numpy as np # linear algebra\n",
    "import pandas as pd # data processing\n",
    "import seaborn as sns  # data visualization library  \n",
    "import matplotlib.pyplot as plt"
   ]
  },
  {
   "cell_type": "code",
   "execution_count": 84,
   "id": "bae22b86",
   "metadata": {},
   "outputs": [
    {
     "data": {
      "text/html": [
       "<div>\n",
       "<style scoped>\n",
       "    .dataframe tbody tr th:only-of-type {\n",
       "        vertical-align: middle;\n",
       "    }\n",
       "\n",
       "    .dataframe tbody tr th {\n",
       "        vertical-align: top;\n",
       "    }\n",
       "\n",
       "    .dataframe thead th {\n",
       "        text-align: right;\n",
       "    }\n",
       "</style>\n",
       "<table border=\"1\" class=\"dataframe\">\n",
       "  <thead>\n",
       "    <tr style=\"text-align: right;\">\n",
       "      <th></th>\n",
       "      <th>TransactionID</th>\n",
       "      <th>isFraud</th>\n",
       "      <th>TransactionDT</th>\n",
       "      <th>TransactionAmt</th>\n",
       "      <th>ProductCD</th>\n",
       "      <th>card1</th>\n",
       "      <th>card2</th>\n",
       "      <th>card3</th>\n",
       "      <th>card4</th>\n",
       "      <th>card5</th>\n",
       "      <th>...</th>\n",
       "      <th>V330</th>\n",
       "      <th>V331</th>\n",
       "      <th>V332</th>\n",
       "      <th>V333</th>\n",
       "      <th>V334</th>\n",
       "      <th>V335</th>\n",
       "      <th>V336</th>\n",
       "      <th>V337</th>\n",
       "      <th>V338</th>\n",
       "      <th>V339</th>\n",
       "    </tr>\n",
       "  </thead>\n",
       "  <tbody>\n",
       "    <tr>\n",
       "      <th>0</th>\n",
       "      <td>2987000</td>\n",
       "      <td>0</td>\n",
       "      <td>86400</td>\n",
       "      <td>68.5</td>\n",
       "      <td>W</td>\n",
       "      <td>13926</td>\n",
       "      <td>NaN</td>\n",
       "      <td>150.0</td>\n",
       "      <td>discover</td>\n",
       "      <td>142.0</td>\n",
       "      <td>...</td>\n",
       "      <td>NaN</td>\n",
       "      <td>NaN</td>\n",
       "      <td>NaN</td>\n",
       "      <td>NaN</td>\n",
       "      <td>NaN</td>\n",
       "      <td>NaN</td>\n",
       "      <td>NaN</td>\n",
       "      <td>NaN</td>\n",
       "      <td>NaN</td>\n",
       "      <td>NaN</td>\n",
       "    </tr>\n",
       "    <tr>\n",
       "      <th>1</th>\n",
       "      <td>2987001</td>\n",
       "      <td>0</td>\n",
       "      <td>86401</td>\n",
       "      <td>29.0</td>\n",
       "      <td>W</td>\n",
       "      <td>2755</td>\n",
       "      <td>404.0</td>\n",
       "      <td>150.0</td>\n",
       "      <td>mastercard</td>\n",
       "      <td>102.0</td>\n",
       "      <td>...</td>\n",
       "      <td>NaN</td>\n",
       "      <td>NaN</td>\n",
       "      <td>NaN</td>\n",
       "      <td>NaN</td>\n",
       "      <td>NaN</td>\n",
       "      <td>NaN</td>\n",
       "      <td>NaN</td>\n",
       "      <td>NaN</td>\n",
       "      <td>NaN</td>\n",
       "      <td>NaN</td>\n",
       "    </tr>\n",
       "    <tr>\n",
       "      <th>2</th>\n",
       "      <td>2987002</td>\n",
       "      <td>0</td>\n",
       "      <td>86469</td>\n",
       "      <td>59.0</td>\n",
       "      <td>W</td>\n",
       "      <td>4663</td>\n",
       "      <td>490.0</td>\n",
       "      <td>150.0</td>\n",
       "      <td>visa</td>\n",
       "      <td>166.0</td>\n",
       "      <td>...</td>\n",
       "      <td>NaN</td>\n",
       "      <td>NaN</td>\n",
       "      <td>NaN</td>\n",
       "      <td>NaN</td>\n",
       "      <td>NaN</td>\n",
       "      <td>NaN</td>\n",
       "      <td>NaN</td>\n",
       "      <td>NaN</td>\n",
       "      <td>NaN</td>\n",
       "      <td>NaN</td>\n",
       "    </tr>\n",
       "    <tr>\n",
       "      <th>3</th>\n",
       "      <td>2987003</td>\n",
       "      <td>0</td>\n",
       "      <td>86499</td>\n",
       "      <td>50.0</td>\n",
       "      <td>W</td>\n",
       "      <td>18132</td>\n",
       "      <td>567.0</td>\n",
       "      <td>150.0</td>\n",
       "      <td>mastercard</td>\n",
       "      <td>117.0</td>\n",
       "      <td>...</td>\n",
       "      <td>NaN</td>\n",
       "      <td>NaN</td>\n",
       "      <td>NaN</td>\n",
       "      <td>NaN</td>\n",
       "      <td>NaN</td>\n",
       "      <td>NaN</td>\n",
       "      <td>NaN</td>\n",
       "      <td>NaN</td>\n",
       "      <td>NaN</td>\n",
       "      <td>NaN</td>\n",
       "    </tr>\n",
       "    <tr>\n",
       "      <th>4</th>\n",
       "      <td>2987004</td>\n",
       "      <td>0</td>\n",
       "      <td>86506</td>\n",
       "      <td>50.0</td>\n",
       "      <td>H</td>\n",
       "      <td>4497</td>\n",
       "      <td>514.0</td>\n",
       "      <td>150.0</td>\n",
       "      <td>mastercard</td>\n",
       "      <td>102.0</td>\n",
       "      <td>...</td>\n",
       "      <td>0.0</td>\n",
       "      <td>0.0</td>\n",
       "      <td>0.0</td>\n",
       "      <td>0.0</td>\n",
       "      <td>0.0</td>\n",
       "      <td>0.0</td>\n",
       "      <td>0.0</td>\n",
       "      <td>0.0</td>\n",
       "      <td>0.0</td>\n",
       "      <td>0.0</td>\n",
       "    </tr>\n",
       "  </tbody>\n",
       "</table>\n",
       "<p>5 rows × 394 columns</p>\n",
       "</div>"
      ],
      "text/plain": [
       "   TransactionID  isFraud  TransactionDT  TransactionAmt ProductCD  card1  \\\n",
       "0        2987000        0          86400            68.5         W  13926   \n",
       "1        2987001        0          86401            29.0         W   2755   \n",
       "2        2987002        0          86469            59.0         W   4663   \n",
       "3        2987003        0          86499            50.0         W  18132   \n",
       "4        2987004        0          86506            50.0         H   4497   \n",
       "\n",
       "   card2  card3       card4  card5  ... V330  V331  V332  V333  V334 V335  \\\n",
       "0    NaN  150.0    discover  142.0  ...  NaN   NaN   NaN   NaN   NaN  NaN   \n",
       "1  404.0  150.0  mastercard  102.0  ...  NaN   NaN   NaN   NaN   NaN  NaN   \n",
       "2  490.0  150.0        visa  166.0  ...  NaN   NaN   NaN   NaN   NaN  NaN   \n",
       "3  567.0  150.0  mastercard  117.0  ...  NaN   NaN   NaN   NaN   NaN  NaN   \n",
       "4  514.0  150.0  mastercard  102.0  ...  0.0   0.0   0.0   0.0   0.0  0.0   \n",
       "\n",
       "  V336  V337  V338  V339  \n",
       "0  NaN   NaN   NaN   NaN  \n",
       "1  NaN   NaN   NaN   NaN  \n",
       "2  NaN   NaN   NaN   NaN  \n",
       "3  NaN   NaN   NaN   NaN  \n",
       "4  0.0   0.0   0.0   0.0  \n",
       "\n",
       "[5 rows x 394 columns]"
      ]
     },
     "execution_count": 84,
     "metadata": {},
     "output_type": "execute_result"
    }
   ],
   "source": [
    "df_transaction_train = pd.read_csv(\"train_transaction.csv\")\n",
    "df_transaction_train.head()"
   ]
  },
  {
   "cell_type": "code",
   "execution_count": 85,
   "id": "44663c8a",
   "metadata": {},
   "outputs": [
    {
     "data": {
      "text/plain": [
       "(590540, 394)"
      ]
     },
     "execution_count": 85,
     "metadata": {},
     "output_type": "execute_result"
    }
   ],
   "source": [
    "df_transaction_train.shape"
   ]
  },
  {
   "cell_type": "markdown",
   "id": "6238a12d",
   "metadata": {},
   "source": [
    "## Drop the columns with 85% or more null values"
   ]
  },
  {
   "cell_type": "code",
   "execution_count": 86,
   "id": "b3dba529",
   "metadata": {},
   "outputs": [
    {
     "data": {
      "text/plain": [
       "(590540, 394)"
      ]
     },
     "execution_count": 86,
     "metadata": {},
     "output_type": "execute_result"
    }
   ],
   "source": [
    "data = df_transaction_train.copy()\n",
    "data.shape"
   ]
  },
  {
   "cell_type": "code",
   "execution_count": 41,
   "id": "8dbc81f1",
   "metadata": {},
   "outputs": [
    {
     "name": "stdout",
     "output_type": "stream",
     "text": [
      "['D6', 'D7', 'D8', 'D9', 'D12', 'D13', 'D14']\n"
     ]
    }
   ],
   "source": [
    "list_drop_89 = []\n",
    "for i in list(range(6,10)):\n",
    "    add =\"D\" + str(i)\n",
    "    #print(add)\n",
    "    list_drop_89.append(add)\n",
    "for i in list(range(12,15)):\n",
    "    add =\"D\" + str(i)\n",
    "    #print(add)\n",
    "    list_drop_89.append(add)\n",
    "print(list_drop_89)"
   ]
  },
  {
   "cell_type": "code",
   "execution_count": 36,
   "id": "7838ba51",
   "metadata": {},
   "outputs": [
    {
     "name": "stdout",
     "output_type": "stream",
     "text": [
      "['V138', 'V139', 'V140', 'V141', 'V142', 'V143', 'V144', 'V145', 'V146', 'V147', 'V148', 'V149', 'V150', 'V151', 'V152', 'V153', 'V154', 'V155', 'V156', 'V157', 'V158', 'V159', 'V160', 'V161', 'V162', 'V163', 'V164', 'V165', 'V166']\n"
     ]
    }
   ],
   "source": [
    "list_drop_86 = []\n",
    "for i in list(range(138,167)):\n",
    "    add =\"V\" + str(i) \n",
    "    #print(add)\n",
    "    list_drop_86.append(add)\n",
    "print(list_drop_86)"
   ]
  },
  {
   "cell_type": "code",
   "execution_count": 37,
   "id": "debf3c18",
   "metadata": {},
   "outputs": [
    {
     "name": "stdout",
     "output_type": "stream",
     "text": [
      "['V323', 'V324', 'V325', 'V326', 'V327', 'V328', 'V329', 'V330', 'V331', 'V332', 'V333', 'V334', 'V335', 'V336', 'V337', 'V338', 'V339']\n"
     ]
    }
   ],
   "source": [
    "list_drop_85 = []\n",
    "for i in list(range(323,340)):\n",
    "    add =\"V\" + str(i) \n",
    "    #print(add)\n",
    "    list_drop_85.append(add)\n",
    "print(list_drop_85)"
   ]
  },
  {
   "cell_type": "code",
   "execution_count": 87,
   "id": "ec1bfb49",
   "metadata": {},
   "outputs": [
    {
     "name": "stderr",
     "output_type": "stream",
     "text": [
      "<ipython-input-87-6ada9997ff9e>:1: FutureWarning: In a future version of pandas all arguments of DataFrame.drop except for the argument 'labels' will be keyword-only\n",
      "  data.drop(list_drop_89, 1,inplace = True)\n",
      "<ipython-input-87-6ada9997ff9e>:2: FutureWarning: In a future version of pandas all arguments of DataFrame.drop except for the argument 'labels' will be keyword-only\n",
      "  data.drop(list_drop_86, 1,inplace = True)\n",
      "<ipython-input-87-6ada9997ff9e>:3: FutureWarning: In a future version of pandas all arguments of DataFrame.drop except for the argument 'labels' will be keyword-only\n",
      "  data.drop(list_drop_85, 1,inplace = True)\n"
     ]
    }
   ],
   "source": [
    "data.drop(list_drop_89, 1,inplace = True)\n",
    "data.drop(list_drop_86, 1,inplace = True)\n",
    "data.drop(list_drop_85, 1,inplace = True)"
   ]
  },
  {
   "cell_type": "code",
   "execution_count": 88,
   "id": "96180161",
   "metadata": {},
   "outputs": [
    {
     "data": {
      "text/plain": [
       "(590540, 341)"
      ]
     },
     "execution_count": 88,
     "metadata": {},
     "output_type": "execute_result"
    }
   ],
   "source": [
    "data.shape"
   ]
  },
  {
   "cell_type": "markdown",
   "id": "88c6219a",
   "metadata": {},
   "source": [
    "## clean up the features based on their email domain (“P_emaildomain” and “R_emaildomain”)\n",
    "we need to clean up the features based on their email domain (“P_emaildomain” and “R_emaildomain”). Because some of the email domain will separate from the different countries. For example, “yahoo.co.jp”, “yahoo.de”, “yahoo.fr”. What we need here is just the information of email provider. So, all three records above will be converted to “yahoo”"
   ]
  },
  {
   "cell_type": "code",
   "execution_count": 103,
   "id": "d6a1751e",
   "metadata": {},
   "outputs": [
    {
     "data": {
      "text/plain": [
       "array(['Gmail', 'Hotmail', 'Live', 'Netzero', 'Outlook', 'Yahoo',\n",
       "       'aim.com', 'anonymous.com', 'aol.com', 'att.net', 'bellsouth.net',\n",
       "       'cableone.net', 'centurylink.net', 'cfl.rr.com', 'charter.net',\n",
       "       'comcast.net', 'cox.net', 'earthlink.net', 'embarqmail.com',\n",
       "       'frontier.com', 'frontiernet.net', 'gmx.de', 'icloud.com',\n",
       "       'juno.com', 'mac.com', 'mail.com', 'me.com', 'msn.com',\n",
       "       'optonline.net', 'prodigy.net.mx', 'protonmail.com', 'ptd.net',\n",
       "       'q.com', 'roadrunner.com', 'rocketmail.com', 'sbcglobal.net',\n",
       "       'sc.rr.com', 'servicios-ta.com', 'suddenlink.net', 'twc.com',\n",
       "       'verizon.net', 'web.de', 'windstream.net'], dtype=object)"
      ]
     },
     "execution_count": 103,
     "metadata": {},
     "output_type": "execute_result"
    }
   ],
   "source": [
    "p = data['P_emaildomain'].unique()\n",
    "p_new = np.delete(p,0,0)\n",
    "p_new.sort()\n",
    "p_new"
   ]
  },
  {
   "cell_type": "code",
   "execution_count": 106,
   "id": "92150823",
   "metadata": {},
   "outputs": [
    {
     "data": {
      "text/plain": [
       "43"
      ]
     },
     "execution_count": 106,
     "metadata": {},
     "output_type": "execute_result"
    }
   ],
   "source": [
    "p_new.size"
   ]
  },
  {
   "cell_type": "code",
   "execution_count": 105,
   "id": "b8f44713",
   "metadata": {},
   "outputs": [
    {
     "data": {
      "text/plain": [
       "array([nan, 'Gmail', 'Outlook', 'Yahoo', 'mail.com', 'anonymous.com',\n",
       "       'Hotmail', 'verizon.net', 'aol.com', 'me.com', 'comcast.net',\n",
       "       'optonline.net', 'cox.net', 'charter.net', 'rocketmail.com',\n",
       "       'prodigy.net.mx', 'embarqmail.com', 'icloud.com', 'Live',\n",
       "       'att.net', 'juno.com', 'sbcglobal.net', 'bellsouth.net', 'msn.com',\n",
       "       'q.com', 'centurylink.net', 'servicios-ta.com', 'earthlink.net',\n",
       "       'cfl.rr.com', 'roadrunner.com', 'Netzero', 'gmx.de',\n",
       "       'suddenlink.net', 'frontiernet.net', 'windstream.net',\n",
       "       'frontier.com', 'mac.com', 'aim.com', 'web.de', 'twc.com',\n",
       "       'cableone.net', 'sc.rr.com', 'ptd.net', 'protonmail.com'],\n",
       "      dtype=object)"
      ]
     },
     "execution_count": 105,
     "metadata": {},
     "output_type": "execute_result"
    }
   ],
   "source": [
    "data['P_emaildomain'].unique()"
   ]
  },
  {
   "cell_type": "code",
   "execution_count": 91,
   "id": "fd7eb41e",
   "metadata": {},
   "outputs": [],
   "source": [
    "data.loc[data['P_emaildomain'].isin(['yahoo.co.jp','yahoo.co.uk', 'yahoo.com', 'yahoo.com.mx', 'yahoo.de', 'yahoo.es',\n",
    "       'yahoo.fr', 'ymail.com']),'P_emaildomain'] = \"Yahoo\""
   ]
  },
  {
   "cell_type": "code",
   "execution_count": 92,
   "id": "9c13e399",
   "metadata": {},
   "outputs": [],
   "source": [
    "data.loc[data['P_emaildomain'].isin(['gmail','gmail.com']),'P_emaildomain'] = \"Gmail\""
   ]
  },
  {
   "cell_type": "code",
   "execution_count": 93,
   "id": "7a858100",
   "metadata": {},
   "outputs": [],
   "source": [
    "data.loc[data['P_emaildomain'].isin(['hotmail.co.uk','hotmail.com','hotmail.de', 'hotmail.es', 'hotmail.fr']),'P_emaildomain'] = \"Hotmail\""
   ]
  },
  {
   "cell_type": "code",
   "execution_count": 94,
   "id": "57039231",
   "metadata": {},
   "outputs": [],
   "source": [
    "data.loc[data['P_emaildomain'].isin(['live.com', 'live.com.mx', 'live.fr']),'P_emaildomain'] = \"Live\""
   ]
  },
  {
   "cell_type": "code",
   "execution_count": 95,
   "id": "0a07cd99",
   "metadata": {},
   "outputs": [],
   "source": [
    "data.loc[data['P_emaildomain'].isin(['outlook.com', 'outlook.es']),'P_emaildomain'] = \"Outlook\""
   ]
  },
  {
   "cell_type": "code",
   "execution_count": 97,
   "id": "e11707f9",
   "metadata": {},
   "outputs": [],
   "source": [
    "data.loc[data['P_emaildomain'].isin(['netzero.com', 'netzero.net']),'P_emaildomain'] = \"Netzero\""
   ]
  },
  {
   "cell_type": "code",
   "execution_count": 117,
   "id": "79e81c9b",
   "metadata": {},
   "outputs": [
    {
     "data": {
      "text/plain": [
       "array([nan, 'Gmail', 'Hotmail', 'Outlook', 'anonymous.com', 'charter.net',\n",
       "       'prodigy.net.mx', 'comcast.net', 'Live', 'icloud.com', 'Yahoo',\n",
       "       'aol.com', 'juno.com', 'att.net', 'verizon.net', 'bellsouth.net',\n",
       "       'servicios-ta.com', 'msn.com', 'optonline.net', 'gmx.de',\n",
       "       'aim.com', 'mail.com', 'me.com', 'cox.net', 'earthlink.net',\n",
       "       'embarqmail.com', 'web.de', 'sbcglobal.net', 'scranton.edu',\n",
       "       'mac.com', 'twc.com', 'roadrunner.com', 'frontiernet.net', 'q.com',\n",
       "       'windstream.net', 'suddenlink.net', 'ptd.net', 'frontier.com',\n",
       "       'cfl.rr.com', 'Netzero', 'rocketmail.com', 'centurylink.net',\n",
       "       'protonmail.com', 'cableone.net', 'sc.rr.com'], dtype=object)"
      ]
     },
     "execution_count": 117,
     "metadata": {},
     "output_type": "execute_result"
    }
   ],
   "source": [
    "data['R_emaildomain'].unique()"
   ]
  },
  {
   "cell_type": "code",
   "execution_count": 118,
   "id": "eb64a6de",
   "metadata": {},
   "outputs": [
    {
     "data": {
      "text/plain": [
       "array(['Gmail', 'Hotmail', 'Live', 'Netzero', 'Outlook', 'Yahoo',\n",
       "       'aim.com', 'anonymous.com', 'aol.com', 'att.net', 'bellsouth.net',\n",
       "       'cableone.net', 'centurylink.net', 'cfl.rr.com', 'charter.net',\n",
       "       'comcast.net', 'cox.net', 'earthlink.net', 'embarqmail.com',\n",
       "       'frontier.com', 'frontiernet.net', 'gmx.de', 'icloud.com',\n",
       "       'juno.com', 'mac.com', 'mail.com', 'me.com', 'msn.com',\n",
       "       'optonline.net', 'prodigy.net.mx', 'protonmail.com', 'ptd.net',\n",
       "       'q.com', 'roadrunner.com', 'rocketmail.com', 'sbcglobal.net',\n",
       "       'sc.rr.com', 'scranton.edu', 'servicios-ta.com', 'suddenlink.net',\n",
       "       'twc.com', 'verizon.net', 'web.de', 'windstream.net'], dtype=object)"
      ]
     },
     "execution_count": 118,
     "metadata": {},
     "output_type": "execute_result"
    }
   ],
   "source": [
    "R = data['R_emaildomain'].unique()\n",
    "R_new = np.delete(R,0,0)\n",
    "R_new.sort()\n",
    "R_new"
   ]
  },
  {
   "cell_type": "code",
   "execution_count": 109,
   "id": "1cc970b4",
   "metadata": {},
   "outputs": [],
   "source": [
    "data.loc[data['R_emaildomain'].isin(['yahoo.co.jp','yahoo.co.uk', 'yahoo.com', 'yahoo.com.mx', 'yahoo.de', 'yahoo.es',\n",
    "       'yahoo.fr', 'ymail.com']),'R_emaildomain'] = \"Yahoo\""
   ]
  },
  {
   "cell_type": "code",
   "execution_count": 110,
   "id": "0605a631",
   "metadata": {},
   "outputs": [],
   "source": [
    "data.loc[data['R_emaildomain'].isin(['gmail','gmail.com']),'R_emaildomain'] = \"Gmail\""
   ]
  },
  {
   "cell_type": "code",
   "execution_count": 111,
   "id": "dd3bd2c5",
   "metadata": {},
   "outputs": [],
   "source": [
    "data.loc[data['R_emaildomain'].isin(['hotmail.co.uk','hotmail.com','hotmail.de', 'hotmail.es', 'hotmail.fr']),'R_emaildomain'] = \"Hotmail\""
   ]
  },
  {
   "cell_type": "code",
   "execution_count": 112,
   "id": "e9619d3a",
   "metadata": {},
   "outputs": [],
   "source": [
    "data.loc[data['R_emaildomain'].isin(['live.com', 'live.com.mx', 'live.fr']),'R_emaildomain'] = \"Live\""
   ]
  },
  {
   "cell_type": "code",
   "execution_count": 113,
   "id": "b6862cc5",
   "metadata": {},
   "outputs": [],
   "source": [
    "data.loc[data['R_emaildomain'].isin(['outlook.com', 'outlook.es']),'R_emaildomain'] = \"Outlook\""
   ]
  },
  {
   "cell_type": "code",
   "execution_count": 114,
   "id": "dbc0863c",
   "metadata": {},
   "outputs": [],
   "source": [
    "data.loc[data['R_emaildomain'].isin(['netzero.com', 'netzero.net']),'R_emaildomain'] = \"Netzero\""
   ]
  },
  {
   "cell_type": "code",
   "execution_count": null,
   "id": "9ddb4ff0",
   "metadata": {},
   "outputs": [],
   "source": []
  }
 ],
 "metadata": {
  "kernelspec": {
   "display_name": "Python 3",
   "language": "python",
   "name": "python3"
  },
  "language_info": {
   "codemirror_mode": {
    "name": "ipython",
    "version": 3
   },
   "file_extension": ".py",
   "mimetype": "text/x-python",
   "name": "python",
   "nbconvert_exporter": "python",
   "pygments_lexer": "ipython3",
   "version": "3.8.8"
  }
 },
 "nbformat": 4,
 "nbformat_minor": 5
}
