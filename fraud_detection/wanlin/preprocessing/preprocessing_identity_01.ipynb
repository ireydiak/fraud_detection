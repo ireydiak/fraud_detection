{
 "cells": [
  {
   "cell_type": "code",
   "execution_count": 1,
   "id": "befe5520",
   "metadata": {},
   "outputs": [],
   "source": [
    "%matplotlib notebook\n",
    "import numpy as np # linear algebra\n",
    "import pandas as pd # data processing\n",
    "import seaborn as sns  # data visualization library  \n",
    "import matplotlib.pyplot as plt"
   ]
  },
  {
   "cell_type": "code",
   "execution_count": 2,
   "id": "2e4db51b",
   "metadata": {},
   "outputs": [
    {
     "data": {
      "text/html": [
       "<div>\n",
       "<style scoped>\n",
       "    .dataframe tbody tr th:only-of-type {\n",
       "        vertical-align: middle;\n",
       "    }\n",
       "\n",
       "    .dataframe tbody tr th {\n",
       "        vertical-align: top;\n",
       "    }\n",
       "\n",
       "    .dataframe thead th {\n",
       "        text-align: right;\n",
       "    }\n",
       "</style>\n",
       "<table border=\"1\" class=\"dataframe\">\n",
       "  <thead>\n",
       "    <tr style=\"text-align: right;\">\n",
       "      <th></th>\n",
       "      <th>TransactionID</th>\n",
       "      <th>id_01</th>\n",
       "      <th>id_02</th>\n",
       "      <th>id_03</th>\n",
       "      <th>id_04</th>\n",
       "      <th>id_05</th>\n",
       "      <th>id_06</th>\n",
       "      <th>id_07</th>\n",
       "      <th>id_08</th>\n",
       "      <th>id_09</th>\n",
       "      <th>...</th>\n",
       "      <th>id_31</th>\n",
       "      <th>id_32</th>\n",
       "      <th>id_33</th>\n",
       "      <th>id_34</th>\n",
       "      <th>id_35</th>\n",
       "      <th>id_36</th>\n",
       "      <th>id_37</th>\n",
       "      <th>id_38</th>\n",
       "      <th>DeviceType</th>\n",
       "      <th>DeviceInfo</th>\n",
       "    </tr>\n",
       "  </thead>\n",
       "  <tbody>\n",
       "    <tr>\n",
       "      <th>0</th>\n",
       "      <td>2987004</td>\n",
       "      <td>0.0</td>\n",
       "      <td>70787.0</td>\n",
       "      <td>NaN</td>\n",
       "      <td>NaN</td>\n",
       "      <td>NaN</td>\n",
       "      <td>NaN</td>\n",
       "      <td>NaN</td>\n",
       "      <td>NaN</td>\n",
       "      <td>NaN</td>\n",
       "      <td>...</td>\n",
       "      <td>samsung browser 6.2</td>\n",
       "      <td>32.0</td>\n",
       "      <td>2220x1080</td>\n",
       "      <td>match_status:2</td>\n",
       "      <td>T</td>\n",
       "      <td>F</td>\n",
       "      <td>T</td>\n",
       "      <td>T</td>\n",
       "      <td>mobile</td>\n",
       "      <td>SAMSUNG SM-G892A Build/NRD90M</td>\n",
       "    </tr>\n",
       "    <tr>\n",
       "      <th>1</th>\n",
       "      <td>2987008</td>\n",
       "      <td>-5.0</td>\n",
       "      <td>98945.0</td>\n",
       "      <td>NaN</td>\n",
       "      <td>NaN</td>\n",
       "      <td>0.0</td>\n",
       "      <td>-5.0</td>\n",
       "      <td>NaN</td>\n",
       "      <td>NaN</td>\n",
       "      <td>NaN</td>\n",
       "      <td>...</td>\n",
       "      <td>mobile safari 11.0</td>\n",
       "      <td>32.0</td>\n",
       "      <td>1334x750</td>\n",
       "      <td>match_status:1</td>\n",
       "      <td>T</td>\n",
       "      <td>F</td>\n",
       "      <td>F</td>\n",
       "      <td>T</td>\n",
       "      <td>mobile</td>\n",
       "      <td>iOS Device</td>\n",
       "    </tr>\n",
       "    <tr>\n",
       "      <th>2</th>\n",
       "      <td>2987010</td>\n",
       "      <td>-5.0</td>\n",
       "      <td>191631.0</td>\n",
       "      <td>0.0</td>\n",
       "      <td>0.0</td>\n",
       "      <td>0.0</td>\n",
       "      <td>0.0</td>\n",
       "      <td>NaN</td>\n",
       "      <td>NaN</td>\n",
       "      <td>0.0</td>\n",
       "      <td>...</td>\n",
       "      <td>chrome 62.0</td>\n",
       "      <td>NaN</td>\n",
       "      <td>NaN</td>\n",
       "      <td>NaN</td>\n",
       "      <td>F</td>\n",
       "      <td>F</td>\n",
       "      <td>T</td>\n",
       "      <td>T</td>\n",
       "      <td>desktop</td>\n",
       "      <td>Windows</td>\n",
       "    </tr>\n",
       "    <tr>\n",
       "      <th>3</th>\n",
       "      <td>2987011</td>\n",
       "      <td>-5.0</td>\n",
       "      <td>221832.0</td>\n",
       "      <td>NaN</td>\n",
       "      <td>NaN</td>\n",
       "      <td>0.0</td>\n",
       "      <td>-6.0</td>\n",
       "      <td>NaN</td>\n",
       "      <td>NaN</td>\n",
       "      <td>NaN</td>\n",
       "      <td>...</td>\n",
       "      <td>chrome 62.0</td>\n",
       "      <td>NaN</td>\n",
       "      <td>NaN</td>\n",
       "      <td>NaN</td>\n",
       "      <td>F</td>\n",
       "      <td>F</td>\n",
       "      <td>T</td>\n",
       "      <td>T</td>\n",
       "      <td>desktop</td>\n",
       "      <td>NaN</td>\n",
       "    </tr>\n",
       "    <tr>\n",
       "      <th>4</th>\n",
       "      <td>2987016</td>\n",
       "      <td>0.0</td>\n",
       "      <td>7460.0</td>\n",
       "      <td>0.0</td>\n",
       "      <td>0.0</td>\n",
       "      <td>1.0</td>\n",
       "      <td>0.0</td>\n",
       "      <td>NaN</td>\n",
       "      <td>NaN</td>\n",
       "      <td>0.0</td>\n",
       "      <td>...</td>\n",
       "      <td>chrome 62.0</td>\n",
       "      <td>24.0</td>\n",
       "      <td>1280x800</td>\n",
       "      <td>match_status:2</td>\n",
       "      <td>T</td>\n",
       "      <td>F</td>\n",
       "      <td>T</td>\n",
       "      <td>T</td>\n",
       "      <td>desktop</td>\n",
       "      <td>MacOS</td>\n",
       "    </tr>\n",
       "  </tbody>\n",
       "</table>\n",
       "<p>5 rows × 41 columns</p>\n",
       "</div>"
      ],
      "text/plain": [
       "   TransactionID  id_01     id_02  id_03  id_04  id_05  id_06  id_07  id_08  \\\n",
       "0        2987004    0.0   70787.0    NaN    NaN    NaN    NaN    NaN    NaN   \n",
       "1        2987008   -5.0   98945.0    NaN    NaN    0.0   -5.0    NaN    NaN   \n",
       "2        2987010   -5.0  191631.0    0.0    0.0    0.0    0.0    NaN    NaN   \n",
       "3        2987011   -5.0  221832.0    NaN    NaN    0.0   -6.0    NaN    NaN   \n",
       "4        2987016    0.0    7460.0    0.0    0.0    1.0    0.0    NaN    NaN   \n",
       "\n",
       "   id_09  ...                id_31  id_32      id_33           id_34  id_35  \\\n",
       "0    NaN  ...  samsung browser 6.2   32.0  2220x1080  match_status:2      T   \n",
       "1    NaN  ...   mobile safari 11.0   32.0   1334x750  match_status:1      T   \n",
       "2    0.0  ...          chrome 62.0    NaN        NaN             NaN      F   \n",
       "3    NaN  ...          chrome 62.0    NaN        NaN             NaN      F   \n",
       "4    0.0  ...          chrome 62.0   24.0   1280x800  match_status:2      T   \n",
       "\n",
       "  id_36 id_37  id_38  DeviceType                     DeviceInfo  \n",
       "0     F     T      T      mobile  SAMSUNG SM-G892A Build/NRD90M  \n",
       "1     F     F      T      mobile                     iOS Device  \n",
       "2     F     T      T     desktop                        Windows  \n",
       "3     F     T      T     desktop                            NaN  \n",
       "4     F     T      T     desktop                          MacOS  \n",
       "\n",
       "[5 rows x 41 columns]"
      ]
     },
     "execution_count": 2,
     "metadata": {},
     "output_type": "execute_result"
    }
   ],
   "source": [
    "df_identity_train = pd.read_csv(\"train_identity.csv\")\n",
    "df_identity_train.head()"
   ]
  },
  {
   "cell_type": "code",
   "execution_count": 3,
   "id": "4fbc1c14",
   "metadata": {},
   "outputs": [
    {
     "data": {
      "text/plain": [
       "(144233, 41)"
      ]
     },
     "execution_count": 3,
     "metadata": {},
     "output_type": "execute_result"
    }
   ],
   "source": [
    "df_identity_train.shape"
   ]
  },
  {
   "cell_type": "code",
   "execution_count": 175,
   "id": "4c448b60",
   "metadata": {},
   "outputs": [
    {
     "data": {
      "text/plain": [
       "(144233, 41)"
      ]
     },
     "execution_count": 175,
     "metadata": {},
     "output_type": "execute_result"
    }
   ],
   "source": [
    "data = df_identity_train.copy()\n",
    "data.shape"
   ]
  },
  {
   "cell_type": "markdown",
   "id": "1d0322bd",
   "metadata": {},
   "source": [
    "## clean up the features “DeviceInfo” and “id_30”\n",
    "The Category features “id_30”, and “DeviceInfo” record different versions of devices, such as Windows or IOS. For example, among the 75 devices recorded in “id_30”, we can find information like “Windows 10”, “Windows 7”, “iso 11.2.1”, “iso 11.1.2”, “iso 11.4.1”. However, the versions don’t split different users. What we needed is just the base of the operation system. What we can do for data processing is to transfer different versions of device’s record in to one record. The feature “id_31” records different versions of browsers, we need to do the same processing to make the record much cleaner. For example, the record “mobile safari 11.0” and “mobile safari generic” should be recorded as “safari” after processing (another feature “DeviceType” has recorded whether the brower is from mobile). "
   ]
  },
  {
   "cell_type": "code",
   "execution_count": 274,
   "id": "9fd1aa46",
   "metadata": {
    "scrolled": false
   },
   "outputs": [],
   "source": [
    "D = data['DeviceInfo'].unique()\n",
    "#print(list(D))"
   ]
  },
  {
   "cell_type": "code",
   "execution_count": 275,
   "id": "1f79ad0f",
   "metadata": {},
   "outputs": [
    {
     "data": {
      "text/plain": [
       "518"
      ]
     },
     "execution_count": 275,
     "metadata": {},
     "output_type": "execute_result"
    }
   ],
   "source": [
    "D.size"
   ]
  },
  {
   "cell_type": "code",
   "execution_count": 273,
   "id": "20cb6607",
   "metadata": {
    "scrolled": true
   },
   "outputs": [
    {
     "name": "stdout",
     "output_type": "stream",
     "text": [
      "['0PAJ5', '0PJA2', '0PM92', '1016S', '2PQ93', '2PS64 Build/NRD90M', '2PYB2', '2PZC5', '4003A', '4009F', '4013M Build/KOT49H', '4027A Build/KOT49H', '4034E', '4034G', '4047A Build/NRD90M', '4047G Build/NRD90M', '47418', '5010G Build/MRA58K', '5010S Build/MRA58K', '5011A Build/NRD90M', '5012G Build/MRA58K', '5015A Build/LMY47I', '5017A', '5025G Build/LMY47I', '5042A', '5044A', '5045I', '5049W Build/NRD90M', '5051A Build/MMB29M', '5054N', '5054S Build/LMY47V', '5056A Build/MMB29M', '5056N', '5057M', '5080A Build/MRA58K', '5085B Build/MRA58K', '5095I Build/MRA58K', '6037B', '6039A Build/LRX22G', '6045I Build/LRX22G', '6055B', '7048A Build/LRX22G', '7055A Build/KVT49L', '7_Plus', '8050G Build/LMY47I', '8062 Build/MRA58K', '8080 Build/LRX21M', '831C', '9002A', '9003A Build/MRA58K', '9008A Build/NRD90M', '9022X', '916', '9203A Build/MRA58K', 'A0001', 'A0001 Build/MHC19Q', 'A1-850', 'A1601 Build/LMY47I', 'A3-A20', 'A37f', 'A3_mini', 'A463BG', 'A466BG', 'A5002', 'A50C+', 'A574BL Build/NMF26F', 'A577VL', 'A621R', 'A9', 'A952', 'A96 Build/LMY47I', 'A97', 'AERIAL', 'AKUS', 'ALCATEL', 'ALTER', 'ALUMINI', 'AM508', 'ANE-LX3 Build/HUAWEIANE-LX3', 'AOC_U706G', 'ASTRO', 'ASUS', 'ASUS_A001', 'ASUS_P00J', 'ASUS_X008D Build/NRD90M', 'ASUS_X008DC Build/NRD90M', 'ASUS_X00DD', 'ASUS_X00DDA', 'ASUS_X00HD Build/NMF26F', 'ASUS_X00ID', 'ASUS_X015D Build/NRD90M', 'ASUS_X018D', 'ASUS_Z00AD Build/LRX21V', 'ASUS_Z00ED', 'ASUS_Z00UD', 'ASUS_Z017D', 'ASUS_Z017DA', 'ASUS_Z01BDA', 'ASUS_Z01BDC', 'ASUS_Z01KD', 'ATT', 'ATT-IE11', 'AX1060', 'AX1070', 'AX705', 'AX820 Build/MRA58K', 'AX821 Build/MRA58K', 'AX920', 'AX921 Build/MRA58K', 'Acer', 'Advance', 'Alcatel', 'Alumini', 'Android', 'Aquaris', 'Archos', 'Azumi_KINZO_A5_QL', 'B1-750', 'B1-790', 'B1-810', 'B3-A20', 'B3-A40', 'BBA100-1', 'BBA100-2', 'BBB100-1', 'BBB100-2', 'BBB100-3', 'BG2-W09', 'BLADE A520 Build/NRD90M', 'BLADE A602 Build/MRA58K', 'BLADE L7 Build/MRA58K', 'BLADE V7 Build/MRA58K', 'BLADE V8 Build/NRD90M', 'BLADE V8 SE Build/NRD90M', 'BLADE V8Q Build/N2G47H', 'BLU', 'BND-L34', 'BNTV400', 'BOIE9', 'BV6000', 'BV7000', 'BV8000Pro', 'Beat', 'Bolt', 'Build/KOT49H', 'Build/OPM1.171019.011', 'Build/OPR1.170623.032', 'Build/OPR6.170623.013', 'C1904', 'C2104', 'C6603', 'C6743 Build/LMY47V', 'C6903', 'C6906', 'C6906 Build/14.6.A.1.236', 'CAM-L23', 'CLT-L09', 'COVET Build/NRD90M', 'CPH1607', 'CPH1701', 'CPH1723', 'Coolpad', 'D2306', 'D2306 Build/18.6.A.0.182', 'D2406', 'D5106', 'D5306', 'D5306 Build/19.4.A.0.182', 'D5316', 'D5316 Build/19.4.A.0.182', 'D5503', 'D5803 Build/23.5.A.1.291', 'D6503', 'D6603', 'D6603 Build/23.5.A.1.291', 'D6708', 'DASH', 'DOMOS', 'DT0704K08', 'DUK-AL20', 'Dash', 'Dream', 'E2006', 'E2104', 'E2104 Build/24.0.A.5.14', 'E2303', 'E2306 Build/26.1.A.3.111', 'E2306 Build/26.3.A.1.33', 'E501', 'E5306', 'E5306 Build/27.3.A.0.129', 'E5306 Build/27.3.A.0.165', 'E5506', 'E5506 Build/29.1.A.0.101', 'E5506 Build/29.2.A.0.166', 'E5606', 'E5606 Build/30.2.A.1.21', 'E5803', 'E5803 Build/32.4.A.1.54', 'E5823', 'E5823 Build/32.4.A.1.54', 'E6553', 'E6603', 'E6603 Build/32.4.A.1.54', 'E6633', 'E6653 Build/32.4.A.1.54', 'E6683', 'E6790TM', 'E6810', 'E6810 Build/5.320VZ.03.r', 'E6833', 'E6853', 'E6853 Build/32.4.A.1.54', 'E8QP', 'EGO', 'Edison', 'Energy X 2 Build/E050L', 'F1f Build/LMY47V', 'F3111 Build/33.3.A.1.115', 'F3111 Build/33.3.A.1.97', 'F3113', 'F3113 Build/33.2.A.3.81', 'F3113 Build/33.2.A.4.70', 'F3113 Build/33.3.A.1.97', 'F3213', 'F3213 Build/36.0.A.2.146', 'F3213 Build/36.1.A.1.86', 'F3311', 'F3313', 'F3313 Build/37.0.A.2.108', 'F3313 Build/37.0.A.2.248', 'F5121', 'F5121 Build/34.3.A.0.228', 'F5121 Build/34.3.A.0.238', 'F5121 Build/34.3.A.0.252', 'F5121 Build/34.4.A.2.19', 'F5122', 'F5321', 'F5321 Build/34.2.A.2.47', 'F5321 Build/34.3.A.0.238', 'F80 PIABELLA Build/MRA58K', \"F80'S+\", 'F8131', 'F8331', 'F8331 Build/41.2.A.7.76', 'F8332', 'FEVER', 'FP2', 'FTJ152D', 'Fractal', 'Fusion5_u7', 'G25524K', 'G3123', 'G3123 Build/40.0.A.6.135', 'G3123 Build/40.0.A.6.175', 'G3123 Build/40.0.A.6.189', 'G3223', 'G3223 Build/42.0.A.4.101', 'G3223 Build/42.0.A.4.167', 'G3313', 'G3313 Build/43.0.A.5.79', 'G3313 Build/43.0.A.7.25', 'G3423', 'G527-U081', 'G620S-L03', 'G630-U251', 'G8141', 'G8141 Build/47.1.A.5.51', 'G8142', 'G8341', 'GRACE', 'GRANT', 'GT', 'Gigaset', 'Grand', 'Grand2c', 'Gravity Build/NRD90M', 'H1611', 'H3321', 'H550', 'HELIO', 'HIGHWAY', 'HP', 'HT0701A16', 'HT0703K16', 'HTC', 'HUAWEI', 'Helix', 'Hisense', 'Honor', 'ICON', 'ILIUM', 'IO', 'IOS', 'Ilium', 'Infinit', 'Infinix', 'Intel', 'Iris', 'Joy', 'K10', 'K88', 'K88 Build/MMB29M', 'K90U', 'K92', 'KFAPWI Build/KTU84M', 'KFASWI Build/LVY48F', 'KFAUWI Build/LVY48F', 'KFDOWI Build/LVY48F', 'KFFOWI Build/LVY48F', 'KFGIWI Build/LVY48F', 'KFJWI', 'KFMEWI', 'KFSAWI', 'KFSOWI', 'KFSUWI Build/LVY48F', 'KFTBWI Build/LVY48F', 'KFTHWI Build/KTU84M', 'KFTT Build/IML74K', 'KIW-L24', 'KYOCERA-C6742A Build/LMY47V', 'KYY22', 'Kylin', 'LAVA_A3', 'LDN-LX3 Build/HUAWEILDN-LX3', 'LEX829', 'LG', 'LIMIT', 'LM-X210(G', 'LOGIC', 'LS5', 'LT22i Build/6.2.A.1.100', 'LT30p', 'Le', 'Le X520 Build/IEXCNFN5902303111S', 'Lenovo', 'Linux', 'M10/Q1010', 'M4', 'M431', 'MAGNO', 'MALC', 'MAMI', 'MDDRJS', 'ME173X', 'ME301T', 'MHA-L09 Build/HUAWEIMHA-L09', 'MHA-L29 Build/HUAWEIMHA-L29', 'MI', 'MI MAX 2 Build/NMF26F', 'MOT-A6020l37 Build/LMY47V', 'MTT', 'MYA-L11', 'MYA-L23', 'MacOS', 'Max', 'Mi', 'Mi A1 Build/N2G47H', 'Mi A1 Build/OPR1.170623.026', 'Microsoft', 'Minion_Tab', 'Mobiistar_LAI_Yuna_X', 'Moto', 'Motorola', 'N817', 'N9136', 'N9560 Build/NMF26F', 'NEM-L51 Build/HONORNEM-L51', 'NOKIA', 'Neffos C5 Build/LMY47D', 'Neffos X1 Max Build/NRD90M', 'NetHelper70', 'Nextbook', 'Nexus', 'Nokia', 'Northwell', 'O1', 'ONE', 'ORION', 'Origins', 'P008 Build/NRD90M', 'P00A', 'P00C', 'P01M', 'P027', 'P4526A Build/NRD90M', 'P5006A', 'P5006A Build/NRD90M', 'P5026A', 'P5046A', 'P5526A Build/NRD90M', 'PE-TL10', 'PH-1', 'PLAYTAB', 'PLE-701L', 'PLK-L01 Build/HONORPLK-L01', 'PLUS', 'PMID7102DC', 'PRA507', 'PSPC550 Build/LMY47D', 'PULP 4G Build/LMY47V', 'Pixel', 'QMV7A', 'QTAIR7 Build/LMY47D', 'QTAQZ3 Build/KOT49H', 'QTAQZ3 Build/LMY47V', 'QTASUN1', 'QTASUN1 Build/NRD90M', 'QwestIE8', 'R1', 'R2', 'R8106', 'R831L', 'RCT6203W46 Build/KOT49H', 'RCT6223W87', 'RCT6303W87M7 Build/MRA58K', 'RCT6513W87 Build/MRA58K', 'RCT6773W22B', 'RCT6K03W13', 'RCT6S03W12', 'REVVLPLUS', 'REX', 'RS988', 'RS988 Build/MMB29M', 'RV', 'Redmi', 'Robin', 'S.N.O.W.4', 'S471', 'S57 Build/KTU84P', 'S60 Build/MMB29M', 'S6000', 'S70V', 'SAMSUNG', 'SGH', 'SGP', 'SH-04F', 'SKY_5.0LM', 'SLA-L02', 'SLA-L22', 'SLA-L23', 'SLAY', 'SM', 'SMART', 'SOV33 Build/35.0.D.2.25', 'SP7731G', 'SPH-L720', 'SPH-L720T', 'STELLAR', 'STF-L09 Build/HUAWEISTF-L09', 'STK_Sync_5e', 'STV100-1', 'STV100-2 Build/MMB29M', 'STV100-3', 'STV100-4 Build/LMY47V', 'Shift Build/LMY47I', 'Star', 'Stellar', 'Swift', 'T08', 'T1', 'TAB7', 'TOMMY2', 'TR10CS1 Build/JDQ39', 'TREKKER-M1', 'TREKKER-X3 Build/MMB29M', 'TRT-L53 Build/HUAWEITRT-L53', 'TRT-LX3', 'Tab2A7-10F', 'Techpad', 'Tmovi Build/Vision', 'Tornado', 'Touch', 'Trident/7.0', 'Turbo C5 Build/LMY47I', 'U', 'U FEEL LITE Build/MRA58K', 'UL40', 'V.40R', 'V502015', 'VFD', 'VT0701A08', 'VTR-L29', 'Venue', 'VerykoolS5030', 'Verykools', 'Vivo', 'WAS-LX2J', 'WOW64', 'Wileyfox', 'Windows', 'X10', 'X3402', 'X78', 'X900+', 'Y550-L02', 'Y635-L03 Build/HuaweiY635-L03', 'YOGA', 'YOLO', 'Z', 'Z2', 'ZEIA8', 'ZTE', 'ZUR70016', 'ZUUM_ZEN_I Build/LRX21M', 'Zonda', 'en-gb', 'en-us', 'es-mx', 'es-us', 'gxq6580_weg_l Build/LMY47I', 'hi6210sft Build/MRA58K', 'hp2015', 'm3', 'orbis', 'verykools5035', 'xs-Z47b7VqTMxs']\n"
     ]
    }
   ],
   "source": [
    "d = data['DeviceInfo'].unique()\n",
    "d_new = np.delete(d,3,0)\n",
    "d_new.sort()\n",
    "print(list(d_new))"
   ]
  },
  {
   "cell_type": "code",
   "execution_count": 179,
   "id": "a8d14e60",
   "metadata": {},
   "outputs": [],
   "source": [
    "data.loc[data['DeviceInfo'].isin(['Android', 'Android 4.4.2', 'Android 5.1', 'Android 5.1.1', 'Android 6.0', 'Android 6.0.1', 'Android 7.0', 'Android 7.1.2']),'DeviceInfo'] = \"Android\""
   ]
  },
  {
   "cell_type": "code",
   "execution_count": 180,
   "id": "5a6d76cf",
   "metadata": {},
   "outputs": [],
   "source": [
    "data.loc[data['DeviceInfo'].isin(['Blade A475 Build/LMY47D', 'Blade A510 Build/MRA58K', 'Blade L2 Plus Build/KOT49H', 'Blade L3 Build/KOT49H', 'Blade L5 Build/LMY47I', 'Blade V580 Build/LMY47D', 'Blade V6 Build/LRX22G', 'Blade V6 Max Build/MRA58K', 'Blade V6 Plus Build/MRA58K']),'DeviceInfo'] = \"Blade\""
   ]
  },
  {
   "cell_type": "code",
   "execution_count": 276,
   "id": "6a6480cd",
   "metadata": {},
   "outputs": [],
   "source": [
    "data.loc[data['DeviceInfo'].isin(['HUAWEI', 'HUAWEI Build/MMB28B', 'HUAWEI CAN-L01 Build/HUAWEICAN-L01', 'HUAWEI CAN-L11 Build/HUAWEICAN-L11', 'HUAWEI CUN-L03 Build/HUAWEICUN-L03', 'HUAWEI G7-L03 Build/HuaweiG7-L03', 'HUAWEI GRA-L09 Build/HUAWEIGRA-L09', 'HUAWEI LUA-U23 Build/HUAWEILUA-U23', 'HUAWEI LYO-L21 Build/HUAWEILYO-L21', 'HUAWEI M2-801W Build/HUAWEIM2-801W', 'HUAWEI NXT-L09 Build/HUAWEINXT-L09', 'HUAWEI RIO-L03 Build/HUAWEIRIO-L03', 'HUAWEI TAG-L13 Build/HUAWEITAG-L13', 'HUAWEI VNS-L21 Build/HUAWEIVNS-L21', 'HUAWEI VNS-L23 Build/HUAWEIVNS-L23', 'HUAWEI VNS-L31 Build/HUAWEIVNS-L31', 'HUAWEI VNS-L53 Build/HUAWEIVNS-L53', 'HUAWEI Y360-U23 Build/HUAWEIY360-U23', 'HUAWEI Y520-U03 Build/HUAWEIY520-U03', 'HUAWEI Y560-L03 Build/HUAWEIY560-L03', 'HUAWEI Y625-U13 Build/HUAWEIY625-U13','WAS-L03T Build/HUAWEIWAS-L03T', 'WAS-LX1 Build/HUAWEIWAS-LX1', 'WAS-LX1A Build/HUAWEIWAS-LX1A','BLA-L09 Build/HUAWEIBLA-L09','BLA-L29 Build/HUAWEIBLA-L29','BAH-L09 Build/HUAWEIBAH-L09','ALP-L09 Build/HUAWEIALP-L09S','ALE-L21 Build/HuaweiALE-L21', 'ALE-L23 Build/HuaweiALE-L23', 'ALP-L09 Build/HUAWEIALP-L09', 'ALP-L09 Build/HUAWEIALP-L09S','BAC-L03 Build/HUAWEIBAC-L03','BLL-L23 Build/HUAWEIBLL-L23','CRO-L03 Build/HUAWEICRO-L03','CAM-L03 Build/HUAWEICAM-L03','CHC-U03 Build/HuaweiCHC-U03','CAM-L03 Build/HUAWEICAM-L03','EML-L29 Build/HUAWEIEML-L29', 'EVA-L09 Build/HUAWEIEVA-L09', 'EVA-L19 Build/HUAWEIEVA-L19','FIG-LX3 Build/HUAWEIFIG-LX3','FRD-L04 Build/HUAWEIFRD-L04', 'FRD-L09 Build/HUAWEIFRD-L09', 'FRD-L14 Build/HUAWEIFRD-L14','H1711 Build/HUAWEIH1711','PRA-LX1 Build/HUAWEIPRA-LX1', 'PRA-LX3 Build/HUAWEIPRA-LX3','MYA-L13 Build/HUAWEIMYA-L13','RNE-L03 Build/HUAWEIRNE-L03', 'RNE-L21 Build/HUAWEIRNE-L21', 'RNE-L22 Build/HUAWEIRNE-L22', 'RNE-L23 Build/HUAWEIRNE-L23','MYA-L03 Build/HUAWEIMYA-L03','SLA-L03 Build/HUAWEISLA-L03','VTR-AL00 Build/HUAWEIVTR-AL00', 'VTR-L09 Build/HUAWEIVTR-L09','WAS-LX3 Build/HUAWEIWAS-LX3', 'WAS-TL10 Build/HUAWEIWAS-TL10','VKY-L09 Build/HUAWEIVKY-L09','ANE-LX3 Build/HUAWEIANE-LX3']),'DeviceInfo'] = \"HUAWEI\""
   ]
  },
  {
   "cell_type": "code",
   "execution_count": 182,
   "id": "59d16a17",
   "metadata": {},
   "outputs": [],
   "source": [
    "data.loc[data['DeviceInfo'].isin(['Hisense', 'Hisense E51 Build/LMY47V', 'Hisense F102 Build/NRD90M', 'Hisense F20 Build/MMB29M', 'Hisense F23 Build/NRD90M', 'Hisense F24 Build/NRD90M', 'Hisense F32 Build/NMF26F', 'Hisense F8 MINI Build/NRD90M', 'Hisense L675 Build/MRA58K', 'Hisense L675 PRO Build/NRD90M', 'Hisense T963 Build/MRA58K', 'Hisense U963 Build/MRA58K']),'DeviceInfo'] = \"Hisense\""
   ]
  },
  {
   "cell_type": "code",
   "execution_count": 183,
   "id": "48fa9f73",
   "metadata": {},
   "outputs": [],
   "source": [
    "data.loc[data['DeviceInfo'].isin(['SAMSUNG', 'SAMSUNG SM-A300H Build/LRX22G', 'SAMSUNG SM-A310F Build/NRD90M', 'SAMSUNG SM-A310F/A310FXXU4CRB1 Build/NRD90M', 'SAMSUNG SM-A310M Build/LMY47X', 'SAMSUNG SM-A320FL Build/NRD90M', 'SAMSUNG SM-A320Y Build/NRD90M', 'SAMSUNG SM-A510F Build/NRD90M', 'SAMSUNG SM-A510M Build/MMB29K', 'SAMSUNG SM-A510M Build/NRD90M', 'SAMSUNG SM-A520F Build/NRD90M', 'SAMSUNG SM-A710M Build/NRD90M', 'SAMSUNG SM-A720F Build/NRD90M', 'SAMSUNG SM-A730F Build/NMF26X', 'SAMSUNG SM-G530H Build/LRX22G', 'SAMSUNG SM-G530T Build/LMY47X', 'SAMSUNG SM-G531H Build/LMY48B', 'SAMSUNG SM-G532M Build/MMB29T', 'SAMSUNG SM-G550T1 Build/MMB29K', 'SAMSUNG SM-G570M Build/MMB29K', 'SAMSUNG SM-G570M Build/NRD90M', 'SAMSUNG SM-G610M Build/MMB29K', 'SAMSUNG SM-G610M Build/NRD90M', 'SAMSUNG SM-G800F Build/MMB29K', 'SAMSUNG SM-G850F/G850FXXS2CQD9 Build/LRX22G', 'SAMSUNG SM-G890A Build/NRD90M', 'SAMSUNG SM-G891A Build/NRD90M', 'SAMSUNG SM-G892A Build/NRD90M', 'SAMSUNG SM-G892A Build/R16NW', 'SAMSUNG SM-G900A Build/MMB29M', 'SAMSUNG SM-G900F Build/MMB29M', 'SAMSUNG SM-G900I Build/MMB29M', 'SAMSUNG SM-G900M Build/LRX21T', 'SAMSUNG SM-G900T Build/MMB29M', 'SAMSUNG SM-G903F Build/MMB29K', 'SAMSUNG SM-G920A Build/NRD90M', 'SAMSUNG SM-G920F Build/LRX22G', 'SAMSUNG SM-G920F Build/NRD90M', 'SAMSUNG SM-G920I Build/NRD90M', 'SAMSUNG SM-G920P Build/NRD90M', 'SAMSUNG SM-G920T Build/NRD90M', 'SAMSUNG SM-G925F Build/NRD90M', 'SAMSUNG SM-G925I Build/NRD90M', 'SAMSUNG SM-G925P Build/MMB29K', 'SAMSUNG SM-G925P Build/NRD90M', 'SAMSUNG SM-G925T Build/NRD90M', 'SAMSUNG SM-G928G Build/NRD90M', 'SAMSUNG SM-G930A Build/NRD90M', 'SAMSUNG SM-G930F Build/NRD90M', 'SAMSUNG SM-G930F/XXU2DRC1 Build/NRD90M', 'SAMSUNG SM-G930P Build/NRD90M', 'SAMSUNG SM-G930R4 Build/NRD90M', 'SAMSUNG SM-G930T Build/NRD90M', 'SAMSUNG SM-G935A Build/NRD90M', 'SAMSUNG SM-G935F Build/MMB29K', 'SAMSUNG SM-G935F Build/NRD90M', 'SAMSUNG SM-G935P Build/NRD90M', 'SAMSUNG SM-G935T Build/NRD90M', 'SAMSUNG SM-G935W8 Build/NRD90M', 'SAMSUNG SM-G950F Build/NRD90M', 'SAMSUNG SM-G950F Build/R16NW', 'SAMSUNG SM-G950U Build/NRD90M', 'SAMSUNG SM-G950U Build/R16NW', 'SAMSUNG SM-G950U1 Build/NRD90M', 'SAMSUNG SM-G950U1 Build/R16NW', 'SAMSUNG SM-G955F Build/NRD90M', 'SAMSUNG SM-G955F Build/R16NW', 'SAMSUNG SM-G955U Build/NRD90M', 'SAMSUNG SM-G955U Build/R16NW', 'SAMSUNG SM-G9600 Build/R16NW', 'SAMSUNG SM-G960U Build/R16NW', 'SAMSUNG SM-G9650 Build/R16NW', 'SAMSUNG SM-G965F Build/R16NW', 'SAMSUNG SM-G965U Build/R16NW', 'SAMSUNG SM-G965U1 Build/R16NW', 'SAMSUNG SM-J111M Build/LMY47V', 'SAMSUNG SM-J120H Build/LMY47V', 'SAMSUNG SM-J250M Build/NMF26X', 'SAMSUNG SM-J320F Build/LMY47V', 'SAMSUNG SM-J320FN Build/LMY47V', 'SAMSUNG SM-J320M Build/LMY47V', 'SAMSUNG SM-J327A Build/NRD90M', 'SAMSUNG SM-J327AZ Build/NRD90M', 'SAMSUNG SM-J327P Build/MMB29M', 'SAMSUNG SM-J327T Build/NRD90M', 'SAMSUNG SM-J327T1 Build/NRD90M', 'SAMSUNG SM-J500FN Build/MMB29M', 'SAMSUNG SM-J500M Build/LMY48B', 'SAMSUNG SM-J500M Build/MMB29M', 'SAMSUNG SM-J510MN Build/MMB29M', 'SAMSUNG SM-J530F Build/NRD90M', 'SAMSUNG SM-J530GM Build/NRD90M', 'SAMSUNG SM-J700M Build/LMY48B', 'SAMSUNG SM-J700M Build/MMB29K', 'SAMSUNG SM-J700T Build/NMF26X', 'SAMSUNG SM-J700T1 Build/NMF26X', 'SAMSUNG SM-J701M Build/NRD90M', 'SAMSUNG SM-J710MN Build/MMB29K', 'SAMSUNG SM-J710MN Build/NRD90M', 'SAMSUNG SM-J727T1 Build/NRD90M', 'SAMSUNG SM-J730GM Build/NRD90M', 'SAMSUNG SM-N900T Build/LRX21V', 'SAMSUNG SM-N900W8 Build/LRX21V', 'SAMSUNG SM-N910A Build/MMB29M', 'SAMSUNG SM-N910V Build/MMB29M', 'SAMSUNG SM-N920A Build/NRD90M', 'SAMSUNG SM-N920P Build/NRD90M', 'SAMSUNG SM-N920T Build/NRD90M', 'SAMSUNG SM-N920V Build/NRD90M', 'SAMSUNG SM-N950F Build/NMF26X', 'SAMSUNG SM-N950U Build/NMF26X', 'SAMSUNG SM-N950U Build/R16NW', 'SAMSUNG SM-N950U1 Build/NMF26X', 'SAMSUNG SM-N950U1 Build/R16NW', 'SAMSUNG SM-P580 Build/NRD90M', 'SAMSUNG SM-S727VL Build/MMB29M', 'SAMSUNG SM-T530NU Build/LRX22G', 'SAMSUNG SM-T550 Build/NMF26X', 'SAMSUNG SM-T580 Build/NRD90M', 'SAMSUNG SM-T587P Build/NRD90M', 'SAMSUNG SM-T710 Build/NRD90M', 'SAMSUNG SM-T800 Build/MMB29K', 'SAMSUNG SM-T810 Build/NRD90M', 'SAMSUNG SM-T813 Build/NRD90M', 'SAMSUNG-SGH-I337', 'SAMSUNG-SGH-I337 Build/KOT49H', 'SAMSUNG-SGH-I497', 'SAMSUNG-SGH-I537', 'SAMSUNG-SM-G530AZ Build/LMY48B', 'SAMSUNG-SM-G870A', 'SAMSUNG-SM-G870A Build/MMB29M', 'SAMSUNG-SM-G890A', 'SAMSUNG-SM-G890A Build/MMB29K', 'SAMSUNG-SM-G890A Build/NRD90M', 'SAMSUNG-SM-G891A Build/NRD90M', 'SAMSUNG-SM-G900A', 'SAMSUNG-SM-G900A Build/KOT49H', 'SAMSUNG-SM-G900A Build/LMY47X', 'SAMSUNG-SM-G900A Build/LRX21T', 'SAMSUNG-SM-G900A Build/MMB29M', 'SAMSUNG-SM-G920A Build/MMB29K', 'SAMSUNG-SM-G920A Build/NRD90M', 'SAMSUNG-SM-G920AZ', 'SAMSUNG-SM-G925A', 'SAMSUNG-SM-G925A Build/MMB29K', 'SAMSUNG-SM-G925A Build/NRD90M', 'SAMSUNG-SM-G928A Build/NRD90M', 'SAMSUNG-SM-G930A', 'SAMSUNG-SM-G930A Build/NRD90M', 'SAMSUNG-SM-G930AZ', 'SAMSUNG-SM-G935A', 'SAMSUNG-SM-G935A Build/NRD90M', 'SAMSUNG-SM-J120A', 'SAMSUNG-SM-J320A Build/MMB29K', 'SAMSUNG-SM-J320A Build/NMF26X', 'SAMSUNG-SM-J320AZ', 'SAMSUNG-SM-J320AZ Build/MMB29K', 'SAMSUNG-SM-J327A Build/NRD90M', 'SAMSUNG-SM-J327AZ', 'SAMSUNG-SM-J727A Build/NRD90M', 'SAMSUNG-SM-J727AZ', 'SAMSUNG-SM-N900A', 'SAMSUNG-SM-N900A Build/LRX21V', 'SAMSUNG-SM-N910A', 'SAMSUNG-SM-N920A', 'SAMSUNG-SM-N920A Build/NRD90M', 'SAMSUNG-SM-T337A Build/LMY47X', 'SAMSUNG-SM-T377A', 'SAMSUNG-SM-T377A Build/MMB29K', 'SAMSUNG-SM-T537A', 'SAMSUNG-SM-T677A', 'SAMSUNG-SM-T807A', 'SAMSUNG-SM-T817A']),'DeviceInfo'] = \"SAMSUNG\""
   ]
  },
  {
   "cell_type": "code",
   "execution_count": 184,
   "id": "5189b6cb",
   "metadata": {},
   "outputs": [],
   "source": [
    "data.loc[data['DeviceInfo'].isin(['verykool', 'verykoolS5005', 'verykoolS5019', 'verykoolS5524', 'verykoolS5525', 'verykoolS5530 Build/LMY47I', 'verykools4009', 'verykools5004', 'verykools5034', 'verykools5035''VerykoolS5030']),'DeviceInfo'] = \"Verykools\""
   ]
  },
  {
   "cell_type": "code",
   "execution_count": 185,
   "id": "5a3119c4",
   "metadata": {},
   "outputs": [],
   "source": [
    "data.loc[data['DeviceInfo'].isin(['rv:11.0', 'rv:14.0', 'rv:29.0', 'rv:31.0', 'rv:33.0', 'rv:35.0', 'rv:37.0', 'rv:38.0', 'rv:39.0', 'rv:41.0', 'rv:42.0', 'rv:43.0', 'rv:44.0', 'rv:45.0', 'rv:46.0', 'rv:47.0', 'rv:48.0', 'rv:49.0', 'rv:50.0', 'rv:51.0', 'rv:52.0', 'rv:52.9', 'rv:53.0', 'rv:54.0', 'rv:55.0', 'rv:56.0', 'rv:57.0', 'rv:58.0', 'rv:59.0', 'rv:60.0', 'rv:61.0', ]),'DeviceInfo'] = \"RV\""
   ]
  },
  {
   "cell_type": "code",
   "execution_count": 186,
   "id": "9caaee44",
   "metadata": {},
   "outputs": [],
   "source": [
    "data.loc[data['DeviceInfo'].isin(['vivo','Vivo']),'DeviceInfo'] = \"Vivo\""
   ]
  },
  {
   "cell_type": "code",
   "execution_count": 187,
   "id": "a5b146ff",
   "metadata": {},
   "outputs": [],
   "source": [
    "data.loc[data['DeviceInfo'].isin(['Win64', 'Windows', 'Windows NT 6.1', 'Windows NT 6.2',]),'DeviceInfo'] = \"Windows\""
   ]
  },
  {
   "cell_type": "code",
   "execution_count": 188,
   "id": "fc0df68d",
   "metadata": {},
   "outputs": [],
   "source": [
    "data.loc[data['DeviceInfo'].isin(['iris50', 'iris702', 'iris80']),'DeviceInfo'] = \"Iris\""
   ]
  },
  {
   "cell_type": "code",
   "execution_count": 189,
   "id": "11cecb86",
   "metadata": {},
   "outputs": [],
   "source": [
    "data.loc[data['DeviceInfo'].isin(['Aquaris', 'Aquaris U Plus Build/NMF26F', 'Aquaris V Build/N2G47H', 'Aquaris X Build/NMF26F', 'Aquaris X5 Plus Build/NMF26F', 'Aquaris_A4.5']),'DeviceInfo'] = \"Aquaris\""
   ]
  },
  {
   "cell_type": "code",
   "execution_count": 190,
   "id": "063fe731",
   "metadata": {},
   "outputs": [],
   "source": [
    "data.loc[data['DeviceInfo'].isin(['Alcatel', 'Alcatel_4060A', 'Alcatel_4060O Build/MMB29M', 'Alcatel_5044R Build/NRD90M', 'Alcatel_5054O', 'Alcatel_5056O', 'Alcatel_5098O Build/MMB29M']),'DeviceInfo'] = \"Alcatel\""
   ]
  },
  {
   "cell_type": "code",
   "execution_count": 191,
   "id": "4558e029",
   "metadata": {},
   "outputs": [],
   "source": [
    "data.loc[data['DeviceInfo'].isin(['Alumini3 Build/MRA58K', 'Alumini3Plus']),'DeviceInfo'] = \"Alumini\""
   ]
  },
  {
   "cell_type": "code",
   "execution_count": 192,
   "id": "ff1e33ba",
   "metadata": {},
   "outputs": [],
   "source": [
    "data.loc[data['DeviceInfo'].isin(['ZTE', 'ZTE A2017U Build/NRD90M', 'ZTE BLADE A321 Build/NMF26F', 'ZTE BLADE A512 Build/MMB29M', 'ZTE BLADE A6 Build/NMF26F', 'ZTE BLADE V8 MINI Build/NRD90M', 'ZTE Blade A511 Build/MRA58K', 'ZTE Blade L5 Build/LMY47I', 'ZTE-Z835', 'ZTE-Z956']),'DeviceInfo'] = \"ZTE\""
   ]
  },
  {
   "cell_type": "code",
   "execution_count": 193,
   "id": "6ae34a55",
   "metadata": {},
   "outputs": [],
   "source": [
    "data.loc[data['DeviceInfo'].isin(['moto', 'moto g(6) play Build/OPP27.61-14-4', 'moto x4 Build/NPW26.83-18-2-0-4', 'moto x4 Build/NPW26.83-42', 'moto x4 Build/OPW27.57-40', 'moto x4 Build/OPWS27.57-40-14', 'moto x4 Build/OPWS27.57-40-6','Moto E (4) Build/NMA26.42-11-3', 'Moto E (4) Build/NMA26.42-19', 'Moto E (4) Build/NMA26.42-69', 'Moto E (4) Plus Build/NMA26.42-11-3', 'Moto E (4) Plus Build/NMA26.42-142', 'Moto E (4) Plus Build/NMA26.42-152', 'Moto E (4) Plus Build/NMA26.42-69', 'Moto G (4) Build/NPJ25.93-14', 'Moto G (4) Build/NPJ25.93-14.5', 'Moto G (4) Build/NPJ25.93-14.7', 'Moto G (4) Build/NPJS25.93-14-10', 'Moto G (4) Build/NPJS25.93-14-13', 'Moto G (4) Build/NPJS25.93-14-15', 'Moto G (4) Build/NPJS25.93-14-18', 'Moto G (4) Build/NPJS25.93-14-8', 'Moto G (4) Build/NPJS25.93-14-8.1-4', 'Moto G (5) Build/NPP25.137-15', 'Moto G (5) Build/NPP25.137-33', 'Moto G (5) Build/NPP25.137-38', 'Moto G (5) Build/NPP25.137-72', 'Moto G (5) Build/NPP25.137-82', 'Moto G (5) Build/NPP25.137-93', 'Moto G (5) Build/NPPS25.137-15-11', 'Moto G (5) Build/NPPS25.137-93-4', 'Moto G (5) Build/NPPS25.137-93-8', 'Moto G (5) Plus Build/NPN25.137-15', 'Moto G (5) Plus Build/NPN25.137-72', 'Moto G (5) Plus Build/NPN25.137-82', 'Moto G (5) Plus Build/NPN25.137-83', 'Moto G (5) Plus Build/NPN25.137-92', 'Moto G (5) Plus Build/NPNS25.137-15-11', 'Moto G (5) Plus Build/NPNS25.137-92-10', 'Moto G (5) Plus Build/NPNS25.137-92-4', 'Moto G (5) Plus Build/NPNS25.137-92-8', 'Moto G (5) Plus Build/NPNS25.137-93-8', 'Moto G (5S', 'Moto G Play Build/MPIS24.241-15.3-26', 'Moto G Play Build/MPIS24.241-15.3-7', 'Moto G Play Build/NJH47F', 'Moto G Play Build/NPI26.48-36', 'Moto G Play Build/NPIS26.48-36-2', 'Moto G Play Build/NPIS26.48-36-5', 'Moto X Play Build/NPD26.48-24-1', 'Moto Z (2', 'Moto Z2 Play Build/NPS26.118-19', 'Moto Z2 Play Build/NPS26.74-16-1', 'Moto Z2 Play Build/NPSS26.118-19-11', 'Moto Z2 Play Build/NPSS26.118-19-14', 'Moto Z2 Play Build/NPSS26.118-19-4', 'Moto Z2 Play Build/NPSS26.118-19-6', 'MotoE2 Build/LPCS23.13-56-5', 'MotoE2(4G-LTE', 'MotoG3', 'MotoG3 Build/MPI24.65-25', 'MotoG3 Build/MPI24.65-25.1', 'MotoG3 Build/MPI24.65-33.1-2', 'MotoG3 Build/MPIS24.107-55-2-17', 'MotoG3 Build/MPIS24.65-25.1-19', 'MotoG3 Build/MPIS24.65-33.1-2-16', 'MotoG3-TE', 'MotoG3-TE Build/MPD24.65-33', 'MotoG3-TE Build/MPDS24.65-33-1-3', 'MotoG3-TE Build/MPDS24.65-33-1-30','Moto C Build/NRD90M.050', 'Moto C Build/NRD90M.054', 'Moto C Build/NRD90M.057', 'Moto C Build/NRD90M.063', 'Moto C Build/NRD90M.070', 'Moto C Plus Build/NRD90M.05.022', 'Moto C Plus Build/NRD90M.05.034', 'Moto E (4) Build/NCQ26.69-56', 'Moto E (4) Build/NDQS26.69-23-2-3', 'Moto E (4) Build/NDQS26.69-64-2','Moto', 'Moto C Build/NRD90M.046']),'DeviceInfo'] = \"Moto\""
   ]
  },
  {
   "cell_type": "code",
   "execution_count": 194,
   "id": "4f4cd06e",
   "metadata": {},
   "outputs": [],
   "source": [
    "data.loc[data['DeviceInfo'].isin(['BLN-L21 Build/HONORBLN-L21', 'BLN-L24 Build/HONORBLN-L24','DLI-L22 Build/HONORDLI-L22','BND-L21 Build/HONORBND-L21']),'DeviceInfo'] = \"Honor\""
   ]
  },
  {
   "cell_type": "code",
   "execution_count": 195,
   "id": "134f7693",
   "metadata": {},
   "outputs": [],
   "source": [
    "data.loc[data['DeviceInfo'].isin(['Pixel', 'Pixel 2 Build/OPM1.171019.011', 'Pixel 2 Build/OPM1.171019.019', 'Pixel 2 Build/OPM1.171019.021', 'Pixel 2 Build/OPM2.171019.016', 'Pixel 2 XL Build/OPM1.171019.011', 'Pixel 2 XL Build/OPM1.171019.013', 'Pixel 2 XL Build/OPM1.171019.021', 'Pixel 2 XL Build/OPM2.171019.029', 'Pixel 2 XL Build/OPM2.171019.029.B1', 'Pixel Build/OPM1.171019.011', 'Pixel Build/OPM1.171019.012', 'Pixel Build/OPM1.171019.016', 'Pixel Build/OPM2.171019.029', 'Pixel Build/OPM4.171019.016.B1', 'Pixel Build/OPR3.170623.013', 'Pixel XL Build/OPM1.171019.011', 'Pixel XL Build/OPM1.171019.016', 'Pixel XL Build/OPM1.171019.021', 'Pixel XL Build/OPM4.171019.016.B1']),'DeviceInfo'] = \"Pixel\""
   ]
  },
  {
   "cell_type": "code",
   "execution_count": 196,
   "id": "f54425e0",
   "metadata": {},
   "outputs": [],
   "source": [
    "data.loc[data['DeviceInfo'].isin(['Nexus', 'Nexus 5 Build/M4B30Z', 'Nexus 5X Build/OPM3.171019.013', 'Nexus 5X Build/OPR4.170623.006', 'Nexus 6 Build/MOB30M', 'Nexus 6 Build/N6F27M', 'Nexus 6P Build/OPR5.170623.011', 'Nexus 6P Build/OPR5.170623.014']),'DeviceInfo'] = \"Nexus\""
   ]
  },
  {
   "cell_type": "code",
   "execution_count": 239,
   "id": "9c474cdc",
   "metadata": {},
   "outputs": [],
   "source": [
    "data.loc[data['DeviceInfo'].isin(['Lenovo', 'Lenovo A2016b30 Build/MRA58K', 'Lenovo A6020l37 Build/LMY47V', 'Lenovo K33b36 Build/MMB29M', 'Lenovo K33b36 Build/NRD90N', 'Lenovo PB1-750M Build/S100', 'Lenovo PB2-650Y Build/MRA58K', 'Lenovo PB2-670Y Build/MRA58K', 'Lenovo TAB 2 A7-30GC Build/KOT49H', 'Lenovo TB-7703X Build/S100', 'Lenovo TB-X103F Build/LenovoTB-X103F', 'Lenovo TB2-X30F Build/LenovoTB2-X30F', 'Lenovo TB3-710F Build/LRX21M', 'Lenovo TB3-710I Build/LMY47I', 'Lenovo YT3-850F Build/MMB29M', 'Lenovo YT3-850M Build/MMB29M', 'Lenovo YT3-X50F Build/MMB29M', 'Lenovo-A6020l36 Build/LMY47V', 'LenovoA3300-GV Build/JDQ39','IdeaTab', 'IdeaTabA1000-F', 'IdeaTabA2109A']),'DeviceInfo'] = \"Lenovo\""
   ]
  },
  {
   "cell_type": "code",
   "execution_count": 198,
   "id": "4b4dcd4c",
   "metadata": {},
   "outputs": [],
   "source": [
    "data.loc[data['DeviceInfo'].isin(['ALCATEL', 'ALCATEL ONE TOUCH 5036A Build/JDQ39', 'ALCATEL ONE TOUCH 7040A Build/JDQ39', 'ALCATEL ONE TOUCH 7042A Build/JDQ39', 'ALCATEL ONE TOUCH 7047A Build/JDQ39']),'DeviceInfo'] = \"ALCATEL\""
   ]
  },
  {
   "cell_type": "code",
   "execution_count": 199,
   "id": "853de592",
   "metadata": {},
   "outputs": [],
   "source": [
    "data.loc[data['DeviceInfo'].isin(['AERIAL', 'AERIAL Build/NRD90M']),'DeviceInfo'] = \"AERIAL\""
   ]
  },
  {
   "cell_type": "code",
   "execution_count": 200,
   "id": "9b72317f",
   "metadata": {},
   "outputs": [],
   "source": [
    "data.loc[data['DeviceInfo'].isin(['Ilium', 'Ilium L1000 Build/LRX22G', 'Ilium L1120 Build/NRD90M', 'Ilium L610 Build/MRA58K', 'Ilium L620 Build/NRD90M', 'Ilium L910 Build/MRA58K', 'Ilium L950 Build/KTU84P', 'Ilium LT500 Build/LMY47O', 'Ilium LT510 Build/MRA58K', 'Ilium LT520 Build/NRD90M', 'Ilium Pad T7X Build/LMY47I', 'Ilium X210 Build/LMY47I', 'Ilium X220 Build/MRA58K', 'Ilium X510 Build/MRA58K', 'Ilium X520 Build/NRD90M', 'Ilium X710 Build/MRA58K']),'DeviceInfo'] = \"Ilium\""
   ]
  },
  {
   "cell_type": "code",
   "execution_count": 201,
   "id": "e7e48596",
   "metadata": {},
   "outputs": [],
   "source": [
    "data.loc[data['DeviceInfo'].isin(['HTC', 'HTC 10 Build/NRD90M', 'HTC Desire 10 lifestyle Build/MMB29M', 'HTC Desire 510 Build/KOT49H', 'HTC Desire 526G Build/KOT49H', 'HTC Desire 530 Build/MMB29M', 'HTC Desire 626s Build/LMY47O', 'HTC Desire 650 Build/MMB29M', 'HTC One A9 Build/NRD90M', 'HTC One A9s Build/MRA58K', 'HTC One Build/LRX22G', 'HTC One M9 Build/NRD90M', 'HTC One mini Build/KOT49H', 'HTC One_M8 Build/MRA58K', 'HTC U11 Build/NMF26X', 'HTC U11 Build/OPR6.170623.013', 'HTC6500LVW', 'HTC6525LVW', 'HTC6535LVW', 'HTC6545LVW', 'HTCD100LVWPP', 'HTCD160LVWPP', 'HTCD200LVW', 'HTC_D10i', 'HTC_Desire_820', 'HTC_One', 'HTC_One_M8/4.28.502.2', 'HTC_One_M8s/2.12.111.1']),'DeviceInfo'] = \"HTC\""
   ]
  },
  {
   "cell_type": "code",
   "execution_count": 209,
   "id": "077150e9",
   "metadata": {},
   "outputs": [],
   "source": [
    "data.loc[data['DeviceInfo'].isin(['LG-D213', 'LG-D320', 'LG-D320 Build/KOT49I.V10a', 'LG-D331', 'LG-D331 Build/LRX22G', 'LG-D373', 'LG-D373 Build/KOT49I.V10a', 'LG-D400', 'LG-D625', 'LG-D680', 'LG-D680 Build/KOT49I', 'LG-D681', 'LG-D693n', 'LG-D693n Build/KOT49I.V10a', 'LG-D693n Build/LRX22G', 'LG-D722', 'LG-D725', 'LG-D802', 'LG-D850', 'LG-D851', 'LG-D855', 'LG-D855 Build/LRX21R', 'LG-D959', 'LG-E450f', 'LG-E975', 'LG-E980h', 'LG-F400K', 'LG-H221', 'LG-H320 Build/LRX21Y', 'LG-H340AR', 'LG-H343', 'LG-H345', 'LG-H420 Build/LRX21Y', 'LG-H443/H44312g', 'LG-H500 Build/LRX21Y', 'LG-H520', 'LG-H525n Build/MRA58K', 'LG-H540', 'LG-H542 Build/LRX22G', 'LG-H542 Build/MRA58K', 'LG-H631', 'LG-H650 Build/LMY47V', 'LG-H650 Build/MRA58K', 'LG-H700 Build/NRD90U', 'LG-H735 Build/LMY47V', 'LG-H810', 'LG-H810/H81021z', 'LG-H810/H81022f', 'LG-H811 Build/MRA58K', 'LG-H812', 'LG-H815', 'LG-H815 Build/MRA58K', 'LG-H820', 'LG-H820 Build/NRD90U', 'LG-H830', 'LG-H830 Build/NRD90U', 'LG-H831 Build/NRD90U', 'LG-H840 Build/MMB29M', 'LG-H840 Build/NRD90U', 'LG-H850', 'LG-H850 Build/MMB29M', 'LG-H870 Build/NRD90U', 'LG-H870DS Build/NRD90U', 'LG-H871', 'LG-H872 Build/NRD90U', 'LG-H900/H90022b', 'LG-H901', 'LG-H910 Build/NRD90M', 'LG-H918 Build/NRD90M', 'LG-H931', 'LG-H932', 'LG-H933', 'LG-H960', 'LG-H990 Build/NRD90M', 'LG-K200 Build/MXB48T', 'LG-K212', 'LG-K220 Build/MXB48T', 'LG-K240 Build/MXB48T', 'LG-K330', 'LG-K350', 'LG-K371', 'LG-K373', 'LG-K410 Build/LRX22G', 'LG-K420', 'LG-K428 Build/MMB29M', 'LG-K428 Build/NRD90U', 'LG-K430 Build/MRA58K', 'LG-K450 Build/MXB48T', 'LG-K500 Build/MMB29M', 'LG-K530 Build/MMB29M', 'LG-K530 Build/NRD90U', 'LG-K540 Build/MMB29M', 'LG-K550', 'LG-K550 Build/NRD90U', 'LG-K580 Build/MRA58K', 'LG-LG870', 'LG-LK460', 'LG-LS777 Build/NRD90U', 'LG-LS993 Build/NRD90U', 'LG-LS995', 'LG-LS997 Build/NRD90M', 'LG-LS998', 'LG-M150', 'LG-M153 Build/MXB48T', 'LG-M154', 'LG-M200 Build/NRD90U', 'LG-M210 Build/NRD90U', 'LG-M250 Build/NRD90U', 'LG-M255', 'LG-M257', 'LG-M320 Build/NRD90U', 'LG-M322', 'LG-M327 Build/NRD90U', 'LG-M400 Build/NRD90U', 'LG-M430 Build/NRD90U', 'LG-M700 Build/NMF26X', 'LG-M710 Build/NRD90U', 'LG-P708g', 'LG-P714', 'LG-SP200', 'LG-SP320', 'LG-TP260 Build/NRD90U', 'LG-TP450 Build/NRD90U', 'LG-V410', 'LG-V410/V41020c', 'LG-V495', 'LG-V495/V49520l', 'LG-V496', 'LG-V500', 'LG-V520', 'LG-V521', 'LG-V522', 'LG-V700', 'LG-V930', 'LG-X165g Build/LRX21M', 'LG-X180g Build/LMY47I', 'LG-X210 Build/LMY47I', 'LG-X220 Build/LMY47I', 'LG-X230 Build/MRA58K', 'LG-X240 Build/MRA58K','LGL163BL', 'LGL164VL Build/NRD90U', 'LGL33L/V100', 'LGL41C', 'LGL52VL Build/LMY47V', 'LGL57BL', 'LGL58VL', 'LGL62VL', 'LGL83BL', 'LGL84VL Build/NRD90U', 'LGLK430', 'LGLS665 Build/LMY47V', 'LGLS675 Build/LMY47V', 'LGLS676 Build/MXB48T', 'LGLS751', 'LGLS755', 'LGLS770', 'LGLS775 Build/MMB29M', 'LGLS775 Build/NRD90U', 'LGLS990', 'LGLS991', 'LGLS992', 'LGMP260 Build/NRD90U', 'LGMP450 Build/NRD90U', 'LGMS210 Build/NRD90U', 'LGMS323', 'LGMS330 Build/LMY47V', 'LGMS345', 'LGMS395', 'LGMS428', 'LGMS550 Build/MXB48T', 'LGMS550 Build/NRD90U', 'LGMS631', 'LGMS631 Build/MRA58K', 'LGUS215 Build/NRD90U', 'LGUS990', 'LGUS991', 'LGUS992']),'DeviceInfo'] = \"LG\""
   ]
  },
  {
   "cell_type": "code",
   "execution_count": 203,
   "id": "b2f57bae",
   "metadata": {},
   "outputs": [],
   "source": [
    "data.loc[data['DeviceInfo'].isin(['BLU', 'BLU ENERGY X PLUS Build/LRX21M', 'BLU LIFE XL Build/L050U', 'BLU STUDIO C 5+5 Build/LRX21M','STUDIO_G_HD','Studio']),'DeviceInfo'] = \"BLU\""
   ]
  },
  {
   "cell_type": "code",
   "execution_count": 204,
   "id": "4238438a",
   "metadata": {},
   "outputs": [],
   "source": [
    "data.loc[data['DeviceInfo'].isin(['Redmi', 'Redmi 3S Build/MMB29M', 'Redmi 4A Build/MMB29M', 'Redmi 4A Build/N2G47H', 'Redmi 4X Build/N2G47H', 'Redmi 5 Plus Build/N2G47H', 'Redmi Note 3 Build/MMB29M', 'Redmi Note 4 Build/MMB29M', 'Redmi Note 4 Build/NRD90M', 'Redmi Note 4X Build/MRA58K', 'Redmi Note 5A Build/N2G47H']),'DeviceInfo'] = \"Redmi\""
   ]
  },
  {
   "cell_type": "code",
   "execution_count": 205,
   "id": "728f2aad",
   "metadata": {},
   "outputs": [],
   "source": [
    "data.loc[data['DeviceInfo'].isin(['Linux', 'Linux i686', 'Linux x86_64']),'DeviceInfo'] = \"Linux\""
   ]
  },
  {
   "cell_type": "code",
   "execution_count": 213,
   "id": "1bc3ecbf",
   "metadata": {},
   "outputs": [],
   "source": [
    "data.loc[data['DeviceInfo'].isin(['ONE', 'ONE A2003 Build/MMB29M', 'ONE A2005 Build/MMB29M', 'ONE TOUCH 4016A Build/JDQ39', 'ONE TOUCH 4033A Build/JDQ39', 'ONEPLUS', 'ONEPLUS A5000 Build/NMF26X', 'ONEPLUS A5010 Build/OPM1.171019.011']),'DeviceInfo'] = \"ONE\""
   ]
  },
  {
   "cell_type": "code",
   "execution_count": 217,
   "id": "84237c5b",
   "metadata": {},
   "outputs": [],
   "source": [
    "data.loc[data['DeviceInfo'].isin(['GT-I8190L Build/JZO54K', 'GT-I8190N', 'GT-I8200N', 'GT-I9060L Build/JDQ39', 'GT-I9060M Build/KTU84P', 'GT-I9195I', 'GT-I9195L', 'GT-I9300', 'GT-I9500', 'GT-I9505 Build/LRX22C', 'GT-I9506', 'GT-I9515', 'GT-N5110', 'GT-N5110 Build/JDQ39', 'GT-N7100', 'GT-N8000', 'GT-N8010', 'GT-P3100', 'GT-P5110', 'GT-P5113', 'GT-P5210 Build/JDQ39', 'GT-P5210 Build/KOT49H', 'GT-S5310L', 'GT-S7275B', 'GT-S7390', 'GT-S7580L Build/JDQ39', 'GT-S7582', 'GT-S7582L']),'DeviceInfo'] = \"GT\""
   ]
  },
  {
   "cell_type": "code",
   "execution_count": 235,
   "id": "1cccde7a",
   "metadata": {},
   "outputs": [],
   "source": [
    "data.loc[data['DeviceInfo'].isin(['XT1003', 'XT1008', 'XT1008 Build/LPBS23.13-56-2', 'XT1021', 'XT1021 Build/KXC21.5-40', 'XT1021 Build/LPCS23.13-34.8-3', 'XT1023', 'XT1030 Build/SU6-7.7', 'XT1031', 'XT1032', 'XT1032 Build/KXB20.9-1.10-1.24-1.1', 'XT1032 Build/KXB21.14-L1.40', 'XT1032 Build/LPBS23.13-56-2', 'XT1032 Build/LPBS23.13-57-2', 'XT1033', 'XT1040', 'XT1053 Build/LPAS23.12-21.7-1', 'XT1055', 'XT1058', 'XT1058 Build/LPAS23.12-21.7-1', 'XT1060', 'XT1063', 'XT1063 Build/MPB24.65-34', 'XT1063 Build/MPB24.65-34-3', 'XT1064', 'XT1064 Build/MPB24.65-34-3', 'XT1068', 'XT1072', 'XT1080', 'XT1080 Build/SU6-7.7', 'XT1092', 'XT1094', 'XT1095', 'XT1096', 'XT1097', 'XT1225', 'XT1254', 'XT1254 Build/MCG24.251-5-5', 'XT1528', 'XT1563', 'XT1563 Build/MPD24.107-52', 'XT1563 Build/MPD24.65-25', 'XT1563 Build/MPDS24.107-52-5', 'XT1565', 'XT1572 Build/NPHS25.200-15-8', 'XT1575', 'XT1575 Build/NPHS25.200-23-1', 'XT1580', 'XT1580 Build/NPKS25.200-12-9', 'XT1580 Build/NPKS25.200-17-8', 'XT1585 Build/NCK25.118-10.5', 'XT1609', 'XT1609 Build/MPIS24.241-2.35-1-17', 'XT1609 Build/NPIS26.48-38-3', 'XT1635-01', 'XT1635-01 Build/NDNS26.118-23-12-3', 'XT1635-02', 'XT1635-02 Build/NPN26.118-22-2', 'XT1635-02 Build/OPN27.76-12-22', 'XT1650', 'XT1650 Build/NCLS26.118-23-13-3', 'XT1650 Build/NCLS26.118-23-13-6-5', 'XT1650 Build/NPLS26.118-20-5-11', 'XT1650 Build/NPLS26.118-20-5-3', 'XT1680', 'XT1710-02', 'XT1710-02 Build/NDSS26.118-23-15', 'XT1710-02 Build/NDSS26.118-23-19-6', 'XT890 Build/9.8.2I-50_SML-25']),'DeviceInfo'] = \"Motorola\""
   ]
  },
  {
   "cell_type": "code",
   "execution_count": 221,
   "id": "73cf9583",
   "metadata": {},
   "outputs": [],
   "source": [
    "data.loc[data['DeviceInfo'].isin(['SM-A300FU Build/MMB29M', 'SM-A300H', 'SM-A300H Build/LRX22G', 'SM-A300M', 'SM-A300M Build/KTU84P', 'SM-A310F Build/MMB29K', 'SM-A310F Build/NRD90M', 'SM-A310M', 'SM-A310M Build/LMY47X', 'SM-A310M Build/NRD90M', 'SM-A320FL Build/MMB29K', 'SM-A320FL Build/NRD90M', 'SM-A320Y', 'SM-A320Y Build/NRD90M', 'SM-A500FU', 'SM-A500FU Build/MMB29M', 'SM-A500H', 'SM-A500M Build/KTU84P', 'SM-A500M Build/LRX22G', 'SM-A500W', 'SM-A510F Build/MMB29K', 'SM-A510F Build/NRD90M', 'SM-A510M Build/LMY47X', 'SM-A510M Build/MMB29K', 'SM-A510M Build/NRD90M', 'SM-A520F Build/MMB29K', 'SM-A520F Build/NRD90M', 'SM-A520F Build/R16NW', 'SM-A520W', 'SM-A520W Build/NRD90M', 'SM-A530F Build/NMF26X', 'SM-A710M', 'SM-A710M Build/LMY47X', 'SM-A710M Build/NRD90M', 'SM-A720F Build/MMB29K', 'SM-A720F Build/NRD90M', 'SM-A730F Build/NMF26X', 'SM-A800I', 'SM-C900F', 'SM-E500M', 'SM-E500M Build/KTU84P', 'SM-E700M', 'SM-G313ML', 'SM-G318ML', 'SM-G350M', 'SM-G355M Build/KOT49H', 'SM-G360F', 'SM-G360M', 'SM-G360T1 Build/LMY47X', 'SM-G360V', 'SM-G360V Build/LMY48B', 'SM-G361F', 'SM-G386T', 'SM-G386W', 'SM-G388F', 'SM-G390F', 'SM-G390W', 'SM-G530FZ', 'SM-G530H Build/KTU84P', 'SM-G530H Build/LRX22G', 'SM-G530M', 'SM-G530P', 'SM-G530T', 'SM-G530T1', 'SM-G530W', 'SM-G531F', 'SM-G531H Build/LMY48B', 'SM-G532M Build/MMB29T', 'SM-G550T Build/MMB29K', 'SM-G550T1 Build/MMB29K', 'SM-G550T2', 'SM-G570F', 'SM-G570M Build/MMB29K', 'SM-G570M Build/NRD90M', 'SM-G610F', 'SM-G610F Build/NRD90M', 'SM-G610M Build/MMB29K', 'SM-G610M Build/NRD90M', 'SM-G615F', 'SM-G7105', 'SM-G720AX', 'SM-G730V', 'SM-G730W8 Build/KOT49H', 'SM-G800F Build/KOT49H', 'SM-G800F Build/MMB29K', 'SM-G800M Build/KOT49H', 'SM-G850M', 'SM-G850M Build/LRX22G', 'SM-G892A', 'SM-G900F Build/KOT49H', 'SM-G900F Build/LRX21T', 'SM-G900F Build/MMB29M', 'SM-G900FD', 'SM-G900H Build/MMB29K', 'SM-G900I', 'SM-G900L', 'SM-G900M Build/KOT49H', 'SM-G900M Build/LRX21T', 'SM-G900M Build/MMB29M', 'SM-G900P', 'SM-G900P Build/LRX21T', 'SM-G900P Build/MMB29M', 'SM-G900R4', 'SM-G900T Build/MMB29M', 'SM-G900T1', 'SM-G900V', 'SM-G900V Build/LRX21T', 'SM-G900V Build/MMB29M', 'SM-G900W8', 'SM-G901F', 'SM-G903F Build/MMB29K', 'SM-G903M', 'SM-G903W', 'SM-G920F Build/MMB29K', 'SM-G920F Build/NRD90M', 'SM-G920I', 'SM-G920I Build/NRD90M', 'SM-G920P', 'SM-G920P Build/NRD90M', 'SM-G920R4', 'SM-G920T', 'SM-G920T Build/NRD90M', 'SM-G920T1', 'SM-G920V', 'SM-G920V Build/MMB29K', 'SM-G920V Build/NRD90M', 'SM-G920W8', 'SM-G9250', 'SM-G925F Build/NRD90M', 'SM-G925I', 'SM-G925I Build/LMY47X', 'SM-G925I Build/MMB29K', 'SM-G925I Build/NRD90M', 'SM-G925P Build/NRD90M', 'SM-G925R4', 'SM-G925T Build/LMY47X', 'SM-G925T Build/NRD90M', 'SM-G925V Build/NRD90M', 'SM-G925W8', 'SM-G928F', 'SM-G928G', 'SM-G928G Build/MMB29K', 'SM-G928G Build/NRD90M', 'SM-G928P', 'SM-G928P Build/NRD90M', 'SM-G928T Build/NRD90M', 'SM-G928V', 'SM-G928V Build/MMB29K', 'SM-G928V Build/NRD90M', 'SM-G930F Build/MMB29K', 'SM-G930F Build/NRD90M', 'SM-G930P', 'SM-G930P Build/NRD90M', 'SM-G930R4 Build/NRD90M', 'SM-G930R7', 'SM-G930T', 'SM-G930T Build/NRD90M', 'SM-G930T1', 'SM-G930U Build/NRD90M', 'SM-G930V Build/MMB29M', 'SM-G930V Build/NRD90M', 'SM-G930VL Build/NRD90M', 'SM-G930W8 Build/NRD90M', 'SM-G935F Build/MMB29K', 'SM-G935F Build/NRD90M', 'SM-G935P Build/NRD90M', 'SM-G935T', 'SM-G935T Build/NRD90M', 'SM-G935U', 'SM-G935V', 'SM-G935V Build/NRD90M', 'SM-G935W8', 'SM-G950F Build/NRD90M', 'SM-G950F Build/R16NW', 'SM-G950U Build/NRD90M', 'SM-G950U Build/R16NW', 'SM-G950U1 Build/NRD90M', 'SM-G950U1 Build/R16NW', 'SM-G950W', 'SM-G955F', 'SM-G955F Build/NRD90M', 'SM-G955F Build/R16NW', 'SM-G955U Build/NRD90M', 'SM-G955U Build/R16NW', 'SM-G955U1 Build/NRD90M', 'SM-G955U1 Build/R16NW', 'SM-G955W', 'SM-G9600 Build/R16NW', 'SM-G960F Build/R16NW', 'SM-G960U Build/R16NW', 'SM-G9650 Build/R16NW', 'SM-G965F Build/R16NW', 'SM-G965U Build/R16NW', 'SM-J100MU', 'SM-J100VPP Build/LMY48B', 'SM-J105B Build/LMY47V', 'SM-J110M Build/LMY48B', 'SM-J111M Build/LMY47V', 'SM-J120FN Build/LMY47X', 'SM-J120H Build/LMY47V', 'SM-J120M', 'SM-J120W', 'SM-J200H', 'SM-J200M Build/LMY47X', 'SM-J250M Build/NMF26X', 'SM-J320FN Build/LMY47V', 'SM-J320H', 'SM-J320M Build/LMY47V', 'SM-J320P Build/LMY47X', 'SM-J320V Build/MMB29M', 'SM-J320V Build/NMF26X', 'SM-J320VPP', 'SM-J320W8', 'SM-J327P Build/MMB29M', 'SM-J327T Build/NRD90M', 'SM-J327T1 Build/NRD90M', 'SM-J327V Build/NRD90M', 'SM-J327VPP Build/NRD90M', 'SM-J330F', 'SM-J330FN Build/NRD90M', 'SM-J500FN', 'SM-J500FN Build/MMB29M', 'SM-J500G', 'SM-J500H', 'SM-J500M Build/LMY48B', 'SM-J500M Build/MMB29M', 'SM-J510F', 'SM-J510FN', 'SM-J510FN Build/NMF26X', 'SM-J510MN Build/MMB29M', 'SM-J510MN Build/NMF26X', 'SM-J530F Build/NRD90M', 'SM-J530G', 'SM-J530GM Build/NRD90M', 'SM-J700F', 'SM-J700H Build/MMB29K', 'SM-J700M Build/LMY48B', 'SM-J700M Build/MMB29K', 'SM-J700P', 'SM-J700T Build/MMB29K', 'SM-J700T Build/NMF26X', 'SM-J700T1', 'SM-J700T1 Build/NMF26X', 'SM-J701M Build/NRD90M', 'SM-J7108', 'SM-J710F Build/NRD90M', 'SM-J710GN', 'SM-J710GN Build/MMB29K', 'SM-J710MN Build/MMB29K', 'SM-J710MN Build/NRD90M', 'SM-J727P', 'SM-J727T Build/NRD90M', 'SM-J727T1 Build/NRD90M', 'SM-J727U Build/NRD90M', 'SM-J727V Build/NRD90M', 'SM-J727VPP Build/NRD90M', 'SM-J730F', 'SM-J730G Build/NRD90M', 'SM-J730GM Build/NRD90M', 'SM-N9005 Build/LRX21V', 'SM-N900P Build/LRX21V', 'SM-N900T', 'SM-N900T Build/LRX21V', 'SM-N900V Build/LRX21V', 'SM-N900W8 Build/LRX21V', 'SM-N910C Build/MMB29K', 'SM-N910F Build/MMB29M', 'SM-N910H', 'SM-N910P', 'SM-N910T Build/LMY47X', 'SM-N910T Build/MMB29M', 'SM-N910T3', 'SM-N910V Build/MMB29M', 'SM-N915V', 'SM-N920A Build/MMB29K', 'SM-N920C Build/NRD90M', 'SM-N920G Build/NRD90M', 'SM-N920P', 'SM-N920P Build/NRD90M', 'SM-N920R4', 'SM-N920T', 'SM-N920T Build/NRD90M', 'SM-N920V', 'SM-N920V Build/NRD90M', 'SM-N9500', 'SM-N950F Build/NMF26X', 'SM-N950F Build/R16NW', 'SM-N950U Build/NMF26X', 'SM-N950U Build/R16NW', 'SM-N950U1 Build/NMF26X', 'SM-N950U1 Build/R16NW', 'SM-N950W', 'SM-P350 Build/MMB29M', 'SM-P355M', 'SM-P355M Build/MMB29M', 'SM-P550', 'SM-P550 Build/MMB29M', 'SM-P550 Build/NMF26X', 'SM-P580 Build/NRD90M', 'SM-P600', 'SM-P600 Build/LMY47X', 'SM-P605V', 'SM-P607T', 'SM-P900', 'SM-S120VL', 'SM-S320VL', 'SM-S327VL', 'SM-S550TL', 'SM-S727VL Build/MMB29M', 'SM-S820L', 'SM-S902L', 'SM-S903VL', 'SM-S906L', 'SM-S907VL', 'SM-S920L', 'SM-S975L', 'SM-T110 Build/JDQ39', 'SM-T113 Build/KTU84P', 'SM-T113NU Build/KTU84P', 'SM-T210', 'SM-T217S Build/KOT49H', 'SM-T230 Build/KOT49H', 'SM-T230NU Build/KOT49H', 'SM-T237P', 'SM-T280 Build/LMY47V', 'SM-T285M', 'SM-T310 Build/KOT49H', 'SM-T320 Build/KOT49H', 'SM-T330', 'SM-T330NU Build/LMY47X', 'SM-T337V', 'SM-T350 Build/MMB29M', 'SM-T350 Build/NMF26X', 'SM-T355Y Build/NMF26X', 'SM-T377P', 'SM-T377P Build/NMF26X', 'SM-T377T', 'SM-T377V', 'SM-T377V Build/NMF26X', 'SM-T377W', 'SM-T380', 'SM-T520', 'SM-T530', 'SM-T530 Build/LRX22G', 'SM-T530NU Build/LRX22G', 'SM-T537V', 'SM-T550', 'SM-T550 Build/NMF26X', 'SM-T555', 'SM-T560 Build/KTU84P', 'SM-T560NU Build/MMB29M', 'SM-T560NU Build/NMF26X', 'SM-T580', 'SM-T580 Build/NRD90M', 'SM-T585', 'SM-T587P', 'SM-T670', 'SM-T700 Build/MMB29K', 'SM-T705', 'SM-T710 Build/NRD90M', 'SM-T713 Build/NRD90M', 'SM-T800', 'SM-T800 Build/MMB29K', 'SM-T807T', 'SM-T807V', 'SM-T810', 'SM-T810 Build/NRD90M', 'SM-T813 Build/NRD90M', 'SM-T817T', 'SM-T817V Build/NRD90M', 'SM-T818V', 'SM-T820 Build/NRD90M', 'SM-T825 Build/NRD90M', 'SM-T827R4', 'SM-T827V Build/NRD90M']),'DeviceInfo'] = \"SM\""
   ]
  },
  {
   "cell_type": "code",
   "execution_count": 225,
   "id": "9705162a",
   "metadata": {},
   "outputs": [],
   "source": [
    "data.loc[data['DeviceInfo'].isin(['SC-02H', 'SCH-I435', 'SCH-I535', 'SCH-I545 Build/LRX22C', 'SENS', 'SGH-I317M', 'SGH-I337M', 'SGH-I337M Build/LRX22C', 'SGH-I747M', 'SGH-M919 Build/KTU84P', 'SGH-M919N', 'SGH-M919V']),'DeviceInfo'] = \"SGH\""
   ]
  },
  {
   "cell_type": "code",
   "execution_count": 229,
   "id": "5feecb6d",
   "metadata": {},
   "outputs": [],
   "source": [
    "data.loc[data['DeviceInfo'].isin(['SGP511', 'SGP521', 'SGP611', 'SGP621 Build/23.5.A.1.291']),'DeviceInfo'] = \"SGP\""
   ]
  },
  {
   "cell_type": "code",
   "execution_count": 231,
   "id": "3ec538be",
   "metadata": {},
   "outputs": [],
   "source": [
    "data.loc[data['DeviceInfo'].isin(['TA-1003', 'TA-1004', 'TA-1020', 'TA-1025', 'TA-1025 Build/NMF26F', 'TA-1025 Build/OPR1.170623.026', 'TA-1027', 'TA-1027 Build/N2G47H', 'TA-1027 Build/OPR1.170623.026', 'TA-1028 Build/NMF26O', 'TA-1028 Build/NRD90M', 'TA-1028 Build/O00623', 'TA-1032', 'TA-1038', 'TA-1038 Build/NMF26O', 'TA-1038 Build/O00623', 'TA-1039 Build/N2G47H', 'TA-1039 Build/NMF26F', 'TA-1044', 'TA-1044 Build/NMF26F', 'TA-1044 Build/OPR1.170623.026', 'TA-1052']),'DeviceInfo'] = \"Nokia\""
   ]
  },
  {
   "cell_type": "code",
   "execution_count": 242,
   "id": "242013a2",
   "metadata": {},
   "outputs": [],
   "source": [
    "data.loc[data['DeviceInfo'].isin(['M4', 'M4 SS4450 Build/MRA58K', 'M4 SS4451 Build/LMY47D', 'M4 SS4452 Build/LMY47V', 'M4 SS4453 Build/MMB29M', 'M4 SS4456 Build/LMY47V', 'M4 SS4457 Build/MRA58K', 'M4 SS4457-R Build/NRD90M', 'M4 SS4458 Build/MMB29M']),'DeviceInfo'] = \"M4\""
   ]
  },
  {
   "cell_type": "code",
   "execution_count": 244,
   "id": "3901a667",
   "metadata": {},
   "outputs": [],
   "source": [
    "data.loc[data['DeviceInfo'].isin(['Blade', 'Blade A460 Build/LMY47O', 'Blade A465 Build/LMY47D']),'DeviceInfo'] = \"ZTE\""
   ]
  },
  {
   "cell_type": "code",
   "execution_count": 249,
   "id": "5377ab9e",
   "metadata": {},
   "outputs": [],
   "source": [
    "data.loc[data['DeviceInfo'].isin(['NX16A8116KP', 'NX521J', 'NX785QC8G', 'NXA116QC164', 'NXA8QC116', 'NYX_A1']),'DeviceInfo'] = \"Nextbook\""
   ]
  },
  {
   "cell_type": "code",
   "execution_count": 256,
   "id": "9b9f036a",
   "metadata": {},
   "outputs": [],
   "source": [
    "data.loc[data['DeviceInfo'].isin(['iris 820 Build/MRA58K', 'iris 870 Build/MRA58K']),'DeviceInfo'] = \"Iris\""
   ]
  },
  {
   "cell_type": "code",
   "execution_count": 257,
   "id": "23c97cbb",
   "metadata": {},
   "outputs": [],
   "source": [
    "data.loc[data['DeviceInfo'].isin(['iOS Device', 'iPhone']),'DeviceInfo'] = \"IOS\""
   ]
  },
  {
   "cell_type": "code",
   "execution_count": 261,
   "id": "0b7b9400",
   "metadata": {},
   "outputs": [],
   "source": [
    "data.loc[data['DeviceInfo'].isin(['Z557BL', 'Z798BL Build/MMB29M', 'Z799VL', 'Z812', 'Z813 Build/LMY47O', 'Z831', 'Z832 Build/MMB29M', 'Z833', 'Z835 Build/NMF26V', 'Z836BL', 'Z837VL', 'Z839', 'Z9 PLUS Build/NRD90M', 'Z955A', 'Z956 Build/MMB29M', 'Z959 Build/LMY47V', 'Z963VL', 'Z965 Build/NMF26V', 'Z970', 'Z971', 'Z981 Build/MMB29M', 'Z982 Build/NMF26V', 'Z983 Build/NMF26F']),'DeviceInfo'] = \"ZTE\""
   ]
  },
  {
   "cell_type": "code",
   "execution_count": 264,
   "id": "8f739555",
   "metadata": {},
   "outputs": [],
   "source": [
    "data.loc[data['DeviceInfo'].isin(['ZA409', 'ZA509', 'ZA990']),'DeviceInfo'] = \"Zonda\""
   ]
  },
  {
   "cell_type": "code",
   "execution_count": 265,
   "id": "08ba44f2",
   "metadata": {},
   "outputs": [],
   "source": [
    "data.loc[data['DeviceInfo'].isin(['Z410']),'DeviceInfo'] = \"Acer\""
   ]
  },
  {
   "cell_type": "code",
   "execution_count": 269,
   "id": "e03c5d8f",
   "metadata": {},
   "outputs": [],
   "source": [
    "data.loc[data['DeviceInfo'].isin(['VK700 Build/LRX22G', 'VK810', 'VK815', 'VS425', 'VS425PP Build/LMY47V', 'VS500', 'VS501 Build/NRD90U', 'VS5012 Build/NRD90M', 'VS820', 'VS835', 'VS880', 'VS880PP', 'VS980 4G Build/LRX22G', 'VS985', 'VS986 Build/MRA58K', 'VS987 Build/NRD90U', 'VS988 Build/NRD90U', 'VS990 Build/MRA58K', 'VS995 Build/NRD90M', 'VS996', 'VS996 Build/OPR1.170623.026']),'DeviceInfo'] = \"LG\""
   ]
  },
  {
   "cell_type": "code",
   "execution_count": null,
   "id": "79f74b0c",
   "metadata": {},
   "outputs": [],
   "source": [
    "data.loc[data['DeviceInfo'].isin([]),'DeviceInfo'] = \"\""
   ]
  },
  {
   "cell_type": "code",
   "execution_count": null,
   "id": "ab6d6f48",
   "metadata": {},
   "outputs": [],
   "source": [
    "data.loc[data['DeviceInfo'].isin([]),'DeviceInfo'] = \"\""
   ]
  },
  {
   "cell_type": "code",
   "execution_count": null,
   "id": "e4ac5ae8",
   "metadata": {},
   "outputs": [],
   "source": [
    "data.loc[data['DeviceInfo'].isin([]),'DeviceInfo'] = \"\""
   ]
  },
  {
   "cell_type": "code",
   "execution_count": null,
   "id": "218da3d6",
   "metadata": {},
   "outputs": [],
   "source": [
    "data.loc[data['DeviceInfo'].isin([]),'DeviceInfo'] = \"\""
   ]
  },
  {
   "cell_type": "code",
   "execution_count": null,
   "id": "1138e590",
   "metadata": {},
   "outputs": [],
   "source": [
    "data.loc[data['DeviceInfo'].isin([]),'DeviceInfo'] = \"\""
   ]
  },
  {
   "cell_type": "code",
   "execution_count": null,
   "id": "b331c4ed",
   "metadata": {},
   "outputs": [],
   "source": [
    "data.loc[data['DeviceInfo'].isin([]),'DeviceInfo'] = \"\""
   ]
  },
  {
   "cell_type": "code",
   "execution_count": null,
   "id": "186dce71",
   "metadata": {},
   "outputs": [],
   "source": [
    "data.loc[data['DeviceInfo'].isin([]),'DeviceInfo'] = \"\""
   ]
  },
  {
   "cell_type": "code",
   "execution_count": null,
   "id": "6b043530",
   "metadata": {},
   "outputs": [],
   "source": [
    "data.loc[data['DeviceInfo'].isin([]),'DeviceInfo'] = \"\""
   ]
  }
 ],
 "metadata": {
  "kernelspec": {
   "display_name": "Python 3",
   "language": "python",
   "name": "python3"
  },
  "language_info": {
   "codemirror_mode": {
    "name": "ipython",
    "version": 3
   },
   "file_extension": ".py",
   "mimetype": "text/x-python",
   "name": "python",
   "nbconvert_exporter": "python",
   "pygments_lexer": "ipython3",
   "version": "3.8.8"
  }
 },
 "nbformat": 4,
 "nbformat_minor": 5
}
