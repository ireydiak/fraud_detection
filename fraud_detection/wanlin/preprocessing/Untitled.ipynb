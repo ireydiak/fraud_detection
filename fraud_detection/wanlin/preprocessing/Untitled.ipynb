{
 "cells": [
  {
   "cell_type": "code",
   "execution_count": null,
   "id": "1c12e044-1379-4c18-8595-68880ad0c8d9",
   "metadata": {},
   "outputs": [],
   "source": [
    "[\n",
    " \n",
    " \n",
    "\n",
    "    \n",
    "    \n",
    "  \n",
    " \n",
    "  \n",
    " \n",
    "\n",
    "  \n",
    "   \n",
    "  \n",
    "  \n",
    " 'TransactionDT', 'Trans_hours', 'ProductCD', 'card6', 'P_emaildomain', 'R_emaildomain', \n",
    " 'M1', 'M2', 'M3', 'M4', 'M6', 'M7', 'M8', 'M9', \n",
    " \n",
    " 'DeviceType', 'DeviceInfo']"
   ]
  },
  {
   "cell_type": "code",
   "execution_count": null,
   "id": "5e8d98e8-05fd-470b-847d-edf7521542ee",
   "metadata": {},
   "outputs": [],
   "source": []
  },
  {
   "cell_type": "code",
   "execution_count": null,
   "id": "45994fd1-b258-4ff7-bae6-89b3242cc544",
   "metadata": {},
   "outputs": [],
   "source": []
  },
  {
   "cell_type": "code",
   "execution_count": null,
   "id": "a97a1bef-8d53-458d-a04a-63bc9c0c546f",
   "metadata": {},
   "outputs": [],
   "source": []
  },
  {
   "cell_type": "code",
   "execution_count": null,
   "id": "e6fa06e0-d0ca-4698-afcf-c003d7a25ca9",
   "metadata": {},
   "outputs": [],
   "source": []
  },
  {
   "cell_type": "code",
   "execution_count": null,
   "id": "10fafa28-092d-4526-a2f6-1215e265e7ba",
   "metadata": {},
   "outputs": [],
   "source": []
  },
  {
   "cell_type": "code",
   "execution_count": null,
   "id": "6581cb9d-d22c-4869-853e-727b9682e186",
   "metadata": {},
   "outputs": [],
   "source": []
  }
 ],
 "metadata": {
  "kernelspec": {
   "display_name": "Python 3",
   "language": "python",
   "name": "python3"
  },
  "language_info": {
   "codemirror_mode": {
    "name": "ipython",
    "version": 3
   },
   "file_extension": ".py",
   "mimetype": "text/x-python",
   "name": "python",
   "nbconvert_exporter": "python",
   "pygments_lexer": "ipython3",
   "version": "3.8.8"
  }
 },
 "nbformat": 4,
 "nbformat_minor": 5
}
