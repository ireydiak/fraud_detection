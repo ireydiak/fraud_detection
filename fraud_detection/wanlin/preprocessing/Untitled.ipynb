{
 "cells": [
  {
   "cell_type": "code",
   "execution_count": null,
   "id": "1c12e044-1379-4c18-8595-68880ad0c8d9",
   "metadata": {},
   "outputs": [],
   "source": [
    "droplist = ['dist2', 'C1', 'C2', 'C3', 'C4','V1', \n",
    "             'V6','V19', 'V20','V26', 'V61', 'V62', 'V88', 'V98',  'V100','V130', 'V172', 'V175', 'V180', \n",
    "            'V187', 'V192', 'V195', 'V197', 'V198', 'V205',  'V210', 'V215', 'V235','V266', 'V286', 'V294', 'V305','V310', 'Trans_DayOfWeek', 'card4',  'M5', 'id_27', 'id_33']"
   ]
  }
 ],
 "metadata": {
  "kernelspec": {
   "display_name": "Python 3",
   "language": "python",
   "name": "python3"
  },
  "language_info": {
   "codemirror_mode": {
    "name": "ipython",
    "version": 3
   },
   "file_extension": ".py",
   "mimetype": "text/x-python",
   "name": "python",
   "nbconvert_exporter": "python",
   "pygments_lexer": "ipython3",
   "version": "3.8.8"
  }
 },
 "nbformat": 4,
 "nbformat_minor": 5
}
