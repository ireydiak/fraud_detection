{
 "cells": [
  {
   "cell_type": "code",
   "execution_count": 217,
   "id": "9ec80697-8418-46a7-8f68-812a05adc914",
   "metadata": {},
   "outputs": [],
   "source": [
    "%matplotlib notebook\n",
    "import numpy as np # linear algebra\n",
    "import pandas as pd # data processing\n",
    "import seaborn as sns  # data visualization library  \n",
    "import matplotlib.pyplot as plt"
   ]
  },
  {
   "cell_type": "code",
   "execution_count": 134,
   "id": "e07acc16-6bd2-4dd3-af40-edbc6dc12bf0",
   "metadata": {},
   "outputs": [],
   "source": [
    "color_pal = [x['color'] for x in plt.rcParams['axes.prop_cycle']]"
   ]
  },
  {
   "cell_type": "markdown",
   "id": "ee459967-c73e-4b92-bfc4-d33682cff6ac",
   "metadata": {},
   "source": [
    "## Merge datasets"
   ]
  },
  {
   "cell_type": "code",
   "execution_count": 2,
   "id": "4dd0f461-27f4-4cc3-ac28-222151fa8fb2",
   "metadata": {},
   "outputs": [],
   "source": [
    "folder_path = './'\n",
    "train_identity = pd.read_csv(f'{folder_path}train_identity.csv')\n",
    "train_transaction = pd.read_csv(f'{folder_path}train_transaction.csv')\n",
    "test_identity = pd.read_csv(f'{folder_path}test_identity.csv')\n",
    "test_transaction = pd.read_csv(f'{folder_path}test_transaction.csv')\n",
    "sub = pd.read_csv(f'{folder_path}sample_submission.csv')\n",
    "# let's combine the data and work with the whole dataset\n",
    "train = pd.merge(train_transaction, train_identity, on='TransactionID', how='left')\n",
    "test = pd.merge(test_transaction, test_identity, on='TransactionID', how='left')"
   ]
  },
  {
   "cell_type": "code",
   "execution_count": 3,
   "id": "7e746f97-33e5-46a3-8c1d-23e6947ee5e5",
   "metadata": {},
   "outputs": [
    {
     "name": "stdout",
     "output_type": "stream",
     "text": [
      "Train dataset has 590540 rows and 434 columns.\n",
      "Test dataset has 506691 rows and 433 columns.\n"
     ]
    }
   ],
   "source": [
    "print(f'Train dataset has {train.shape[0]} rows and {train.shape[1]} columns.')\n",
    "print(f'Test dataset has {test.shape[0]} rows and {test.shape[1]} columns.')"
   ]
  },
  {
   "cell_type": "code",
   "execution_count": 4,
   "id": "f4a7d60d-971b-42b5-969b-361d7f528d3f",
   "metadata": {},
   "outputs": [],
   "source": [
    "# delete useless variables\n",
    "del train_identity, train_transaction, test_identity, test_transaction"
   ]
  },
  {
   "cell_type": "markdown",
   "id": "92ebd048-0ca9-42dc-afc9-8dd50c0fee33",
   "metadata": {},
   "source": [
    "## Drop the columns with 85% or more null values\n",
    "The transaction table has more cases of missing data. 55 of the 394 features have more than 80% missing data, and 113 features have missing data between 70% and 80%. Similar missing data patterns were found among features which have consecutive names. Specifically, the missing data rates of \"D6\"-\"D9\" and \"D12\"-\"D14\" were all above 87.3122%. The missing data rate of \"D6\" - \"D9\" and \"D12\" - \"D14\" was above 87.3122%. The missing data rate for \"V138\" - \"V166\" is between 86.1227% and 86.1237%. All features from \"V323\" to \"V339\" have missing data rate of 86.054967%. This regularity exhibited in the missing data suggests that there may have a strong correlation between these consecutive numerically arranged features, although the data provider does not explain the specific meaning expressed by these encrypted features."
   ]
  },
  {
   "cell_type": "code",
   "execution_count": 5,
   "id": "bc6c6f3c-6463-45b7-879f-df984676e512",
   "metadata": {},
   "outputs": [
    {
     "name": "stdout",
     "output_type": "stream",
     "text": [
      "list_drop_89:  ['D6', 'D7', 'D8', 'D9', 'D12', 'D13', 'D14']\n",
      "list_drop_86:  ['V138', 'V139', 'V140', 'V141', 'V142', 'V143', 'V144', 'V145', 'V146', 'V147', 'V148', 'V149', 'V150', 'V151', 'V152', 'V153', 'V154', 'V155', 'V156', 'V157', 'V158', 'V159', 'V160', 'V161', 'V162', 'V163', 'V164', 'V165', 'V166']\n",
      "list_drop_85:  ['V323', 'V324', 'V325', 'V326', 'V327', 'V328', 'V329', 'V330', 'V331', 'V332', 'V333', 'V334', 'V335', 'V336', 'V337', 'V338', 'V339']\n"
     ]
    }
   ],
   "source": [
    "list_drop_89 = []\n",
    "for i in list(range(6,10)):\n",
    "    add =\"D\" + str(i)\n",
    "    #print(add)\n",
    "    list_drop_89.append(add)\n",
    "for i in list(range(12,15)):\n",
    "    add =\"D\" + str(i)\n",
    "    #print(add)\n",
    "    list_drop_89.append(add)\n",
    "print(\"list_drop_89: \",list_drop_89)\n",
    "\n",
    "list_drop_86 = []\n",
    "for i in list(range(138,167)):\n",
    "    add =\"V\" + str(i) \n",
    "    #print(add)\n",
    "    list_drop_86.append(add)\n",
    "print(\"list_drop_86: \",list_drop_86)\n",
    "\n",
    "list_drop_85 = []\n",
    "for i in list(range(323,340)):\n",
    "    add =\"V\" + str(i) \n",
    "    #print(add)\n",
    "    list_drop_85.append(add)\n",
    "print(\"list_drop_85: \",list_drop_85)"
   ]
  },
  {
   "cell_type": "code",
   "execution_count": 7,
   "id": "4fd5ffef-3179-48ea-99dc-f29f3d972657",
   "metadata": {},
   "outputs": [
    {
     "name": "stdout",
     "output_type": "stream",
     "text": [
      "['D6', 'D7', 'D8', 'D9', 'D12', 'D13', 'D14', 'V138', 'V139', 'V140', 'V141', 'V142', 'V143', 'V144', 'V145', 'V146', 'V147', 'V148', 'V149', 'V150', 'V151', 'V152', 'V153', 'V154', 'V155', 'V156', 'V157', 'V158', 'V159', 'V160', 'V161', 'V162', 'V163', 'V164', 'V165', 'V166', 'V323', 'V324', 'V325', 'V326', 'V327', 'V328', 'V329', 'V330', 'V331', 'V332', 'V333', 'V334', 'V335', 'V336', 'V337', 'V338', 'V339']\n"
     ]
    }
   ],
   "source": [
    "droplist= list_drop_89 + list_drop_86 + list_drop_85\n",
    "print(droplist)"
   ]
  },
  {
   "cell_type": "code",
   "execution_count": 8,
   "id": "f8150127-67e4-49b5-a68c-6fd2e5a4cf4a",
   "metadata": {},
   "outputs": [],
   "source": [
    "# delete useless variables\n",
    "del list_drop_89, list_drop_86, list_drop_85"
   ]
  },
  {
   "cell_type": "code",
   "execution_count": 9,
   "id": "1e5b4570-3653-4da5-9dab-bc821fa494e7",
   "metadata": {},
   "outputs": [
    {
     "name": "stdout",
     "output_type": "stream",
     "text": [
      "Train dataset has 590540 rows and 381 columns.\n",
      "Test dataset has 506691 rows and 380 columns.\n"
     ]
    }
   ],
   "source": [
    "train.drop(droplist, 1,inplace = True)\n",
    "test.drop(droplist, 1,inplace = True)\n",
    "print(f'Train dataset has {train.shape[0]} rows and {train.shape[1]} columns.')\n",
    "print(f'Test dataset has {test.shape[0]} rows and {test.shape[1]} columns.')"
   ]
  },
  {
   "cell_type": "markdown",
   "id": "5ca39396-4404-489c-afbe-ebd7e5b077f8",
   "metadata": {},
   "source": [
    "## clean up the features based on their email domain (“P_emaildomain” and “R_emaildomain”)\n",
    "we need to clean up the features based on their email domain (“P_emaildomain” and “R_emaildomain”). Because some of the email domain will separate from the different countries. For example, “yahoo.co.jp”, “yahoo.de”, “yahoo.fr”. What we need here is just the information of email provider. So, all three records above will be converted to “yahoo”"
   ]
  },
  {
   "cell_type": "code",
   "execution_count": 59,
   "id": "8d1c0aee-7110-4d46-82eb-5f407f51ae5e",
   "metadata": {},
   "outputs": [],
   "source": [
    "for col in ['P_emaildomain','R_emaildomain']:\n",
    "    #For train\n",
    "    train.loc[train[col].isin(['yahoo.co.jp','yahoo.co.uk', 'yahoo.com', 'yahoo.com.mx', 'yahoo.de', 'yahoo.es',\n",
    "       'yahoo.fr', 'ymail.com']),col] = \"Yahoo\"\n",
    "    train.loc[train[col].isin(['gmail','gmail.com']),col] = \"Gmail\"\n",
    "    train.loc[train[col].isin(['hotmail.co.uk','hotmail.com','hotmail.de', 'hotmail.es', 'hotmail.fr']),col] = \"Hotmail\"\n",
    "    train.loc[train[col].isin(['live.com', 'live.com.mx', 'live.fr']),col] = \"Live\"\n",
    "    train.loc[train[col].isin(['outlook.com', 'outlook.es']),col] = \"Outlook\"\n",
    "    train.loc[train[col].isin(['netzero.com', 'netzero.net']),col] = \"Netzero\"\n",
    "    train.loc[train[col].isin(['frontier.com', 'frontiernet.net']),col] = \"Frontiernet\"\n",
    "    # For test\n",
    "    test.loc[test[col].isin(['yahoo.co.jp','yahoo.co.uk', 'yahoo.com', 'yahoo.com.mx', 'yahoo.de', 'yahoo.es',\n",
    "       'yahoo.fr', 'ymail.com']),col] = \"Yahoo\"\n",
    "    test.loc[test[col].isin(['gmail','gmail.com']),col] = \"Gmail\"\n",
    "    test.loc[test[col].isin(['hotmail.co.uk','hotmail.com','hotmail.de', 'hotmail.es', 'hotmail.fr']),col] = \"Hotmail\"\n",
    "    test.loc[test[col].isin(['live.com', 'live.com.mx', 'live.fr']),col] = \"Live\"\n",
    "    test.loc[test[col].isin(['outlook.com', 'outlook.es']),col] = \"Outlook\"\n",
    "    test.loc[test[col].isin(['netzero.com', 'netzero.net']),col] = \"Netzero\"\n",
    "    test.loc[test[col].isin(['frontier.com', 'frontiernet.net']),col] = \"Frontiernet\"\n"
   ]
  },
  {
   "cell_type": "code",
   "execution_count": 60,
   "id": "8b42d6a4-ab37-41e2-957b-5cc080e75fb5",
   "metadata": {},
   "outputs": [
    {
     "data": {
      "text/plain": [
       "array(['Frontiernet', 'Gmail', 'Hotmail', 'Live', 'Netzero', 'Outlook',\n",
       "       'Yahoo', 'aim.com', 'anonymous.com', 'aol.com', 'att.net',\n",
       "       'bellsouth.net', 'cableone.net', 'centurylink.net', 'cfl.rr.com',\n",
       "       'charter.net', 'comcast.net', 'cox.net', 'earthlink.net',\n",
       "       'embarqmail.com', 'gmx.de', 'icloud.com', 'juno.com', 'mac.com',\n",
       "       'mail.com', 'me.com', 'msn.com', 'optonline.net', 'prodigy.net.mx',\n",
       "       'protonmail.com', 'ptd.net', 'q.com', 'roadrunner.com',\n",
       "       'rocketmail.com', 'sbcglobal.net', 'sc.rr.com', 'servicios-ta.com',\n",
       "       'suddenlink.net', 'twc.com', 'verizon.net', 'web.de',\n",
       "       'windstream.net'], dtype=object)"
      ]
     },
     "execution_count": 60,
     "metadata": {},
     "output_type": "execute_result"
    }
   ],
   "source": [
    "#check\n",
    "p = train['P_emaildomain'].unique()\n",
    "p_new = p[~pd.isnull(p)]\n",
    "p_new.sort()\n",
    "p_new"
   ]
  },
  {
   "cell_type": "code",
   "execution_count": 61,
   "id": "15aad5d2-3815-4525-a33e-3632226a683b",
   "metadata": {},
   "outputs": [
    {
     "data": {
      "text/plain": [
       "array(['Frontiernet', 'Gmail', 'Hotmail', 'Live', 'Netzero', 'Outlook',\n",
       "       'Yahoo', 'aim.com', 'anonymous.com', 'aol.com', 'att.net',\n",
       "       'bellsouth.net', 'cableone.net', 'centurylink.net', 'cfl.rr.com',\n",
       "       'charter.net', 'comcast.net', 'cox.net', 'earthlink.net',\n",
       "       'embarqmail.com', 'gmx.de', 'icloud.com', 'juno.com', 'mac.com',\n",
       "       'mail.com', 'me.com', 'msn.com', 'optonline.net', 'prodigy.net.mx',\n",
       "       'protonmail.com', 'ptd.net', 'q.com', 'roadrunner.com',\n",
       "       'rocketmail.com', 'sbcglobal.net', 'sc.rr.com', 'scranton.edu',\n",
       "       'servicios-ta.com', 'suddenlink.net', 'twc.com', 'verizon.net',\n",
       "       'web.de', 'windstream.net'], dtype=object)"
      ]
     },
     "execution_count": 61,
     "metadata": {},
     "output_type": "execute_result"
    }
   ],
   "source": [
    "#check\n",
    "p = test['P_emaildomain'].unique()\n",
    "p_new = p[~pd.isnull(p)]\n",
    "p_new.sort()\n",
    "p_new"
   ]
  },
  {
   "cell_type": "code",
   "execution_count": 62,
   "id": "931516ed-610e-4039-90c8-00c3df5fe6c4",
   "metadata": {},
   "outputs": [
    {
     "data": {
      "text/plain": [
       "array(['Frontiernet', 'Gmail', 'Hotmail', 'Live', 'Netzero', 'Outlook',\n",
       "       'Yahoo', 'aim.com', 'anonymous.com', 'aol.com', 'att.net',\n",
       "       'bellsouth.net', 'cableone.net', 'centurylink.net', 'cfl.rr.com',\n",
       "       'charter.net', 'comcast.net', 'cox.net', 'earthlink.net',\n",
       "       'embarqmail.com', 'gmx.de', 'icloud.com', 'juno.com', 'mac.com',\n",
       "       'mail.com', 'me.com', 'msn.com', 'optonline.net', 'prodigy.net.mx',\n",
       "       'protonmail.com', 'ptd.net', 'q.com', 'roadrunner.com',\n",
       "       'rocketmail.com', 'sbcglobal.net', 'sc.rr.com', 'scranton.edu',\n",
       "       'servicios-ta.com', 'suddenlink.net', 'twc.com', 'verizon.net',\n",
       "       'web.de', 'windstream.net'], dtype=object)"
      ]
     },
     "execution_count": 62,
     "metadata": {},
     "output_type": "execute_result"
    }
   ],
   "source": [
    "#check\n",
    "p = train['R_emaildomain'].unique()\n",
    "p_new = p[~pd.isnull(p)]\n",
    "p_new.sort()\n",
    "p_new"
   ]
  },
  {
   "cell_type": "code",
   "execution_count": 63,
   "id": "62fcf484-ddbb-4a36-a91d-6de0ea21dd28",
   "metadata": {},
   "outputs": [
    {
     "data": {
      "text/plain": [
       "array(['Frontiernet', 'Gmail', 'Hotmail', 'Live', 'Netzero', 'Outlook',\n",
       "       'Yahoo', 'aim.com', 'anonymous.com', 'aol.com', 'att.net',\n",
       "       'bellsouth.net', 'cableone.net', 'centurylink.net', 'cfl.rr.com',\n",
       "       'charter.net', 'comcast.net', 'cox.net', 'earthlink.net',\n",
       "       'embarqmail.com', 'gmx.de', 'icloud.com', 'juno.com', 'mac.com',\n",
       "       'mail.com', 'me.com', 'msn.com', 'optonline.net', 'prodigy.net.mx',\n",
       "       'protonmail.com', 'ptd.net', 'q.com', 'roadrunner.com',\n",
       "       'rocketmail.com', 'sbcglobal.net', 'sc.rr.com', 'scranton.edu',\n",
       "       'servicios-ta.com', 'suddenlink.net', 'twc.com', 'verizon.net',\n",
       "       'web.de', 'windstream.net'], dtype=object)"
      ]
     },
     "execution_count": 63,
     "metadata": {},
     "output_type": "execute_result"
    }
   ],
   "source": [
    "#check\n",
    "p = test['R_emaildomain'].unique()\n",
    "p_new = p[~pd.isnull(p)]\n",
    "p_new.sort()\n",
    "p_new"
   ]
  },
  {
   "cell_type": "markdown",
   "id": "3470ca3e-a55b-433a-8d40-2cbf828cba90",
   "metadata": {},
   "source": [
    "## time-based split"
   ]
  },
  {
   "cell_type": "markdown",
   "id": "06c5d5aa-5db8-4577-b1b1-f5eb2ad42409",
   "metadata": {},
   "source": [
    "A very important idea: it seems that train and test transaction dates don't overlap, so it would be prudent to use time-based split for validation. This was already noted in abother kernel: https://www.kaggle.com/robikscube/ieee-fraud-detection-first-look-and-eda"
   ]
  },
  {
   "cell_type": "code",
   "execution_count": 71,
   "id": "368b6ffc-bc69-49a0-bf43-f8134c818893",
   "metadata": {},
   "outputs": [
    {
     "data": {
      "image/png": "[encoded data removed]",
      "text/plain": [
       "<Figure size 432x288 with 1 Axes>"
      ]
     },
     "metadata": {
      "needs_background": "light"
     },
     "output_type": "display_data"
    }
   ],
   "source": [
    "%matplotlib inline\n",
    "plt.hist(train['TransactionDT'], label='train', bins=50);\n",
    "plt.hist(test['TransactionDT'], label='test', bins = 50);\n",
    "plt.legend();\n",
    "plt.title('Distribution of transactiond dates');"
   ]
  },
  {
   "cell_type": "markdown",
   "id": "93388b76-a9aa-4f7c-9e0a-7a27669e21f5",
   "metadata": {},
   "source": [
    "## clean up the features “DeviceInfo” "
   ]
  },
  {
   "cell_type": "code",
   "execution_count": 77,
   "id": "af5dde45-e859-48f2-ab71-1813c74848d4",
   "metadata": {},
   "outputs": [
    {
     "data": {
      "image/png": "[encoded data removed]",
      "text/plain": [
       "<Figure size 1080x360 with 1 Axes>"
      ]
     },
     "metadata": {
      "needs_background": "light"
     },
     "output_type": "display_data"
    }
   ],
   "source": [
    "train.groupby('DeviceInfo') \\\n",
    "    .count()['TransactionID'] \\\n",
    "    .sort_values(ascending=False) \\\n",
    "    .head(20) \\\n",
    "    .plot(kind='barh', figsize=(15, 5), title='Top 20 Devices in Train')\n",
    "plt.show()"
   ]
  },
  {
   "cell_type": "code",
   "execution_count": 78,
   "id": "7c7ce752-5f56-42f9-bd6a-49652607c281",
   "metadata": {},
   "outputs": [
    {
     "data": {
      "image/png": "[encoded data removed]",
      "text/plain": [
       "<Figure size 1080x360 with 1 Axes>"
      ]
     },
     "metadata": {
      "needs_background": "light"
     },
     "output_type": "display_data"
    }
   ],
   "source": [
    "test.groupby('DeviceInfo') \\\n",
    "    .count()['TransactionID'] \\\n",
    "    .sort_values(ascending=False) \\\n",
    "    .head(20) \\\n",
    "    .plot(kind='barh', figsize=(15, 5), title='Top 20 Devices in Test')\n",
    "plt.show()"
   ]
  },
  {
   "cell_type": "markdown",
   "id": "5d0d27c4-2713-47c7-a5a5-93baf602c561",
   "metadata": {},
   "source": [
    "Note: (1)It is important to be careful here - some of info could be for old devices and may be absent from test data.\n",
    "    (2)“DeviceInfo” record different versions of devices, such as Windows or IOS. \n",
    "        We can find information like “Windows 10”, “Windows 7”, “iso 11.2.1”, “iso 11.1.2”, “iso 11.4.1”.\n",
    "        However, the versions don’t split different users. What we needed is just the base of the operation system. \n",
    "        So we transfer different versions of device’s record in to one record. "
   ]
  },
  {
   "cell_type": "code",
   "execution_count": 97,
   "id": "f10ac9df-8c15-4adb-97b9-57c256c0710c",
   "metadata": {},
   "outputs": [
    {
     "data": {
      "text/plain": [
       "True"
      ]
     },
     "execution_count": 97,
     "metadata": {},
     "output_type": "execute_result"
    }
   ],
   "source": [
    "#some of info could be for old devices and may be absent from test data\n",
    "(~train['DeviceInfo'].isin(test['DeviceInfo'])).any()"
   ]
  },
  {
   "cell_type": "code",
   "execution_count": 98,
   "id": "7d69bbd5-420a-4c0b-879a-b6557129a552",
   "metadata": {},
   "outputs": [
    {
     "data": {
      "text/plain": [
       "True"
      ]
     },
     "execution_count": 98,
     "metadata": {},
     "output_type": "execute_result"
    }
   ],
   "source": [
    "(~test['DeviceInfo'].isin(train['DeviceInfo'])).any()"
   ]
  },
  {
   "cell_type": "code",
   "execution_count": 114,
   "id": "d1bfbbc9-dd9d-4b6f-b8bc-e7ad1302915c",
   "metadata": {},
   "outputs": [
    {
     "data": {
      "text/plain": [
       "573"
      ]
     },
     "execution_count": 114,
     "metadata": {},
     "output_type": "execute_result"
    }
   ],
   "source": [
    "train_device=train['DeviceInfo'].unique().tolist()\n",
    "test_device=test['DeviceInfo'].unique().tolist()\n",
    "old_device = list(set(train_device)-set(test_device))\n",
    "#print(old_device)\n",
    "len(old_device)"
   ]
  },
  {
   "cell_type": "code",
   "execution_count": 169,
   "id": "1703eebe-c85c-4869-b864-b5b85aa5cf8a",
   "metadata": {},
   "outputs": [],
   "source": [
    "for data in [train, test]:\n",
    "    data.loc[data['DeviceInfo'].isin(['vivo','Vivo']),'DeviceInfo'] = \"Vivo\"\n",
    "    data.loc[data['DeviceInfo'].isin(old_device),'DeviceInfo'] = \"Old_Device\"\n",
    "    data.loc[data['DeviceInfo'].isin(['Blade A475 Build/LMY47D', 'Blade A510 Build/MRA58K', 'Blade L2 Plus Build/KOT49H', 'Blade L3 Build/KOT49H', 'Blade L5 Build/LMY47I', 'Blade V580 Build/LMY47D', 'Blade V6 Build/LRX22G', 'Blade V6 Max Build/MRA58K', 'Blade V6 Plus Build/MRA58K']),'DeviceInfo'] = \"Blade\"\n",
    "    data.loc[data['DeviceInfo'].isin(['Android', 'Android 4.4.2', 'Android 5.1', 'Android 5.1.1', 'Android 6.0', 'Android 6.0.1', 'Android 7.0', 'Android 7.1.2']),'DeviceInfo'] = \"Android\"\n",
    "    data.loc[data['DeviceInfo'].isin(['Blade A475 Build/LMY47D', 'Blade A510 Build/MRA58K', 'Blade L2 Plus Build/KOT49H', 'Blade L3 Build/KOT49H', 'Blade L5 Build/LMY47I', 'Blade V580 Build/LMY47D', 'Blade V6 Build/LRX22G', 'Blade V6 Max Build/MRA58K', 'Blade V6 Plus Build/MRA58K']),'DeviceInfo'] = \"Blade\"\n",
    "    data.loc[data['DeviceInfo'].isin(['HUAWEI', 'HUAWEI Build/MMB28B', 'HUAWEI CAN-L01 Build/HUAWEICAN-L01', 'HUAWEI CAN-L11 Build/HUAWEICAN-L11', 'HUAWEI CUN-L03 Build/HUAWEICUN-L03', 'HUAWEI G7-L03 Build/HuaweiG7-L03', 'HUAWEI GRA-L09 Build/HUAWEIGRA-L09', 'HUAWEI LUA-U23 Build/HUAWEILUA-U23', 'HUAWEI LYO-L21 Build/HUAWEILYO-L21', 'HUAWEI M2-801W Build/HUAWEIM2-801W', 'HUAWEI NXT-L09 Build/HUAWEINXT-L09', 'HUAWEI RIO-L03 Build/HUAWEIRIO-L03', 'HUAWEI TAG-L13 Build/HUAWEITAG-L13', 'HUAWEI VNS-L21 Build/HUAWEIVNS-L21', 'HUAWEI VNS-L23 Build/HUAWEIVNS-L23', 'HUAWEI VNS-L31 Build/HUAWEIVNS-L31', 'HUAWEI VNS-L53 Build/HUAWEIVNS-L53', 'HUAWEI Y360-U23 Build/HUAWEIY360-U23', 'HUAWEI Y520-U03 Build/HUAWEIY520-U03', 'HUAWEI Y560-L03 Build/HUAWEIY560-L03', 'HUAWEI Y625-U13 Build/HUAWEIY625-U13','WAS-L03T Build/HUAWEIWAS-L03T', 'WAS-LX1 Build/HUAWEIWAS-LX1', 'WAS-LX1A Build/HUAWEIWAS-LX1A','BLA-L09 Build/HUAWEIBLA-L09','BLA-L29 Build/HUAWEIBLA-L29','BAH-L09 Build/HUAWEIBAH-L09','ALP-L09 Build/HUAWEIALP-L09S','ALE-L21 Build/HuaweiALE-L21', 'ALE-L23 Build/HuaweiALE-L23', 'ALP-L09 Build/HUAWEIALP-L09', 'ALP-L09 Build/HUAWEIALP-L09S','BAC-L03 Build/HUAWEIBAC-L03','BLL-L23 Build/HUAWEIBLL-L23','CRO-L03 Build/HUAWEICRO-L03','CAM-L03 Build/HUAWEICAM-L03','CHC-U03 Build/HuaweiCHC-U03','CAM-L03 Build/HUAWEICAM-L03','EML-L29 Build/HUAWEIEML-L29', 'EVA-L09 Build/HUAWEIEVA-L09', 'EVA-L19 Build/HUAWEIEVA-L19','FIG-LX3 Build/HUAWEIFIG-LX3','FRD-L04 Build/HUAWEIFRD-L04', 'FRD-L09 Build/HUAWEIFRD-L09', 'FRD-L14 Build/HUAWEIFRD-L14','H1711 Build/HUAWEIH1711','PRA-LX1 Build/HUAWEIPRA-LX1', 'PRA-LX3 Build/HUAWEIPRA-LX3','MYA-L13 Build/HUAWEIMYA-L13','RNE-L03 Build/HUAWEIRNE-L03', 'RNE-L21 Build/HUAWEIRNE-L21', 'RNE-L22 Build/HUAWEIRNE-L22', 'RNE-L23 Build/HUAWEIRNE-L23','MYA-L03 Build/HUAWEIMYA-L03','SLA-L03 Build/HUAWEISLA-L03','VTR-AL00 Build/HUAWEIVTR-AL00', 'VTR-L09 Build/HUAWEIVTR-L09','WAS-LX3 Build/HUAWEIWAS-LX3', 'WAS-TL10 Build/HUAWEIWAS-TL10','VKY-L09 Build/HUAWEIVKY-L09','ANE-LX3 Build/HUAWEIANE-LX3']),'DeviceInfo'] = \"HUAWEI\"\n",
    "    data.loc[data['DeviceInfo'].isin(['Hisense', 'Hisense E51 Build/LMY47V', 'Hisense F102 Build/NRD90M', 'Hisense F20 Build/MMB29M', 'Hisense F23 Build/NRD90M', 'Hisense F24 Build/NRD90M', 'Hisense F32 Build/NMF26F', 'Hisense F8 MINI Build/NRD90M', 'Hisense L675 Build/MRA58K', 'Hisense L675 PRO Build/NRD90M', 'Hisense T963 Build/MRA58K', 'Hisense U963 Build/MRA58K']),'DeviceInfo'] = \"Hisense\"\n",
    "    data.loc[data['DeviceInfo'].isin(['SAMSUNG', 'SAMSUNG SM-A300H Build/LRX22G', 'SAMSUNG SM-A310F Build/NRD90M', 'SAMSUNG SM-A310F/A310FXXU4CRB1 Build/NRD90M', 'SAMSUNG SM-A310M Build/LMY47X', 'SAMSUNG SM-A320FL Build/NRD90M', 'SAMSUNG SM-A320Y Build/NRD90M', 'SAMSUNG SM-A510F Build/NRD90M', 'SAMSUNG SM-A510M Build/MMB29K', 'SAMSUNG SM-A510M Build/NRD90M', 'SAMSUNG SM-A520F Build/NRD90M', 'SAMSUNG SM-A710M Build/NRD90M', 'SAMSUNG SM-A720F Build/NRD90M', 'SAMSUNG SM-A730F Build/NMF26X', 'SAMSUNG SM-G530H Build/LRX22G', 'SAMSUNG SM-G530T Build/LMY47X', 'SAMSUNG SM-G531H Build/LMY48B', 'SAMSUNG SM-G532M Build/MMB29T', 'SAMSUNG SM-G550T1 Build/MMB29K', 'SAMSUNG SM-G570M Build/MMB29K', 'SAMSUNG SM-G570M Build/NRD90M', 'SAMSUNG SM-G610M Build/MMB29K', 'SAMSUNG SM-G610M Build/NRD90M', 'SAMSUNG SM-G800F Build/MMB29K', 'SAMSUNG SM-G850F/G850FXXS2CQD9 Build/LRX22G', 'SAMSUNG SM-G890A Build/NRD90M', 'SAMSUNG SM-G891A Build/NRD90M', 'SAMSUNG SM-G892A Build/NRD90M', 'SAMSUNG SM-G892A Build/R16NW', 'SAMSUNG SM-G900A Build/MMB29M', 'SAMSUNG SM-G900F Build/MMB29M', 'SAMSUNG SM-G900I Build/MMB29M', 'SAMSUNG SM-G900M Build/LRX21T', 'SAMSUNG SM-G900T Build/MMB29M', 'SAMSUNG SM-G903F Build/MMB29K', 'SAMSUNG SM-G920A Build/NRD90M', 'SAMSUNG SM-G920F Build/LRX22G', 'SAMSUNG SM-G920F Build/NRD90M', 'SAMSUNG SM-G920I Build/NRD90M', 'SAMSUNG SM-G920P Build/NRD90M', 'SAMSUNG SM-G920T Build/NRD90M', 'SAMSUNG SM-G925F Build/NRD90M', 'SAMSUNG SM-G925I Build/NRD90M', 'SAMSUNG SM-G925P Build/MMB29K', 'SAMSUNG SM-G925P Build/NRD90M', 'SAMSUNG SM-G925T Build/NRD90M', 'SAMSUNG SM-G928G Build/NRD90M', 'SAMSUNG SM-G930A Build/NRD90M', 'SAMSUNG SM-G930F Build/NRD90M', 'SAMSUNG SM-G930F/XXU2DRC1 Build/NRD90M', 'SAMSUNG SM-G930P Build/NRD90M', 'SAMSUNG SM-G930R4 Build/NRD90M', 'SAMSUNG SM-G930T Build/NRD90M', 'SAMSUNG SM-G935A Build/NRD90M', 'SAMSUNG SM-G935F Build/MMB29K', 'SAMSUNG SM-G935F Build/NRD90M', 'SAMSUNG SM-G935P Build/NRD90M', 'SAMSUNG SM-G935T Build/NRD90M', 'SAMSUNG SM-G935W8 Build/NRD90M', 'SAMSUNG SM-G950F Build/NRD90M', 'SAMSUNG SM-G950F Build/R16NW', 'SAMSUNG SM-G950U Build/NRD90M', 'SAMSUNG SM-G950U Build/R16NW', 'SAMSUNG SM-G950U1 Build/NRD90M', 'SAMSUNG SM-G950U1 Build/R16NW', 'SAMSUNG SM-G955F Build/NRD90M', 'SAMSUNG SM-G955F Build/R16NW', 'SAMSUNG SM-G955U Build/NRD90M', 'SAMSUNG SM-G955U Build/R16NW', 'SAMSUNG SM-G9600 Build/R16NW', 'SAMSUNG SM-G960U Build/R16NW', 'SAMSUNG SM-G9650 Build/R16NW', 'SAMSUNG SM-G965F Build/R16NW', 'SAMSUNG SM-G965U Build/R16NW', 'SAMSUNG SM-G965U1 Build/R16NW', 'SAMSUNG SM-J111M Build/LMY47V', 'SAMSUNG SM-J120H Build/LMY47V', 'SAMSUNG SM-J250M Build/NMF26X', 'SAMSUNG SM-J320F Build/LMY47V', 'SAMSUNG SM-J320FN Build/LMY47V', 'SAMSUNG SM-J320M Build/LMY47V', 'SAMSUNG SM-J327A Build/NRD90M', 'SAMSUNG SM-J327AZ Build/NRD90M', 'SAMSUNG SM-J327P Build/MMB29M', 'SAMSUNG SM-J327T Build/NRD90M', 'SAMSUNG SM-J327T1 Build/NRD90M', 'SAMSUNG SM-J500FN Build/MMB29M', 'SAMSUNG SM-J500M Build/LMY48B', 'SAMSUNG SM-J500M Build/MMB29M', 'SAMSUNG SM-J510MN Build/MMB29M', 'SAMSUNG SM-J530F Build/NRD90M', 'SAMSUNG SM-J530GM Build/NRD90M', 'SAMSUNG SM-J700M Build/LMY48B', 'SAMSUNG SM-J700M Build/MMB29K', 'SAMSUNG SM-J700T Build/NMF26X', 'SAMSUNG SM-J700T1 Build/NMF26X', 'SAMSUNG SM-J701M Build/NRD90M', 'SAMSUNG SM-J710MN Build/MMB29K', 'SAMSUNG SM-J710MN Build/NRD90M', 'SAMSUNG SM-J727T1 Build/NRD90M', 'SAMSUNG SM-J730GM Build/NRD90M', 'SAMSUNG SM-N900T Build/LRX21V', 'SAMSUNG SM-N900W8 Build/LRX21V', 'SAMSUNG SM-N910A Build/MMB29M', 'SAMSUNG SM-N910V Build/MMB29M', 'SAMSUNG SM-N920A Build/NRD90M', 'SAMSUNG SM-N920P Build/NRD90M', 'SAMSUNG SM-N920T Build/NRD90M', 'SAMSUNG SM-N920V Build/NRD90M', 'SAMSUNG SM-N950F Build/NMF26X', 'SAMSUNG SM-N950U Build/NMF26X', 'SAMSUNG SM-N950U Build/R16NW', 'SAMSUNG SM-N950U1 Build/NMF26X', 'SAMSUNG SM-N950U1 Build/R16NW', 'SAMSUNG SM-P580 Build/NRD90M', 'SAMSUNG SM-S727VL Build/MMB29M', 'SAMSUNG SM-T530NU Build/LRX22G', 'SAMSUNG SM-T550 Build/NMF26X', 'SAMSUNG SM-T580 Build/NRD90M', 'SAMSUNG SM-T587P Build/NRD90M', 'SAMSUNG SM-T710 Build/NRD90M', 'SAMSUNG SM-T800 Build/MMB29K', 'SAMSUNG SM-T810 Build/NRD90M', 'SAMSUNG SM-T813 Build/NRD90M', 'SAMSUNG-SGH-I337', 'SAMSUNG-SGH-I337 Build/KOT49H', 'SAMSUNG-SGH-I497', 'SAMSUNG-SGH-I537', 'SAMSUNG-SM-G530AZ Build/LMY48B', 'SAMSUNG-SM-G870A', 'SAMSUNG-SM-G870A Build/MMB29M', 'SAMSUNG-SM-G890A', 'SAMSUNG-SM-G890A Build/MMB29K', 'SAMSUNG-SM-G890A Build/NRD90M', 'SAMSUNG-SM-G891A Build/NRD90M', 'SAMSUNG-SM-G900A', 'SAMSUNG-SM-G900A Build/KOT49H', 'SAMSUNG-SM-G900A Build/LMY47X', 'SAMSUNG-SM-G900A Build/LRX21T', 'SAMSUNG-SM-G900A Build/MMB29M', 'SAMSUNG-SM-G920A Build/MMB29K', 'SAMSUNG-SM-G920A Build/NRD90M', 'SAMSUNG-SM-G920AZ', 'SAMSUNG-SM-G925A', 'SAMSUNG-SM-G925A Build/MMB29K', 'SAMSUNG-SM-G925A Build/NRD90M', 'SAMSUNG-SM-G928A Build/NRD90M', 'SAMSUNG-SM-G930A', 'SAMSUNG-SM-G930A Build/NRD90M', 'SAMSUNG-SM-G930AZ', 'SAMSUNG-SM-G935A', 'SAMSUNG-SM-G935A Build/NRD90M', 'SAMSUNG-SM-J120A', 'SAMSUNG-SM-J320A Build/MMB29K', 'SAMSUNG-SM-J320A Build/NMF26X', 'SAMSUNG-SM-J320AZ', 'SAMSUNG-SM-J320AZ Build/MMB29K', 'SAMSUNG-SM-J327A Build/NRD90M', 'SAMSUNG-SM-J327AZ', 'SAMSUNG-SM-J727A Build/NRD90M', 'SAMSUNG-SM-J727AZ', 'SAMSUNG-SM-N900A', 'SAMSUNG-SM-N900A Build/LRX21V', 'SAMSUNG-SM-N910A', 'SAMSUNG-SM-N920A', 'SAMSUNG-SM-N920A Build/NRD90M', 'SAMSUNG-SM-T337A Build/LMY47X', 'SAMSUNG-SM-T377A', 'SAMSUNG-SM-T377A Build/MMB29K', 'SAMSUNG-SM-T537A', 'SAMSUNG-SM-T677A', 'SAMSUNG-SM-T807A', 'SAMSUNG-SM-T817A']),'DeviceInfo'] = \"SAMSUNG\"\n",
    "    data.loc[data['DeviceInfo'].isin(['verykool', 'verykoolS5005', 'verykoolS5019', 'verykoolS5524', 'verykoolS5525', 'verykoolS5530 Build/LMY47I', 'verykools4009', 'verykools5004', 'verykools5034', 'verykools5035''VerykoolS5030']),'DeviceInfo'] = \"Verykools\"\n",
    "    data.loc[data['DeviceInfo'].isin(['rv:11.0', 'rv:14.0', 'rv:29.0', 'rv:31.0', 'rv:33.0', 'rv:35.0', 'rv:37.0', 'rv:38.0', 'rv:39.0', 'rv:41.0', 'rv:42.0', 'rv:43.0', 'rv:44.0', 'rv:45.0', 'rv:46.0', 'rv:47.0', 'rv:48.0', 'rv:49.0', 'rv:50.0', 'rv:51.0', 'rv:52.0', 'rv:52.9', 'rv:53.0', 'rv:54.0', 'rv:55.0', 'rv:56.0', 'rv:57.0', 'rv:58.0', 'rv:59.0', 'rv:60.0', 'rv:61.0', ]),'DeviceInfo'] = \"RV\"\n",
    "    data.loc[data['DeviceInfo'].isin(['Alcatel', 'Alcatel_4060A', 'Alcatel_4060O Build/MMB29M', 'Alcatel_5044R Build/NRD90M', 'Alcatel_5054O', 'Alcatel_5056O', 'Alcatel_5098O Build/MMB29M','5057M']),'DeviceInfo'] = \"Alcatel\"\n",
    "    data.loc[data['DeviceInfo'].isin(['Alumini3 Build/MRA58K', 'Alumini3Plus']),'DeviceInfo'] = \"Alumini\"\n",
    "    data.loc[data['DeviceInfo'].isin(['ZTE', 'ZTE A2017U Build/NRD90M', 'ZTE BLADE A321 Build/NMF26F', 'ZTE BLADE A512 Build/MMB29M', 'ZTE BLADE A6 Build/NMF26F', 'ZTE BLADE V8 MINI Build/NRD90M', 'ZTE Blade A511 Build/MRA58K', 'ZTE Blade L5 Build/LMY47I', 'ZTE-Z835', 'ZTE-Z956']),'DeviceInfo'] = \"ZTE\"\n",
    "    data.loc[data['DeviceInfo'].isin(['moto', 'moto g(6) play Build/OPP27.61-14-4', 'moto x4 Build/NPW26.83-18-2-0-4', 'moto x4 Build/NPW26.83-42', 'moto x4 Build/OPW27.57-40', 'moto x4 Build/OPWS27.57-40-14', 'moto x4 Build/OPWS27.57-40-6','Moto E (4) Build/NMA26.42-11-3', 'Moto E (4) Build/NMA26.42-19', 'Moto E (4) Build/NMA26.42-69', 'Moto E (4) Plus Build/NMA26.42-11-3', 'Moto E (4) Plus Build/NMA26.42-142', 'Moto E (4) Plus Build/NMA26.42-152', 'Moto E (4) Plus Build/NMA26.42-69', 'Moto G (4) Build/NPJ25.93-14', 'Moto G (4) Build/NPJ25.93-14.5', 'Moto G (4) Build/NPJ25.93-14.7', 'Moto G (4) Build/NPJS25.93-14-10', 'Moto G (4) Build/NPJS25.93-14-13', 'Moto G (4) Build/NPJS25.93-14-15', 'Moto G (4) Build/NPJS25.93-14-18', 'Moto G (4) Build/NPJS25.93-14-8', 'Moto G (4) Build/NPJS25.93-14-8.1-4', 'Moto G (5) Build/NPP25.137-15', 'Moto G (5) Build/NPP25.137-33', 'Moto G (5) Build/NPP25.137-38', 'Moto G (5) Build/NPP25.137-72', 'Moto G (5) Build/NPP25.137-82', 'Moto G (5) Build/NPP25.137-93', 'Moto G (5) Build/NPPS25.137-15-11', 'Moto G (5) Build/NPPS25.137-93-4', 'Moto G (5) Build/NPPS25.137-93-8', 'Moto G (5) Plus Build/NPN25.137-15', 'Moto G (5) Plus Build/NPN25.137-72', 'Moto G (5) Plus Build/NPN25.137-82', 'Moto G (5) Plus Build/NPN25.137-83', 'Moto G (5) Plus Build/NPN25.137-92', 'Moto G (5) Plus Build/NPNS25.137-15-11', 'Moto G (5) Plus Build/NPNS25.137-92-10', 'Moto G (5) Plus Build/NPNS25.137-92-4', 'Moto G (5) Plus Build/NPNS25.137-92-8', 'Moto G (5) Plus Build/NPNS25.137-93-8', 'Moto G (5S', 'Moto G Play Build/MPIS24.241-15.3-26', 'Moto G Play Build/MPIS24.241-15.3-7', 'Moto G Play Build/NJH47F', 'Moto G Play Build/NPI26.48-36', 'Moto G Play Build/NPIS26.48-36-2', 'Moto G Play Build/NPIS26.48-36-5', 'Moto X Play Build/NPD26.48-24-1', 'Moto Z (2', 'Moto Z2 Play Build/NPS26.118-19', 'Moto Z2 Play Build/NPS26.74-16-1', 'Moto Z2 Play Build/NPSS26.118-19-11', 'Moto Z2 Play Build/NPSS26.118-19-14', 'Moto Z2 Play Build/NPSS26.118-19-4', 'Moto Z2 Play Build/NPSS26.118-19-6', 'MotoE2 Build/LPCS23.13-56-5', 'MotoE2(4G-LTE', 'MotoG3', 'MotoG3 Build/MPI24.65-25', 'MotoG3 Build/MPI24.65-25.1', 'MotoG3 Build/MPI24.65-33.1-2', 'MotoG3 Build/MPIS24.107-55-2-17', 'MotoG3 Build/MPIS24.65-25.1-19', 'MotoG3 Build/MPIS24.65-33.1-2-16', 'MotoG3-TE', 'MotoG3-TE Build/MPD24.65-33', 'MotoG3-TE Build/MPDS24.65-33-1-3', 'MotoG3-TE Build/MPDS24.65-33-1-30','Moto C Build/NRD90M.050', 'Moto C Build/NRD90M.054', 'Moto C Build/NRD90M.057', 'Moto C Build/NRD90M.063', 'Moto C Build/NRD90M.070', 'Moto C Plus Build/NRD90M.05.022', 'Moto C Plus Build/NRD90M.05.034', 'Moto E (4) Build/NCQ26.69-56', 'Moto E (4) Build/NDQS26.69-23-2-3', 'Moto E (4) Build/NDQS26.69-64-2','Moto', 'Moto C Build/NRD90M.046']),'DeviceInfo'] = \"Moto\"\n",
    "    data.loc[data['DeviceInfo'].isin(['BLN-L21 Build/HONORBLN-L21', 'BLN-L24 Build/HONORBLN-L24','DLI-L22 Build/HONORDLI-L22','BND-L21 Build/HONORBND-L21']),'DeviceInfo'] = \"Honor\"\n",
    "    data.loc[data['DeviceInfo'].isin(['Pixel', 'Pixel 2 Build/OPM1.171019.011', 'Pixel 2 Build/OPM1.171019.019', 'Pixel 2 Build/OPM1.171019.021', 'Pixel 2 Build/OPM2.171019.016', 'Pixel 2 XL Build/OPM1.171019.011', 'Pixel 2 XL Build/OPM1.171019.013', 'Pixel 2 XL Build/OPM1.171019.021', 'Pixel 2 XL Build/OPM2.171019.029', 'Pixel 2 XL Build/OPM2.171019.029.B1', 'Pixel Build/OPM1.171019.011', 'Pixel Build/OPM1.171019.012', 'Pixel Build/OPM1.171019.016', 'Pixel Build/OPM2.171019.029', 'Pixel Build/OPM4.171019.016.B1', 'Pixel Build/OPR3.170623.013', 'Pixel XL Build/OPM1.171019.011', 'Pixel XL Build/OPM1.171019.016', 'Pixel XL Build/OPM1.171019.021', 'Pixel XL Build/OPM4.171019.016.B1']),'DeviceInfo'] = \"Pixel\"\n",
    "    data.loc[data['DeviceInfo'].isin(['Nexus', 'Nexus 5 Build/M4B30Z', 'Nexus 5X Build/OPM3.171019.013', 'Nexus 5X Build/OPR4.170623.006', 'Nexus 6 Build/MOB30M', 'Nexus 6 Build/N6F27M', 'Nexus 6P Build/OPR5.170623.011', 'Nexus 6P Build/OPR5.170623.014']),'DeviceInfo'] = \"Nexus\"\n",
    "    data.loc[data['DeviceInfo'].isin(['Lenovo', 'Lenovo A2016b30 Build/MRA58K', 'Lenovo A6020l37 Build/LMY47V', 'Lenovo K33b36 Build/MMB29M', 'Lenovo K33b36 Build/NRD90N', 'Lenovo PB1-750M Build/S100', 'Lenovo PB2-650Y Build/MRA58K', 'Lenovo PB2-670Y Build/MRA58K', 'Lenovo TAB 2 A7-30GC Build/KOT49H', 'Lenovo TB-7703X Build/S100', 'Lenovo TB-X103F Build/LenovoTB-X103F', 'Lenovo TB2-X30F Build/LenovoTB2-X30F', 'Lenovo TB3-710F Build/LRX21M', 'Lenovo TB3-710I Build/LMY47I', 'Lenovo YT3-850F Build/MMB29M', 'Lenovo YT3-850M Build/MMB29M', 'Lenovo YT3-X50F Build/MMB29M', 'Lenovo-A6020l36 Build/LMY47V', 'LenovoA3300-GV Build/JDQ39','IdeaTab', 'IdeaTabA1000-F', 'IdeaTabA2109A']),'DeviceInfo'] = \"Lenovo\"\n",
    "    data.loc[data['DeviceInfo'].isin(['ALCATEL', 'ALCATEL ONE TOUCH 5036A Build/JDQ39', 'ALCATEL ONE TOUCH 7040A Build/JDQ39', 'ALCATEL ONE TOUCH 7042A Build/JDQ39', 'ALCATEL ONE TOUCH 7047A Build/JDQ39']),'DeviceInfo'] = \"ALCATEL\"\n",
    "    data.loc[data['DeviceInfo'].isin(['AERIAL', 'AERIAL Build/NRD90M']),'DeviceInfo'] = \"AERIAL\"\n",
    "    data.loc[data['DeviceInfo'].isin(['Ilium', 'Ilium L1000 Build/LRX22G', 'Ilium L1120 Build/NRD90M', 'Ilium L610 Build/MRA58K', 'Ilium L620 Build/NRD90M', 'Ilium L910 Build/MRA58K', 'Ilium L950 Build/KTU84P', 'Ilium LT500 Build/LMY47O', 'Ilium LT510 Build/MRA58K', 'Ilium LT520 Build/NRD90M', 'Ilium Pad T7X Build/LMY47I', 'Ilium X210 Build/LMY47I', 'Ilium X220 Build/MRA58K', 'Ilium X510 Build/MRA58K', 'Ilium X520 Build/NRD90M', 'Ilium X710 Build/MRA58K']),'DeviceInfo'] = \"Ilium\"\n",
    "    data.loc[data['DeviceInfo'].isin(['HTC', 'HTC 10 Build/NRD90M', 'HTC Desire 10 lifestyle Build/MMB29M', 'HTC Desire 510 Build/KOT49H', 'HTC Desire 526G Build/KOT49H', 'HTC Desire 530 Build/MMB29M', 'HTC Desire 626s Build/LMY47O', 'HTC Desire 650 Build/MMB29M', 'HTC One A9 Build/NRD90M', 'HTC One A9s Build/MRA58K', 'HTC One Build/LRX22G', 'HTC One M9 Build/NRD90M', 'HTC One mini Build/KOT49H', 'HTC One_M8 Build/MRA58K', 'HTC U11 Build/NMF26X', 'HTC U11 Build/OPR6.170623.013', 'HTC6500LVW', 'HTC6525LVW', 'HTC6535LVW', 'HTC6545LVW', 'HTCD100LVWPP', 'HTCD160LVWPP', 'HTCD200LVW', 'HTC_D10i', 'HTC_Desire_820', 'HTC_One', 'HTC_One_M8/4.28.502.2', 'HTC_One_M8s/2.12.111.1']),'DeviceInfo'] = \"HTC\"\n",
    "    data.loc[data['DeviceInfo'].isin(['LG-D213', 'LG-D320', 'LG-D320 Build/KOT49I.V10a', 'LG-D331', 'LG-D331 Build/LRX22G', 'LG-D373', 'LG-D373 Build/KOT49I.V10a', 'LG-D400', 'LG-D625', 'LG-D680', 'LG-D680 Build/KOT49I', 'LG-D681', 'LG-D693n', 'LG-D693n Build/KOT49I.V10a', 'LG-D693n Build/LRX22G', 'LG-D722', 'LG-D725', 'LG-D802', 'LG-D850', 'LG-D851', 'LG-D855', 'LG-D855 Build/LRX21R', 'LG-D959', 'LG-E450f', 'LG-E975', 'LG-E980h', 'LG-F400K', 'LG-H221', 'LG-H320 Build/LRX21Y', 'LG-H340AR', 'LG-H343', 'LG-H345', 'LG-H420 Build/LRX21Y', 'LG-H443/H44312g', 'LG-H500 Build/LRX21Y', 'LG-H520', 'LG-H525n Build/MRA58K', 'LG-H540', 'LG-H542 Build/LRX22G', 'LG-H542 Build/MRA58K', 'LG-H631', 'LG-H650 Build/LMY47V', 'LG-H650 Build/MRA58K', 'LG-H700 Build/NRD90U', 'LG-H735 Build/LMY47V', 'LG-H810', 'LG-H810/H81021z', 'LG-H810/H81022f', 'LG-H811 Build/MRA58K', 'LG-H812', 'LG-H815', 'LG-H815 Build/MRA58K', 'LG-H820', 'LG-H820 Build/NRD90U', 'LG-H830', 'LG-H830 Build/NRD90U', 'LG-H831 Build/NRD90U', 'LG-H840 Build/MMB29M', 'LG-H840 Build/NRD90U', 'LG-H850', 'LG-H850 Build/MMB29M', 'LG-H870 Build/NRD90U', 'LG-H870DS Build/NRD90U', 'LG-H871', 'LG-H872 Build/NRD90U', 'LG-H900/H90022b', 'LG-H901', 'LG-H910 Build/NRD90M', 'LG-H918 Build/NRD90M', 'LG-H931', 'LG-H932', 'LG-H933', 'LG-H960', 'LG-H990 Build/NRD90M', 'LG-K200 Build/MXB48T', 'LG-K212', 'LG-K220 Build/MXB48T', 'LG-K240 Build/MXB48T', 'LG-K330', 'LG-K350', 'LG-K371', 'LG-K373', 'LG-K410 Build/LRX22G', 'LG-K420', 'LG-K428 Build/MMB29M', 'LG-K428 Build/NRD90U', 'LG-K430 Build/MRA58K', 'LG-K450 Build/MXB48T', 'LG-K500 Build/MMB29M', 'LG-K530 Build/MMB29M', 'LG-K530 Build/NRD90U', 'LG-K540 Build/MMB29M', 'LG-K550', 'LG-K550 Build/NRD90U', 'LG-K580 Build/MRA58K', 'LG-LG870', 'LG-LK460', 'LG-LS777 Build/NRD90U', 'LG-LS993 Build/NRD90U', 'LG-LS995', 'LG-LS997 Build/NRD90M', 'LG-LS998', 'LG-M150', 'LG-M153 Build/MXB48T', 'LG-M154', 'LG-M200 Build/NRD90U', 'LG-M210 Build/NRD90U', 'LG-M250 Build/NRD90U', 'LG-M255', 'LG-M257', 'LG-M320 Build/NRD90U', 'LG-M322', 'LG-M327 Build/NRD90U', 'LG-M400 Build/NRD90U', 'LG-M430 Build/NRD90U', 'LG-M700 Build/NMF26X', 'LG-M710 Build/NRD90U', 'LG-P708g', 'LG-P714', 'LG-SP200', 'LG-SP320', 'LG-TP260 Build/NRD90U', 'LG-TP450 Build/NRD90U', 'LG-V410', 'LG-V410/V41020c', 'LG-V495', 'LG-V495/V49520l', 'LG-V496', 'LG-V500', 'LG-V520', 'LG-V521', 'LG-V522', 'LG-V700', 'LG-V930', 'LG-X165g Build/LRX21M', 'LG-X180g Build/LMY47I', 'LG-X210 Build/LMY47I', 'LG-X220 Build/LMY47I', 'LG-X230 Build/MRA58K', 'LG-X240 Build/MRA58K','LGL163BL', 'LGL164VL Build/NRD90U', 'LGL33L/V100', 'LGL41C', 'LGL52VL Build/LMY47V', 'LGL57BL', 'LGL58VL', 'LGL62VL', 'LGL83BL', 'LGL84VL Build/NRD90U', 'LGLK430', 'LGLS665 Build/LMY47V', 'LGLS675 Build/LMY47V', 'LGLS676 Build/MXB48T', 'LGLS751', 'LGLS755', 'LGLS770', 'LGLS775 Build/MMB29M', 'LGLS775 Build/NRD90U', 'LGLS990', 'LGLS991', 'LGLS992', 'LGMP260 Build/NRD90U', 'LGMP450 Build/NRD90U', 'LGMS210 Build/NRD90U', 'LGMS323', 'LGMS330 Build/LMY47V', 'LGMS345', 'LGMS395', 'LGMS428', 'LGMS550 Build/MXB48T', 'LGMS550 Build/NRD90U', 'LGMS631', 'LGMS631 Build/MRA58K', 'LGUS215 Build/NRD90U', 'LGUS990', 'LGUS991', 'LGUS992']),'DeviceInfo'] = \"LG\"\n",
    "    data.loc[data['DeviceInfo'].isin(['BLU', 'BLU ENERGY X PLUS Build/LRX21M', 'BLU LIFE XL Build/L050U', 'BLU STUDIO C 5+5 Build/LRX21M','STUDIO_G_HD','Studio']),'DeviceInfo'] = \"BLU\"\n",
    "    data.loc[data['DeviceInfo'].isin(['Redmi', 'Redmi 3S Build/MMB29M', 'Redmi 4A Build/MMB29M', 'Redmi 4A Build/N2G47H', 'Redmi 4X Build/N2G47H', 'Redmi 5 Plus Build/N2G47H', 'Redmi Note 3 Build/MMB29M', 'Redmi Note 4 Build/MMB29M', 'Redmi Note 4 Build/NRD90M', 'Redmi Note 4X Build/MRA58K', 'Redmi Note 5A Build/N2G47H']),'DeviceInfo'] = \"Redmi\"\n",
    "    data.loc[data['DeviceInfo'].isin(['Linux', 'Linux i686', 'Linux x86_64']),'DeviceInfo'] = \"Linux\"\n",
    "    data.loc[data['DeviceInfo'].isin(['ONE', 'ONE A2003 Build/MMB29M', 'ONE A2005 Build/MMB29M', 'ONE TOUCH 4016A Build/JDQ39', 'ONE TOUCH 4033A Build/JDQ39', 'ONEPLUS', 'ONEPLUS A5000 Build/NMF26X', 'ONEPLUS A5010 Build/OPM1.171019.011']),'DeviceInfo'] = \"ONE\"\n",
    "    data.loc[data['DeviceInfo'].isin(['GT-I8190L Build/JZO54K', 'GT-I8190N', 'GT-I8200N', 'GT-I9060L Build/JDQ39', 'GT-I9060M Build/KTU84P', 'GT-I9195I', 'GT-I9195L', 'GT-I9300', 'GT-I9500', 'GT-I9505 Build/LRX22C', 'GT-I9506', 'GT-I9515', 'GT-N5110', 'GT-N5110 Build/JDQ39', 'GT-N7100', 'GT-N8000', 'GT-N8010', 'GT-P3100', 'GT-P5110', 'GT-P5113', 'GT-P5210 Build/JDQ39', 'GT-P5210 Build/KOT49H', 'GT-S5310L', 'GT-S7275B', 'GT-S7390', 'GT-S7580L Build/JDQ39', 'GT-S7582', 'GT-S7582L']),'DeviceInfo'] = \"GT\"\n",
    "    data.loc[data['DeviceInfo'].isin(['XT1003', 'XT1008', 'XT1008 Build/LPBS23.13-56-2', 'XT1021', 'XT1021 Build/KXC21.5-40', 'XT1021 Build/LPCS23.13-34.8-3', 'XT1023', 'XT1030 Build/SU6-7.7', 'XT1031', 'XT1032', 'XT1032 Build/KXB20.9-1.10-1.24-1.1', 'XT1032 Build/KXB21.14-L1.40', 'XT1032 Build/LPBS23.13-56-2', 'XT1032 Build/LPBS23.13-57-2', 'XT1033', 'XT1040', 'XT1053 Build/LPAS23.12-21.7-1', 'XT1055', 'XT1058', 'XT1058 Build/LPAS23.12-21.7-1', 'XT1060', 'XT1063', 'XT1063 Build/MPB24.65-34', 'XT1063 Build/MPB24.65-34-3', 'XT1064', 'XT1064 Build/MPB24.65-34-3', 'XT1068', 'XT1072', 'XT1080', 'XT1080 Build/SU6-7.7', 'XT1092', 'XT1094', 'XT1095', 'XT1096', 'XT1097', 'XT1225', 'XT1254', 'XT1254 Build/MCG24.251-5-5', 'XT1528', 'XT1563', 'XT1563 Build/MPD24.107-52', 'XT1563 Build/MPD24.65-25', 'XT1563 Build/MPDS24.107-52-5', 'XT1565', 'XT1572 Build/NPHS25.200-15-8', 'XT1575', 'XT1575 Build/NPHS25.200-23-1', 'XT1580', 'XT1580 Build/NPKS25.200-12-9', 'XT1580 Build/NPKS25.200-17-8', 'XT1585 Build/NCK25.118-10.5', 'XT1609', 'XT1609 Build/MPIS24.241-2.35-1-17', 'XT1609 Build/NPIS26.48-38-3', 'XT1635-01', 'XT1635-01 Build/NDNS26.118-23-12-3', 'XT1635-02', 'XT1635-02 Build/NPN26.118-22-2', 'XT1635-02 Build/OPN27.76-12-22', 'XT1650', 'XT1650 Build/NCLS26.118-23-13-3', 'XT1650 Build/NCLS26.118-23-13-6-5', 'XT1650 Build/NPLS26.118-20-5-11', 'XT1650 Build/NPLS26.118-20-5-3', 'XT1680', 'XT1710-02', 'XT1710-02 Build/NDSS26.118-23-15', 'XT1710-02 Build/NDSS26.118-23-19-6', 'XT890 Build/9.8.2I-50_SML-25']),'DeviceInfo'] = \"Motorola\"\n",
    "    data.loc[data['DeviceInfo'].isin(['SM-A300FU Build/MMB29M', 'SM-A300H', 'SM-A300H Build/LRX22G', 'SM-A300M', 'SM-A300M Build/KTU84P', 'SM-A310F Build/MMB29K', 'SM-A310F Build/NRD90M', 'SM-A310M', 'SM-A310M Build/LMY47X', 'SM-A310M Build/NRD90M', 'SM-A320FL Build/MMB29K', 'SM-A320FL Build/NRD90M', 'SM-A320Y', 'SM-A320Y Build/NRD90M', 'SM-A500FU', 'SM-A500FU Build/MMB29M', 'SM-A500H', 'SM-A500M Build/KTU84P', 'SM-A500M Build/LRX22G', 'SM-A500W', 'SM-A510F Build/MMB29K', 'SM-A510F Build/NRD90M', 'SM-A510M Build/LMY47X', 'SM-A510M Build/MMB29K', 'SM-A510M Build/NRD90M', 'SM-A520F Build/MMB29K', 'SM-A520F Build/NRD90M', 'SM-A520F Build/R16NW', 'SM-A520W', 'SM-A520W Build/NRD90M', 'SM-A530F Build/NMF26X', 'SM-A710M', 'SM-A710M Build/LMY47X', 'SM-A710M Build/NRD90M', 'SM-A720F Build/MMB29K', 'SM-A720F Build/NRD90M', 'SM-A730F Build/NMF26X', 'SM-A800I', 'SM-C900F', 'SM-E500M', 'SM-E500M Build/KTU84P', 'SM-E700M', 'SM-G313ML', 'SM-G318ML', 'SM-G350M', 'SM-G355M Build/KOT49H', 'SM-G360F', 'SM-G360M', 'SM-G360T1 Build/LMY47X', 'SM-G360V', 'SM-G360V Build/LMY48B', 'SM-G361F', 'SM-G386T', 'SM-G386W', 'SM-G388F', 'SM-G390F', 'SM-G390W', 'SM-G530FZ', 'SM-G530H Build/KTU84P', 'SM-G530H Build/LRX22G', 'SM-G530M', 'SM-G530P', 'SM-G530T', 'SM-G530T1', 'SM-G530W', 'SM-G531F', 'SM-G531H Build/LMY48B', 'SM-G532M Build/MMB29T', 'SM-G550T Build/MMB29K', 'SM-G550T1 Build/MMB29K', 'SM-G550T2', 'SM-G570F', 'SM-G570M Build/MMB29K', 'SM-G570M Build/NRD90M', 'SM-G610F', 'SM-G610F Build/NRD90M', 'SM-G610M Build/MMB29K', 'SM-G610M Build/NRD90M', 'SM-G615F', 'SM-G7105', 'SM-G720AX', 'SM-G730V', 'SM-G730W8 Build/KOT49H', 'SM-G800F Build/KOT49H', 'SM-G800F Build/MMB29K', 'SM-G800M Build/KOT49H', 'SM-G850M', 'SM-G850M Build/LRX22G', 'SM-G892A', 'SM-G900F Build/KOT49H', 'SM-G900F Build/LRX21T', 'SM-G900F Build/MMB29M', 'SM-G900FD', 'SM-G900H Build/MMB29K', 'SM-G900I', 'SM-G900L', 'SM-G900M Build/KOT49H', 'SM-G900M Build/LRX21T', 'SM-G900M Build/MMB29M', 'SM-G900P', 'SM-G900P Build/LRX21T', 'SM-G900P Build/MMB29M', 'SM-G900R4', 'SM-G900T Build/MMB29M', 'SM-G900T1', 'SM-G900V', 'SM-G900V Build/LRX21T', 'SM-G900V Build/MMB29M', 'SM-G900W8', 'SM-G901F', 'SM-G903F Build/MMB29K', 'SM-G903M', 'SM-G903W', 'SM-G920F Build/MMB29K', 'SM-G920F Build/NRD90M', 'SM-G920I', 'SM-G920I Build/NRD90M', 'SM-G920P', 'SM-G920P Build/NRD90M', 'SM-G920R4', 'SM-G920T', 'SM-G920T Build/NRD90M', 'SM-G920T1', 'SM-G920V', 'SM-G920V Build/MMB29K', 'SM-G920V Build/NRD90M', 'SM-G920W8', 'SM-G9250', 'SM-G925F Build/NRD90M', 'SM-G925I', 'SM-G925I Build/LMY47X', 'SM-G925I Build/MMB29K', 'SM-G925I Build/NRD90M', 'SM-G925P Build/NRD90M', 'SM-G925R4', 'SM-G925T Build/LMY47X', 'SM-G925T Build/NRD90M', 'SM-G925V Build/NRD90M', 'SM-G925W8', 'SM-G928F', 'SM-G928G', 'SM-G928G Build/MMB29K', 'SM-G928G Build/NRD90M', 'SM-G928P', 'SM-G928P Build/NRD90M', 'SM-G928T Build/NRD90M', 'SM-G928V', 'SM-G928V Build/MMB29K', 'SM-G928V Build/NRD90M', 'SM-G930F Build/MMB29K', 'SM-G930F Build/NRD90M', 'SM-G930P', 'SM-G930P Build/NRD90M', 'SM-G930R4 Build/NRD90M', 'SM-G930R7', 'SM-G930T', 'SM-G930T Build/NRD90M', 'SM-G930T1', 'SM-G930U Build/NRD90M', 'SM-G930V Build/MMB29M', 'SM-G930V Build/NRD90M', 'SM-G930VL Build/NRD90M', 'SM-G930W8 Build/NRD90M', 'SM-G935F Build/MMB29K', 'SM-G935F Build/NRD90M', 'SM-G935P Build/NRD90M', 'SM-G935T', 'SM-G935T Build/NRD90M', 'SM-G935U', 'SM-G935V', 'SM-G935V Build/NRD90M', 'SM-G935W8', 'SM-G950F Build/NRD90M', 'SM-G950F Build/R16NW', 'SM-G950U Build/NRD90M', 'SM-G950U Build/R16NW', 'SM-G950U1 Build/NRD90M', 'SM-G950U1 Build/R16NW', 'SM-G950W', 'SM-G955F', 'SM-G955F Build/NRD90M', 'SM-G955F Build/R16NW', 'SM-G955U Build/NRD90M', 'SM-G955U Build/R16NW', 'SM-G955U1 Build/NRD90M', 'SM-G955U1 Build/R16NW', 'SM-G955W', 'SM-G9600 Build/R16NW', 'SM-G960F Build/R16NW', 'SM-G960U Build/R16NW', 'SM-G9650 Build/R16NW', 'SM-G965F Build/R16NW', 'SM-G965U Build/R16NW', 'SM-J100MU', 'SM-J100VPP Build/LMY48B', 'SM-J105B Build/LMY47V', 'SM-J110M Build/LMY48B', 'SM-J111M Build/LMY47V', 'SM-J120FN Build/LMY47X', 'SM-J120H Build/LMY47V', 'SM-J120M', 'SM-J120W', 'SM-J200H', 'SM-J200M Build/LMY47X', 'SM-J250M Build/NMF26X', 'SM-J320FN Build/LMY47V', 'SM-J320H', 'SM-J320M Build/LMY47V', 'SM-J320P Build/LMY47X', 'SM-J320V Build/MMB29M', 'SM-J320V Build/NMF26X', 'SM-J320VPP', 'SM-J320W8', 'SM-J327P Build/MMB29M', 'SM-J327T Build/NRD90M', 'SM-J327T1 Build/NRD90M', 'SM-J327V Build/NRD90M', 'SM-J327VPP Build/NRD90M', 'SM-J330F', 'SM-J330FN Build/NRD90M', 'SM-J500FN', 'SM-J500FN Build/MMB29M', 'SM-J500G', 'SM-J500H', 'SM-J500M Build/LMY48B', 'SM-J500M Build/MMB29M', 'SM-J510F', 'SM-J510FN', 'SM-J510FN Build/NMF26X', 'SM-J510MN Build/MMB29M', 'SM-J510MN Build/NMF26X', 'SM-J530F Build/NRD90M', 'SM-J530G', 'SM-J530GM Build/NRD90M', 'SM-J700F', 'SM-J700H Build/MMB29K', 'SM-J700M Build/LMY48B', 'SM-J700M Build/MMB29K', 'SM-J700P', 'SM-J700T Build/MMB29K', 'SM-J700T Build/NMF26X', 'SM-J700T1', 'SM-J700T1 Build/NMF26X', 'SM-J701M Build/NRD90M', 'SM-J7108', 'SM-J710F Build/NRD90M', 'SM-J710GN', 'SM-J710GN Build/MMB29K', 'SM-J710MN Build/MMB29K', 'SM-J710MN Build/NRD90M', 'SM-J727P', 'SM-J727T Build/NRD90M', 'SM-J727T1 Build/NRD90M', 'SM-J727U Build/NRD90M', 'SM-J727V Build/NRD90M', 'SM-J727VPP Build/NRD90M', 'SM-J730F', 'SM-J730G Build/NRD90M', 'SM-J730GM Build/NRD90M', 'SM-N9005 Build/LRX21V', 'SM-N900P Build/LRX21V', 'SM-N900T', 'SM-N900T Build/LRX21V', 'SM-N900V Build/LRX21V', 'SM-N900W8 Build/LRX21V', 'SM-N910C Build/MMB29K', 'SM-N910F Build/MMB29M', 'SM-N910H', 'SM-N910P', 'SM-N910T Build/LMY47X', 'SM-N910T Build/MMB29M', 'SM-N910T3', 'SM-N910V Build/MMB29M', 'SM-N915V', 'SM-N920A Build/MMB29K', 'SM-N920C Build/NRD90M', 'SM-N920G Build/NRD90M', 'SM-N920P', 'SM-N920P Build/NRD90M', 'SM-N920R4', 'SM-N920T', 'SM-N920T Build/NRD90M', 'SM-N920V', 'SM-N920V Build/NRD90M', 'SM-N9500', 'SM-N950F Build/NMF26X', 'SM-N950F Build/R16NW', 'SM-N950U Build/NMF26X', 'SM-N950U Build/R16NW', 'SM-N950U1 Build/NMF26X', 'SM-N950U1 Build/R16NW', 'SM-N950W', 'SM-P350 Build/MMB29M', 'SM-P355M', 'SM-P355M Build/MMB29M', 'SM-P550', 'SM-P550 Build/MMB29M', 'SM-P550 Build/NMF26X', 'SM-P580 Build/NRD90M', 'SM-P600', 'SM-P600 Build/LMY47X', 'SM-P605V', 'SM-P607T', 'SM-P900', 'SM-S120VL', 'SM-S320VL', 'SM-S327VL', 'SM-S550TL', 'SM-S727VL Build/MMB29M', 'SM-S820L', 'SM-S902L', 'SM-S903VL', 'SM-S906L', 'SM-S907VL', 'SM-S920L', 'SM-S975L', 'SM-T110 Build/JDQ39', 'SM-T113 Build/KTU84P', 'SM-T113NU Build/KTU84P', 'SM-T210', 'SM-T217S Build/KOT49H', 'SM-T230 Build/KOT49H', 'SM-T230NU Build/KOT49H', 'SM-T237P', 'SM-T280 Build/LMY47V', 'SM-T285M', 'SM-T310 Build/KOT49H', 'SM-T320 Build/KOT49H', 'SM-T330', 'SM-T330NU Build/LMY47X', 'SM-T337V', 'SM-T350 Build/MMB29M', 'SM-T350 Build/NMF26X', 'SM-T355Y Build/NMF26X', 'SM-T377P', 'SM-T377P Build/NMF26X', 'SM-T377T', 'SM-T377V', 'SM-T377V Build/NMF26X', 'SM-T377W', 'SM-T380', 'SM-T520', 'SM-T530', 'SM-T530 Build/LRX22G', 'SM-T530NU Build/LRX22G', 'SM-T537V', 'SM-T550', 'SM-T550 Build/NMF26X', 'SM-T555', 'SM-T560 Build/KTU84P', 'SM-T560NU Build/MMB29M', 'SM-T560NU Build/NMF26X', 'SM-T580', 'SM-T580 Build/NRD90M', 'SM-T585', 'SM-T587P', 'SM-T670', 'SM-T700 Build/MMB29K', 'SM-T705', 'SM-T710 Build/NRD90M', 'SM-T713 Build/NRD90M', 'SM-T800', 'SM-T800 Build/MMB29K', 'SM-T807T', 'SM-T807V', 'SM-T810', 'SM-T810 Build/NRD90M', 'SM-T813 Build/NRD90M', 'SM-T817T', 'SM-T817V Build/NRD90M', 'SM-T818V', 'SM-T820 Build/NRD90M', 'SM-T825 Build/NRD90M', 'SM-T827R4', 'SM-T827V Build/NRD90M']),'DeviceInfo'] = \"SM\"\n",
    "    data.loc[data['DeviceInfo'].isin(['iris 820 Build/MRA58K', 'iris 870 Build/MRA58K']),'DeviceInfo'] = \"Iris\"\n",
    "    data.loc[data['DeviceInfo'].isin(['iOS Device', 'iPhone']),'DeviceInfo'] = \"IOS\"\n",
    "    data.loc[data['DeviceInfo'].isin(['SC-02H', 'SCH-I435', 'SCH-I535', 'SCH-I545 Build/LRX22C', 'SENS', 'SGH-I317M', 'SGH-I337M', 'SGH-I337M Build/LRX22C', 'SGH-I747M', 'SGH-M919 Build/KTU84P', 'SGH-M919N', 'SGH-M919V']),'DeviceInfo'] = \"SGH\"\n",
    "    data.loc[data['DeviceInfo'].isin(['SC-02H', 'SCH-I435', 'SCH-I535', 'SCH-I545 Build/LRX22C', 'SENS', 'SGH-I317M', 'SGH-I337M', 'SGH-I337M Build/LRX22C', 'SGH-I747M', 'SGH-M919 Build/KTU84P', 'SGH-M919N', 'SGH-M919V']),'DeviceInfo'] = \"SGH\"\n",
    "    data.loc[data['DeviceInfo'].isin(['Win64', 'Windows', 'Windows NT 6.1', 'Windows NT 6.2',]),'DeviceInfo'] = \"Windows\"\n",
    "    data.loc[data['DeviceInfo'].isin(['iris50', 'iris702', 'iris80']),'DeviceInfo'] = \"Iris\"\n",
    "    data.loc[data['DeviceInfo'].isin(['Z557BL', 'Z798BL Build/MMB29M', 'Z799VL', 'Z812', 'Z813 Build/LMY47O', 'Z831', 'Z832 Build/MMB29M', 'Z833', 'Z835 Build/NMF26V', 'Z836BL', 'Z837VL', 'Z839', 'Z9 PLUS Build/NRD90M', 'Z955A', 'Z956 Build/MMB29M', 'Z959 Build/LMY47V', 'Z963VL', 'Z965 Build/NMF26V', 'Z970', 'Z971', 'Z981 Build/MMB29M', 'Z982 Build/NMF26V', 'Z983 Build/NMF26F']),'DeviceInfo'] = \"ZTE\"\n",
    "    data.loc[data['DeviceInfo'].isin(['ZA409', 'ZA509', 'ZA990']),'DeviceInfo'] = \"Zonda\"\n",
    "    data.loc[data['DeviceInfo'].isin(['Z410']),'DeviceInfo'] = \"Acer\"\n",
    "    data.loc[data['DeviceInfo'].isin(['VK700 Build/LRX22G', 'VK810', 'VK815', 'VS425', 'VS425PP Build/LMY47V', 'VS500', 'VS501 Build/NRD90U', 'VS5012 Build/NRD90M', 'VS820', 'VS835', 'VS880', 'VS880PP', 'VS980 4G Build/LRX22G', 'VS985', 'VS986 Build/MRA58K', 'VS987 Build/NRD90U', 'VS988 Build/NRD90U', 'VS990 Build/MRA58K', 'VS995 Build/NRD90M', 'VS996', 'VS996 Build/OPR1.170623.026']),'DeviceInfo'] = \"LG\"\n",
    "    data.loc[data['DeviceInfo'].isin(['AX1060', 'AX1070', 'AX705', 'AX820 Build/MRA58K', 'AX821 Build/MRA58K', 'AX920', 'AX921 Build/MRA58K']),'DeviceInfo'] = \"Bmobile\"\n",
    "    data.loc[data['DeviceInfo'].isin(['BLADE A602 Build/MRA58K', 'BLADE L7 Build/MRA58K', 'BLADE V7 Build/MRA58K']),'DeviceInfo'] = \"Marshmallow\"\n",
    "    data.loc[data['DeviceInfo'].isin(['Aquaris', 'Aquaris U Plus Build/NMF26F', 'Aquaris V Build/N2G47H', 'Aquaris X Build/NMF26F', 'Aquaris X5 Plus Build/NMF26F', 'Aquaris_A4.5']),'DeviceInfo'] = \"Aquaris\"\n",
    "    "
   ]
  },
  {
   "cell_type": "code",
   "execution_count": 170,
   "id": "86d63b60-9c6f-49b2-879c-8fa82185effe",
   "metadata": {},
   "outputs": [
    {
     "name": "stdout",
     "output_type": "stream",
     "text": [
      "['4009F', '4013M Build/KOT49H', '4027A Build/KOT49H', '4034G', '4047A Build/NRD90M', '4047G Build/NRD90M', '5010G Build/MRA58K', '5010S Build/MRA58K', '5011A Build/NRD90M', '5012G Build/MRA58K', '5015A Build/LMY47I', '5025G Build/LMY47I', '5042A', '5044A', '5049W Build/NRD90M', '5051A Build/MMB29M', '5054S Build/LMY47V', '5056A Build/MMB29M', '5056N', '5080A Build/MRA58K', '5085B Build/MRA58K', '5095I Build/MRA58K', '6037B', '6039A Build/LRX22G', '6045I Build/LRX22G', '6055B', '7055A Build/KVT49L', '8050G Build/LMY47I', '8080 Build/LRX21M', '831C', '9003A Build/MRA58K', '9008A Build/NRD90M', '9203A Build/MRA58K', 'A0001', 'A0001 Build/MHC19Q', 'A1601 Build/LMY47I', 'A37f', 'A577VL', 'AERIAL', 'ALCATEL', 'ALUMINI', 'ASTRO', 'ASUS_P00J', 'ASUS_X008D Build/NRD90M', 'ASUS_X008DC Build/NRD90M', 'ASUS_X00DD', 'ASUS_X00HD Build/NMF26F', 'ASUS_X00ID', 'ASUS_X018D', 'ASUS_Z00AD Build/LRX21V', 'ATT', 'ATT-IE11', 'Acer', 'Alcatel', 'Alumini', 'Android', 'Aquaris', 'B3-A40', 'BBB100-1', 'BBB100-2', 'BG2-W09', 'BLADE A520 Build/NRD90M', 'BLADE V8 Build/NRD90M', 'BLADE V8 SE Build/NRD90M', 'BLADE V8Q Build/N2G47H', 'BLU', 'BND-L34', 'BOIE9', 'BV7000', 'BV8000Pro', 'Blade', 'Blade A460 Build/LMY47O', 'Blade A465 Build/LMY47D', 'Bmobile', 'Bolt', 'Build/KOT49H', 'Build/OPM1.171019.011', 'Build/OPR1.170623.032', 'C1904', 'C6603', 'C6906 Build/14.6.A.1.236', 'CAM-L23', 'CLT-L09', 'COVET Build/NRD90M', 'Coolpad', 'D2306', 'D2306 Build/18.6.A.0.182', 'D2406', 'D5306', 'D5306 Build/19.4.A.0.182', 'D5316', 'D5316 Build/19.4.A.0.182', 'D5803 Build/23.5.A.1.291', 'D6503', 'D6603', 'D6603 Build/23.5.A.1.291', 'Dash', 'E2104', 'E2104 Build/24.0.A.5.14', 'E2306 Build/26.1.A.3.111', 'E2306 Build/26.3.A.1.33', 'E5306', 'E5306 Build/27.3.A.0.129', 'E5506', 'E5506 Build/29.1.A.0.101', 'E5506 Build/29.2.A.0.166', 'E5606', 'E5606 Build/30.2.A.1.21', 'E5803', 'E5803 Build/32.4.A.1.54', 'E5823', 'E5823 Build/32.4.A.1.54', 'E6553', 'E6603', 'E6603 Build/32.4.A.1.54', 'E6653 Build/32.4.A.1.54', 'E6810', 'E6853 Build/32.4.A.1.54', 'EGO', 'Energy X 2 Build/E050L', 'F3111 Build/33.3.A.1.115', 'F3113', 'F3113 Build/33.3.A.1.97', 'F3213', 'F3213 Build/36.0.A.2.146', 'F3213 Build/36.1.A.1.86', 'F3311', 'F3313', 'F3313 Build/37.0.A.2.248', 'F5121', 'F5122', 'F5321', 'F5321 Build/34.2.A.2.47', 'F5321 Build/34.3.A.0.238', 'F80 PIABELLA Build/MRA58K', 'F8331', 'F8331 Build/41.2.A.7.76', 'F8332', 'FEVER', 'FP2', 'Fractal', 'G3123', 'G3123 Build/40.0.A.6.135', 'G3123 Build/40.0.A.6.189', 'G3223', 'G3223 Build/42.0.A.4.167', 'G3313', 'G3313 Build/43.0.A.5.79', 'G3313 Build/43.0.A.7.25', 'G3423', 'G527-U081', 'G8141', 'G8142', 'G8341', 'GT', 'Grand', 'Gravity Build/NRD90M', 'H1611', 'H3321', 'HELIO', 'HIGHWAY', 'HP', 'HTC', 'HUAWEI', 'Hisense', 'Honor', 'ILIUM', 'IOS', 'Ilium', 'Infinit', 'Intel', 'Iris', 'K88', 'KFAPWI Build/KTU84M', 'KFASWI Build/LVY48F', 'KFAUWI Build/LVY48F', 'KFDOWI Build/LVY48F', 'KFFOWI Build/LVY48F', 'KFGIWI Build/LVY48F', 'KFJWI', 'KFMEWI', 'KFSUWI Build/LVY48F', 'KFTBWI Build/LVY48F', 'KFTT Build/IML74K', 'KYOCERA-C6742A Build/LMY47V', 'LAVA_A3', 'LDN-LX3 Build/HUAWEILDN-LX3', 'LG', 'LIMIT', 'LM-X210(G', 'LS5', 'Le', 'Lenovo', 'M4', 'M4 SS4450 Build/MRA58K', 'M4 SS4451 Build/LMY47D', 'M4 SS4452 Build/LMY47V', 'M4 SS4453 Build/MMB29M', 'M4 SS4456 Build/LMY47V', 'M4 SS4457 Build/MRA58K', 'M4 SS4457-R Build/NRD90M', 'M4 SS4458 Build/MMB29M', 'MAGNO', 'MDDRJS', 'MHA-L09 Build/HUAWEIMHA-L09', 'MHA-L29 Build/HUAWEIMHA-L29', 'MI', 'MI MAX 2 Build/NMF26F', 'MOT-A6020l37 Build/LMY47V', 'MYA-L11', 'MYA-L23', 'MacOS', 'Marshmallow', 'Max', 'Mi', 'Mi A1 Build/N2G47H', 'Mi A1 Build/OPR1.170623.026', 'Microsoft', 'Moto', 'Motorola', 'N9136', 'N9560 Build/NMF26F', 'NEM-L51 Build/HONORNEM-L51', 'NYX_A1', 'Neffos C5 Build/LMY47D', 'Neffos X1 Max Build/NRD90M', 'Nexus', 'ONE', 'ORION', 'Old_Device', 'P008 Build/NRD90M', 'P00A', 'P00C', 'P027', 'P4526A Build/NRD90M', 'P5006A', 'P5006A Build/NRD90M', 'P5026A', 'P5046A', 'P5526A Build/NRD90M', 'PH-1', 'PLK-L01 Build/HONORPLK-L01', 'PMID7102DC', 'PSPC550 Build/LMY47D', 'Pixel', 'QTAIR7 Build/LMY47D', 'QTASUN1', 'QTASUN1 Build/NRD90M', 'R1', 'R2', 'R8106', 'RCT6303W87M7 Build/MRA58K', 'RCT6513W87 Build/MRA58K', 'RCT6773W22B', 'RCT6S03W12', 'REVVLPLUS', 'RV', 'Redmi', 'S.N.O.W.4', 'S57 Build/KTU84P', 'SAMSUNG', 'SGH', 'SGP621 Build/23.5.A.1.291', 'SLA-L22', 'SM', 'STELLAR', 'STF-L09 Build/HUAWEISTF-L09', 'STV100-1', 'STV100-2 Build/MMB29M', 'STV100-3', 'Shift Build/LMY47I', 'T1', 'TA-1004', 'TA-1025', 'TA-1025 Build/OPR1.170623.026', 'TA-1027', 'TA-1027 Build/N2G47H', 'TA-1027 Build/OPR1.170623.026', 'TA-1028 Build/NMF26O', 'TA-1028 Build/NRD90M', 'TA-1028 Build/O00623', 'TA-1032', 'TA-1038', 'TA-1038 Build/NMF26O', 'TA-1038 Build/O00623', 'TA-1039 Build/N2G47H', 'TA-1044', 'TA-1044 Build/NMF26F', 'TA-1044 Build/OPR1.170623.026', 'TOMMY2', 'TRT-L53 Build/HUAWEITRT-L53', 'TRT-LX3', 'Techpad', 'Tmovi Build/Vision', 'Touch', 'Trident/7.0', 'U', 'U FEEL LITE Build/MRA58K', 'V502015', 'VFD', 'Verykools', 'Vivo', 'WAS-LX2J', 'WOW64', 'Windows', 'Y635-L03 Build/HuaweiY635-L03', 'YOGA', 'ZTE', 'ZUUM_ZEN_I Build/LRX21M', 'Zonda', 'es-mx', 'es-us', 'hi6210sft Build/MRA58K']\n"
     ]
    }
   ],
   "source": [
    "d = train['DeviceInfo'].unique()\n",
    "d_new = d[~pd.isnull(d)]\n",
    "d_new.sort()\n",
    "print(list(d_new))"
   ]
  },
  {
   "cell_type": "markdown",
   "id": "8f1d80dc-12f4-4db1-b324-327b1172a287",
   "metadata": {},
   "source": [
    "## clean up the features “id_30”\n",
    "Among the 75 devices recorded in “id_30”, we can find information like “Windows 10”, “Windows 7”, “iso 11.2.1”, “iso 11.1.2”, “iso 11.4.1”. However, the versions don’t split different users. What we needed is just the base of the operation system. What we can do for data processing is to transfer different versions of device’s record in to one record."
   ]
  },
  {
   "cell_type": "code",
   "execution_count": 197,
   "id": "ffd16e4e-fd7a-43d6-a5ca-da02c96cb91e",
   "metadata": {},
   "outputs": [
    {
     "name": "stdout",
     "output_type": "stream",
     "text": [
      "['TransactionID', 'TransactionDT', 'TransactionAmt', 'ProductCD', 'card1', 'card2', 'card3', 'card4', 'card5', 'card6', 'addr1', 'addr2', 'dist1', 'dist2', 'P_emaildomain', 'R_emaildomain', 'C1', 'C2', 'C3', 'C4', 'C5', 'C6', 'C7', 'C8', 'C9', 'C10', 'C11', 'C12', 'C13', 'C14', 'D1', 'D2', 'D3', 'D4', 'D5', 'D10', 'D11', 'D15', 'M1', 'M2', 'M3', 'M4', 'M5', 'M6', 'M7', 'M8', 'M9', 'V1', 'V2', 'V3', 'V4', 'V5', 'V6', 'V7', 'V8', 'V9', 'V10', 'V11', 'V12', 'V13', 'V14', 'V15', 'V16', 'V17', 'V18', 'V19', 'V20', 'V21', 'V22', 'V23', 'V24', 'V25', 'V26', 'V27', 'V28', 'V29', 'V30', 'V31', 'V32', 'V33', 'V34', 'V35', 'V36', 'V37', 'V38', 'V39', 'V40', 'V41', 'V42', 'V43', 'V44', 'V45', 'V46', 'V47', 'V48', 'V49', 'V50', 'V51', 'V52', 'V53', 'V54', 'V55', 'V56', 'V57', 'V58', 'V59', 'V60', 'V61', 'V62', 'V63', 'V64', 'V65', 'V66', 'V67', 'V68', 'V69', 'V70', 'V71', 'V72', 'V73', 'V74', 'V75', 'V76', 'V77', 'V78', 'V79', 'V80', 'V81', 'V82', 'V83', 'V84', 'V85', 'V86', 'V87', 'V88', 'V89', 'V90', 'V91', 'V92', 'V93', 'V94', 'V95', 'V96', 'V97', 'V98', 'V99', 'V100', 'V101', 'V102', 'V103', 'V104', 'V105', 'V106', 'V107', 'V108', 'V109', 'V110', 'V111', 'V112', 'V113', 'V114', 'V115', 'V116', 'V117', 'V118', 'V119', 'V120', 'V121', 'V122', 'V123', 'V124', 'V125', 'V126', 'V127', 'V128', 'V129', 'V130', 'V131', 'V132', 'V133', 'V134', 'V135', 'V136', 'V137', 'V167', 'V168', 'V169', 'V170', 'V171', 'V172', 'V173', 'V174', 'V175', 'V176', 'V177', 'V178', 'V179', 'V180', 'V181', 'V182', 'V183', 'V184', 'V185', 'V186', 'V187', 'V188', 'V189', 'V190', 'V191', 'V192', 'V193', 'V194', 'V195', 'V196', 'V197', 'V198', 'V199', 'V200', 'V201', 'V202', 'V203', 'V204', 'V205', 'V206', 'V207', 'V208', 'V209', 'V210', 'V211', 'V212', 'V213', 'V214', 'V215', 'V216', 'V217', 'V218', 'V219', 'V220', 'V221', 'V222', 'V223', 'V224', 'V225', 'V226', 'V227', 'V228', 'V229', 'V230', 'V231', 'V232', 'V233', 'V234', 'V235', 'V236', 'V237', 'V238', 'V239', 'V240', 'V241', 'V242', 'V243', 'V244', 'V245', 'V246', 'V247', 'V248', 'V249', 'V250', 'V251', 'V252', 'V253', 'V254', 'V255', 'V256', 'V257', 'V258', 'V259', 'V260', 'V261', 'V262', 'V263', 'V264', 'V265', 'V266', 'V267', 'V268', 'V269', 'V270', 'V271', 'V272', 'V273', 'V274', 'V275', 'V276', 'V277', 'V278', 'V279', 'V280', 'V281', 'V282', 'V283', 'V284', 'V285', 'V286', 'V287', 'V288', 'V289', 'V290', 'V291', 'V292', 'V293', 'V294', 'V295', 'V296', 'V297', 'V298', 'V299', 'V300', 'V301', 'V302', 'V303', 'V304', 'V305', 'V306', 'V307', 'V308', 'V309', 'V310', 'V311', 'V312', 'V313', 'V314', 'V315', 'V316', 'V317', 'V318', 'V319', 'V320', 'V321', 'V322', 'id-01', 'id-02', 'id-03', 'id-04', 'id-05', 'id-06', 'id-07', 'id-08', 'id-09', 'id-10', 'id-11', 'id-12', 'id-13', 'id-14', 'id-15', 'id-16', 'id-17', 'id-18', 'id-19', 'id-20', 'id-21', 'id-22', 'id-23', 'id-24', 'id-25', 'id-26', 'id-27', 'id-28', 'id-29', 'id-30', 'id-31', 'id-32', 'id-33', 'id-34', 'id-35', 'id-36', 'id-37', 'id-38', 'DeviceType', 'DeviceInfo']\n"
     ]
    }
   ],
   "source": [
    "print(test.columns.tolist())    #attention some colomn names in test are different."
   ]
  },
  {
   "cell_type": "code",
   "execution_count": 202,
   "id": "351013b8-a6b8-4059-a4ef-49730afb38fa",
   "metadata": {},
   "outputs": [
    {
     "name": "stdout",
     "output_type": "stream",
     "text": [
      "{'id-01': 'id_01', 'id-02': 'id_02', 'id-03': 'id_03', 'id-04': 'id_04', 'id-05': 'id_05', 'id-06': 'id_06', 'id-07': 'id_07', 'id-08': 'id_08', 'id-09': 'id_09', 'id-10': 'id_10', 'id-11': 'id_11', 'id-12': 'id_12', 'id-13': 'id_13', 'id-14': 'id_14', 'id-15': 'id_15', 'id-16': 'id_16', 'id-17': 'id_17', 'id-18': 'id_18', 'id-19': 'id_19', 'id-20': 'id_20', 'id-21': 'id_21', 'id-22': 'id_22', 'id-23': 'id_23', 'id-24': 'id_24', 'id-25': 'id_25', 'id-26': 'id_26', 'id-27': 'id_27', 'id-28': 'id_28', 'id-29': 'id_29', 'id-30': 'id_30', 'id-31': 'id_31', 'id-32': 'id_32', 'id-33': 'id_33', 'id-34': 'id_34', 'id-35': 'id_35', 'id-36': 'id_36', 'id-37': 'id_37', 'id-38': 'id_38'}\n"
     ]
    }
   ],
   "source": [
    "before=['id-01', 'id-02', 'id-03', 'id-04', 'id-05', 'id-06', 'id-07', 'id-08', 'id-09', 'id-10', 'id-11', 'id-12', 'id-13', 'id-14', 'id-15', 'id-16', 'id-17', 'id-18', 'id-19', 'id-20', 'id-21', 'id-22', 'id-23', 'id-24', 'id-25', 'id-26', 'id-27', 'id-28', 'id-29', 'id-30', 'id-31', 'id-32', 'id-33', 'id-34', 'id-35', 'id-36', 'id-37', 'id-38']\n",
    "after = [x.replace('-','_') for x in before]\n",
    "#print(after)\n",
    "#Python Convert List to Dictionary: zip()\n",
    "col_dict = dict(zip(before,after))\n",
    "print(col_dict)"
   ]
  },
  {
   "cell_type": "code",
   "execution_count": 203,
   "id": "cc6af4a7-f9d7-4be8-824b-44cc9a086843",
   "metadata": {},
   "outputs": [],
   "source": [
    "test.rename(columns=col_dict, inplace=True, errors='raise')"
   ]
  },
  {
   "cell_type": "code",
   "execution_count": 206,
   "id": "27428778-d2c5-47da-96d6-2436a5d86529",
   "metadata": {},
   "outputs": [
    {
     "name": "stdout",
     "output_type": "stream",
     "text": [
      "['Android', 'Android 9', 'Linux', 'Mac', 'Mac OS X 10.14', 'Mac OS X 10_13_6', 'Mac OS X 10_14', 'Mac OS X 10_14_0', 'Mac OS X 10_14_1', 'Mac OS X 10_14_2', 'Windows', 'func', 'iOS', 'iOS 12.0.0', 'iOS 12.0.1', 'iOS 12.1.0', 'iOS 12.1.1', 'iOS 12.1.2', 'other']\n"
     ]
    }
   ],
   "source": [
    "d = test['id_30'].unique()\n",
    "d_new = d[~pd.isnull(d)]\n",
    "d_new.sort()\n",
    "print(list(d_new))"
   ]
  },
  {
   "cell_type": "code",
   "execution_count": 205,
   "id": "e6d1cd45-af1a-4689-909d-32b6c239ded2",
   "metadata": {},
   "outputs": [],
   "source": [
    "for data in [train, test]:\n",
    "    data.loc[data['id_30'].isin(['Android', 'Android 4.4.2', 'Android 5.0', 'Android 5.0.2', 'Android 5.1.1', 'Android 6.0', 'Android 6.0.1', 'Android 7.0', 'Android 7.1.1', 'Android 7.1.2', 'Android 8.0.0', 'Android 8.1.0']),'id_30'] = \"Android\"\n",
    "    data.loc[data['id_30'].isin(['Mac', 'Mac OS X 10.10', 'Mac OS X 10.11', 'Mac OS X 10.12', 'Mac OS X 10.13', 'Mac OS X 10.6', 'Mac OS X 10.9', 'Mac OS X 10_10_5', 'Mac OS X 10_11_3', 'Mac OS X 10_11_4', 'Mac OS X 10_11_5', 'Mac OS X 10_11_6', 'Mac OS X 10_12', 'Mac OS X 10_12_1', 'Mac OS X 10_12_2', 'Mac OS X 10_12_3', 'Mac OS X 10_12_4', 'Mac OS X 10_12_5', 'Mac OS X 10_12_6', 'Mac OS X 10_13_1', 'Mac OS X 10_13_2', 'Mac OS X 10_13_3', 'Mac OS X 10_13_4', 'Mac OS X 10_13_5', 'Mac OS X 10_6_8', 'Mac OS X 10_7_5', 'Mac OS X 10_8_5', 'Mac OS X 10_9_5']),'id_30'] = \"Mac\"\n",
    "    data.loc[data['id_30'].isin(['Windows', 'Windows 10', 'Windows 7', 'Windows 8', 'Windows 8.1', 'Windows Vista', 'Windows XP']),'id_30'] = \"Windows\"\n",
    "    data.loc[data['id_30'].isin(['iOS', 'iOS 10.0.2', 'iOS 10.1.1', 'iOS 10.2.0', 'iOS 10.2.1', 'iOS 10.3.1', 'iOS 10.3.2', 'iOS 10.3.3', 'iOS 11.0.0', 'iOS 11.0.1', 'iOS 11.0.2', 'iOS 11.0.3', 'iOS 11.1.0', 'iOS 11.1.1', 'iOS 11.1.2', 'iOS 11.2.0', 'iOS 11.2.1', 'iOS 11.2.2', 'iOS 11.2.5', 'iOS 11.2.6', 'iOS 11.3.0', 'iOS 11.3.1', 'iOS 11.4.0', 'iOS 11.4.1', 'iOS 9.3.5']),'id_30'] = \"iOS\""
   ]
  },
  {
   "cell_type": "markdown",
   "id": "d396199d-c924-42fb-9a8d-9610de003d0f",
   "metadata": {},
   "source": [
    "## clean up the features “id_31”\n",
    "The Category feature “id_31” records different versions of browsers, we need to do the same processing to make the record much cleaner. For example, the record “mobile safari 11.0” and “mobile safari generic” should be recorded as “safari” after processing (another feature “DeviceType” has recorded whether the brower is from mobile). "
   ]
  },
  {
   "cell_type": "code",
   "execution_count": 185,
   "id": "032baf4f-8a8f-4d54-8fec-ce2bb7057fde",
   "metadata": {},
   "outputs": [
    {
     "name": "stdout",
     "output_type": "stream",
     "text": [
      "['BLU/Dash', 'Cherry', 'Generic/Android', 'Inco/Minion', 'LG/K-200', 'Lanix/Ilium', 'M4Tel/M4', 'Microsoft/Windows', 'Nokia/Lumia', 'ZTE/Blade', 'android', 'aol', 'chrome', 'chromium', 'comodo', 'cyberfox', 'edge', 'facebook', 'firefox', 'google', 'icedragon', 'ie', 'iron', 'line', 'maxthon', 'mobile', 'opera', 'other', 'palemoon', 'puffin', 'safari', 'samsung browser', 'seamonkey', 'silk', 'waterfox']\n"
     ]
    }
   ],
   "source": [
    "d = train['id_31'].unique()\n",
    "d_new = d[~pd.isnull(d)]\n",
    "d_new.sort()\n",
    "print(list(d_new))"
   ]
  },
  {
   "cell_type": "code",
   "execution_count": 207,
   "id": "b0f4e9fc-2801-410d-90a8-20567d1760cb",
   "metadata": {},
   "outputs": [],
   "source": [
    "for data in [train, test]:\n",
    "    data.loc[data['id_31'].isin(['chrome 43.0 for android', 'chrome 46.0 for android', 'chrome 49.0', 'chrome 49.0 for android', 'android browser 4.0', 'android webview 4.0','chrome 50.0 for android', 'chrome 51.0', 'chrome 51.0 for android', 'chrome 52.0 for android', 'chrome 53.0 for android', 'chrome 54.0 for android', 'chrome 55.0', 'chrome 55.0 for android', 'chrome 56.0', 'chrome 56.0 for android', 'chrome 57.0', 'chrome 57.0 for android', 'chrome 58.0', 'chrome 58.0 for android', 'chrome 59.0', 'chrome 59.0 for android', 'chrome 60.0', 'chrome 60.0 for android', 'chrome 61.0','chrome 62.0 for ios', 'chrome 63.0', 'chrome 63.0 for android', 'chrome 63.0 for ios', 'chrome 64.0', 'chrome 64.0 for android', 'chrome 64.0 for ios', 'chrome 65.0', 'chrome 65.0 for android', 'chrome 65.0 for ios', 'chrome 66.0', 'chrome 66.0 for android', 'chrome 66.0 for ios', 'chrome 67.0', 'chrome 67.0 for android', 'chrome 69.0', 'chrome generic', 'chrome generic for android', 'chrome 61.0 for android', 'chrome 62.0', 'chrome 62.0 for android']),'id_31'] = \"chrome\"\n",
    "    data.loc[data['id_31'].isin(['firefox', 'Mozilla/Firefox','firefox 47.0', 'firefox 48.0', 'firefox 52.0', 'firefox 55.0', 'firefox 56.0', 'firefox 57.0', 'firefox 58.0', 'firefox 59.0', 'firefox 60.0', 'firefox generic', 'firefox mobile 61.0']),'id_31'] = \"firefox\"\n",
    "    data.loc[data['id_31'].isin(['ie', 'ie 11.0 for desktop', 'ie 11.0 for tablet']),'id_31'] = \"ie\"\n",
    "    data.loc[data['id_31'].isin(['safari', 'safari 10.0', 'safari 11.0', 'safari 9.0', 'safari generic','mobile safari 10.0', 'mobile safari 11.0', 'mobile safari 8.0', 'mobile safari 9.0', 'mobile safari generic', 'mobile safari uiwebview']),'id_31'] = \"safari\"\n",
    "    data.loc[data['id_31'].isin(['Samsung/SCH', 'Samsung/SM-G531H', 'Samsung/SM-G532M','samsung', 'samsung browser 3.3', 'samsung browser 4.0', 'samsung browser 4.2', 'samsung browser 5.2', 'samsung browser 5.4', 'samsung browser 6.2', 'samsung browser 6.4', 'samsung browser 7.0', 'samsung browser generic']),'id_31'] = \"samsung browser\"\n",
    "    data.loc[data['id_31'].isin(['edge 13.0', 'edge 14.0', 'edge 15.0', 'edge 16.0', 'edge 17.0']),'id_31'] = \"edge\"\n",
    "    data.loc[data['id_31'].isin(['google search application 48.0', 'google search application 49.0']),'id_31'] = \"google\"\n",
    "    data.loc[data['id_31'].isin(['opera', 'opera 49.0', 'opera 51.0', 'opera 52.0', 'opera 53.0', 'opera generic']),'id_31'] = \"opera\"\n",
    "    data.loc[data['id_31'].isin(['Generic/Android', 'Generic/Android 7.0']),'id_31'] = \"Generic/Android\" "
   ]
  },
  {
   "cell_type": "code",
   "execution_count": 208,
   "id": "6c34d2a5-3a7d-4332-b1c7-10c3790e98a8",
   "metadata": {},
   "outputs": [
    {
     "name": "stdout",
     "output_type": "stream",
     "text": [
      "['blackberry', 'chrome', 'chrome 39.0 for android', 'chrome 67.0 for ios', 'chrome 68.0', 'chrome 68.0 for android', 'chrome 68.0 for ios', 'chrome 69.0 for android', 'chrome 69.0 for ios', 'chrome 70.0', 'chrome 70.0 for android', 'chrome 70.0 for ios', 'chrome 71.0', 'chrome 71.0 for android', 'chrome 71.0 for ios', 'edge', 'edge 18.0', 'facebook', 'firefox', 'firefox 61.0', 'firefox 62.0', 'firefox 63.0', 'firefox 64.0', 'firefox mobile 62.0', 'firefox mobile 63.0', 'google', 'google search application 52.0', 'google search application 54.0', 'google search application 56.0', 'google search application 58.0', 'google search application 59.0', 'google search application 60.0', 'google search application 61.0', 'google search application 62.0', 'google search application 63.0', 'google search application 64.0', 'google search application 65.0', 'ie', 'mobile', 'mobile safari 12.0', 'opera', 'opera 54.0', 'opera 55.0', 'opera 56.0', 'other', 'palemoon', 'rim', 'safari', 'safari 12.0', 'samsung browser', 'samsung browser 7.2', 'samsung browser 7.4', 'samsung browser 8.2', 'uc']\n"
     ]
    }
   ],
   "source": [
    "d = test['id_31'].unique()\n",
    "d_new = d[~pd.isnull(d)]\n",
    "d_new.sort()\n",
    "print(list(d_new))"
   ]
  },
  {
   "cell_type": "markdown",
   "id": "c8b2bc83-ef70-4277-bfd8-8178a1b812e7",
   "metadata": {},
   "source": [
    "## Remove columns with excessive single values"
   ]
  },
  {
   "cell_type": "code",
   "execution_count": 210,
   "id": "26387dd2-7ea1-4e8a-9915-3a225cc240e1",
   "metadata": {},
   "outputs": [],
   "source": [
    "big_top_value_cols = [col for col in train.columns if train[col].value_counts(dropna=False, normalize=True).values[0] > 0.9]\n",
    "big_top_value_cols_test = [col for col in test.columns if test[col].value_counts(dropna=False, normalize=True).values[0] > 0.9]"
   ]
  },
  {
   "cell_type": "code",
   "execution_count": 211,
   "id": "1665640e-143f-4ded-bdce-dcf0b3cea469",
   "metadata": {},
   "outputs": [
    {
     "name": "stdout",
     "output_type": "stream",
     "text": [
      "['V119', 'V86', 'V309', 'V120', 'V55', 'id_25', 'V104', 'V132', 'V27', 'V77', 'V319', 'V284', 'V121', 'id_26', 'V28', 'V113', 'dist2', 'V321', 'V134', 'V124', 'V101', 'V88', 'V311', 'id_07', 'V103', 'V295', 'V106', 'id_22', 'V117', 'V26', 'V318', 'V137', 'V300', 'V135', 'V24', 'C3', 'V116', 'V301', 'V123', 'id_21', 'V14', 'V115', 'V66', 'id_23', 'V98', 'V112', 'V136', 'V296', 'V297', 'V65', 'V298', 'V108', 'V122', 'V25', 'V129', 'isFraud', 'V305', 'id_24', 'V23', 'V68', 'V107', 'V286', 'V281', 'V133', 'V290', 'V293', 'V320', 'V111', 'id_27', 'V299', 'V89', 'V67', 'V125', 'V105', 'id_18', 'V102', 'V110', 'V109', 'V316', 'V114', 'V118', 'id_08']\n"
     ]
    }
   ],
   "source": [
    "col_drop = list(set(big_top_value_cols +big_top_value_cols_test))\n",
    "print(col_drop)"
   ]
  },
  {
   "cell_type": "code",
   "execution_count": 76,
   "id": "29f8c886-de79-4084-99de-7c99f51c580d",
   "metadata": {},
   "outputs": [
    {
     "data": {
      "image/png": "[encoded data removed]",
      "text/plain": [
       "<Figure size 1080x216 with 1 Axes>"
      ]
     },
     "metadata": {
      "needs_background": "light"
     },
     "output_type": "display_data"
    }
   ],
   "source": [
    "train[\"ProductCD\"].value_counts(dropna=False, normalize=True)\\\n",
    ".plot(kind='barh',\n",
    "          figsize=(15, 3),\n",
    "         title='Count of Observations by ProductCD')\n",
    "plt.show()"
   ]
  },
  {
   "cell_type": "code",
   "execution_count": 250,
   "id": "6c9d63c2-0b44-4af0-bc4e-c9daef9265b8",
   "metadata": {},
   "outputs": [
    {
     "name": "stdout",
     "output_type": "stream",
     "text": [
      "Train dataset has 590540 rows and 381 columns.\n",
      "Test dataset has 506691 rows and 380 columns.\n"
     ]
    }
   ],
   "source": [
    "print(f'Train dataset has {train.shape[0]} rows and {train.shape[1]} columns.')\n",
    "print(f'Test dataset has {test.shape[0]} rows and {test.shape[1]} columns.')"
   ]
  },
  {
   "cell_type": "code",
   "execution_count": 213,
   "id": "338a6d05-273a-43bb-8c1a-0020cfa60021",
   "metadata": {},
   "outputs": [],
   "source": [
    "train.to_csv(\"train.csv\", index = False)\n",
    "test.to_csv(\"test.csv\", index= False)"
   ]
  },
  {
   "cell_type": "code",
   "execution_count": 215,
   "id": "36b67407-ee20-4be9-aeba-fc77182f1758",
   "metadata": {},
   "outputs": [
    {
     "name": "stdout",
     "output_type": "stream",
     "text": [
      "['TransactionID', 'isFraud', 'TransactionDT', 'TransactionAmt', 'ProductCD', 'card1', 'card2', 'card3', 'card4', 'card5', 'card6', 'addr1', 'addr2', 'dist1', 'dist2', 'P_emaildomain', 'R_emaildomain', 'C1', 'C2', 'C3', 'C4', 'C5', 'C6', 'C7', 'C8', 'C9', 'C10', 'C11', 'C12', 'C13', 'C14', 'D1', 'D2', 'D3', 'D4', 'D5', 'D10', 'D11', 'D15', 'M1', 'M2', 'M3', 'M4', 'M5', 'M6', 'M7', 'M8', 'M9', 'V1', 'V2', 'V3', 'V4', 'V5', 'V6', 'V7', 'V8', 'V9', 'V10', 'V11', 'V12', 'V13', 'V14', 'V15', 'V16', 'V17', 'V18', 'V19', 'V20', 'V21', 'V22', 'V23', 'V24', 'V25', 'V26', 'V27', 'V28', 'V29', 'V30', 'V31', 'V32', 'V33', 'V34', 'V35', 'V36', 'V37', 'V38', 'V39', 'V40', 'V41', 'V42', 'V43', 'V44', 'V45', 'V46', 'V47', 'V48', 'V49', 'V50', 'V51', 'V52', 'V53', 'V54', 'V55', 'V56', 'V57', 'V58', 'V59', 'V60', 'V61', 'V62', 'V63', 'V64', 'V65', 'V66', 'V67', 'V68', 'V69', 'V70', 'V71', 'V72', 'V73', 'V74', 'V75', 'V76', 'V77', 'V78', 'V79', 'V80', 'V81', 'V82', 'V83', 'V84', 'V85', 'V86', 'V87', 'V88', 'V89', 'V90', 'V91', 'V92', 'V93', 'V94', 'V95', 'V96', 'V97', 'V98', 'V99', 'V100', 'V101', 'V102', 'V103', 'V104', 'V105', 'V106', 'V107', 'V108', 'V109', 'V110', 'V111', 'V112', 'V113', 'V114', 'V115', 'V116', 'V117', 'V118', 'V119', 'V120', 'V121', 'V122', 'V123', 'V124', 'V125', 'V126', 'V127', 'V128', 'V129', 'V130', 'V131', 'V132', 'V133', 'V134', 'V135', 'V136', 'V137', 'V167', 'V168', 'V169', 'V170', 'V171', 'V172', 'V173', 'V174', 'V175', 'V176', 'V177', 'V178', 'V179', 'V180', 'V181', 'V182', 'V183', 'V184', 'V185', 'V186', 'V187', 'V188', 'V189', 'V190', 'V191', 'V192', 'V193', 'V194', 'V195', 'V196', 'V197', 'V198', 'V199', 'V200', 'V201', 'V202', 'V203', 'V204', 'V205', 'V206', 'V207', 'V208', 'V209', 'V210', 'V211', 'V212', 'V213', 'V214', 'V215', 'V216', 'V217', 'V218', 'V219', 'V220', 'V221', 'V222', 'V223', 'V224', 'V225', 'V226', 'V227', 'V228', 'V229', 'V230', 'V231', 'V232', 'V233', 'V234', 'V235', 'V236', 'V237', 'V238', 'V239', 'V240', 'V241', 'V242', 'V243', 'V244', 'V245', 'V246', 'V247', 'V248', 'V249', 'V250', 'V251', 'V252', 'V253', 'V254', 'V255', 'V256', 'V257', 'V258', 'V259', 'V260', 'V261', 'V262', 'V263', 'V264', 'V265', 'V266', 'V267', 'V268', 'V269', 'V270', 'V271', 'V272', 'V273', 'V274', 'V275', 'V276', 'V277', 'V278', 'V279', 'V280', 'V281', 'V282', 'V283', 'V284', 'V285', 'V286', 'V287', 'V288', 'V289', 'V290', 'V291', 'V292', 'V293', 'V294', 'V295', 'V296', 'V297', 'V298', 'V299', 'V300', 'V301', 'V302', 'V303', 'V304', 'V305', 'V306', 'V307', 'V308', 'V309', 'V310', 'V311', 'V312', 'V313', 'V314', 'V315', 'V316', 'V317', 'V318', 'V319', 'V320', 'V321', 'V322', 'id_01', 'id_02', 'id_03', 'id_04', 'id_05', 'id_06', 'id_07', 'id_08', 'id_09', 'id_10', 'id_11', 'id_12', 'id_13', 'id_14', 'id_15', 'id_16', 'id_17', 'id_18', 'id_19', 'id_20', 'id_21', 'id_22', 'id_23', 'id_24', 'id_25', 'id_26', 'id_27', 'id_28', 'id_29', 'id_30', 'id_31', 'id_32', 'id_33', 'id_34', 'id_35', 'id_36', 'id_37', 'id_38', 'DeviceType', 'DeviceInfo']\n"
     ]
    }
   ],
   "source": [
    "print(train.columns.tolist())\n"
   ]
  },
  {
   "cell_type": "markdown",
   "id": "72efeab4-ad04-427d-a7fd-e27f58294472",
   "metadata": {},
   "source": [
    "## Transfer “TransactionDT” to day of week\n",
    "The variabele “TransactionDT” in the Transaction dataset is a timedelta from a given reference datetime (not an actual timestamp). The minimum value of “TransactionDT” is 86400 which corresponds to the number of seconds in a day (60*60*24 = 86400). Therefore, it is possible the unit of this variable is seconds. The maximum value of “TransactionDT” is 15811131. It is reasonable to conclude that the data spans 6 months (15811131-86400)/86400/30 = 6.066. "
   ]
  },
  {
   "cell_type": "code",
   "execution_count": 251,
   "id": "6d2316ad-5218-4015-bcd9-6734a0cb0b0a",
   "metadata": {},
   "outputs": [
    {
     "data": {
      "text/plain": [
       "9474817     8\n",
       "11576951    5\n",
       "7236588     5\n",
       "4397066     5\n",
       "8468062     4\n",
       "           ..\n",
       "1297707     1\n",
       "1309997     1\n",
       "257327      1\n",
       "11738417    1\n",
       "8388608     1\n",
       "Name: TransactionDT, Length: 573349, dtype: int64"
      ]
     },
     "execution_count": 251,
     "metadata": {},
     "output_type": "execute_result"
    }
   ],
   "source": [
    "train['TransactionDT'].value_counts()"
   ]
  },
  {
   "cell_type": "code",
   "execution_count": 252,
   "id": "907a4ef0-7542-4f37-8024-7f3e36acdc8a",
   "metadata": {},
   "outputs": [
    {
     "name": "stdout",
     "output_type": "stream",
     "text": [
      "The maximum value of TransactionDT is:  15811131\n",
      "The minmun value of TransactionDT is:  86400\n"
     ]
    }
   ],
   "source": [
    "print('The maximum value of TransactionDT is: ',train['TransactionDT'].max())\n",
    "print('The minmun value of TransactionDT is: ',train['TransactionDT'].min())"
   ]
  },
  {
   "cell_type": "code",
   "execution_count": 253,
   "id": "f43cd112-5460-4c5a-ad62-5ce7e4fe78cc",
   "metadata": {},
   "outputs": [
    {
     "data": {
      "text/plain": [
       "2.0    97839\n",
       "1.0    86558\n",
       "5.0    86298\n",
       "6.0    83767\n",
       "3.0    75357\n",
       "4.0    75262\n",
       "7.0    60853\n",
       "0.0    24606\n",
       "Name: TransactionDT, dtype: int64"
      ]
     },
     "execution_count": 253,
     "metadata": {},
     "output_type": "execute_result"
    }
   ],
   "source": [
    "train['TransactionDT'] = ((train['TransactionDT']/(60*60*24))%7).round(0)\n",
    "train['TransactionDT'].value_counts()"
   ]
  },
  {
   "cell_type": "code",
   "execution_count": 254,
   "id": "7f7128af-b343-41b2-a0ff-39e53ee3fdce",
   "metadata": {},
   "outputs": [
    {
     "data": {
      "image/png": "[encoded data removed]",
      "text/plain": [
       "<Figure size 1080x216 with 1 Axes>"
      ]
     },
     "metadata": {
      "needs_background": "light"
     },
     "output_type": "display_data"
    }
   ],
   "source": [
    "train[\"TransactionDT\"].value_counts(dropna=False, normalize=True)\\\n",
    ".plot(kind='barh',\n",
    "          figsize=(15, 3),\n",
    "         title='Count of Observations by ProductCD')\n",
    "plt.show()"
   ]
  },
  {
   "cell_type": "markdown",
   "id": "d9300f4c-171d-4d59-bc07-52855baafe47",
   "metadata": {},
   "source": [
    "## Missing value imputation "
   ]
  },
  {
   "cell_type": "code",
   "execution_count": null,
   "id": "af23ad89-313b-4d77-9930-1e15fa4abb72",
   "metadata": {},
   "outputs": [],
   "source": []
  },
  {
   "cell_type": "code",
   "execution_count": null,
   "id": "913ca93e-32aa-4a7a-ba95-ca497659dcc6",
   "metadata": {},
   "outputs": [],
   "source": []
  },
  {
   "cell_type": "code",
   "execution_count": null,
   "id": "475ac506-b0d2-4b8c-bc6a-000492aa2bf0",
   "metadata": {},
   "outputs": [],
   "source": []
  },
  {
   "cell_type": "code",
   "execution_count": null,
   "id": "e5c26951-10a8-45a5-b343-4a19ea501229",
   "metadata": {},
   "outputs": [],
   "source": []
  },
  {
   "cell_type": "code",
   "execution_count": null,
   "id": "19a6b124-45aa-4592-8bee-bc68886759c4",
   "metadata": {},
   "outputs": [],
   "source": []
  },
  {
   "cell_type": "code",
   "execution_count": null,
   "id": "81172e3a-156f-46fd-906d-c012908d217c",
   "metadata": {},
   "outputs": [],
   "source": []
  },
  {
   "cell_type": "code",
   "execution_count": null,
   "id": "5988c37d-530d-4fa3-bc9c-47bc85809bde",
   "metadata": {},
   "outputs": [],
   "source": []
  },
  {
   "cell_type": "markdown",
   "id": "56b7df6b-499b-443e-afd1-2069bbc30f58",
   "metadata": {},
   "source": [
    "## Permutation Importance\n",
    "(1) pick up one feature (2) shuffling all of the numbers in that features (3) some accurency may drop down, and how much drop down will tell you how important the feature is. When you remove it, it will cost lots of time to train between the dataset. So, under this method we don't need to retrain the whole model."
   ]
  },
  {
   "cell_type": "code",
   "execution_count": null,
   "id": "b5d2bf2c-aa30-40d0-bd31-437c748352b6",
   "metadata": {},
   "outputs": [],
   "source": []
  },
  {
   "cell_type": "code",
   "execution_count": null,
   "id": "25849d23-c052-424b-8ba0-b27194eccf4d",
   "metadata": {},
   "outputs": [],
   "source": []
  },
  {
   "cell_type": "code",
   "execution_count": null,
   "id": "c8837594-e151-436e-82fe-91565df8ad51",
   "metadata": {},
   "outputs": [],
   "source": []
  },
  {
   "cell_type": "code",
   "execution_count": null,
   "id": "9c7233ac-ae09-46df-9e8b-fa33b137e35d",
   "metadata": {},
   "outputs": [],
   "source": []
  },
  {
   "cell_type": "markdown",
   "id": "62db9b2e-b48f-4639-85bc-620896caa7a7",
   "metadata": {},
   "source": [
    "## Transforming categorical features --- One Hot Encoding"
   ]
  },
  {
   "cell_type": "code",
   "execution_count": null,
   "id": "8a14f030-6bc3-4167-9692-e254fa037b1c",
   "metadata": {},
   "outputs": [],
   "source": [
    "col_object = train.dtypes[train.dtypes == 'object']\n",
    "print(col_object)"
   ]
  },
  {
   "cell_type": "code",
   "execution_count": null,
   "id": "91e98926-c5d9-40b9-869c-3f14dabf5e07",
   "metadata": {},
   "outputs": [],
   "source": []
  },
  {
   "cell_type": "code",
   "execution_count": null,
   "id": "caf6f947-0bf5-4cb1-b4ef-dd239f208117",
   "metadata": {},
   "outputs": [],
   "source": []
  },
  {
   "cell_type": "code",
   "execution_count": null,
   "id": "661ddcd5-4092-4138-a6d7-080c842f9526",
   "metadata": {},
   "outputs": [],
   "source": []
  },
  {
   "cell_type": "code",
   "execution_count": null,
   "id": "3898d95e-4f5c-4550-ad01-9b081561aa32",
   "metadata": {},
   "outputs": [],
   "source": []
  },
  {
   "cell_type": "code",
   "execution_count": null,
   "id": "ff7a6693-dde0-42e3-964b-788039e58781",
   "metadata": {},
   "outputs": [],
   "source": []
  },
  {
   "cell_type": "code",
   "execution_count": null,
   "id": "f77095a4-efbb-456a-8f53-f1bcf2f34f11",
   "metadata": {},
   "outputs": [],
   "source": []
  },
  {
   "cell_type": "code",
   "execution_count": null,
   "id": "8521f510-9349-495a-90cc-6f9c28a199d3",
   "metadata": {},
   "outputs": [],
   "source": []
  },
  {
   "cell_type": "code",
   "execution_count": null,
   "id": "86980d4f-1fe0-4ae8-9ddb-491a4edd01aa",
   "metadata": {},
   "outputs": [],
   "source": []
  },
  {
   "cell_type": "markdown",
   "id": "5611e290-e68f-49a6-9645-d8d6065836fe",
   "metadata": {},
   "source": [
    "## Tackling Class imbalance"
   ]
  },
  {
   "cell_type": "code",
   "execution_count": 218,
   "id": "7e76b9d8-acfd-478c-b330-dd553ca276f6",
   "metadata": {},
   "outputs": [
    {
     "name": "stderr",
     "output_type": "stream",
     "text": [
      "/Users/wanlin/opt/anaconda3/lib/python3.8/site-packages/seaborn/_decorators.py:36: FutureWarning: Pass the following variables as keyword args: x, y. From version 0.12, the only valid positional argument will be `data`, and passing other arguments without an explicit keyword will result in an error or misinterpretation.\n",
      "  warnings.warn(\n"
     ]
    },
    {
     "data": {
      "text/plain": [
       "Text(0.5, 1.0, 'Target variable count')"
      ]
     },
     "execution_count": 218,
     "metadata": {},
     "output_type": "execute_result"
    },
    {
     "data": {
      "image/png": "[encoded data removed]",
      "text/plain": [
       "<Figure size 432x288 with 1 Axes>"
      ]
     },
     "metadata": {
      "needs_background": "light"
     },
     "output_type": "display_data"
    }
   ],
   "source": [
    "%matplotlib inline\n",
    "x=train['isFraud'].value_counts().values\n",
    "sns.barplot([0,1],x)\n",
    "plt.title('Target variable count')"
   ]
  },
  {
   "cell_type": "markdown",
   "id": "34ef6e3a-5185-4e15-aae0-a7f8262095dc",
   "metadata": {},
   "source": [
    "### 1. Splitting to train and validation"
   ]
  },
  {
   "cell_type": "code",
   "execution_count": null,
   "id": "e8f0e8dc-ef15-4bad-85ae-fe44331f2b38",
   "metadata": {},
   "outputs": [],
   "source": [
    "# We now split the train dataset into train and validation set.\n",
    "# We keeep 20% of data for validation.\n",
    "X = train.drop('isFraud', axis = 1).values\n",
    "y = train['isFraud'].values\n",
    "X_train,X_validation,y_train,y_validation =train_test_split(X,y,test_size=.2,random_state=1)"
   ]
  },
  {
   "cell_type": "markdown",
   "id": "e9fc204b-997e-425a-ac9e-e388b32f7244",
   "metadata": {},
   "source": [
    "## Under-sampling: Tomek links\n",
    "Tomek links are pairs of very close instances, but of opposite classes. Removing the instances of the majority class of each pair increases the space between the two classes, facilitating the classification process.\n",
    "\n",
    "In real world fraudulent activity might not be reported, e.g., cardholder was unaware, or forgot to report in time and beyond the claim period, etc. In such cases, supposed fraud might be labeled as legit, but we never could know of them. Therefore, we chose Tomek links to reduce this influence."
   ]
  },
  {
   "cell_type": "code",
   "execution_count": null,
   "id": "1bf3bca9-8c16-4e5f-8373-179b30f3752c",
   "metadata": {},
   "outputs": [],
   "source": [
    "from imblearn.under_sampling import TomekLinks\n",
    "\n",
    "tl = TomekLinks(return_indices=True, ratio='majority')\n",
    "X_tl, y_tl, id_tl = tl.fit_sample(X_train, y_train)\n"
   ]
  },
  {
   "cell_type": "code",
   "execution_count": null,
   "id": "e37d38c2-c707-45bf-aef9-6bbd47f457d5",
   "metadata": {},
   "outputs": [],
   "source": []
  },
  {
   "cell_type": "code",
   "execution_count": null,
   "id": "06363ae3-be33-4992-a4ee-d48044246789",
   "metadata": {},
   "outputs": [],
   "source": []
  },
  {
   "cell_type": "code",
   "execution_count": null,
   "id": "65eda035-ad3e-4b86-9f9f-95ae12350da3",
   "metadata": {},
   "outputs": [],
   "source": []
  },
  {
   "cell_type": "code",
   "execution_count": null,
   "id": "2bfc16a0-ced7-4ba4-89f1-ca4170c88347",
   "metadata": {},
   "outputs": [],
   "source": []
  },
  {
   "cell_type": "code",
   "execution_count": null,
   "id": "775d0748-e5b7-4b23-8b3a-8cc37caf939e",
   "metadata": {},
   "outputs": [],
   "source": []
  },
  {
   "cell_type": "code",
   "execution_count": null,
   "id": "bae7da0c-a518-485a-a415-a63511a5441d",
   "metadata": {},
   "outputs": [],
   "source": []
  },
  {
   "cell_type": "code",
   "execution_count": null,
   "id": "89968c30-df89-4c66-8ba0-749ee08c3adf",
   "metadata": {},
   "outputs": [],
   "source": []
  },
  {
   "cell_type": "code",
   "execution_count": null,
   "id": "6e83730f-ce2b-4683-a379-6b7ee4c8e238",
   "metadata": {},
   "outputs": [],
   "source": []
  },
  {
   "cell_type": "code",
   "execution_count": null,
   "id": "8f101c4e-d836-4c86-9f05-6613bae742ba",
   "metadata": {},
   "outputs": [],
   "source": []
  },
  {
   "cell_type": "markdown",
   "id": "f9a1051e-004f-4514-9edb-03a67da207c0",
   "metadata": {},
   "source": [
    "References: \n",
    "https://www.kaggle.com/code/artgor/eda-and-models\n",
    "https://www.kaggle.com/code/robikscube/ieee-fraud-detection-first-look-and-eda/notebook\n",
    "https://www.kaggle.com/code/shahules/tackling-class-imbalance#notebook-container"
   ]
  }
 ],
 "metadata": {
  "kernelspec": {
   "display_name": "Python 3",
   "language": "python",
   "name": "python3"
  },
  "language_info": {
   "codemirror_mode": {
    "name": "ipython",
    "version": 3
   },
   "file_extension": ".py",
   "mimetype": "text/x-python",
   "name": "python",
   "nbconvert_exporter": "python",
   "pygments_lexer": "ipython3",
   "version": "3.8.8"
  }
 },
 "nbformat": 4,
 "nbformat_minor": 5
}
