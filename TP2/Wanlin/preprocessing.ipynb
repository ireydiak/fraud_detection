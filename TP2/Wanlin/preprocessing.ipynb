{
 "cells": [
  {
   "cell_type": "code",
   "execution_count": 1,
   "id": "61049e36-fcd6-4723-9553-31b60c0f77da",
   "metadata": {
    "id": "61049e36-fcd6-4723-9553-31b60c0f77da"
   },
   "outputs": [],
   "source": [
    "%matplotlib notebook\n",
    "import numpy as np # linear algebra\n",
    "import pandas as pd # data processing\n",
    "import seaborn as sns  # data visualization library  \n",
    "import matplotlib.pyplot as plt"
   ]
  },
  {
   "cell_type": "code",
   "execution_count": null,
   "id": "f2XZB6sFN0h1",
   "metadata": {
    "id": "f2XZB6sFN0h1"
   },
   "outputs": [],
   "source": []
  },
  {
   "cell_type": "code",
   "execution_count": null,
   "id": "b6485ba6-4c52-49c6-93c2-ae80edc3d3a7",
   "metadata": {
    "id": "b6485ba6-4c52-49c6-93c2-ae80edc3d3a7",
    "outputId": "58873d7c-12aa-4767-d4ed-d7a5dc29b85a"
   },
   "outputs": [
    {
     "name": "stdout",
     "output_type": "stream",
     "text": [
      "(136026, 10)\n"
     ]
    },
    {
     "data": {
      "text/html": [
       "<div>\n",
       "<style scoped>\n",
       "    .dataframe tbody tr th:only-of-type {\n",
       "        vertical-align: middle;\n",
       "    }\n",
       "\n",
       "    .dataframe tbody tr th {\n",
       "        vertical-align: top;\n",
       "    }\n",
       "\n",
       "    .dataframe thead th {\n",
       "        text-align: right;\n",
       "    }\n",
       "</style>\n",
       "<table border=\"1\" class=\"dataframe\">\n",
       "  <thead>\n",
       "    <tr style=\"text-align: right;\">\n",
       "      <th></th>\n",
       "      <th>Unnamed: 0</th>\n",
       "      <th>user_id</th>\n",
       "      <th>store_id</th>\n",
       "      <th>distance</th>\n",
       "      <th>order_id</th>\n",
       "      <th>eval_set</th>\n",
       "      <th>order_number</th>\n",
       "      <th>order_dow</th>\n",
       "      <th>order_hour_of_day</th>\n",
       "      <th>days_since_prior_order</th>\n",
       "    </tr>\n",
       "  </thead>\n",
       "  <tbody>\n",
       "    <tr>\n",
       "      <th>0</th>\n",
       "      <td>0</td>\n",
       "      <td>210</td>\n",
       "      <td>0</td>\n",
       "      <td>2.304404</td>\n",
       "      <td>1438665</td>\n",
       "      <td>prior</td>\n",
       "      <td>9</td>\n",
       "      <td>1</td>\n",
       "      <td>18</td>\n",
       "      <td>3.0</td>\n",
       "    </tr>\n",
       "    <tr>\n",
       "      <th>1</th>\n",
       "      <td>1</td>\n",
       "      <td>210</td>\n",
       "      <td>0</td>\n",
       "      <td>2.304404</td>\n",
       "      <td>2850206</td>\n",
       "      <td>prior</td>\n",
       "      <td>36</td>\n",
       "      <td>0</td>\n",
       "      <td>7</td>\n",
       "      <td>2.0</td>\n",
       "    </tr>\n",
       "    <tr>\n",
       "      <th>2</th>\n",
       "      <td>2</td>\n",
       "      <td>210</td>\n",
       "      <td>0</td>\n",
       "      <td>2.304404</td>\n",
       "      <td>2406913</td>\n",
       "      <td>prior</td>\n",
       "      <td>42</td>\n",
       "      <td>0</td>\n",
       "      <td>8</td>\n",
       "      <td>3.0</td>\n",
       "    </tr>\n",
       "    <tr>\n",
       "      <th>3</th>\n",
       "      <td>3</td>\n",
       "      <td>210</td>\n",
       "      <td>0</td>\n",
       "      <td>2.304404</td>\n",
       "      <td>1155933</td>\n",
       "      <td>prior</td>\n",
       "      <td>43</td>\n",
       "      <td>2</td>\n",
       "      <td>23</td>\n",
       "      <td>2.0</td>\n",
       "    </tr>\n",
       "    <tr>\n",
       "      <th>4</th>\n",
       "      <td>4</td>\n",
       "      <td>210</td>\n",
       "      <td>0</td>\n",
       "      <td>2.304404</td>\n",
       "      <td>271697</td>\n",
       "      <td>prior</td>\n",
       "      <td>56</td>\n",
       "      <td>5</td>\n",
       "      <td>17</td>\n",
       "      <td>3.0</td>\n",
       "    </tr>\n",
       "  </tbody>\n",
       "</table>\n",
       "</div>"
      ],
      "text/plain": [
       "   Unnamed: 0  user_id  store_id  distance  order_id eval_set  order_number  \\\n",
       "0           0      210         0  2.304404   1438665    prior             9   \n",
       "1           1      210         0  2.304404   2850206    prior            36   \n",
       "2           2      210         0  2.304404   2406913    prior            42   \n",
       "3           3      210         0  2.304404   1155933    prior            43   \n",
       "4           4      210         0  2.304404    271697    prior            56   \n",
       "\n",
       "   order_dow  order_hour_of_day  days_since_prior_order  \n",
       "0          1                 18                     3.0  \n",
       "1          0                  7                     2.0  \n",
       "2          0                  8                     3.0  \n",
       "3          2                 23                     2.0  \n",
       "4          5                 17                     3.0  "
      ]
     },
     "execution_count": 2,
     "metadata": {},
     "output_type": "execute_result"
    }
   ],
   "source": [
    "order_dss = pd.read_csv(\"orders_distance_stores_softmax.csv\")\n",
    "print(order_dss.shape)\n",
    "order_dss.head()"
   ]
  },
  {
   "cell_type": "code",
   "execution_count": null,
   "id": "28c8d577-4556-41f3-9c88-007f0b30d213",
   "metadata": {
    "id": "28c8d577-4556-41f3-9c88-007f0b30d213",
    "outputId": "cd2e000a-9229-416d-e5ca-5717796f514a"
   },
   "outputs": [
    {
     "name": "stdout",
     "output_type": "stream",
     "text": [
      "(1172312, 6)\n"
     ]
    },
    {
     "data": {
      "text/html": [
       "<div>\n",
       "<style scoped>\n",
       "    .dataframe tbody tr th:only-of-type {\n",
       "        vertical-align: middle;\n",
       "    }\n",
       "\n",
       "    .dataframe tbody tr th {\n",
       "        vertical-align: top;\n",
       "    }\n",
       "\n",
       "    .dataframe thead th {\n",
       "        text-align: right;\n",
       "    }\n",
       "</style>\n",
       "<table border=\"1\" class=\"dataframe\">\n",
       "  <thead>\n",
       "    <tr style=\"text-align: right;\">\n",
       "      <th></th>\n",
       "      <th>Unnamed: 0</th>\n",
       "      <th>order_id</th>\n",
       "      <th>product_id</th>\n",
       "      <th>add_to_cart_order</th>\n",
       "      <th>reordered</th>\n",
       "      <th>special</th>\n",
       "    </tr>\n",
       "  </thead>\n",
       "  <tbody>\n",
       "    <tr>\n",
       "      <th>0</th>\n",
       "      <td>0</td>\n",
       "      <td>15</td>\n",
       "      <td>19660</td>\n",
       "      <td>1</td>\n",
       "      <td>1</td>\n",
       "      <td>15</td>\n",
       "    </tr>\n",
       "    <tr>\n",
       "      <th>1</th>\n",
       "      <td>1</td>\n",
       "      <td>15</td>\n",
       "      <td>21195</td>\n",
       "      <td>2</td>\n",
       "      <td>1</td>\n",
       "      <td>0</td>\n",
       "    </tr>\n",
       "    <tr>\n",
       "      <th>2</th>\n",
       "      <td>2</td>\n",
       "      <td>15</td>\n",
       "      <td>7461</td>\n",
       "      <td>3</td>\n",
       "      <td>1</td>\n",
       "      <td>50</td>\n",
       "    </tr>\n",
       "    <tr>\n",
       "      <th>3</th>\n",
       "      <td>3</td>\n",
       "      <td>15</td>\n",
       "      <td>2996</td>\n",
       "      <td>4</td>\n",
       "      <td>1</td>\n",
       "      <td>0</td>\n",
       "    </tr>\n",
       "    <tr>\n",
       "      <th>4</th>\n",
       "      <td>4</td>\n",
       "      <td>15</td>\n",
       "      <td>32463</td>\n",
       "      <td>5</td>\n",
       "      <td>1</td>\n",
       "      <td>0</td>\n",
       "    </tr>\n",
       "  </tbody>\n",
       "</table>\n",
       "</div>"
      ],
      "text/plain": [
       "   Unnamed: 0  order_id  product_id  add_to_cart_order  reordered  special\n",
       "0           0        15       19660                  1          1       15\n",
       "1           1        15       21195                  2          1        0\n",
       "2           2        15        7461                  3          1       50\n",
       "3           3        15        2996                  4          1        0\n",
       "4           4        15       32463                  5          1        0"
      ]
     },
     "execution_count": 3,
     "metadata": {},
     "output_type": "execute_result"
    }
   ],
   "source": [
    "order_pps = pd.read_csv(\"order_products__prior_specials.csv\")\n",
    "print(order_pps.shape)\n",
    "order_pps.head()"
   ]
  },
  {
   "cell_type": "code",
   "execution_count": null,
   "id": "3e1ffbcc-77c5-4b77-b117-8c7b9cd5c9e0",
   "metadata": {
    "id": "3e1ffbcc-77c5-4b77-b117-8c7b9cd5c9e0",
    "outputId": "32387987-f9e3-43fa-c776-e03ed2d0b0c0"
   },
   "outputs": [
    {
     "name": "stdout",
     "output_type": "stream",
     "text": [
      "(1172312, 15)\n"
     ]
    },
    {
     "data": {
      "text/html": [
       "<div>\n",
       "<style scoped>\n",
       "    .dataframe tbody tr th:only-of-type {\n",
       "        vertical-align: middle;\n",
       "    }\n",
       "\n",
       "    .dataframe tbody tr th {\n",
       "        vertical-align: top;\n",
       "    }\n",
       "\n",
       "    .dataframe thead th {\n",
       "        text-align: right;\n",
       "    }\n",
       "</style>\n",
       "<table border=\"1\" class=\"dataframe\">\n",
       "  <thead>\n",
       "    <tr style=\"text-align: right;\">\n",
       "      <th></th>\n",
       "      <th>Unnamed: 0_x</th>\n",
       "      <th>order_id</th>\n",
       "      <th>product_id</th>\n",
       "      <th>add_to_cart_order</th>\n",
       "      <th>reordered</th>\n",
       "      <th>special</th>\n",
       "      <th>Unnamed: 0_y</th>\n",
       "      <th>user_id</th>\n",
       "      <th>store_id</th>\n",
       "      <th>distance</th>\n",
       "      <th>eval_set</th>\n",
       "      <th>order_number</th>\n",
       "      <th>order_dow</th>\n",
       "      <th>order_hour_of_day</th>\n",
       "      <th>days_since_prior_order</th>\n",
       "    </tr>\n",
       "  </thead>\n",
       "  <tbody>\n",
       "    <tr>\n",
       "      <th>0</th>\n",
       "      <td>0</td>\n",
       "      <td>15</td>\n",
       "      <td>19660</td>\n",
       "      <td>1</td>\n",
       "      <td>1</td>\n",
       "      <td>15</td>\n",
       "      <td>37332</td>\n",
       "      <td>54901</td>\n",
       "      <td>1</td>\n",
       "      <td>0.304608</td>\n",
       "      <td>prior</td>\n",
       "      <td>51</td>\n",
       "      <td>3</td>\n",
       "      <td>11</td>\n",
       "      <td>2.0</td>\n",
       "    </tr>\n",
       "    <tr>\n",
       "      <th>1</th>\n",
       "      <td>1</td>\n",
       "      <td>15</td>\n",
       "      <td>21195</td>\n",
       "      <td>2</td>\n",
       "      <td>1</td>\n",
       "      <td>0</td>\n",
       "      <td>37332</td>\n",
       "      <td>54901</td>\n",
       "      <td>1</td>\n",
       "      <td>0.304608</td>\n",
       "      <td>prior</td>\n",
       "      <td>51</td>\n",
       "      <td>3</td>\n",
       "      <td>11</td>\n",
       "      <td>2.0</td>\n",
       "    </tr>\n",
       "    <tr>\n",
       "      <th>2</th>\n",
       "      <td>2</td>\n",
       "      <td>15</td>\n",
       "      <td>7461</td>\n",
       "      <td>3</td>\n",
       "      <td>1</td>\n",
       "      <td>50</td>\n",
       "      <td>37332</td>\n",
       "      <td>54901</td>\n",
       "      <td>1</td>\n",
       "      <td>0.304608</td>\n",
       "      <td>prior</td>\n",
       "      <td>51</td>\n",
       "      <td>3</td>\n",
       "      <td>11</td>\n",
       "      <td>2.0</td>\n",
       "    </tr>\n",
       "    <tr>\n",
       "      <th>3</th>\n",
       "      <td>3</td>\n",
       "      <td>15</td>\n",
       "      <td>2996</td>\n",
       "      <td>4</td>\n",
       "      <td>1</td>\n",
       "      <td>0</td>\n",
       "      <td>37332</td>\n",
       "      <td>54901</td>\n",
       "      <td>1</td>\n",
       "      <td>0.304608</td>\n",
       "      <td>prior</td>\n",
       "      <td>51</td>\n",
       "      <td>3</td>\n",
       "      <td>11</td>\n",
       "      <td>2.0</td>\n",
       "    </tr>\n",
       "    <tr>\n",
       "      <th>4</th>\n",
       "      <td>4</td>\n",
       "      <td>15</td>\n",
       "      <td>32463</td>\n",
       "      <td>5</td>\n",
       "      <td>1</td>\n",
       "      <td>0</td>\n",
       "      <td>37332</td>\n",
       "      <td>54901</td>\n",
       "      <td>1</td>\n",
       "      <td>0.304608</td>\n",
       "      <td>prior</td>\n",
       "      <td>51</td>\n",
       "      <td>3</td>\n",
       "      <td>11</td>\n",
       "      <td>2.0</td>\n",
       "    </tr>\n",
       "  </tbody>\n",
       "</table>\n",
       "</div>"
      ],
      "text/plain": [
       "   Unnamed: 0_x  order_id  product_id  add_to_cart_order  reordered  special  \\\n",
       "0             0        15       19660                  1          1       15   \n",
       "1             1        15       21195                  2          1        0   \n",
       "2             2        15        7461                  3          1       50   \n",
       "3             3        15        2996                  4          1        0   \n",
       "4             4        15       32463                  5          1        0   \n",
       "\n",
       "   Unnamed: 0_y  user_id  store_id  distance eval_set  order_number  \\\n",
       "0         37332    54901         1  0.304608    prior            51   \n",
       "1         37332    54901         1  0.304608    prior            51   \n",
       "2         37332    54901         1  0.304608    prior            51   \n",
       "3         37332    54901         1  0.304608    prior            51   \n",
       "4         37332    54901         1  0.304608    prior            51   \n",
       "\n",
       "   order_dow  order_hour_of_day  days_since_prior_order  \n",
       "0          3                 11                     2.0  \n",
       "1          3                 11                     2.0  \n",
       "2          3                 11                     2.0  \n",
       "3          3                 11                     2.0  \n",
       "4          3                 11                     2.0  "
      ]
     },
     "execution_count": 4,
     "metadata": {},
     "output_type": "execute_result"
    }
   ],
   "source": [
    "df_merge = pd.merge(order_pps,order_dss, on='order_id')\n",
    "print(df_merge.shape)\n",
    "df_merge.head()"
   ]
  },
  {
   "cell_type": "code",
   "execution_count": null,
   "id": "a0c7a5ed-eb18-46e0-8454-1e5de766dd49",
   "metadata": {
    "id": "a0c7a5ed-eb18-46e0-8454-1e5de766dd49",
    "outputId": "51c8d580-128e-40e0-8230-8ea81bd0cc92"
   },
   "outputs": [
    {
     "data": {
      "text/plain": [
       "Unnamed: 0_x                  0\n",
       "order_id                      0\n",
       "product_id                    0\n",
       "add_to_cart_order             0\n",
       "reordered                     0\n",
       "special                       0\n",
       "Unnamed: 0_y                  0\n",
       "user_id                       0\n",
       "store_id                      0\n",
       "distance                      0\n",
       "eval_set                      0\n",
       "order_number                  0\n",
       "order_dow                     0\n",
       "order_hour_of_day             0\n",
       "days_since_prior_order    13871\n",
       "dtype: int64"
      ]
     },
     "execution_count": 5,
     "metadata": {},
     "output_type": "execute_result"
    }
   ],
   "source": [
    "df_merge.isna().sum()"
   ]
  },
  {
   "cell_type": "code",
   "execution_count": null,
   "id": "4a10784b-19ef-4d46-9728-2bc8fd84030a",
   "metadata": {
    "id": "4a10784b-19ef-4d46-9728-2bc8fd84030a"
   },
   "outputs": [],
   "source": [
    "df_merge.to_csv('df_merge.csv')"
   ]
  },
  {
   "cell_type": "markdown",
   "id": "6e943590-f68e-4848-900e-8034a2833214",
   "metadata": {
    "id": "6e943590-f68e-4848-900e-8034a2833214"
   },
   "source": [
    "## Drop any rows that contain any null values\n",
    "because the proportion of missing values are insignificant. 13817/1172312 = 1.18%"
   ]
  },
  {
   "cell_type": "code",
   "execution_count": null,
   "id": "24eddc3a-5b87-4677-a1ba-5a9a9e0ad4f5",
   "metadata": {
    "id": "24eddc3a-5b87-4677-a1ba-5a9a9e0ad4f5",
    "outputId": "a162364d-8c88-4152-947c-df35c4dcc6c3"
   },
   "outputs": [
    {
     "data": {
      "text/plain": [
       "(1158441, 15)"
      ]
     },
     "execution_count": 7,
     "metadata": {},
     "output_type": "execute_result"
    }
   ],
   "source": [
    "# to drop any rows that contain any null values\n",
    "df_merge.dropna(inplace=True)\n",
    "df_merge.shape"
   ]
  },
  {
   "cell_type": "code",
   "execution_count": null,
   "id": "e24acccd-5042-4e27-94ac-9d0548ad4c2e",
   "metadata": {
    "id": "e24acccd-5042-4e27-94ac-9d0548ad4c2e",
    "outputId": "dff0938d-2749-4dc6-c155-8f3b52633178"
   },
   "outputs": [
    {
     "data": {
      "text/plain": [
       "Unnamed: 0_x              0\n",
       "order_id                  0\n",
       "product_id                0\n",
       "add_to_cart_order         0\n",
       "reordered                 0\n",
       "special                   0\n",
       "Unnamed: 0_y              0\n",
       "user_id                   0\n",
       "store_id                  0\n",
       "distance                  0\n",
       "eval_set                  0\n",
       "order_number              0\n",
       "order_dow                 0\n",
       "order_hour_of_day         0\n",
       "days_since_prior_order    0\n",
       "dtype: int64"
      ]
     },
     "execution_count": 8,
     "metadata": {},
     "output_type": "execute_result"
    }
   ],
   "source": [
    "df_merge.isna().sum()"
   ]
  },
  {
   "cell_type": "markdown",
   "id": "e3a5e1aa-d46e-432c-9297-fe8c3011755e",
   "metadata": {
    "id": "e3a5e1aa-d46e-432c-9297-fe8c3011755e"
   },
   "source": [
    "## Drop duplicated rows"
   ]
  },
  {
   "cell_type": "code",
   "execution_count": null,
   "id": "740ed67d-6c31-490c-b0ad-5df9e632d8c5",
   "metadata": {
    "id": "740ed67d-6c31-490c-b0ad-5df9e632d8c5",
    "outputId": "c603e663-aa00-491a-d704-54891ec399c5"
   },
   "outputs": [
    {
     "data": {
      "text/plain": [
       "(1158441, 15)"
      ]
     },
     "execution_count": 9,
     "metadata": {},
     "output_type": "execute_result"
    }
   ],
   "source": [
    "df_merge.drop_duplicates(keep='first',inplace=True)\n",
    "df_merge.shape"
   ]
  },
  {
   "cell_type": "markdown",
   "id": "621eb992-0c43-4576-a2f8-92ffe0d78bac",
   "metadata": {
    "id": "621eb992-0c43-4576-a2f8-92ffe0d78bac"
   },
   "source": [
    "## Drop the column of index"
   ]
  },
  {
   "cell_type": "code",
   "execution_count": null,
   "id": "088e1127-1eb7-4c94-a2c8-38c391b66b82",
   "metadata": {
    "id": "088e1127-1eb7-4c94-a2c8-38c391b66b82",
    "outputId": "eacdda28-d510-4a43-fbfe-7366d37fadaf"
   },
   "outputs": [
    {
     "data": {
      "text/plain": [
       "(1158441, 13)"
      ]
     },
     "execution_count": 10,
     "metadata": {},
     "output_type": "execute_result"
    }
   ],
   "source": [
    "df_merge.drop(['Unnamed: 0_x','Unnamed: 0_y'],axis=1, inplace=True)\n",
    "df_merge.shape"
   ]
  },
  {
   "cell_type": "markdown",
   "id": "684ab748-38ff-4419-814b-f7233ce9ca81",
   "metadata": {
    "id": "684ab748-38ff-4419-814b-f7233ce9ca81"
   },
   "source": [
    "## Convert categories to numbers"
   ]
  },
  {
   "cell_type": "code",
   "execution_count": null,
   "id": "ce61e070-7525-4f90-931b-222e7877e578",
   "metadata": {
    "id": "ce61e070-7525-4f90-931b-222e7877e578",
    "outputId": "a5ec7732-7bb6-45e2-9fba-e09015ff116f"
   },
   "outputs": [
    {
     "data": {
      "text/plain": [
       "order_id                    int64\n",
       "product_id                  int64\n",
       "add_to_cart_order           int64\n",
       "reordered                   int64\n",
       "special                     int64\n",
       "user_id                     int64\n",
       "store_id                    int64\n",
       "distance                  float64\n",
       "eval_set                   object\n",
       "order_number                int64\n",
       "order_dow                   int64\n",
       "order_hour_of_day           int64\n",
       "days_since_prior_order    float64\n",
       "dtype: object"
      ]
     },
     "execution_count": 11,
     "metadata": {},
     "output_type": "execute_result"
    }
   ],
   "source": [
    "df_merge.dtypes"
   ]
  },
  {
   "cell_type": "code",
   "execution_count": null,
   "id": "163df2bd-6482-45a5-853d-69a92d939c1e",
   "metadata": {
    "id": "163df2bd-6482-45a5-853d-69a92d939c1e",
    "outputId": "fa2aa928-9c0f-4ac1-8cc8-fbe91eb89b04"
   },
   "outputs": [
    {
     "data": {
      "text/html": [
       "<div>\n",
       "<style scoped>\n",
       "    .dataframe tbody tr th:only-of-type {\n",
       "        vertical-align: middle;\n",
       "    }\n",
       "\n",
       "    .dataframe tbody tr th {\n",
       "        vertical-align: top;\n",
       "    }\n",
       "\n",
       "    .dataframe thead th {\n",
       "        text-align: right;\n",
       "    }\n",
       "</style>\n",
       "<table border=\"1\" class=\"dataframe\">\n",
       "  <thead>\n",
       "    <tr style=\"text-align: right;\">\n",
       "      <th></th>\n",
       "      <th>order_id</th>\n",
       "      <th>product_id</th>\n",
       "      <th>add_to_cart_order</th>\n",
       "      <th>reordered</th>\n",
       "      <th>special</th>\n",
       "      <th>user_id</th>\n",
       "      <th>store_id</th>\n",
       "      <th>distance</th>\n",
       "      <th>eval_set</th>\n",
       "      <th>order_number</th>\n",
       "      <th>order_dow</th>\n",
       "      <th>order_hour_of_day</th>\n",
       "      <th>days_since_prior_order</th>\n",
       "    </tr>\n",
       "  </thead>\n",
       "  <tbody>\n",
       "    <tr>\n",
       "      <th>0</th>\n",
       "      <td>15</td>\n",
       "      <td>19660</td>\n",
       "      <td>1</td>\n",
       "      <td>1</td>\n",
       "      <td>15</td>\n",
       "      <td>54901</td>\n",
       "      <td>1</td>\n",
       "      <td>0.304608</td>\n",
       "      <td>1</td>\n",
       "      <td>51</td>\n",
       "      <td>3</td>\n",
       "      <td>11</td>\n",
       "      <td>2.0</td>\n",
       "    </tr>\n",
       "    <tr>\n",
       "      <th>1</th>\n",
       "      <td>15</td>\n",
       "      <td>21195</td>\n",
       "      <td>2</td>\n",
       "      <td>1</td>\n",
       "      <td>0</td>\n",
       "      <td>54901</td>\n",
       "      <td>1</td>\n",
       "      <td>0.304608</td>\n",
       "      <td>1</td>\n",
       "      <td>51</td>\n",
       "      <td>3</td>\n",
       "      <td>11</td>\n",
       "      <td>2.0</td>\n",
       "    </tr>\n",
       "    <tr>\n",
       "      <th>2</th>\n",
       "      <td>15</td>\n",
       "      <td>7461</td>\n",
       "      <td>3</td>\n",
       "      <td>1</td>\n",
       "      <td>50</td>\n",
       "      <td>54901</td>\n",
       "      <td>1</td>\n",
       "      <td>0.304608</td>\n",
       "      <td>1</td>\n",
       "      <td>51</td>\n",
       "      <td>3</td>\n",
       "      <td>11</td>\n",
       "      <td>2.0</td>\n",
       "    </tr>\n",
       "    <tr>\n",
       "      <th>3</th>\n",
       "      <td>15</td>\n",
       "      <td>2996</td>\n",
       "      <td>4</td>\n",
       "      <td>1</td>\n",
       "      <td>0</td>\n",
       "      <td>54901</td>\n",
       "      <td>1</td>\n",
       "      <td>0.304608</td>\n",
       "      <td>1</td>\n",
       "      <td>51</td>\n",
       "      <td>3</td>\n",
       "      <td>11</td>\n",
       "      <td>2.0</td>\n",
       "    </tr>\n",
       "    <tr>\n",
       "      <th>4</th>\n",
       "      <td>15</td>\n",
       "      <td>32463</td>\n",
       "      <td>5</td>\n",
       "      <td>1</td>\n",
       "      <td>0</td>\n",
       "      <td>54901</td>\n",
       "      <td>1</td>\n",
       "      <td>0.304608</td>\n",
       "      <td>1</td>\n",
       "      <td>51</td>\n",
       "      <td>3</td>\n",
       "      <td>11</td>\n",
       "      <td>2.0</td>\n",
       "    </tr>\n",
       "  </tbody>\n",
       "</table>\n",
       "</div>"
      ],
      "text/plain": [
       "   order_id  product_id  add_to_cart_order  reordered  special  user_id  \\\n",
       "0        15       19660                  1          1       15    54901   \n",
       "1        15       21195                  2          1        0    54901   \n",
       "2        15        7461                  3          1       50    54901   \n",
       "3        15        2996                  4          1        0    54901   \n",
       "4        15       32463                  5          1        0    54901   \n",
       "\n",
       "   store_id  distance  eval_set  order_number  order_dow  order_hour_of_day  \\\n",
       "0         1  0.304608         1            51          3                 11   \n",
       "1         1  0.304608         1            51          3                 11   \n",
       "2         1  0.304608         1            51          3                 11   \n",
       "3         1  0.304608         1            51          3                 11   \n",
       "4         1  0.304608         1            51          3                 11   \n",
       "\n",
       "   days_since_prior_order  \n",
       "0                     2.0  \n",
       "1                     2.0  \n",
       "2                     2.0  \n",
       "3                     2.0  \n",
       "4                     2.0  "
      ]
     },
     "execution_count": 12,
     "metadata": {},
     "output_type": "execute_result"
    }
   ],
   "source": [
    "df_merge['eval_set']= df_merge['eval_set'].astype('category')\n",
    "df_merge['eval_set']= df_merge['eval_set'].cat.codes + 1\n",
    "df_merge.head()"
   ]
  },
  {
   "cell_type": "code",
   "execution_count": null,
   "id": "affdfdb7-f79b-4493-8919-30fde0a7bf13",
   "metadata": {
    "id": "affdfdb7-f79b-4493-8919-30fde0a7bf13",
    "outputId": "4d6e0b37-65b5-476c-8cf6-907ea3e90f00"
   },
   "outputs": [
    {
     "data": {
      "text/plain": [
       "array([1], dtype=int8)"
      ]
     },
     "execution_count": 13,
     "metadata": {},
     "output_type": "execute_result"
    }
   ],
   "source": [
    "df_merge['eval_set'].unique()"
   ]
  },
  {
   "cell_type": "markdown",
   "id": "88f04d11-af03-42a6-abd4-176a6d19c955",
   "metadata": {
    "id": "88f04d11-af03-42a6-abd4-176a6d19c955"
   },
   "source": [
    "### since column \"eval_set\" only have one unique value, we can also drop this value"
   ]
  },
  {
   "cell_type": "code",
   "execution_count": null,
   "id": "fd31212a-bc50-4c47-a39b-db4144bbed72",
   "metadata": {
    "id": "fd31212a-bc50-4c47-a39b-db4144bbed72",
    "outputId": "2b5d6ed8-8c1b-42ce-d311-cde2b471ba23"
   },
   "outputs": [
    {
     "data": {
      "text/plain": [
       "(1158441, 12)"
      ]
     },
     "execution_count": 14,
     "metadata": {},
     "output_type": "execute_result"
    }
   ],
   "source": [
    "df_merge.drop(['eval_set'],axis = 1, inplace = True)\n",
    "df_merge.shape"
   ]
  },
  {
   "cell_type": "code",
   "execution_count": null,
   "id": "11cbbde8-ce33-4cdc-b393-5d0b6d8c4f24",
   "metadata": {
    "id": "11cbbde8-ce33-4cdc-b393-5d0b6d8c4f24"
   },
   "outputs": [],
   "source": [
    "df_merge.to_csv('df_merge.csv', index=False)"
   ]
  },
  {
   "cell_type": "markdown",
   "id": "FZY5kgNrQJfJ",
   "metadata": {
    "id": "FZY5kgNrQJfJ"
   },
   "source": [
    "# **Data Reduction**"
   ]
  },
  {
   "cell_type": "markdown",
   "id": "uac_C9PlR8rg",
   "metadata": {
    "id": "uac_C9PlR8rg"
   },
   "source": [
    "## Remove items that have a low probability of being purchased"
   ]
  },
  {
   "cell_type": "code",
   "execution_count": 2,
   "id": "uca9hzupQH3c",
   "metadata": {
    "id": "uca9hzupQH3c"
   },
   "outputs": [],
   "source": [
    "data = pd.read_csv(\"df_merge.csv\")"
   ]
  },
  {
   "cell_type": "markdown",
   "id": "q4O6kohNUaFB",
   "metadata": {
    "id": "q4O6kohNUaFB"
   },
   "source": [
    "**Step1: Check the percentage of each product**"
   ]
  },
  {
   "cell_type": "code",
   "execution_count": 3,
   "id": "WFW7rgosQIQc",
   "metadata": {
    "colab": {
     "base_uri": "https://localhost:8080/"
    },
    "id": "WFW7rgosQIQc",
    "outputId": "dc5c8919-f711-4361-b5be-47dbe9558a00"
   },
   "outputs": [
    {
     "data": {
      "text/plain": [
       "2049     0.000086\n",
       "31798    0.000086\n",
       "29751    0.000086\n",
       "3128     0.000086\n",
       "36904    0.000086\n",
       "           ...   \n",
       "21903    0.817910\n",
       "47209    0.910793\n",
       "21137    1.119349\n",
       "24852    1.404474\n",
       "13176    1.509442\n",
       "Name: product_id, Length: 24783, dtype: float64"
      ]
     },
     "execution_count": 3,
     "metadata": {},
     "output_type": "execute_result"
    }
   ],
   "source": [
    "((data['product_id'].value_counts()) / len(data) * 100).sort_values()"
   ]
  },
  {
   "cell_type": "code",
   "execution_count": 4,
   "id": "Q63LdZX0QITi",
   "metadata": {
    "colab": {
     "base_uri": "https://localhost:8080/"
    },
    "id": "Q63LdZX0QITi",
    "outputId": "72f1f305-be18-4d58-daea-882616c66a4d"
   },
   "outputs": [
    {
     "data": {
      "text/plain": [
       "2049         1\n",
       "31798        1\n",
       "29751        1\n",
       "3128         1\n",
       "36904        1\n",
       "         ...  \n",
       "21903     9475\n",
       "47209    10551\n",
       "21137    12967\n",
       "24852    16270\n",
       "13176    17486\n",
       "Name: product_id, Length: 24783, dtype: int64"
      ]
     },
     "execution_count": 4,
     "metadata": {},
     "output_type": "execute_result"
    }
   ],
   "source": [
    "count_product = (data['product_id'].value_counts()).sort_values()\n",
    "count_product"
   ]
  },
  {
   "cell_type": "code",
   "execution_count": 5,
   "id": "ufRZhAyiQIXo",
   "metadata": {
    "colab": {
     "base_uri": "https://localhost:8080/",
     "height": 269
    },
    "id": "ufRZhAyiQIXo",
    "outputId": "fd5cce4e-281d-456c-f272-2639626ccf44"
   },
   "outputs": [
    {
     "data": {
      "image/png": "[encoded data removed]",
      "text/plain": [
       "<Figure size 432x288 with 1 Axes>"
      ]
     },
     "metadata": {
      "needs_background": "light"
     },
     "output_type": "display_data"
    }
   ],
   "source": [
    "%matplotlib inline\n",
    "plt.hist(data['product_id'],bins=500)\n",
    "plt.show()"
   ]
  },
  {
   "cell_type": "code",
   "execution_count": 6,
   "id": "PDLj8s19QIfQ",
   "metadata": {
    "colab": {
     "base_uri": "https://localhost:8080/",
     "height": 206
    },
    "id": "PDLj8s19QIfQ",
    "outputId": "9196f43d-abb8-4aed-d105-2a00f26914b7"
   },
   "outputs": [
    {
     "data": {
      "text/html": [
       "<div>\n",
       "<style scoped>\n",
       "    .dataframe tbody tr th:only-of-type {\n",
       "        vertical-align: middle;\n",
       "    }\n",
       "\n",
       "    .dataframe tbody tr th {\n",
       "        vertical-align: top;\n",
       "    }\n",
       "\n",
       "    .dataframe thead th {\n",
       "        text-align: right;\n",
       "    }\n",
       "</style>\n",
       "<table border=\"1\" class=\"dataframe\">\n",
       "  <thead>\n",
       "    <tr style=\"text-align: right;\">\n",
       "      <th></th>\n",
       "      <th>product_id</th>\n",
       "    </tr>\n",
       "  </thead>\n",
       "  <tbody>\n",
       "    <tr>\n",
       "      <th>2049</th>\n",
       "      <td>1</td>\n",
       "    </tr>\n",
       "    <tr>\n",
       "      <th>31798</th>\n",
       "      <td>1</td>\n",
       "    </tr>\n",
       "    <tr>\n",
       "      <th>29751</th>\n",
       "      <td>1</td>\n",
       "    </tr>\n",
       "    <tr>\n",
       "      <th>3128</th>\n",
       "      <td>1</td>\n",
       "    </tr>\n",
       "    <tr>\n",
       "      <th>36904</th>\n",
       "      <td>1</td>\n",
       "    </tr>\n",
       "  </tbody>\n",
       "</table>\n",
       "</div>"
      ],
      "text/plain": [
       "       product_id\n",
       "2049            1\n",
       "31798           1\n",
       "29751           1\n",
       "3128            1\n",
       "36904           1"
      ]
     },
     "execution_count": 6,
     "metadata": {},
     "output_type": "execute_result"
    }
   ],
   "source": [
    "df_countProd = count_product.to_frame()\n",
    "df_countProd.head()"
   ]
  },
  {
   "cell_type": "markdown",
   "id": "86465b2a-2c3b-47e2-bac1-30696c135e9b",
   "metadata": {},
   "source": [
    "**Stepe2: check the number of orders**"
   ]
  },
  {
   "cell_type": "code",
   "execution_count": 9,
   "id": "aa41c422-360e-4ae5-afe1-ea9ade0ed041",
   "metadata": {},
   "outputs": [
    {
     "data": {
      "text/plain": [
       "134652"
      ]
     },
     "execution_count": 9,
     "metadata": {},
     "output_type": "execute_result"
    }
   ],
   "source": [
    "number_order = len(data['order_id'].unique())\n",
    "number_order"
   ]
  },
  {
   "cell_type": "code",
   "execution_count": 12,
   "id": "19c7f7a7-f77f-4ef9-86f0-eb1be86edfe9",
   "metadata": {},
   "outputs": [
    {
     "data": {
      "text/plain": [
       "1346.52"
      ]
     },
     "execution_count": 12,
     "metadata": {},
     "output_type": "execute_result"
    }
   ],
   "source": [
    "number_order*0.01"
   ]
  },
  {
   "cell_type": "markdown",
   "id": "adec5627-997b-4fe7-9410-7addd909dd66",
   "metadata": {},
   "source": [
    "A small probability event refers to an event with a very small probability of occurrence, which is generally not greater than 0.05 or 0.01. In statistics, a small probability event is considered to be an event that cannot actually occur in an experiment. "
   ]
  },
  {
   "cell_type": "markdown",
   "id": "aef61c96-2b6d-45f4-a040-182e19b629a3",
   "metadata": {},
   "source": [
    "Therefore, if an items is purchased less than 1346 times, we can say that it is a small probability event that the item will be purchased."
   ]
  },
  {
   "cell_type": "markdown",
   "id": "3RwGxn9PZnSr",
   "metadata": {
    "id": "3RwGxn9PZnSr"
   },
   "source": [
    "**Step3: Delete items purchased less than 1364 times**"
   ]
  },
  {
   "cell_type": "code",
   "execution_count": 13,
   "id": "zpxULpvxbCKu",
   "metadata": {
    "colab": {
     "base_uri": "https://localhost:8080/"
    },
    "id": "zpxULpvxbCKu",
    "outputId": "3483abe5-9b08-4de9-a419-62cb082cb8b9"
   },
   "outputs": [
    {
     "name": "stdout",
     "output_type": "stream",
     "text": [
      "[2049, 31798, 29751, 3128, 36904, 9150, 43492, 34855, 34730, 40994]\n"
     ]
    },
    {
     "data": {
      "text/plain": [
       "24693"
      ]
     },
     "execution_count": 13,
     "metadata": {},
     "output_type": "execute_result"
    }
   ],
   "source": [
    "dele_list = df_countProd.loc[df_countProd['product_id']<1346].index.to_list()\n",
    "print(dele_list[:10])\n",
    "len(dele_list)"
   ]
  },
  {
   "cell_type": "code",
   "execution_count": 14,
   "id": "0SvHynwRQIm0",
   "metadata": {
    "colab": {
     "base_uri": "https://localhost:8080/",
     "height": 270
    },
    "id": "0SvHynwRQIm0",
    "outputId": "655b1466-2cbe-49dc-84f9-fa460c485952"
   },
   "outputs": [
    {
     "data": {
      "text/html": [
       "<div>\n",
       "<style scoped>\n",
       "    .dataframe tbody tr th:only-of-type {\n",
       "        vertical-align: middle;\n",
       "    }\n",
       "\n",
       "    .dataframe tbody tr th {\n",
       "        vertical-align: top;\n",
       "    }\n",
       "\n",
       "    .dataframe thead th {\n",
       "        text-align: right;\n",
       "    }\n",
       "</style>\n",
       "<table border=\"1\" class=\"dataframe\">\n",
       "  <thead>\n",
       "    <tr style=\"text-align: right;\">\n",
       "      <th></th>\n",
       "      <th>order_id</th>\n",
       "      <th>product_id</th>\n",
       "      <th>add_to_cart_order</th>\n",
       "      <th>reordered</th>\n",
       "      <th>special</th>\n",
       "      <th>user_id</th>\n",
       "      <th>store_id</th>\n",
       "      <th>distance</th>\n",
       "      <th>order_number</th>\n",
       "      <th>order_dow</th>\n",
       "      <th>order_hour_of_day</th>\n",
       "      <th>days_since_prior_order</th>\n",
       "    </tr>\n",
       "  </thead>\n",
       "  <tbody>\n",
       "    <tr>\n",
       "      <th>0</th>\n",
       "      <td>15</td>\n",
       "      <td>19660</td>\n",
       "      <td>1</td>\n",
       "      <td>1</td>\n",
       "      <td>15</td>\n",
       "      <td>54901</td>\n",
       "      <td>1</td>\n",
       "      <td>0.304608</td>\n",
       "      <td>51</td>\n",
       "      <td>3</td>\n",
       "      <td>11</td>\n",
       "      <td>2.0</td>\n",
       "    </tr>\n",
       "    <tr>\n",
       "      <th>12</th>\n",
       "      <td>79</td>\n",
       "      <td>4210</td>\n",
       "      <td>1</td>\n",
       "      <td>1</td>\n",
       "      <td>0</td>\n",
       "      <td>197745</td>\n",
       "      <td>2</td>\n",
       "      <td>0.851075</td>\n",
       "      <td>94</td>\n",
       "      <td>6</td>\n",
       "      <td>15</td>\n",
       "      <td>3.0</td>\n",
       "    </tr>\n",
       "    <tr>\n",
       "      <th>23</th>\n",
       "      <td>95</td>\n",
       "      <td>22035</td>\n",
       "      <td>4</td>\n",
       "      <td>1</td>\n",
       "      <td>0</td>\n",
       "      <td>187742</td>\n",
       "      <td>5</td>\n",
       "      <td>2.190870</td>\n",
       "      <td>39</td>\n",
       "      <td>5</td>\n",
       "      <td>7</td>\n",
       "      <td>5.0</td>\n",
       "    </tr>\n",
       "    <tr>\n",
       "      <th>25</th>\n",
       "      <td>95</td>\n",
       "      <td>39928</td>\n",
       "      <td>6</td>\n",
       "      <td>1</td>\n",
       "      <td>30</td>\n",
       "      <td>187742</td>\n",
       "      <td>5</td>\n",
       "      <td>2.190870</td>\n",
       "      <td>39</td>\n",
       "      <td>5</td>\n",
       "      <td>7</td>\n",
       "      <td>5.0</td>\n",
       "    </tr>\n",
       "    <tr>\n",
       "      <th>27</th>\n",
       "      <td>95</td>\n",
       "      <td>21137</td>\n",
       "      <td>8</td>\n",
       "      <td>1</td>\n",
       "      <td>0</td>\n",
       "      <td>187742</td>\n",
       "      <td>5</td>\n",
       "      <td>2.190870</td>\n",
       "      <td>39</td>\n",
       "      <td>5</td>\n",
       "      <td>7</td>\n",
       "      <td>5.0</td>\n",
       "    </tr>\n",
       "  </tbody>\n",
       "</table>\n",
       "</div>"
      ],
      "text/plain": [
       "    order_id  product_id  add_to_cart_order  reordered  special  user_id  \\\n",
       "0         15       19660                  1          1       15    54901   \n",
       "12        79        4210                  1          1        0   197745   \n",
       "23        95       22035                  4          1        0   187742   \n",
       "25        95       39928                  6          1       30   187742   \n",
       "27        95       21137                  8          1        0   187742   \n",
       "\n",
       "    store_id  distance  order_number  order_dow  order_hour_of_day  \\\n",
       "0          1  0.304608            51          3                 11   \n",
       "12         2  0.851075            94          6                 15   \n",
       "23         5  2.190870            39          5                  7   \n",
       "25         5  2.190870            39          5                  7   \n",
       "27         5  2.190870            39          5                  7   \n",
       "\n",
       "    days_since_prior_order  \n",
       "0                      2.0  \n",
       "12                     3.0  \n",
       "23                     5.0  \n",
       "25                     5.0  \n",
       "27                     5.0  "
      ]
     },
     "execution_count": 14,
     "metadata": {},
     "output_type": "execute_result"
    }
   ],
   "source": [
    "data = data[~data['product_id'].isin(dele_list)]\n",
    "data.head()"
   ]
  },
  {
   "cell_type": "code",
   "execution_count": 15,
   "id": "9pLjJ6vDQIrI",
   "metadata": {
    "colab": {
     "base_uri": "https://localhost:8080/"
    },
    "id": "9pLjJ6vDQIrI",
    "outputId": "560fc9c8-b289-4d0c-e876-72cc7068fbe6"
   },
   "outputs": [
    {
     "data": {
      "text/plain": [
       "28199     1347\n",
       "34969     1348\n",
       "36011     1367\n",
       "38689     1371\n",
       "35221     1375\n",
       "         ...  \n",
       "21903     9475\n",
       "47209    10551\n",
       "21137    12967\n",
       "24852    16270\n",
       "13176    17486\n",
       "Name: product_id, Length: 90, dtype: int64"
      ]
     },
     "execution_count": 15,
     "metadata": {},
     "output_type": "execute_result"
    }
   ],
   "source": [
    "#check\n",
    "(data['product_id'].value_counts()).sort_values()"
   ]
  },
  {
   "cell_type": "code",
   "execution_count": 16,
   "id": "4Trv0XwPQIyc",
   "metadata": {
    "colab": {
     "base_uri": "https://localhost:8080/"
    },
    "id": "4Trv0XwPQIyc",
    "outputId": "d6b27916-63c5-4a6c-cccc-66141c38005e"
   },
   "outputs": [
    {
     "data": {
      "text/plain": [
       "(291882, 12)"
      ]
     },
     "execution_count": 16,
     "metadata": {},
     "output_type": "execute_result"
    }
   ],
   "source": [
    "data.shape"
   ]
  },
  {
   "cell_type": "markdown",
   "id": "5331870e-151b-433c-ab40-14e07ceb0fd5",
   "metadata": {},
   "source": [
    "## Delete users who have made too few purchases"
   ]
  },
  {
   "cell_type": "code",
   "execution_count": 47,
   "id": "4870249f-62e9-472c-ba1c-5dc1de460da2",
   "metadata": {},
   "outputs": [
    {
     "data": {
      "text/html": [
       "<div>\n",
       "<style scoped>\n",
       "    .dataframe tbody tr th:only-of-type {\n",
       "        vertical-align: middle;\n",
       "    }\n",
       "\n",
       "    .dataframe tbody tr th {\n",
       "        vertical-align: top;\n",
       "    }\n",
       "\n",
       "    .dataframe thead th {\n",
       "        text-align: right;\n",
       "    }\n",
       "</style>\n",
       "<table border=\"1\" class=\"dataframe\">\n",
       "  <thead>\n",
       "    <tr style=\"text-align: right;\">\n",
       "      <th></th>\n",
       "      <th>order_id</th>\n",
       "    </tr>\n",
       "    <tr>\n",
       "      <th>user_id</th>\n",
       "      <th></th>\n",
       "    </tr>\n",
       "  </thead>\n",
       "  <tbody>\n",
       "    <tr>\n",
       "      <th>210</th>\n",
       "      <td>96</td>\n",
       "    </tr>\n",
       "    <tr>\n",
       "      <th>310</th>\n",
       "      <td>8</td>\n",
       "    </tr>\n",
       "    <tr>\n",
       "      <th>313</th>\n",
       "      <td>81</td>\n",
       "    </tr>\n",
       "    <tr>\n",
       "      <th>690</th>\n",
       "      <td>64</td>\n",
       "    </tr>\n",
       "    <tr>\n",
       "      <th>786</th>\n",
       "      <td>91</td>\n",
       "    </tr>\n",
       "    <tr>\n",
       "      <th>...</th>\n",
       "      <td>...</td>\n",
       "    </tr>\n",
       "    <tr>\n",
       "      <th>205483</th>\n",
       "      <td>78</td>\n",
       "    </tr>\n",
       "    <tr>\n",
       "      <th>205543</th>\n",
       "      <td>77</td>\n",
       "    </tr>\n",
       "    <tr>\n",
       "      <th>205878</th>\n",
       "      <td>92</td>\n",
       "    </tr>\n",
       "    <tr>\n",
       "      <th>205972</th>\n",
       "      <td>96</td>\n",
       "    </tr>\n",
       "    <tr>\n",
       "      <th>206105</th>\n",
       "      <td>56</td>\n",
       "    </tr>\n",
       "  </tbody>\n",
       "</table>\n",
       "<p>1367 rows × 1 columns</p>\n",
       "</div>"
      ],
      "text/plain": [
       "         order_id\n",
       "user_id          \n",
       "210            96\n",
       "310             8\n",
       "313            81\n",
       "690            64\n",
       "786            91\n",
       "...           ...\n",
       "205483         78\n",
       "205543         77\n",
       "205878         92\n",
       "205972         96\n",
       "206105         56\n",
       "\n",
       "[1367 rows x 1 columns]"
      ]
     },
     "execution_count": 47,
     "metadata": {},
     "output_type": "execute_result"
    }
   ],
   "source": [
    "df_user = data.groupby(\"user_id\")['order_id'].nunique().to_frame()\n",
    "df_user"
   ]
  },
  {
   "cell_type": "code",
   "execution_count": 49,
   "id": "475eb7ef-ad67-4cb1-96fa-6fef71d737af",
   "metadata": {},
   "outputs": [
    {
     "data": {
      "text/plain": [
       "<AxesSubplot:xlabel='user_id', ylabel='order_id'>"
      ]
     },
     "execution_count": 49,
     "metadata": {},
     "output_type": "execute_result"
    },
    {
     "data": {
      "image/png": "[encoded data removed]",
      "text/plain": [
       "<Figure size 432x288 with 1 Axes>"
      ]
     },
     "metadata": {
      "needs_background": "light"
     },
     "output_type": "display_data"
    }
   ],
   "source": [
    "import seaborn as sns\n",
    "\n",
    "sns.scatterplot(data=df_user, x=\"user_id\", y=\"order_id\")"
   ]
  },
  {
   "cell_type": "code",
   "execution_count": 51,
   "id": "cd5bd788-369a-4205-bbff-1ac09639f00c",
   "metadata": {},
   "outputs": [
    {
     "data": {
      "text/html": [
       "<div>\n",
       "<style scoped>\n",
       "    .dataframe tbody tr th:only-of-type {\n",
       "        vertical-align: middle;\n",
       "    }\n",
       "\n",
       "    .dataframe tbody tr th {\n",
       "        vertical-align: top;\n",
       "    }\n",
       "\n",
       "    .dataframe thead th {\n",
       "        text-align: right;\n",
       "    }\n",
       "</style>\n",
       "<table border=\"1\" class=\"dataframe\">\n",
       "  <thead>\n",
       "    <tr style=\"text-align: right;\">\n",
       "      <th></th>\n",
       "      <th>order_id</th>\n",
       "    </tr>\n",
       "  </thead>\n",
       "  <tbody>\n",
       "    <tr>\n",
       "      <th>count</th>\n",
       "      <td>1367.000000</td>\n",
       "    </tr>\n",
       "    <tr>\n",
       "      <th>mean</th>\n",
       "      <td>73.010973</td>\n",
       "    </tr>\n",
       "    <tr>\n",
       "      <th>std</th>\n",
       "      <td>22.583128</td>\n",
       "    </tr>\n",
       "    <tr>\n",
       "      <th>min</th>\n",
       "      <td>1.000000</td>\n",
       "    </tr>\n",
       "    <tr>\n",
       "      <th>25%</th>\n",
       "      <td>62.000000</td>\n",
       "    </tr>\n",
       "    <tr>\n",
       "      <th>50%</th>\n",
       "      <td>80.000000</td>\n",
       "    </tr>\n",
       "    <tr>\n",
       "      <th>75%</th>\n",
       "      <td>90.000000</td>\n",
       "    </tr>\n",
       "    <tr>\n",
       "      <th>max</th>\n",
       "      <td>98.000000</td>\n",
       "    </tr>\n",
       "  </tbody>\n",
       "</table>\n",
       "</div>"
      ],
      "text/plain": [
       "          order_id\n",
       "count  1367.000000\n",
       "mean     73.010973\n",
       "std      22.583128\n",
       "min       1.000000\n",
       "25%      62.000000\n",
       "50%      80.000000\n",
       "75%      90.000000\n",
       "max      98.000000"
      ]
     },
     "execution_count": 51,
     "metadata": {},
     "output_type": "execute_result"
    }
   ],
   "source": [
    "df_user.describe()"
   ]
  },
  {
   "cell_type": "markdown",
   "id": "f3c9f1b5-1d93-4a20-994d-9b591c7f595e",
   "metadata": {},
   "source": [
    "Box plots are a graphical depiction of numerical data through their quantiles. It is a very simple but effective way to visualize outliers. Think about the lower and upper whiskers as the boundaries of the data distribution. Any data points that show above or below the whiskers, can be considered outliers or anomalous."
   ]
  },
  {
   "cell_type": "code",
   "execution_count": 52,
   "id": "1211332e-b491-4abd-a754-8db95ef331c4",
   "metadata": {},
   "outputs": [
    {
     "data": {
      "text/plain": [
       "<AxesSubplot:>"
      ]
     },
     "execution_count": 52,
     "metadata": {},
     "output_type": "execute_result"
    },
    {
     "data": {
      "image/png": "[encoded data removed]",
      "text/plain": [
       "<Figure size 432x288 with 1 Axes>"
      ]
     },
     "metadata": {
      "needs_background": "light"
     },
     "output_type": "display_data"
    }
   ],
   "source": [
    "import seaborn as sns\n",
    "import matplotlib.pyplot as plt\n",
    "\n",
    "sns.boxplot(data=df_user)"
   ]
  },
  {
   "cell_type": "markdown",
   "id": "2ee1e1bd-9bb2-4b81-b2ac-a07bba568c3e",
   "metadata": {},
   "source": [
    "**Therefore, we will delete the data of users with less than 20 purchases**"
   ]
  },
  {
   "cell_type": "code",
   "execution_count": 54,
   "id": "cc320c9c-fc57-4b52-af9a-2a2d15715361",
   "metadata": {},
   "outputs": [
    {
     "name": "stdout",
     "output_type": "stream",
     "text": [
      "[310, 1024, 3377, 5932, 21288, 21777, 25416, 25422, 30686, 37563]\n"
     ]
    },
    {
     "data": {
      "text/plain": [
       "64"
      ]
     },
     "execution_count": 54,
     "metadata": {},
     "output_type": "execute_result"
    }
   ],
   "source": [
    "dele_list = df_user.loc[df_user['order_id']<=20].index.to_list()\n",
    "print(dele_list[:10])\n",
    "len(dele_list)"
   ]
  },
  {
   "cell_type": "code",
   "execution_count": 55,
   "id": "c3a994dd-aede-4eeb-8dd5-b41e0cbbaced",
   "metadata": {},
   "outputs": [
    {
     "data": {
      "text/html": [
       "<div>\n",
       "<style scoped>\n",
       "    .dataframe tbody tr th:only-of-type {\n",
       "        vertical-align: middle;\n",
       "    }\n",
       "\n",
       "    .dataframe tbody tr th {\n",
       "        vertical-align: top;\n",
       "    }\n",
       "\n",
       "    .dataframe thead th {\n",
       "        text-align: right;\n",
       "    }\n",
       "</style>\n",
       "<table border=\"1\" class=\"dataframe\">\n",
       "  <thead>\n",
       "    <tr style=\"text-align: right;\">\n",
       "      <th></th>\n",
       "      <th>order_id</th>\n",
       "      <th>product_id</th>\n",
       "      <th>add_to_cart_order</th>\n",
       "      <th>reordered</th>\n",
       "      <th>special</th>\n",
       "      <th>user_id</th>\n",
       "      <th>store_id</th>\n",
       "      <th>distance</th>\n",
       "      <th>order_number</th>\n",
       "      <th>order_dow</th>\n",
       "      <th>order_hour_of_day</th>\n",
       "      <th>days_since_prior_order</th>\n",
       "    </tr>\n",
       "  </thead>\n",
       "  <tbody>\n",
       "    <tr>\n",
       "      <th>0</th>\n",
       "      <td>15</td>\n",
       "      <td>19660</td>\n",
       "      <td>1</td>\n",
       "      <td>1</td>\n",
       "      <td>15</td>\n",
       "      <td>54901</td>\n",
       "      <td>1</td>\n",
       "      <td>0.304608</td>\n",
       "      <td>51</td>\n",
       "      <td>3</td>\n",
       "      <td>11</td>\n",
       "      <td>2.0</td>\n",
       "    </tr>\n",
       "    <tr>\n",
       "      <th>12</th>\n",
       "      <td>79</td>\n",
       "      <td>4210</td>\n",
       "      <td>1</td>\n",
       "      <td>1</td>\n",
       "      <td>0</td>\n",
       "      <td>197745</td>\n",
       "      <td>2</td>\n",
       "      <td>0.851075</td>\n",
       "      <td>94</td>\n",
       "      <td>6</td>\n",
       "      <td>15</td>\n",
       "      <td>3.0</td>\n",
       "    </tr>\n",
       "    <tr>\n",
       "      <th>23</th>\n",
       "      <td>95</td>\n",
       "      <td>22035</td>\n",
       "      <td>4</td>\n",
       "      <td>1</td>\n",
       "      <td>0</td>\n",
       "      <td>187742</td>\n",
       "      <td>5</td>\n",
       "      <td>2.190870</td>\n",
       "      <td>39</td>\n",
       "      <td>5</td>\n",
       "      <td>7</td>\n",
       "      <td>5.0</td>\n",
       "    </tr>\n",
       "    <tr>\n",
       "      <th>25</th>\n",
       "      <td>95</td>\n",
       "      <td>39928</td>\n",
       "      <td>6</td>\n",
       "      <td>1</td>\n",
       "      <td>30</td>\n",
       "      <td>187742</td>\n",
       "      <td>5</td>\n",
       "      <td>2.190870</td>\n",
       "      <td>39</td>\n",
       "      <td>5</td>\n",
       "      <td>7</td>\n",
       "      <td>5.0</td>\n",
       "    </tr>\n",
       "    <tr>\n",
       "      <th>27</th>\n",
       "      <td>95</td>\n",
       "      <td>21137</td>\n",
       "      <td>8</td>\n",
       "      <td>1</td>\n",
       "      <td>0</td>\n",
       "      <td>187742</td>\n",
       "      <td>5</td>\n",
       "      <td>2.190870</td>\n",
       "      <td>39</td>\n",
       "      <td>5</td>\n",
       "      <td>7</td>\n",
       "      <td>5.0</td>\n",
       "    </tr>\n",
       "  </tbody>\n",
       "</table>\n",
       "</div>"
      ],
      "text/plain": [
       "    order_id  product_id  add_to_cart_order  reordered  special  user_id  \\\n",
       "0         15       19660                  1          1       15    54901   \n",
       "12        79        4210                  1          1        0   197745   \n",
       "23        95       22035                  4          1        0   187742   \n",
       "25        95       39928                  6          1       30   187742   \n",
       "27        95       21137                  8          1        0   187742   \n",
       "\n",
       "    store_id  distance  order_number  order_dow  order_hour_of_day  \\\n",
       "0          1  0.304608            51          3                 11   \n",
       "12         2  0.851075            94          6                 15   \n",
       "23         5  2.190870            39          5                  7   \n",
       "25         5  2.190870            39          5                  7   \n",
       "27         5  2.190870            39          5                  7   \n",
       "\n",
       "    days_since_prior_order  \n",
       "0                      2.0  \n",
       "12                     3.0  \n",
       "23                     5.0  \n",
       "25                     5.0  \n",
       "27                     5.0  "
      ]
     },
     "execution_count": 55,
     "metadata": {},
     "output_type": "execute_result"
    }
   ],
   "source": [
    "data = data[~data['user_id'].isin(dele_list)]\n",
    "data.head()"
   ]
  },
  {
   "cell_type": "code",
   "execution_count": 56,
   "id": "4aab4756-18b4-4c0b-88a4-c9e10422630b",
   "metadata": {},
   "outputs": [
    {
     "data": {
      "text/plain": [
       "(291073, 12)"
      ]
     },
     "execution_count": 56,
     "metadata": {},
     "output_type": "execute_result"
    }
   ],
   "source": [
    "data.shape"
   ]
  },
  {
   "cell_type": "markdown",
   "id": "6be77b64-cf89-4354-9b6c-3152f8b51857",
   "metadata": {},
   "source": [
    "## Stratified Sampling\n",
    "Stratified Sampling is a sampling technique used to obtain samples that best represent the population. It reduces bias in selecting samples by dividing the population into homogeneous subgroups called strata, and randomly sampling data from each stratum(singular form of strata). "
   ]
  },
  {
   "cell_type": "markdown",
   "id": "f9926fb7-69b2-4749-95b1-58e836ccbd91",
   "metadata": {
    "id": "f9926fb7-69b2-4749-95b1-58e836ccbd91"
   },
   "source": [
    "## Outliers Detection"
   ]
  },
  {
   "cell_type": "code",
   "execution_count": 2,
   "id": "2sJ7dybssl8e",
   "metadata": {
    "id": "2sJ7dybssl8e"
   },
   "outputs": [],
   "source": []
  },
  {
   "cell_type": "markdown",
   "id": "b7cd2988-b002-432b-8baa-14727b6059ba",
   "metadata": {
    "id": "b7cd2988-b002-432b-8baa-14727b6059ba"
   },
   "source": [
    "### Visualization--------PCA"
   ]
  },
  {
   "cell_type": "code",
   "execution_count": 17,
   "id": "beaf0f3b-b9d1-47ee-8d87-24b74f7dd3d4",
   "metadata": {
    "id": "beaf0f3b-b9d1-47ee-8d87-24b74f7dd3d4"
   },
   "outputs": [],
   "source": [
    "from sklearn.preprocessing import StandardScaler\n",
    "from sklearn.decomposition import PCA"
   ]
  },
  {
   "cell_type": "code",
   "execution_count": 19,
   "id": "be976618-b175-4ad4-b54d-0e3a8cadd048",
   "metadata": {
    "colab": {
     "base_uri": "https://localhost:8080/"
    },
    "id": "be976618-b175-4ad4-b54d-0e3a8cadd048",
    "outputId": "c32a55db-8fd7-4bfd-bffd-e4dbb3edeade"
   },
   "outputs": [
    {
     "name": "stdout",
     "output_type": "stream",
     "text": [
      "(291882, 12) (291882, 3)\n"
     ]
    }
   ],
   "source": [
    "# Before applying PCA, each feature should be centered (zero mean) and with unit variance\n",
    "data_normalized = StandardScaler().fit(data).transform(data)  \n",
    "\n",
    "pca3 = PCA(n_components = 3).fit(data_normalized)\n",
    "\n",
    "data_pca3 = pca3.transform(data_normalized)\n",
    "\n",
    "print(data.shape, data_pca3.shape)"
   ]
  },
  {
   "cell_type": "markdown",
   "id": "b9278568-7b2b-4e0d-bbe5-48d695276623",
   "metadata": {
    "id": "b9278568-7b2b-4e0d-bbe5-48d695276623"
   },
   "source": [
    "## Plotting the PCA-transformed version of the dataset"
   ]
  },
  {
   "cell_type": "code",
   "execution_count": 20,
   "id": "1a78e5f5-bbf3-42cb-9a7a-a738ca421327",
   "metadata": {
    "id": "1a78e5f5-bbf3-42cb-9a7a-a738ca421327",
    "outputId": "a27cbaef-fb30-4b11-ba6c-2d5db94ae930"
   },
   "outputs": [
    {
     "data": {
      "image/png": "[encoded data removed]",
      "text/plain": [
       "<Figure size 1152x576 with 1 Axes>"
      ]
     },
     "metadata": {
      "needs_background": "light"
     },
     "output_type": "display_data"
    }
   ],
   "source": [
    "%matplotlib inline\n",
    "from mpl_toolkits.mplot3d import Axes3D\n",
    "fig = plt.figure(figsize=(16, 8))\n",
    "ax = fig.add_subplot(111, projection='3d')\n",
    "ax.scatter(data_pca3[:,0],data_pca3[:,1],data_pca3[:,2],s=2)\n",
    "ax.set_xlabel('First principal component')\n",
    "ax.set_ylabel('Second principal component')\n",
    "ax.set_zlabel('Third principal component')\n",
    "plt.title('Dataset PCA (n_components = 3)')\n",
    "plt.savefig(\"PCA\")"
   ]
  },
  {
   "cell_type": "markdown",
   "id": "02364910-3e29-4fa7-9b49-048ef1274197",
   "metadata": {
    "id": "02364910-3e29-4fa7-9b49-048ef1274197"
   },
   "source": [
    "### (1) Generalized Extreme Studentized Deviate (GESD) Test\n",
    "GESD method has proved to be computationally efficient.\n",
    "However, it assumes that the data follow a normal distribution"
   ]
  },
  {
   "cell_type": "markdown",
   "id": "41cba48b-bc8b-4cce-9047-fc41792c63bf",
   "metadata": {
    "id": "41cba48b-bc8b-4cce-9047-fc41792c63bf"
   },
   "source": [
    "#### Normality Tests ------ Visual Normality Checks"
   ]
  },
  {
   "cell_type": "code",
   "execution_count": 22,
   "id": "e6bbf0ea-585d-4c55-81e6-246d3a2016fc",
   "metadata": {
    "id": "e6bbf0ea-585d-4c55-81e6-246d3a2016fc",
    "outputId": "7961844b-7050-42cc-8094-12f0c3221a21"
   },
   "outputs": [
    {
     "name": "stdout",
     "output_type": "stream",
     "text": [
      "(291882, 12) (291882, 1)\n"
     ]
    }
   ],
   "source": [
    "pca1 = PCA(n_components = 1).fit(data_normalized)\n",
    "\n",
    "data_pca1 = pca1.transform(data_normalized)\n",
    "\n",
    "print(data.shape, data_pca1.shape)"
   ]
  },
  {
   "cell_type": "code",
   "execution_count": 23,
   "id": "39c6b699-a700-4f2b-b049-29aae81b5b16",
   "metadata": {
    "id": "39c6b699-a700-4f2b-b049-29aae81b5b16",
    "outputId": "1ee6526b-96cb-442e-bee1-6fef9305dd0a"
   },
   "outputs": [
    {
     "data": {
      "image/png": "[encoded data removed]",
      "text/plain": [
       "<Figure size 432x288 with 1 Axes>"
      ]
     },
     "metadata": {
      "needs_background": "light"
     },
     "output_type": "display_data"
    }
   ],
   "source": [
    "plt.hist(data_pca1)\n",
    "plt.show()"
   ]
  },
  {
   "cell_type": "code",
   "execution_count": 24,
   "id": "804ceaab-7f7b-4b84-b3b1-7b301906690b",
   "metadata": {
    "id": "804ceaab-7f7b-4b84-b3b1-7b301906690b",
    "outputId": "43b66c90-accd-4e3c-b5b0-49609c5124a4"
   },
   "outputs": [
    {
     "data": {
      "text/plain": [
       "['order_id',\n",
       " 'product_id',\n",
       " 'add_to_cart_order',\n",
       " 'reordered',\n",
       " 'special',\n",
       " 'user_id',\n",
       " 'store_id',\n",
       " 'distance',\n",
       " 'order_number',\n",
       " 'order_dow',\n",
       " 'order_hour_of_day',\n",
       " 'days_since_prior_order']"
      ]
     },
     "execution_count": 24,
     "metadata": {},
     "output_type": "execute_result"
    }
   ],
   "source": [
    "list(data.columns)"
   ]
  },
  {
   "cell_type": "code",
   "execution_count": 26,
   "id": "cfbebd8a-5f76-4979-af5c-914730760b28",
   "metadata": {
    "id": "cfbebd8a-5f76-4979-af5c-914730760b28",
    "outputId": "d7bd3271-0e2b-4f6d-e880-590c2e9b1d83"
   },
   "outputs": [
    {
     "data": {
      "image/png": "[encoded data removed]",
      "text/plain": [
       "<Figure size 432x288 with 1 Axes>"
      ]
     },
     "metadata": {
      "needs_background": "light"
     },
     "output_type": "display_data"
    },
    {
     "data": {
      "image/png": "[encoded data removed]",
      "text/plain": [
       "<Figure size 432x288 with 1 Axes>"
      ]
     },
     "metadata": {
      "needs_background": "light"
     },
     "output_type": "display_data"
    },
    {
     "data": {
      "image/png": "[encoded data removed]",
      "text/plain": [
       "<Figure size 432x288 with 1 Axes>"
      ]
     },
     "metadata": {
      "needs_background": "light"
     },
     "output_type": "display_data"
    },
    {
     "data": {
      "image/png": "[encoded data removed]",
      "text/plain": [
       "<Figure size 432x288 with 1 Axes>"
      ]
     },
     "metadata": {
      "needs_background": "light"
     },
     "output_type": "display_data"
    },
    {
     "data": {
      "image/png": "[encoded data removed]",
      "text/plain": [
       "<Figure size 432x288 with 1 Axes>"
      ]
     },
     "metadata": {
      "needs_background": "light"
     },
     "output_type": "display_data"
    },
    {
     "data": {
      "image/png": "[encoded data removed]",
      "text/plain": [
       "<Figure size 432x288 with 1 Axes>"
      ]
     },
     "metadata": {
      "needs_background": "light"
     },
     "output_type": "display_data"
    },
    {
     "data": {
      "image/png": "[encoded data removed]",
      "text/plain": [
       "<Figure size 432x288 with 1 Axes>"
      ]
     },
     "metadata": {
      "needs_background": "light"
     },
     "output_type": "display_data"
    },
    {
     "data": {
      "image/png": "[encoded data removed]",
      "text/plain": [
       "<Figure size 432x288 with 1 Axes>"
      ]
     },
     "metadata": {
      "needs_background": "light"
     },
     "output_type": "display_data"
    },
    {
     "data": {
      "image/png": "[encoded data removed]",
      "text/plain": [
       "<Figure size 432x288 with 1 Axes>"
      ]
     },
     "metadata": {
      "needs_background": "light"
     },
     "output_type": "display_data"
    },
    {
     "data": {
      "image/png": "[encoded data removed]",
      "text/plain": [
       "<Figure size 432x288 with 1 Axes>"
      ]
     },
     "metadata": {
      "needs_background": "light"
     },
     "output_type": "display_data"
    },
    {
     "data": {
      "image/png": "[encoded data removed]",
      "text/plain": [
       "<Figure size 432x288 with 1 Axes>"
      ]
     },
     "metadata": {
      "needs_background": "light"
     },
     "output_type": "display_data"
    },
    {
     "data": {
      "image/png": "[encoded data removed]",
      "text/plain": [
       "<Figure size 432x288 with 1 Axes>"
      ]
     },
     "metadata": {
      "needs_background": "light"
     },
     "output_type": "display_data"
    }
   ],
   "source": [
    "for col in list(data.columns):\n",
    "    plt.hist(data[col])\n",
    "    plt.show()"
   ]
  },
  {
   "cell_type": "markdown",
   "id": "75b1a5b5-92b4-4d13-97c1-287071eaf738",
   "metadata": {
    "id": "75b1a5b5-92b4-4d13-97c1-287071eaf738"
   },
   "source": [
    "#### Since Sample does not look Gaussian, we can not use GESD method for outlier detection."
   ]
  },
  {
   "cell_type": "markdown",
   "id": "c6480779-daaa-4257-b8db-43c67a96eb47",
   "metadata": {
    "id": "c6480779-daaa-4257-b8db-43c67a96eb47"
   },
   "source": [
    "## (2) DBSCAN clustering\n",
    "https://scikit-learn.org/stable/modules/generated/sklearn.cluster.DBSCAN.html"
   ]
  },
  {
   "cell_type": "code",
   "execution_count": 5,
   "id": "d634497a-76b0-424a-933a-9a20d305dc58",
   "metadata": {
    "id": "d634497a-76b0-424a-933a-9a20d305dc58"
   },
   "outputs": [],
   "source": [
    "from sklearn.cluster import DBSCAN"
   ]
  },
  {
   "cell_type": "code",
   "execution_count": null,
   "id": "17023722-b960-4c5f-85e9-97cfb22a4dde",
   "metadata": {
    "id": "17023722-b960-4c5f-85e9-97cfb22a4dde"
   },
   "outputs": [],
   "source": [
    "dbscan = DBSCAN(eps =50, min_samples = 50)\n",
    "\n",
    "cls_findOutlier = dbscan.fit_predict(data_normalized)\n",
    "\n",
    "print(\"Cluster membership values:\\n{}\".format(cls_findOutlier))"
   ]
  },
  {
   "cell_type": "code",
   "execution_count": null,
   "id": "de9206a5-c50c-40a4-bbf4-07b9bfc6ee04",
   "metadata": {
    "id": "de9206a5-c50c-40a4-bbf4-07b9bfc6ee04"
   },
   "outputs": [],
   "source": [
    "unique, counts = np.unique(cls_findOutlier, return_counts=True)\n",
    "dict(zip(unique, counts))"
   ]
  },
  {
   "cell_type": "markdown",
   "id": "7f12094d-23e3-4ab6-934b-b5daa3649395",
   "metadata": {
    "id": "7f12094d-23e3-4ab6-934b-b5daa3649395"
   },
   "source": [
    "#### This method is sensitive to parameter settings\n",
    "#### \"The kernel for /preprocessing.ipynb appears to have died. It will restart automatically.\"\n",
    "\"Your session crashed after using all available RAM. \"\n",
    "\n",
    "\n"
   ]
  },
  {
   "cell_type": "markdown",
   "id": "7243ccbd-f527-4033-bf34-838110f40e05",
   "metadata": {
    "id": "7243ccbd-f527-4033-bf34-838110f40e05"
   },
   "source": [
    "## (3)Isolation Forest"
   ]
  },
  {
   "cell_type": "code",
   "execution_count": null,
   "id": "3a4bc4f9-0461-49a4-af85-514208e88fac",
   "metadata": {
    "id": "3a4bc4f9-0461-49a4-af85-514208e88fac",
    "outputId": "cf4792b4-7d00-428f-a259-a0cedb38c59e"
   },
   "outputs": [
    {
     "ename": "TypeError",
     "evalue": "__init__() got an unexpected keyword argument 'behaviour'",
     "output_type": "error",
     "traceback": [
      "\u001b[0;31m---------------------------------------------------------------------------\u001b[0m",
      "\u001b[0;31mTypeError\u001b[0m                                 Traceback (most recent call last)",
      "\u001b[0;32m<ipython-input-1-62c70d5fc3b4>\u001b[0m in \u001b[0;36m<module>\u001b[0;34m\u001b[0m\n\u001b[1;32m      1\u001b[0m \u001b[0;32mfrom\u001b[0m \u001b[0msklearn\u001b[0m\u001b[0;34m.\u001b[0m\u001b[0mensemble\u001b[0m \u001b[0;32mimport\u001b[0m \u001b[0mIsolationForest\u001b[0m\u001b[0;34m\u001b[0m\u001b[0;34m\u001b[0m\u001b[0m\n\u001b[1;32m      2\u001b[0m \u001b[0;34m\u001b[0m\u001b[0m\n\u001b[0;32m----> 3\u001b[0;31m \u001b[0mclf\u001b[0m \u001b[0;34m=\u001b[0m \u001b[0mIsolationForest\u001b[0m\u001b[0;34m(\u001b[0m \u001b[0mbehaviour\u001b[0m \u001b[0;34m=\u001b[0m \u001b[0;34m'new'\u001b[0m\u001b[0;34m,\u001b[0m \u001b[0mmax_samples\u001b[0m\u001b[0;34m=\u001b[0m\u001b[0;36m100\u001b[0m\u001b[0;34m,\u001b[0m \u001b[0mrandom_state\u001b[0m \u001b[0;34m=\u001b[0m \u001b[0;36m1\u001b[0m\u001b[0;34m,\u001b[0m \u001b[0mcontamination\u001b[0m\u001b[0;34m=\u001b[0m \u001b[0;34m'auto'\u001b[0m\u001b[0;34m)\u001b[0m\u001b[0;34m\u001b[0m\u001b[0;34m\u001b[0m\u001b[0m\n\u001b[0m\u001b[1;32m      4\u001b[0m \u001b[0mpreds\u001b[0m \u001b[0;34m=\u001b[0m \u001b[0mclf\u001b[0m\u001b[0;34m.\u001b[0m\u001b[0mfit_predict\u001b[0m\u001b[0;34m(\u001b[0m\u001b[0mdata_normalized\u001b[0m\u001b[0;34m)\u001b[0m\u001b[0;34m\u001b[0m\u001b[0;34m\u001b[0m\u001b[0m\n\u001b[1;32m      5\u001b[0m \u001b[0mpreds\u001b[0m\u001b[0;34m\u001b[0m\u001b[0;34m\u001b[0m\u001b[0m\n",
      "\u001b[0;32m~/opt/anaconda3/lib/python3.8/site-packages/sklearn/utils/validation.py\u001b[0m in \u001b[0;36minner_f\u001b[0;34m(*args, **kwargs)\u001b[0m\n\u001b[1;32m     61\u001b[0m             \u001b[0mextra_args\u001b[0m \u001b[0;34m=\u001b[0m \u001b[0mlen\u001b[0m\u001b[0;34m(\u001b[0m\u001b[0margs\u001b[0m\u001b[0;34m)\u001b[0m \u001b[0;34m-\u001b[0m \u001b[0mlen\u001b[0m\u001b[0;34m(\u001b[0m\u001b[0mall_args\u001b[0m\u001b[0;34m)\u001b[0m\u001b[0;34m\u001b[0m\u001b[0;34m\u001b[0m\u001b[0m\n\u001b[1;32m     62\u001b[0m             \u001b[0;32mif\u001b[0m \u001b[0mextra_args\u001b[0m \u001b[0;34m<=\u001b[0m \u001b[0;36m0\u001b[0m\u001b[0;34m:\u001b[0m\u001b[0;34m\u001b[0m\u001b[0;34m\u001b[0m\u001b[0m\n\u001b[0;32m---> 63\u001b[0;31m                 \u001b[0;32mreturn\u001b[0m \u001b[0mf\u001b[0m\u001b[0;34m(\u001b[0m\u001b[0;34m*\u001b[0m\u001b[0margs\u001b[0m\u001b[0;34m,\u001b[0m \u001b[0;34m**\u001b[0m\u001b[0mkwargs\u001b[0m\u001b[0;34m)\u001b[0m\u001b[0;34m\u001b[0m\u001b[0;34m\u001b[0m\u001b[0m\n\u001b[0m\u001b[1;32m     64\u001b[0m \u001b[0;34m\u001b[0m\u001b[0m\n\u001b[1;32m     65\u001b[0m             \u001b[0;31m# extra_args > 0\u001b[0m\u001b[0;34m\u001b[0m\u001b[0;34m\u001b[0m\u001b[0;34m\u001b[0m\u001b[0m\n",
      "\u001b[0;31mTypeError\u001b[0m: __init__() got an unexpected keyword argument 'behaviour'"
     ]
    }
   ],
   "source": [
    "from sklearn.ensemble import IsolationForest\n",
    "\n",
    "clf = IsolationForest( behaviour = 'new', max_samples=100, random_state = 1, contamination= 'auto')\n",
    "preds = clf.fit_predict(data_normalized)\n",
    "preds"
   ]
  },
  {
   "cell_type": "markdown",
   "id": "z6XexyiAQnW6",
   "metadata": {
    "id": "z6XexyiAQnW6"
   },
   "source": [
    "## (4) Robust Random Cut Forest"
   ]
  },
  {
   "cell_type": "code",
   "execution_count": null,
   "id": "1011aff4-e0e6-45e7-8a61-c5a9c893f4f3",
   "metadata": {
    "id": "1011aff4-e0e6-45e7-8a61-c5a9c893f4f3"
   },
   "outputs": [],
   "source": []
  }
 ],
 "metadata": {
  "colab": {
   "collapsed_sections": [],
   "name": "preprocessing.ipynb",
   "provenance": []
  },
  "kernelspec": {
   "display_name": "Python 3",
   "language": "python",
   "name": "python3"
  },
  "language_info": {
   "codemirror_mode": {
    "name": "ipython",
    "version": 3
   },
   "file_extension": ".py",
   "mimetype": "text/x-python",
   "name": "python",
   "nbconvert_exporter": "python",
   "pygments_lexer": "ipython3",
   "version": "3.8.8"
  }
 },
 "nbformat": 4,
 "nbformat_minor": 5
}
