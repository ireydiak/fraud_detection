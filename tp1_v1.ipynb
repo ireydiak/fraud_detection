{
 "cells": [
  {
   "cell_type": "code",
   "execution_count": null,
   "metadata": {},
   "outputs": [],
   "source": [
    "import matplotlib.pyplot as plt\n",
    "import seaborn as sns\n",
    "import pandas as pd\n",
    "import numpy as np\n",
    "from collections import Counter\n",
    "from imblearn.over_sampling import SMOTE\n",
    "\n",
    "dataset_fname = \"QSAR_dataset.xlsx\"\n",
    "test_fname = \"test_TP1.xlsx\""
   ]
  },
  {
   "cell_type": "markdown",
   "metadata": {},
   "source": [
    "# 1- Représentation des données\n",
    "Dans cette étape, nous devons:\n",
    "- analyser chaque attribut;\n",
    "- proposer un prétraitement des données;\n",
    "- sélectionner les 10 meilleurs attributs avec justification statistique;\n",
    "- visualiser la distribution des 10 meilleurs attributs.\n",
    "\n",
    "Commençon par charger les données.\n",
    "\n",
    "### Chargement des données"
   ]
  },
  {
   "cell_type": "code",
   "execution_count": null,
   "metadata": {},
   "outputs": [],
   "source": [
    "# Chargement des données d'entraînement\n",
    "df = pd.read_excel(dataset_fname, index_col=0)\n",
    "# Lecture rapide des cinq premières entrées pour valider le chargement adéquat des données\n",
    "df.head(5)"
   ]
  },
  {
   "cell_type": "markdown",
   "metadata": {},
   "source": [
    "## Analyser chaque attribut\n",
    "\n",
    "Dans cette étape, nous analyserons chacun des attributs. Plus spécifiquement, nous devons déterminer les types (catégories, ordinales, cycliques, quantitatifs, etc.) des nos données. Ensuite, nous devons filtrer les valeurs aberrantes ou manquantes. Finalement, nous pouvons procéder à une analyse statistique primaire (moyenne, variance, équart-type, etc.).\n",
    "\n",
    "#### Attributs quantitatifs et qualitatifs\n",
    "D'abord, commençons par distinguer les attributs qualitatifs des attributs quantitatifs. Nous portons une attention particulière aux attributs qualitatifs (ou catégoriques) car ceux-ci nécessitent du pré-traitement particulier."
   ]
  },
  {
   "cell_type": "code",
   "execution_count": null,
   "metadata": {},
   "outputs": [],
   "source": [
    "df.info()"
   ]
  },
  {
   "cell_type": "code",
   "execution_count": null,
   "metadata": {},
   "outputs": [],
   "source": [
    "num_cols = df.select_dtypes(exclude=[\"object\", \"category\"]).columns.tolist()\n",
    "cat_cols = df.select_dtypes(include=[\"category\", \"object\"]).columns.tolist()\n",
    "print(\"Nombre d'attributs numériques: {}\".format(len(num_cols)))\n",
    "print(\"Nombre d'attributs catégoriques: {}\".format(len(cat_cols)))\n",
    "if len(cat_cols) > 0:\n",
    "    print(cat_cols)"
   ]
  },
  {
   "cell_type": "markdown",
   "metadata": {},
   "source": [
    "Seul l'attribut `Class` est catégorique, ce qui est normal puisqu'il associe une classe à chacune des observations. Tous nos attributs sont donc numériques, ce qui facilitera grandement notre prétraitement.\n"
   ]
  },
  {
   "cell_type": "markdown",
   "metadata": {},
   "source": [
    "\n",
    "#### Valeurs aberrantes\n",
    "Maintenant, détectons les valeurs abberantes ou invalides (`NaN`, `±inf`, etc.). Dans notre traitement, nous commençons par convertir les valeurs `±inf` en `NaN` afin d'éviter des duplicata de code. En effet, ces valeurs nécessiteront le même pré-traitement alors une stratégie optimale consiste à les considérer de la même façon dès le départ."
   ]
  },
  {
   "cell_type": "code",
   "execution_count": null,
   "metadata": {},
   "outputs": [],
   "source": [
    "df = df.replace([-np.inf, np.inf], np.nan)\n",
    "nan_cols = df.columns[df.isna().any()]\n",
    "nan_summary = df[nan_cols].isna().sum().sort_values(ascending=False)\n",
    "nan_ratio = nan_summary / len(df)\n",
    "nan_df = pd.concat((nan_summary, nan_ratio), axis=1)\n",
    "nan_df = nan_df.rename(columns={0: \"Count\", 1: \"Ratio\"})\n",
    "print(nan_df)"
   ]
  },
  {
   "cell_type": "markdown",
   "metadata": {},
   "source": [
    "On constate que les variables `vsurf_V` et `vsurf_S` contiennent beaucoup de valeurs manquates (11.69% et 8.44% respectivement). Par contraste, `ASA+`, `ASA-`, `a_heavy` et `a_IC` contiennent seulement entre 1 et 2 observations invalides. Plus tard, nous pourrons probablement les supprimer sans affecter grandement la distribution des données.\n",
    "\n",
    "#### Valeurs uniques\n",
    "Finalement, nous devons considérons les valeurs uniques. Celles-ci ne sont pas techniquement invalides, mais peuvent néamoins être ignorées car elles ne contribueront pas à la décision des algorithmes. En effet, puisque ces attributs prennent une seule valeur distincte, elles ne seront pas déterminantes dans la tâche de classification."
   ]
  },
  {
   "cell_type": "code",
   "execution_count": null,
   "metadata": {},
   "outputs": [],
   "source": [
    "uniq_cols = df.columns[df.nunique() == 1]\n",
    "uniq_cols"
   ]
  },
  {
   "cell_type": "markdown",
   "metadata": {},
   "source": [
    "La liste `uniq_cols` est vide, ce qui implique que tous les attributs possèdent plusieurs valeurs distinctes.\n",
    "\n",
    "Supprimer les entrées dupliquées"
   ]
  },
  {
   "cell_type": "code",
   "execution_count": null,
   "metadata": {
    "collapsed": false,
    "pycharm": {
     "name": "#%%\n"
    }
   },
   "outputs": [],
   "source": [
    "n_duplicated_rows = df.duplicated().sum()\n",
    "df = df.drop_duplicates()\n",
    "print(\"Lignes supprimées: {}\".format(n_duplicated_rows))\n",
    "print(\"Ratio: {:.4f}\".format(n_duplicated_rows / len(df)))\n",
    "assert df.duplicated().sum() == 0, \"Erreur: il reste des doublons dans les données\""
   ]
  },
  {
   "cell_type": "markdown",
   "metadata": {
    "collapsed": false,
    "pycharm": {
     "name": "#%% md\n"
    }
   },
   "source": [
    "#### Analyse statistique\n",
    "On peut maintenant extraire certaines statistiques de base pour tous les attributs"
   ]
  },
  {
   "cell_type": "code",
   "execution_count": null,
   "metadata": {},
   "outputs": [],
   "source": [
    "df_describe = df.describe()\n",
    "df_describe"
   ]
  },
  {
   "cell_type": "markdown",
   "metadata": {},
   "source": [
    "Cette analyse primaire nous indique que les différentes variables respectent des échelles de grandeur très différentes. Par exemple, `apol` $\\in [17, 53]$ tandis que `vsurf_R` $\\in [-6.8\\mathrm{e+}08, 1.61\\mathrm{e-}01]$. Ce constat nous indique qu'un centrage et réduction par équart-type des différentes variables est nécessaire.\n",
    "\n",
    "Avant de procéder, nous devons gérer les données manquates identifiées précedemment. Commençons par afficher toutes les lignes invalides."
   ]
  },
  {
   "cell_type": "code",
   "execution_count": null,
   "metadata": {},
   "outputs": [],
   "source": [
    "df[df.isna().any(axis=1)]"
   ]
  },
  {
   "cell_type": "markdown",
   "metadata": {},
   "source": [
    "On constate que les valeurs invalides pour `ASA-`, `a_heavy` et `a_IC` se trouvent toutes sur des lignes distinctes. Si elles étaient toutes associées à la même ligne, nous aurions pu simplement supprimer cette ligne et perdre moins de 1% des données. Puisque notre jeu de données possèdent seulement $n=154$ observations, les stratégies d'ablation sont rejetées par défaut si elles retirent un trop grand pourcentage des données. Une stratégie alternative consiste à remplacer les valeurs manquantes par une valeur bien représentative. Ainsi, ré-affichons les statistiques élémentaires pour les colonnes invalides seulement."
   ]
  },
  {
   "cell_type": "code",
   "execution_count": null,
   "metadata": {},
   "outputs": [],
   "source": [
    "df[nan_cols].describe()"
   ]
  },
  {
   "cell_type": "code",
   "execution_count": null,
   "metadata": {},
   "outputs": [],
   "source": [
    "fig, axs = plt.subplots(nrows=3, ncols=3, figsize=(12,8))\n",
    "\n",
    "sns.kdeplot(df[[\"ASA+\"]].to_numpy().reshape(-1), ax=axs[0, 0])\n",
    "sns.kdeplot(df[[\"ASA-\"]].to_numpy().reshape(-1), ax=axs[0, 1])\n",
    "sns.kdeplot(df[[\"a_heavy\"]].to_numpy().reshape(-1), ax=axs[0, 2])\n",
    "sns.kdeplot(df[[\"a_IC\"]].to_numpy().reshape(-1), ax=axs[1, 0])\n",
    "sns.kdeplot(df[[\"vsurf_R\"]].to_numpy().reshape(-1), ax=axs[1, 1])\n",
    "sns.kdeplot(df[[\"vsurf_S\"]].to_numpy().reshape(-1), ax=axs[1, 2])\n",
    "sns.kdeplot(df[[\"vsurf_V\"]].to_numpy().reshape(-1), ax=axs[2, 0])\n",
    "\n",
    "plt.show()"
   ]
  },
  {
   "cell_type": "markdown",
   "metadata": {},
   "source": [
    "Les diagrammes de densité nous indique que la distribution des variables `a_heavy`, `a_IC` et `vsurf_R` sont plutôt concentrées autour de leur moyenne respective. On peut donc remplacer les valeurs manquantes par la moyenne sans altérer la distribution ou introduire un biais ayant un impact significatif dans la tâche de classification. Pour les autres attributs, c'est-à-dire `ASA+`, `ASA-`, `vsurf_S` et `vsurf_V` , on utilise plutôt la valeur médiane. Mentionner approche intéressante: K-NN ou maximiser le likelihood considérant les autres attributs."
   ]
  },
  {
   "cell_type": "code",
   "execution_count": null,
   "metadata": {},
   "outputs": [],
   "source": [
    "# Remplacement des valeurs manquantes par la moyenne pour les attributs\n",
    "# `a_heavy`, `a_IC` et `vsurf_R`.\n",
    "for col in [\"a_heavy\", \"a_IC\", \"vsurf_R\"]:\n",
    "    df.loc[:, col].fillna(df.loc[:, col].mean(), inplace=True)\n",
    "\n",
    "# Remplacement des valeurs manquantes par la médiane pour les autres attributs restants\n",
    "for col in set(nan_cols) - set([\"a_heavy\", \"a_IC\", \"vsurf_R\"]):\n",
    "    df.loc[:, col].fillna(df.loc[:, col].median(), inplace=True)\n",
    "\n",
    "# On valide la dernière opération en s'assurant qu'il ne reste aucun attribut avec des \n",
    "# valeurs manquates dans les données\n",
    "n_remaining_nan = df.isna().sum().sum()\n",
    "assert n_remaining_nan == 0, \"Il reste {} valeurs manquantes\".format(n_remaining_nan)"
   ]
  },
  {
   "cell_type": "markdown",
   "metadata": {},
   "source": [
    "Débalancement de classe"
   ]
  },
  {
   "cell_type": "code",
   "execution_count": null,
   "metadata": {},
   "outputs": [],
   "source": [
    "df[\"Class\"].explode().value_counts()"
   ]
  },
  {
   "cell_type": "markdown",
   "metadata": {},
   "source": [
    "Constate grand débalancement de classe. Suggère SMOTE pour équilibrer le tout."
   ]
  },
  {
   "cell_type": "code",
   "execution_count": null,
   "metadata": {},
   "outputs": [],
   "source": [
    "sm = SMOTE(\n",
    "    random_state=42,\n",
    "    sampling_strategy={\"Class 1\": 48, \"Class -2\": 48}\n",
    ")\n",
    "X, y = df.loc[:, df.columns != \"Class\"].to_numpy(), df.loc[:, \"Class\"].to_numpy() \n",
    "X_ovsld, y_ovsld = sm.fit_resample(X, y)\n",
    "X = np.concatenate((np.expand_dims(y_ovsld, 1), X_ovsld), axis=1)\n",
    "df = pd.DataFrame(X, columns=df.columns)\n",
    "df.head(5)"
   ]
  },
  {
   "cell_type": "markdown",
   "metadata": {},
   "source": [
    "Confirmation du rebalancement"
   ]
  },
  {
   "cell_type": "code",
   "execution_count": null,
   "metadata": {},
   "outputs": [],
   "source": [
    "df[\"Class\"].explode().value_counts()"
   ]
  },
  {
   "cell_type": "markdown",
   "metadata": {},
   "source": [
    "Comme mentionné précédemment, les variables respectent des échelles de grandeur très différentes.\n",
    "Il faut donc les centrer et les réduire."
   ]
  },
  {
   "cell_type": "code",
   "execution_count": null,
   "metadata": {},
   "outputs": [],
   "source": [
    "from sklearn.preprocessing import StandardScaler\n",
    "\n",
    "# On copie le dataframe (sans les étiquettes) dans une matrice numpy X\n",
    "X = df.loc[:, df.columns != \"Class\"].to_numpy(dtype=np.float32)\n",
    "y = df.loc[:, \"Class\"]\n",
    "# On applique un centrage et une réduction par équart-type de la matrice X\n",
    "scaler = StandardScaler()\n",
    "X_scaled = scaler.fit_transform(X)\n",
    "df_scaled = df.copy()\n",
    "df_scaled[num_cols] = scaler.fit_transform(df[num_cols])\n",
    "\n",
    "# On valide la dernière étape en s'assurant que les moyennes et écart-types \n",
    "# soient égaux à 0 et 1 respectivement\n",
    "assert np.allclose(0., X_scaled.mean(axis=0), atol=1e-6), \"Moyennes non centrées\"\n",
    "assert np.allclose(1., X_scaled.std(axis=0), atol=1e-6), \"Écart-types différents de 1\""
   ]
  },
  {
   "cell_type": "markdown",
   "metadata": {},
   "source": [
    "### Sélection des 10 meilleurs attributs\n",
    "Nous présentons trois méthodes différentes pour sélectionner les attributs.\n",
    "- les dix composantes principales (tirées de l'ACP) des variables non corrélées;\n",
    "- les dix variables issues de la méthode `SelectKBest` de la librairie `SKLearn`."
   ]
  },
  {
   "cell_type": "code",
   "execution_count": null,
   "metadata": {},
   "outputs": [],
   "source": [
    "from sklearn.feature_selection import mutual_info_classif, SelectKBest\n",
    "\n",
    "clf = SelectKBest(mutual_info_classif, k=10)\n",
    "clf.fit(df_scaled[num_cols], y)\n",
    "features_a = list(clf.get_feature_names_out())\n",
    "features_a"
   ]
  },
  {
   "cell_type": "code",
   "execution_count": null,
   "metadata": {},
   "outputs": [],
   "source": [
    "from sklearn.tree import DecisionTreeClassifier\n",
    "\n",
    "clf = DecisionTreeClassifier(criterion=\"entropy\", random_state=42, max_features=10)\n",
    "clf.fit(X_scaled, y)\n",
    "ind = np.argpartition(clf.feature_importances_, -10)[-10:]\n",
    "features_b = list(df.columns[ind])\n",
    "features_b"
   ]
  },
  {
   "cell_type": "code",
   "execution_count": null,
   "metadata": {},
   "outputs": [],
   "source": [
    "from catboost import CatBoostClassifier\n",
    "\n",
    "clf = CatBoostClassifier(verbose=False)\n",
    "clf.fit(X_scaled, y)\n",
    "ind = np.argpartition(clf.feature_importances_, -10)[-10:]\n",
    "features_c = list(df.columns[ind])\n",
    "features_c"
   ]
  },
  {
   "cell_type": "code",
   "execution_count": null,
   "metadata": {},
   "outputs": [],
   "source": [
    "from xgboost import XGBClassifier\n",
    "\n",
    "clf = XGBClassifier()\n",
    "clf.fit(X_scaled, y)\n",
    "ind = np.argpartition(clf.feature_importances_, -10)[-10:]\n",
    "features_d = list(df.columns[ind])\n",
    "features_d"
   ]
  },
  {
   "cell_type": "code",
   "execution_count": null,
   "metadata": {},
   "outputs": [],
   "source": [
    "from collections import Counter\n",
    "\n",
    "def default_value():\n",
    "    return 0\n",
    "\n",
    "all_features = features_a + features_b + features_c + features_d\n",
    "features_dict = Counter(all_features)\n",
    "\n",
    "features_df = pd.DataFrame(\n",
    "    list(zip(features_dict.keys(), features_dict.values())),\n",
    "    columns=[\"Attribut\", \"Décompte\"]\n",
    ").sort_values(ascending=False, by=\"Décompte\")\n",
    "features_df"
   ]
  },
  {
   "cell_type": "code",
   "execution_count": null,
   "metadata": {},
   "outputs": [],
   "source": [
    "selected_features = features_df.loc[:, \"Attribut\"][0:10].tolist()\n",
    "X = df_scaled.loc[:, selected_features].to_numpy(dtype=np.float32)\n",
    "selected_features"
   ]
  },
  {
   "cell_type": "markdown",
   "metadata": {},
   "source": [
    "b) Analyse de la corrélation"
   ]
  },
  {
   "cell_type": "code",
   "execution_count": null,
   "metadata": {},
   "outputs": [],
   "source": [
    "# Code inspiré de https://seaborn.pydata.org/examples/many_pairwise_correlations.html\n",
    "# Pour simplifier l'anal, on calcule la matrice de covariance absolue.\n",
    "# Ainsi, les cases bleues indiquent une absence de corrélation et les cases rouges l'inverse.\n",
    "corr_mat = df_scaled[selected_features].corr().abs()\n",
    "# On masque le haut de la matrice diagonale\n",
    "mask = np.triu(np.ones_like(corr_mat, dtype=bool))\n",
    "f, ax = plt.subplots(figsize=(12, 8))\n",
    "cmap = sns.diverging_palette(230, 20, as_cmap=True)\n",
    "sns.heatmap(corr_mat, annot=False, cmap=\"BuPu\")"
   ]
  },
  {
   "cell_type": "code",
   "execution_count": null,
   "metadata": {},
   "outputs": [],
   "source": [
    "classes = list(set(df_scaled.loc[:, \"Class\"]))\n",
    "\n",
    "f, axs = plt.subplots(3, 2, figsize=(12, 12))\n",
    "\n",
    "f.tight_layout(pad=5)\n",
    "for i, c in enumerate(classes):\n",
    "    k = i // 2\n",
    "    j = int(i % 2 != 0)\n",
    "    cmap = sns.diverging_palette(230, 20, as_cmap=True)\n",
    "    corr_mat = df_scaled[(df_scaled.Class ==  c)].loc[:, selected_features].corr().abs()\n",
    "    axs[k, j].set_title(c)\n",
    "    sns.heatmap(corr_mat, annot=False, cmap=\"BuPu\", ax=axs[k, j])\n"
   ]
  },
  {
   "cell_type": "markdown",
   "metadata": {},
   "source": [
    "Données présentent corrélation très différentes en fonction des classes.\n",
    "vsurf_R demeure l'attribut le plus consistant avec le moins de corrélation cumulative entre les classes. Seule la classe 2 présente une corrélation non négligeable pour cet attribut. Peut-être pertinent de procéder à ACP car données présentent forte corélation."
   ]
  },
  {
   "cell_type": "markdown",
   "metadata": {},
   "source": [
    "Nous procédons maintenant à une réduction de dimension par ACP. Au-lieu d'utiliser la librairie SKLearn, ..."
   ]
  },
  {
   "cell_type": "code",
   "execution_count": null,
   "metadata": {},
   "outputs": [],
   "source": [
    "# Création de la matrice de corélation\n",
    "Sigma = (1 / (len(df))) * (X.T @ X)\n",
    "# Vérification que la diagonale de la matrice de corélation est contient des uns.\n",
    "assert np.allclose(np.diag(Sigma), np.ones(Sigma.shape[0]), atol=1e-6)\n",
    "\n",
    "# Décomposition valeurs, vecteurs propres\n",
    "eig_vals, eig_vecs = np.linalg.eig(Sigma)\n",
    "# Trier les vecteurs et valeurs propres de manière décroissante\n",
    "# https://stackoverflow.com/questions/8092920/sort-eigenvalues-and-associated-eigenvectors-after-using-numpy-linalg-eig-in-pyt\n",
    "idx = eig_vals.argsort()[::-1]   \n",
    "eig_vals = eig_vals[idx]\n",
    "eig_vecs = eig_vecs[:, idx]\n",
    "\n",
    "# D'abord on calcule la somme de chaque valeur propre\n",
    "sum_eigval = np.sum(eig_vals)\n",
    "# Ensuite, on divise chacune des valeur propre par cette somme\n",
    "var_prop = eig_vals / sum_eigval\n",
    "cum_prop = np.cumsum(var_prop)\n",
    "# Validation que la somme des proportions donne bien 1\n",
    "assert(np.allclose(var_prop.sum(), 1))\n",
    "\n",
    "# On crée une table pour présenter les résultats\n",
    "d = {\"Valeur propre\": eig_vals, \"Pourcentages\": np.around(var_prop * 100, 4), \"Pourcentages cumulés\": np.around(cum_prop * 100, 4)}\n",
    "eig_df = pd.DataFrame(data=d)\n",
    "eig_df.head(10)"
   ]
  },
  {
   "cell_type": "code",
   "execution_count": null,
   "metadata": {},
   "outputs": [],
   "source": [
    "fig, ax = plt.subplots(figsize=(12, 8))\n",
    "\n",
    "x_labels = [i + 1 for i in range(len(var_prop))]\n",
    "\n",
    "ax.plot(x_labels[0:15], var_prop[0:15], marker='o', markersize=6, color='blue', linewidth=2, label=\"Proportion de la variance\")\n",
    "ax.plot(x_labels[0:15], cum_prop[0:15], marker='o', color='orange', linewidth=2, label=\"Variance cumulée\")\n",
    "ax.legend()\n",
    "ax.set_xticks(x_labels[0:15])\n",
    "ax.set_title(\"Diagramme d'éboulis\")\n",
    "ax.set_xlabel(\"Composante principale\")\n",
    "ax.set_ylabel(\"Proportion de variance\")\n",
    "plt.show()"
   ]
  },
  {
   "cell_type": "markdown",
   "metadata": {},
   "source": [
    "Le diagramme d'éboulis ainsi que le tableau des composantes principales nous informent que 86% de la variance est expliquée par seulement\n",
    "les trois premières composantes principales. On projette donc nos données sur ces trois composantes. Différence de 10% entre la deuxième et la troisième composante. Par conséquent, projection 3CP favorisée quoique 2CP pourrait probablement s'avérer suffisant (76% variance cumulée). On évalue du même coup la qualité de la représentation à l'aide de deux métriques.\n",
    "- $cos(\\hat{X}, X) = \\frac{||\\hat{X}||^2}{||X||^2}$\n",
    "- $d^2(\\hat{X}, X) = ||\\hat{X} - X||^2$"
   ]
  },
  {
   "cell_type": "code",
   "execution_count": null,
   "metadata": {},
   "outputs": [],
   "source": [
    "M = 3\n",
    "Pi = eig_vecs[:, 0:M]\n",
    "Z = X @ Pi\n",
    "X_hat = Z @ Pi.T\n",
    "assert X_hat.shape == X.shape, \"mauvais format de matrice\"\n",
    "\n",
    "d_cos = np.linalg.norm(X_hat)**2 / np.linalg.norm(X)**2\n",
    "d_euc = np.linalg.norm(X_hat - X)\n",
    "print(\"d_cos = {:.4f}\\nd_euc = {:.4f}\".format(d_cos, d_euc))"
   ]
  },
  {
   "cell_type": "code",
   "execution_count": null,
   "metadata": {},
   "outputs": [],
   "source": [
    "eig_vals[eig_vals <= 0] = 0\n",
    "L = eig_vecs * np.sqrt(eig_vals)\n",
    "loading_df = pd.DataFrame(\n",
    "    L[:, 0:M],\n",
    "    index=selected_features,\n",
    "    columns=[\"CP-{}\".format(i + 1) for i in range(len(eig_vecs[0:M]))]\n",
    ")\n",
    "loading_df.to_csv(\"loading_df.csv\")\n",
    "loading_df.head(5)"
   ]
  },
  {
   "cell_type": "code",
   "execution_count": null,
   "metadata": {},
   "outputs": [],
   "source": [
    "fig, axs = plt.subplots(3, 3, figsize=(20, 20))\n",
    "\n",
    "for i in range(M):\n",
    "    axs[i, 0].set_ylabel(\"CP-{}\".format(i+1))\n",
    "    axs[M-1, i].set_xlabel(\"CP-{}\".format(i+1))\n",
    "    for j in range(M):\n",
    "        axs[i, j].scatter(loading_df.iloc[:, i], loading_df.iloc[:, j])\n",
    "        axs[i, j].set_yticks(np.arange(-1, 1.25, step=0.25))\n",
    "        axs[i, j].set_xticks(np.arange(-1, 1.25, step=0.25))\n",
    "        axs[i, j].set_xlim(-1, 1)\n",
    "        axs[i, j].set_ylim(-1, 1)\n",
    "        axs[i, j].grid()\n",
    "\n",
    "        for k, txt in enumerate(selected_features):\n",
    "            axs[i, j].annotate(txt, (loading_df.iloc[k, i], loading_df.iloc[k, j]))\n",
    "        \n",
    "plt.show()"
   ]
  },
  {
   "cell_type": "code",
   "execution_count": null,
   "metadata": {},
   "outputs": [],
   "source": [
    "df_subset = df_scaled.loc[:, selected_features + [\"Class\"]]\n",
    "sns.pairplot(df_subset.reset_index(), hue=\"Class\", diag_kind=None)"
   ]
  },
  {
   "cell_type": "code",
   "execution_count": null,
   "metadata": {},
   "outputs": [],
   "source": [
    "df_acp = pd.DataFrame(\n",
    "    np.concatenate((Z, np.expand_dims(y, 1)), axis=1),\n",
    "    columns=[\"CP-{}\".format(i+1) for i in range(M)] + [\"Class\"],\n",
    ")\n",
    "df_acp.head(5)"
   ]
  },
  {
   "cell_type": "code",
   "execution_count": 42,
   "metadata": {},
   "outputs": [
    {
     "data": {
      "text/plain": [
       "<seaborn.axisgrid.PairGrid at 0x194629429a0>"
      ]
     },
     "execution_count": 42,
     "metadata": {},
     "output_type": "execute_result"
    },
    {
     "data": {
      "image/png": "[encoded data removed]",
      "text/plain": [
       "<Figure size 615.5x540 with 12 Axes>"
      ]
     },
     "metadata": {
      "needs_background": "light"
     },
     "output_type": "display_data"
    }
   ],
   "source": [
    "sns.pairplot(df_acp, hue=\"Class\")"
   ]
  },
  {
   "cell_type": "markdown",
   "metadata": {},
   "source": [
    "#### centroids\n"
   ]
  },
  {
   "cell_type": "code",
   "execution_count": 43,
   "metadata": {},
   "outputs": [
    {
     "data": {
      "text/html": [
       "<div>\n",
       "<style scoped>\n",
       "    .dataframe tbody tr th:only-of-type {\n",
       "        vertical-align: middle;\n",
       "    }\n",
       "\n",
       "    .dataframe tbody tr th {\n",
       "        vertical-align: top;\n",
       "    }\n",
       "\n",
       "    .dataframe thead th {\n",
       "        text-align: right;\n",
       "    }\n",
       "</style>\n",
       "<table border=\"1\" class=\"dataframe\">\n",
       "  <thead>\n",
       "    <tr style=\"text-align: right;\">\n",
       "      <th></th>\n",
       "      <th>CP-1</th>\n",
       "      <th>CP-2</th>\n",
       "      <th>CP-3</th>\n",
       "    </tr>\n",
       "    <tr>\n",
       "      <th>Class</th>\n",
       "      <th></th>\n",
       "      <th></th>\n",
       "      <th></th>\n",
       "    </tr>\n",
       "  </thead>\n",
       "  <tbody>\n",
       "    <tr>\n",
       "      <th>Class -1</th>\n",
       "      <td>0.457546</td>\n",
       "      <td>-0.287131</td>\n",
       "      <td>-0.173946</td>\n",
       "    </tr>\n",
       "    <tr>\n",
       "      <th>Class -2</th>\n",
       "      <td>1.606662</td>\n",
       "      <td>-0.628402</td>\n",
       "      <td>-0.611154</td>\n",
       "    </tr>\n",
       "    <tr>\n",
       "      <th>Class 0</th>\n",
       "      <td>-0.207221</td>\n",
       "      <td>-0.048556</td>\n",
       "      <td>0.621749</td>\n",
       "    </tr>\n",
       "    <tr>\n",
       "      <th>Class 1</th>\n",
       "      <td>-2.006912</td>\n",
       "      <td>0.939395</td>\n",
       "      <td>0.158936</td>\n",
       "    </tr>\n",
       "    <tr>\n",
       "      <th>Class 2</th>\n",
       "      <td>1.768020</td>\n",
       "      <td>1.741156</td>\n",
       "      <td>0.801748</td>\n",
       "    </tr>\n",
       "  </tbody>\n",
       "</table>\n",
       "</div>"
      ],
      "text/plain": [
       "              CP-1      CP-2      CP-3\n",
       "Class                                 \n",
       "Class -1  0.457546 -0.287131 -0.173946\n",
       "Class -2  1.606662 -0.628402 -0.611154\n",
       "Class 0  -0.207221 -0.048556  0.621749\n",
       "Class 1  -2.006912  0.939395  0.158936\n",
       "Class 2   1.768020  1.741156  0.801748"
      ]
     },
     "execution_count": 43,
     "metadata": {},
     "output_type": "execute_result"
    }
   ],
   "source": [
    "df_acp.groupby(\"Class\").mean()"
   ]
  },
  {
   "cell_type": "code",
   "execution_count": null,
   "metadata": {},
   "outputs": [],
   "source": [
    "X = df_acp.loc[:, df_acp.columns != \"Class\"].to_numpy()\n"
   ]
  },
  {
   "cell_type": "markdown",
   "metadata": {},
   "source": [
    "#### Analyse de la corélation\n",
    "On commencer par filtrer les attributs présentant une forte corélation. Pour simplifier l'analyse, nous considérons seulement les valeurs absolues dans la matrice de corélation, car nous sommes intéressants par les forces de corélation et non leur direction."
   ]
  },
  {
   "cell_type": "code",
   "execution_count": null,
   "metadata": {},
   "outputs": [],
   "source": [
    "# Code inspiré de https://seaborn.pydata.org/examples/many_pairwise_correlations.html\n",
    "# Pour simplifier l'anal, on calcule la matrice de covariance absolue.\n",
    "# Ainsi, les cases bleues indiquent une absence de corrélation et les cases rouges l'inverse.\n",
    "corr_mat = df_scaled[num_cols].corr().abs()\n",
    "# On masque le haut de la matrice diagonale\n",
    "mask = np.triu(np.ones_like(corr_mat, dtype=bool))\n",
    "f, ax = plt.subplots(figsize=(30, 20))\n",
    "cmap = sns.diverging_palette(230, 20, as_cmap=True)\n",
    "sns.heatmap(corr_mat, annot=False, cmap=\"BuPu\")"
   ]
  },
  {
   "cell_type": "code",
   "execution_count": null,
   "metadata": {},
   "outputs": [],
   "source": [
    "# Code inspiré de https://chrisalbon.com/code/machine_learning/feature_selection/drop_highly_correlated_features/\n",
    "# Nous avons testé plusieurs ratio différents et celui-ci permettait de filtrer plusieurs attributs.\n",
    "max_rho = 0.75\n",
    "# Sélectionner triangle supérieur de la matrice de corrélation\n",
    "upper = corr_mat.where(np.triu(np.ones_like(corr_mat), k=1).astype(bool))\n",
    "# Sélectionner les attributs dont la corrélation dépasse le seuil `max_rho`\n",
    "to_drop = [column for column in upper.columns if any(upper[column] >= max_rho)]\n",
    "print(\"Total d'attributs dépassant le seuil {:.2f}: {}\".format(max_rho, len(to_drop)))\n",
    "print(to_drop)"
   ]
  },
  {
   "cell_type": "markdown",
   "metadata": {},
   "source": [
    "# 2- Mesure de distance"
   ]
  }
 ],
 "metadata": {
  "interpreter": {
   "hash": "3c0a2db9f4e0e47d22f4e0c743aa4281b46621878462a1b3449ca0fca22b1eb0"
  },
  "kernelspec": {
   "display_name": "Python 3.9.10 64-bit (windows store)",
   "language": "python",
   "name": "python3"
  },
  "language_info": {
   "codemirror_mode": {
    "name": "ipython",
    "version": 3
   },
   "file_extension": ".py",
   "mimetype": "text/x-python",
   "name": "python",
   "nbconvert_exporter": "python",
   "pygments_lexer": "ipython3",
   "version": "3.9.10"
  },
  "orig_nbformat": 4
 },
 "nbformat": 4,
 "nbformat_minor": 2
}
